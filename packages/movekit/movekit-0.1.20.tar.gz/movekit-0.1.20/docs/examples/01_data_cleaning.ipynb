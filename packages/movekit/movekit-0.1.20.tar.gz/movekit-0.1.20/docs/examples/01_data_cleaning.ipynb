{
 "cells": [
  {
   "cell_type": "markdown",
   "id": "universal-property",
   "metadata": {},
   "source": [
    "## Data preprocessing"
   ]
  },
  {
   "cell_type": "code",
   "execution_count": 5,
   "id": "published-player",
   "metadata": {},
   "outputs": [],
   "source": [
    "import movekit as mkit\n",
    "import numpy as np\n",
    "import pandas as pd\n",
    "import matplotlib.pyplot as plt"
   ]
  },
  {
   "cell_type": "markdown",
   "id": "welsh-restriction",
   "metadata": {},
   "source": [
    "#### Read data input"
   ]
  },
  {
   "cell_type": "code",
   "execution_count": 7,
   "id": "worst-scott",
   "metadata": {},
   "outputs": [],
   "source": [
    "# Enter path to CSV file\n",
    "path = \"./datasets/fish-5.csv\"\n",
    "\n",
    "# Alternative: enter path to Excel file\n",
    "# path = \"./datasets/fish-5.xlsx\""
   ]
  },
  {
   "cell_type": "code",
   "execution_count": 8,
   "id": "empirical-marijuana",
   "metadata": {},
   "outputs": [
    {
     "data": {
      "text/plain": "   time  animal_id       x       y\n0     1        312  405.29  417.76\n1     1        511  369.99  428.78\n2     1        607  390.33  405.89\n3     1        811  445.15  411.94\n4     1        905  366.06  451.76",
      "text/html": "<div>\n<style scoped>\n    .dataframe tbody tr th:only-of-type {\n        vertical-align: middle;\n    }\n\n    .dataframe tbody tr th {\n        vertical-align: top;\n    }\n\n    .dataframe thead th {\n        text-align: right;\n    }\n</style>\n<table border=\"1\" class=\"dataframe\">\n  <thead>\n    <tr style=\"text-align: right;\">\n      <th></th>\n      <th>time</th>\n      <th>animal_id</th>\n      <th>x</th>\n      <th>y</th>\n    </tr>\n  </thead>\n  <tbody>\n    <tr>\n      <th>0</th>\n      <td>1</td>\n      <td>312</td>\n      <td>405.29</td>\n      <td>417.76</td>\n    </tr>\n    <tr>\n      <th>1</th>\n      <td>1</td>\n      <td>511</td>\n      <td>369.99</td>\n      <td>428.78</td>\n    </tr>\n    <tr>\n      <th>2</th>\n      <td>1</td>\n      <td>607</td>\n      <td>390.33</td>\n      <td>405.89</td>\n    </tr>\n    <tr>\n      <th>3</th>\n      <td>1</td>\n      <td>811</td>\n      <td>445.15</td>\n      <td>411.94</td>\n    </tr>\n    <tr>\n      <th>4</th>\n      <td>1</td>\n      <td>905</td>\n      <td>366.06</td>\n      <td>451.76</td>\n    </tr>\n  </tbody>\n</table>\n</div>"
     },
     "execution_count": 8,
     "metadata": {},
     "output_type": "execute_result"
    }
   ],
   "source": [
    "# Read in file using \n",
    "data = mkit.read_data(path)\n",
    "data.head()"
   ]
  },
  {
   "cell_type": "code",
   "execution_count": 9,
   "id": "preceding-tamil",
   "metadata": {},
   "outputs": [
    {
     "name": "stdout",
     "output_type": "stream",
     "text": [
      "Total number of missing values =  0\n",
      "time         0\n",
      "animal_id    0\n",
      "x            0\n",
      "y            0\n",
      "dtype: int64\n"
     ]
    }
   ],
   "source": [
    "# Simple call of the preprocessing method\n",
    "preprocessed_data = mkit.preprocess(data)"
   ]
  },
  {
   "cell_type": "code",
   "execution_count": 10,
   "id": "handled-implement",
   "metadata": {},
   "outputs": [],
   "source": [
    "# OPTIONAL: more parameters to control the preprocessing of data\n",
    "\n",
    "# preprocessed_data = mkit.preprocess(data, dropna=True, interpolation=False, limit=1, limit_direction=\"forward\", inplace=False, method=\"linear\")\n",
    "\n",
    "# Paramters \n",
    "#  data: DataFrame to perform preprocessing on\n",
    "#  dropna: Optional parameter to drop columns with  missing values for 'time' and 'animal_id'\n",
    "#  interpolate: Optional parameter to perform linear interpolation\n",
    "#  limit: Maximum number of consecutive NANs to fill\n",
    "#  limit_direction: If limit is specified, consecutive NaNs will be filled in this direction.\n",
    "#  method: Interpolation technique to use. Default is \"linear\".\n",
    "#  order: To be used in case of polynomial interpolation."
   ]
  },
  {
   "cell_type": "code",
   "execution_count": 11,
   "id": "bridal-precipitation",
   "metadata": {},
   "outputs": [],
   "source": [
    "# OPTIONAL: converting positional data into scale, defined by user\n",
    "# preprocessed_data = mkit.convert_measueres(preprocessed_data, x_min = 0, x_max = 100, y_min = 0, y_max = 100)"
   ]
  },
  {
   "cell_type": "code",
   "execution_count": 12,
   "id": "stretch-acting",
   "metadata": {},
   "outputs": [],
   "source": [
    "# save cleaned features to csv \n",
    "preprocessed_data.to_csv(\"datasets/fish-5-cleaned.csv\", index=False)"
   ]
  }
 ],
 "metadata": {
  "kernelspec": {
   "display_name": "Python 3",
   "language": "python",
   "name": "python3"
  },
  "language_info": {
   "codemirror_mode": {
    "name": "ipython",
    "version": 3
   },
   "file_extension": ".py",
   "mimetype": "text/x-python",
   "name": "python",
   "nbconvert_exporter": "python",
   "pygments_lexer": "ipython3",
   "version": "3.8.8"
  }
 },
 "nbformat": 4,
 "nbformat_minor": 5
}