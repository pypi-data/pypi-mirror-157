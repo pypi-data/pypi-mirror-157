{
 "cells": [
  {
   "cell_type": "markdown",
   "metadata": {},
   "source": [
    "# Vehicle State Plotting\n",
    "*BeamNG.tech / BeamNG.drive*\n",
    "\n",
    "This example demonstrates how to\n",
    "\n",
    "1. Spawn a vehicle at a certain point and orientation on a map.\n",
    "2. Set its AI to automatically cover the drivable reachable roads on the map.\n",
    "3. Continually retrieve information about the while it's driving. This information includes:\n",
    "    1. Position\n",
    "    2. Direction\n",
    "    3. Wheel speed\n",
    "    4. Throttle intensity\n",
    "    5. Brake intensity\n",
    "\n",
    "The information obtained will then be plotted in various ways (mostly for demonstration, the plots themselves might not be particularly insightful.)"
   ]
  },
  {
   "cell_type": "markdown",
   "metadata": {},
   "source": [
    "## Setup\n",
    "\n",
    "This code block will import necessary dependencies for this example. Most relevant are BeamNGpy's classes:\n",
    "\n",
    "1. `BeamNGpy`: The library's backbone that launches and communicates with the BeamNG.tech simulator.\n",
    "2. `Vehicle`: This class is used for interactions with vehicles in the simulation. It provides methods to query the state of the vehicle, control its actuators & built-in AI, and options to attach sensors that expose data in a way similar to real-life vehicle sensors.\n",
    "2. `Scenario`: A class that offers methods of scenario creation. It is used to specify which environment is to be loaded and what vehicles act in the scenario.\n",
    "\n",
    "Additionally, some sensors get included from the `sensors` package which, as the name implies, contains sensors that can be attached to a vehicle. The only one used in this demo is the `Electrics` sensor, which can be used to retrive data from the vehicle's electrical systems, such as the currently measures throttle and brake intensity or the wheel speed."
   ]
  },
  {
   "cell_type": "code",
   "execution_count": 1,
   "metadata": {},
   "outputs": [],
   "source": [
    "%matplotlib inline\n",
    "\n",
    "import time\n",
    "\n",
    "import matplotlib\n",
    "import numpy as np\n",
    "import matplotlib.pyplot as plt\n",
    "import pandas as pd\n",
    "import seaborn as sns\n",
    "\n",
    "from beamngpy import BeamNGpy, Vehicle, Scenario\n",
    "from beamngpy.sensors import Electrics\n",
    "\n",
    "sns.set()  # Make seaborn set matplotlib styling"
   ]
  },
  {
   "cell_type": "markdown",
   "metadata": {},
   "source": [
    "With dependencies imported, we can start setting up a basic scenario with one vehicle. This can easily be adapted to multiple vehicles, but for demonstration purposes we stick to one."
   ]
  },
  {
   "cell_type": "code",
   "execution_count": 2,
   "metadata": {},
   "outputs": [],
   "source": [
    "# Instantiate a BeamNGpy instance the other classes use for reference & communication\n",
    "beamng = BeamNGpy('localhost', 64256)  # This is the host & port used to communicate over\n",
    "beamng.open()\n",
    "\n",
    "# Create a vehile instance that will be called 'ego' in the simulation\n",
    "# using the etk800 model the simulator ships with\n",
    "vehicle = Vehicle('ego', model='etk800', licence='PYTHON', colour='Green')\n",
    "# Create an Electrics sensor and attach it to the vehicle\n",
    "electrics = Electrics()\n",
    "vehicle.attach_sensor('electrics', electrics)\n",
    "\n",
    "# Create a scenario called vehicle_state taking place in the west_coast_usa map the simulator ships with\n",
    "scenario = Scenario('west_coast_usa', 'vehicle_state')\n",
    "# Add the vehicle and specify that it should start at a certain position and orientation.\n",
    "# The position & orientation values were obtained by opening the level in the simulator,\n",
    "# hitting F11 to open the editor and look for a spot to spawn and simply noting down the\n",
    "# corresponding values.\n",
    "scenario.add_vehicle(vehicle, pos=(-717.121, 101, 118.675), rot=(0, 0, 45))  # 45 degree rotation around the z-axis\n",
    "\n",
    "# The make function of a scneario is used to compile the scenario and produce a scenario file the simulator can load\n",
    "scenario.make(beamng)"
   ]
  },
  {
   "cell_type": "markdown",
   "metadata": {},
   "source": [
    "## Running\n",
    "\n",
    "With scenario and vehicles set up, we can launch the simulator and make it load our created scenario. This will start up the simulator, load the map specified by our scenario, and spawn the vehicles we've added to them, including their sensors."
   ]
  },
  {
   "cell_type": "code",
   "execution_count": 3,
   "metadata": {},
   "outputs": [],
   "source": [
    "beamng.load_scenario(scenario)\n",
    "beamng.start_scenario()  # After loading, the simulator waits for further input to actually start"
   ]
  },
  {
   "cell_type": "markdown",
   "metadata": {},
   "source": [
    "After loading & starting the scenario, the vehicle is located at the position specified in the scenario and awaits further input. This could be done by the user in the simulator itself through keyboard or a controller, or by calling the `control()` function of the vehicle with steering, brake, and throttle values. Besides those, the `Vehicle` class also exposes AI functions the simulator ships with. One of these is telling the AI to \"span\" the map, making it drive on every road reachable from its current position. The following code block makes the vehicle do that: drive on every road it can find from its current position.\n",
    "\n",
    "In order to actually collect data about the state of the vehicle, we also initialise some lists to store our collected data."
   ]
  },
  {
   "cell_type": "code",
   "execution_count": 4,
   "metadata": {},
   "outputs": [],
   "source": [
    "vehicle.ai_set_mode('span')\n",
    "\n",
    "positions = list()\n",
    "directions = list()\n",
    "wheel_speeds = list()\n",
    "throttles = list()\n",
    "brakes = list()"
   ]
  },
  {
   "cell_type": "markdown",
   "metadata": {},
   "source": [
    "Now that the vehicle is driving, we enter a loop where we query the vehicle's state and poll its sensors once every 500ms. This is done 240 times, meaning the vehicle's data is captured for 120 seconds.\n",
    "\n",
    "Before the actual loop, the data we track is retrieved and printed out once for demonstration purposes."
   ]
  },
  {
   "cell_type": "code",
   "execution_count": 5,
   "metadata": {},
   "outputs": [
    {
     "name": "stdout",
     "output_type": "stream",
     "text": [
      "The vehicle position is:\n"
     ]
    },
    {
     "data": {
      "text/plain": [
       "[-717.1235961914062, 100.99726867675781, 118.57254028320312]"
      ]
     },
     "metadata": {},
     "output_type": "display_data"
    },
    {
     "name": "stdout",
     "output_type": "stream",
     "text": [
      "The vehicle direction is:\n"
     ]
    },
    {
     "data": {
      "text/plain": [
       "[-0.7068345546722412, -0.7069317698478699, -0.025148505344986916]"
      ]
     },
     "metadata": {},
     "output_type": "display_data"
    },
    {
     "name": "stdout",
     "output_type": "stream",
     "text": [
      "The wheel speed is:\n"
     ]
    },
    {
     "data": {
      "text/plain": [
       "0.00017179975027137014"
      ]
     },
     "metadata": {},
     "output_type": "display_data"
    },
    {
     "name": "stdout",
     "output_type": "stream",
     "text": [
      "The throttle intensity is:\n"
     ]
    },
    {
     "data": {
      "text/plain": [
       "0"
      ]
     },
     "metadata": {},
     "output_type": "display_data"
    },
    {
     "name": "stdout",
     "output_type": "stream",
     "text": [
      "The brake intensity is:\n"
     ]
    },
    {
     "data": {
      "text/plain": [
       "0.3"
      ]
     },
     "metadata": {},
     "output_type": "display_data"
    }
   ],
   "source": [
    "vehicle.update_vehicle()\n",
    "sensors = beamng.poll_sensors(vehicle)\n",
    "\n",
    "print('The vehicle position is:')\n",
    "display(vehicle.state['pos'])\n",
    "\n",
    "print('The vehicle direction is:')\n",
    "display(vehicle.state['dir'])\n",
    "\n",
    "print('The wheel speed is:')\n",
    "display(sensors['electrics']['wheelspeed'])\n",
    "\n",
    "print('The throttle intensity is:')\n",
    "display(sensors['electrics']['throttle'])\n",
    "\n",
    "print('The brake intensity is:')\n",
    "display(sensors['electrics']['brake'])\n",
    "\n",
    "for _ in range(240):\n",
    "    time.sleep(0.1)\n",
    "    vehicle.update_vehicle()  # Synchs the vehicle's \"state\" variable with the simulator\n",
    "    sensors = beamng.poll_sensors(vehicle)  # Polls the data of all sensors attached to the vehicle\n",
    "    positions.append(vehicle.state['pos'])\n",
    "    directions.append(vehicle.state['dir'])\n",
    "    wheel_speeds.append(sensors['electrics']['wheelspeed'])\n",
    "    throttles.append(sensors['electrics']['throttle'])\n",
    "    brakes.append(sensors['electrics']['brake'])"
   ]
  },
  {
   "cell_type": "markdown",
   "metadata": {},
   "source": [
    "Since the data we want is now captured, we can close the simulator."
   ]
  },
  {
   "cell_type": "code",
   "execution_count": 6,
   "metadata": {},
   "outputs": [],
   "source": [
    "beamng.close()"
   ]
  },
  {
   "cell_type": "markdown",
   "metadata": {},
   "source": [
    "## Plotting\n",
    "\n",
    "We can now display the data we've gathered. The following code serves mainly as an example to illustrate how this can be achieved. The plots themselves are not particularly useful."
   ]
  },
  {
   "cell_type": "markdown",
   "metadata": {},
   "source": [
    "### Throttle & brake over time.\n",
    "\n",
    "The throttle and brake intensities were collected in the `throttles` and `brakes` lists respectively. These can now be used to show respective intensities over time as data was collected."
   ]
  },
  {
   "cell_type": "code",
   "execution_count": 7,
   "metadata": {},
   "outputs": [
    {
     "data": {
      "image/png": "[encoded data removed]",
      "text/plain": [
       "<Figure size 432x288 with 1 Axes>"
      ]
     },
     "metadata": {},
     "output_type": "display_data"
    },
    {
     "data": {
      "text/plain": [
       "<Figure size 432x288 with 0 Axes>"
      ]
     },
     "metadata": {},
     "output_type": "display_data"
    }
   ],
   "source": [
    "plt.plot(throttles, 'b-', label='Throttle')\n",
    "plt.plot(brakes, 'r-', label='Brake')\n",
    "plt.show()\n",
    "plt.clf()"
   ]
  },
  {
   "cell_type": "markdown",
   "metadata": {},
   "source": [
    "### Trace vehicle position\n",
    "\n",
    "Where the vehicle was located over time is tracked in the `positions` list. This contains a list of (x, y, z) coordinate triplets that the vehicle was observed at. These values represent the vehicle's position on the map in the simulator. To plot them, we simply take the x and y values and plot a dot for every position."
   ]
  },
  {
   "cell_type": "code",
   "execution_count": 8,
   "metadata": {},
   "outputs": [
    {
     "data": {
      "image/png": "[encoded data removed]",
      "text/plain": [
       "<Figure size 432x288 with 1 Axes>"
      ]
     },
     "metadata": {},
     "output_type": "display_data"
    },
    {
     "data": {
      "text/plain": [
       "<Figure size 432x288 with 0 Axes>"
      ]
     },
     "metadata": {},
     "output_type": "display_data"
    }
   ],
   "source": [
    "x = [p[0] for p in positions]\n",
    "y = [p[1] for p in positions]\n",
    "plt.plot(x, y, '.')\n",
    "plt.axis('square')\n",
    "plt.show()\n",
    "plt.clf()"
   ]
  },
  {
   "cell_type": "markdown",
   "metadata": {
    "tags": []
   },
   "source": [
    "### Speed and direction\n",
    "\n",
    "Combining the wheel speed values with recorded direction vectors can be used to plot in which directions the vehicle was going at what speeds. To this end, we take  the wheel speeds from the `wheelspeeds` list and calculate the angles of the corresponding direction vectors. The resulting data is then displayed as a scatter plot."
   ]
  },
  {
   "cell_type": "code",
   "execution_count": 9,
   "metadata": {},
   "outputs": [
    {
     "data": {
      "image/png": "[encoded data removed]",
      "text/plain": [
       "<Figure size 432x288 with 1 Axes>"
      ]
     },
     "metadata": {},
     "output_type": "display_data"
    }
   ],
   "source": [
    "angles = [np.arctan2(d[1], d[0]) for d in directions]\n",
    "r = wheel_speeds  # We simply use the speed as the radius in the radial plot\n",
    "plt.subplot(111, projection='polar')\n",
    "plt.scatter(angles, r)\n",
    "plt.show()"
   ]
  }
 ],
 "metadata": {},
 "nbformat": 4,
 "nbformat_minor": 4
}
