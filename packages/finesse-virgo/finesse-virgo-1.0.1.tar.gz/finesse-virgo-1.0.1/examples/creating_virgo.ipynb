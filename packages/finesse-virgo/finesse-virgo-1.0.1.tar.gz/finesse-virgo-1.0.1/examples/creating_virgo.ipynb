{
 "cells": [
  {
   "cell_type": "code",
   "execution_count": 1,
   "metadata": {},
   "outputs": [],
   "source": [
    "import finesse.virgo"
   ]
  },
  {
   "cell_type": "markdown",
   "metadata": {},
   "source": [
    "There are several ways to create a Virgo object using different input files:\n",
    "\n",
    "1) Using the default files: by default, both the common file and additional katscript file will be parsed\n",
    "2) Using fully custom katscript: if passing a directory, all kat files within the directory will be parsed\n",
    "3) Using a custom file: if passing a file, only that file will be parsed. It is assumed to be a tuned file (with the locks). The additional katscript file can be parsed explicitly using the `parse_additional_katscript` flag."
   ]
  },
  {
   "cell_type": "code",
   "execution_count": 2,
   "metadata": {},
   "outputs": [
    {
     "name": "stdout",
     "output_type": "stream",
     "text": [
      "Adjusting recycling cavity lengths...\n",
      "Pretuning...\n",
      "Optimizing demodulation phases...\n",
      "Optimizing lock gains...\n",
      "Running RF locks...\n",
      "Switching to DARM DC lock...\n",
      "Done.\n"
     ]
    }
   ],
   "source": [
    "# 1\n",
    "virgo1 = finesse.virgo.Virgo()\n",
    "virgo1.make()"
   ]
  },
  {
   "cell_type": "code",
   "execution_count": 3,
   "metadata": {},
   "outputs": [
    {
     "name": "stdout",
     "output_type": "stream",
     "text": [
      "Destination directory found: /home/jon/Repos/ligo/finesse/finesse-virgo/examples/custom_katscript\n",
      "Copying input file: 00_virgo_common_file.kat\n",
      "File `/home/jon/Repos/ligo/finesse/finesse-virgo/examples/custom_katscript/00_virgo_common_file.kat` already exists.\n",
      "Overwrite with `copy_virgo_file(overwrite=True)`.\n",
      "Copying input file: 01_additional_katscript.kat\n",
      "File `/home/jon/Repos/ligo/finesse/finesse-virgo/examples/custom_katscript/01_additional_katscript.kat` already exists.\n",
      "Overwrite with `copy_virgo_file(overwrite=True)`.\n",
      "Adjusting recycling cavity lengths...\n",
      "Pretuning...\n",
      "Optimizing demodulation phases...\n",
      "Optimizing lock gains...\n",
      "Running RF locks...\n",
      "Switching to DARM DC lock...\n",
      "Done.\n"
     ]
    }
   ],
   "source": [
    "# 2\n",
    "finesse.virgo.copy_input_files('custom_katscript')\n",
    "virgo2 = finesse.virgo.Virgo('custom_katscript')\n",
    "virgo2.make()"
   ]
  },
  {
   "cell_type": "code",
   "execution_count": 4,
   "metadata": {},
   "outputs": [
    {
     "name": "stdout",
     "output_type": "stream",
     "text": [
      "Adjusting recycling cavity lengths...\n",
      "Pretuning...\n",
      "Optimizing demodulation phases...\n",
      "Optimizing lock gains...\n",
      "Running RF locks...\n",
      "Switching to DARM DC lock...\n",
      "Done.\n"
     ]
    }
   ],
   "source": [
    "# 3\n",
    "# useful if you want to provide an existing custom common file\n",
    "virgo3 = finesse.virgo.Virgo('custom_katscript/00_virgo_common_file.kat', parse_additional_katscript=True)\n",
    "virgo3.make()"
   ]
  }
 ],
 "metadata": {
  "kernelspec": {
   "display_name": "Python 3.9.7 ('f3')",
   "language": "python",
   "name": "python3"
  },
  "language_info": {
   "codemirror_mode": {
    "name": "ipython",
    "version": 3
   },
   "file_extension": ".py",
   "mimetype": "text/x-python",
   "name": "python",
   "nbconvert_exporter": "python",
   "pygments_lexer": "ipython3",
   "version": "3.9.7"
  },
  "orig_nbformat": 4,
  "vscode": {
   "interpreter": {
    "hash": "e63bc18e93140e24cd570e2b209b6587cfe707b0bcc83b254b0fbf45eb9a9a15"
   }
  }
 },
 "nbformat": 4,
 "nbformat_minor": 2
}
