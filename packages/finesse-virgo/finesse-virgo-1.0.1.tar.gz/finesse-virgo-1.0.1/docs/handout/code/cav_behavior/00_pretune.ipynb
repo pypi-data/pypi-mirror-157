{
 "cells": [
  {
   "cell_type": "code",
   "execution_count": null,
   "id": "006dc710",
   "metadata": {},
   "outputs": [],
   "source": [
    "import numpy as np\n",
    "import matplotlib.pyplot as plt\n",
    "\n",
    "import finesse\n",
    "from finesse.analysis.actions import Series, RunLocks, Change, Maximize, TemporaryParameters, OptimiseRFReadoutPhaseDC\n",
    "from finesse.symbols import CONSTANTS\n",
    "\n",
    "finesse.configure(plotting=True)"
   ]
  },
  {
   "cell_type": "markdown",
   "id": "43bc9aa8",
   "metadata": {},
   "source": [
    "1) Power recycled (single) arm cavity model\n",
    "\n",
    "The model down below consists of an arm cavity of adV+, whose power is recycled by the PRM.\n",
    "All the values in this model are inherited by adV+ common kat file.\n",
    "\n",
    "The model is then tuned to the operating point by:\n",
    "* Maximimising the power in the arm cavity\n",
    "* Maximising the power in the PR cavity\n",
    "* Running the locks to further improve the tuning"
   ]
  },
  {
   "cell_type": "code",
   "execution_count": null,
   "id": "1e249039",
   "metadata": {},
   "outputs": [],
   "source": [
    "model = finesse.Model()\n",
    "model.parse(\"\"\"\n",
    "laser i1 P=20.0  #just one arm cavity\n",
    "mod eom6 f=6270777 midx=0.22 \n",
    "mod eom8 f=4/3*eom6.f midx=0.15 \n",
    "link(i1, eom6, eom8, PR)\n",
    "\n",
    "# prc\n",
    "var lPRC 11.95196615985547\n",
    "\n",
    "# Rc updated to -1436.38 to match arm cavity (instead of PRC)\n",
    "m PR R=0.95162 T=0.04835 L=30u Rc=[-1436.38, -1436.38] \n",
    "s s_prc PR.p2 ITM.p1 L=lPRC\n",
    "\n",
    "# arm cav\n",
    "m ITM R=0.986203 L=27u Rc=[-1425, -1425]\n",
    "s scav ITM.p2 ETM.p1 L=3000\n",
    "m ETM R=0.9999686 L=27u Rc=[1695, 1695]\n",
    "\n",
    "# dofs\n",
    "dof PR_z  PR.dofs.z +1\n",
    "dof ETM_z ETM.dofs.z +1\n",
    "\n",
    "# readouts and detectors\n",
    "readout_rf prc_err PR.p1.o  f=eom8.f phase=0 output_detectors=True\n",
    "readout_rf arm_err ITM.p1.o f=eom6.f phase=0 output_detectors=True\n",
    "pd prc_dc PR.p2.o\n",
    "pd arm_dc ITM.p2.o\n",
    "\n",
    "# locks\n",
    "lock prc_lock prc_err.outputs.I PR_z.DC -1.833 1e-6 \n",
    "lock arm_lock arm_err.outputs.I ETM_z.DC -0.0001071 1e-6\n",
    "\n",
    "modes(maxtem=0)\n",
    "cav cav ITM.p2.o priority=3\n",
    "# cav cav PR.p2.o via=ETM.p1.i priority=1\n",
    "\"\"\")"
   ]
  },
  {
   "cell_type": "code",
   "execution_count": null,
   "id": "96fe8c34",
   "metadata": {},
   "outputs": [],
   "source": [
    "# adjust PRC length to be resonant on 6 MHz\n",
    "delta_l = 0.5 * CONSTANTS[\"c0\"] / (2 * model.eom6.f) - model.lPRC.value\n",
    "print('adjusting PRC by ', delta_l.eval())\n",
    "model.s_prc.L += delta_l.eval()\n",
    "\n",
    "# pre-tuning the model\n",
    "model.run(\n",
    "    TemporaryParameters(\n",
    "        Series(\n",
    "            Change({\"eom6.midx\": 0, \"eom8.midx\": 0, \"PR.misaligned\": True}),\n",
    "            # Maximise arm power\n",
    "            Maximize(\"arm_dc\", \"ETM_z.DC\", bounds=[-180,180], tol=1e-14),\n",
    "            # Bring in PR\n",
    "            Change({\"PR.misaligned\": False}),\n",
    "            # Maximise PRC power\n",
    "            Maximize(\"prc_dc\", \"PR_z.DC\", bounds=[-180,180], tol=1e-14)\n",
    "        ),\n",
    "        exclude=(\"PR.phi\", \"ETM.phi\", \"PR_z.DC\", \"ETM_z.DC\")\n",
    "    )\n",
    ")\n",
    "\n",
    "# optimising demod phases\n",
    "model.run(OptimiseRFReadoutPhaseDC(\n",
    "    \"PR_z\", \"prc_err\", \\\n",
    "    \"ETM_z\", \"arm_err\",\n",
    "    d_dof=1e-7\n",
    "))\n",
    "\n",
    "# running the looks to further improve the tuning\n",
    "model.run(RunLocks(method=\"newton\"))"
   ]
  },
  {
   "cell_type": "code",
   "execution_count": null,
   "id": "ddb441df",
   "metadata": {},
   "outputs": [],
   "source": [
    "# save the pre-tuned kat file \n",
    "targetFile = open(\"modelTuned.kat\", \"w\")\n",
    "targetFile.writelines(model.unparse())\n",
    "targetFile.close()"
   ]
  },
  {
   "cell_type": "markdown",
   "id": "9fe83c7f",
   "metadata": {},
   "source": [
    "# Stability tunings\n",
    "\n",
    "Produces tuned katfiles under marginally stable conditions."
   ]
  },
  {
   "cell_type": "code",
   "execution_count": null,
   "id": "63d7d9d6",
   "metadata": {},
   "outputs": [],
   "source": [
    "for stability,Rc in [\n",
    "    ('mstable1', -1436.38), \n",
    "    ('mstable0', -12), \n",
    "    ('unstable1', -1446.38), \n",
    "    ('unstable0', -2)\n",
    "]:\n",
    "    # set new RoC\n",
    "    model.PR.Rcx = Rc\n",
    "    model.PR.Rcy = Rc\n",
    "\n",
    "    # pre-tuning the model\n",
    "    model.run(\n",
    "        TemporaryParameters(\n",
    "            Series(\n",
    "                Change({\"eom6.midx\": 0, \"eom8.midx\": 0, \"PR.misaligned\": True}),\n",
    "                # Maximise arm power\n",
    "                Maximize(\"arm_dc\", \"ETM_z.DC\", bounds=[-180,180], tol=1e-14),\n",
    "                # Bring in PR\n",
    "                Change({\"PR.misaligned\": False}),\n",
    "                # Maximise PRC power\n",
    "                Maximize(\"prc_dc\", \"PR_z.DC\", bounds=[-180,180], tol=1e-14)\n",
    "            ),\n",
    "            exclude=(\"PR.phi\", \"ETM.phi\", \"PR_z.DC\", \"ETM_z.DC\")\n",
    "        )\n",
    "    )\n",
    "\n",
    "    # optimising demod phases\n",
    "    model.run(OptimiseRFReadoutPhaseDC(\n",
    "        \"PR_z\", \"prc_err\", \\\n",
    "        \"ETM_z\", \"arm_err\",\n",
    "        d_dof=1e-7\n",
    "    ))\n",
    "\n",
    "    # running the looks to further improve the tuning\n",
    "    model.run(RunLocks(method=\"newton\"))\n",
    "\n",
    "    # save the pre-tuned kat file \n",
    "    targetFile = open(f\"modelTuned_{stability}.kat\", \"w\")\n",
    "    targetFile.writelines(model.unparse())\n",
    "    targetFile.close()"
   ]
  },
  {
   "cell_type": "code",
   "execution_count": null,
   "id": "fb7fd6fb",
   "metadata": {},
   "outputs": [],
   "source": []
  }
 ],
 "metadata": {
  "interpreter": {
   "hash": "e63bc18e93140e24cd570e2b209b6587cfe707b0bcc83b254b0fbf45eb9a9a15"
  },
  "kernelspec": {
   "display_name": "Python 3.9.7 ('f3')",
   "language": "python",
   "name": "python3"
  },
  "language_info": {
   "codemirror_mode": {
    "name": "ipython",
    "version": 3
   },
   "file_extension": ".py",
   "mimetype": "text/x-python",
   "name": "python",
   "nbconvert_exporter": "python",
   "pygments_lexer": "ipython3",
   "version": "3.9.7"
  }
 },
 "nbformat": 4,
 "nbformat_minor": 5
}
