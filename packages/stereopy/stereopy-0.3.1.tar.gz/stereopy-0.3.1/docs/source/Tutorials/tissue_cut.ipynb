{
 "cells": [
  {
   "cell_type": "markdown",
   "id": "a167180a",
   "metadata": {},
   "source": [
    "# Tissuecut segmentation\n",
    "\n",
    "\n",
    "This example shows how to use the function of tissue cut. First, you need to download two models from the cloud disk to the local directory.\n",
    "\n",
    "Download [models](https://pan.genomics.cn/ucdisk/s/QFVBve) .\n",
    "\n",
    "It is assumed that the local storage path of the two models are './backbone.pth' and './tissue_seg.pth'.\n"
   ]
  },
  {
   "cell_type": "markdown",
   "id": "a89974ba",
   "metadata": {},
   "source": [
    "The interface function of tissue cut is `im.tissue_im`.\n",
    "\n",
    "We support the segmentation of two types of images, which are **rna** and **ssdna** images. when the input image is ssdna, setting the value of `type` parameter is 1, otherwise 0.\n",
    "\n",
    "We provide two mehtods for the segmentation. When the value of `deep` is 1, use the deep learning method. When the deep value is 0, the intensity method is used.\n",
    "\n",
    "Show using the deep learning method to segmentation rna images:"
   ]
  },
  {
   "cell_type": "code",
   "execution_count": 2,
   "id": "fdd2e409",
   "metadata": {
    "ExecuteTime": {
     "end_time": "2021-12-31T03:34:29.102603Z",
     "start_time": "2021-12-31T03:33:14.372647Z"
    }
   },
   "outputs": [
    {
     "name": "stdout",
     "output_type": "stream",
     "text": [
      "16 uint16\n"
     ]
    },
    {
     "data": {
      "text/plain": [
       "1"
      ]
     },
     "execution_count": 2,
     "metadata": {},
     "output_type": "execute_result"
    }
   ],
   "source": [
    "from stereo import image as im\n",
    "\n",
    "\n",
    "img_path = './SS200000139BL_F2.tif'\n",
    "out_path = './res_rna/'\n",
    "model_path = './ssdna_seg.pth'\n",
    "backbone_path = './backbone.pth'\n",
    "im.tissue_seg(img_path=img_path, out_path=out_path, type=0, deep=1, model_path=model_path, backbone_path=backbone_path)"
   ]
  }
 ],
 "metadata": {
  "kernelspec": {
   "display_name": "st38_image",
   "language": "python",
   "name": "st38_image"
  },
  "language_info": {
   "codemirror_mode": {
    "name": "ipython",
    "version": 3
   },
   "file_extension": ".py",
   "mimetype": "text/x-python",
   "name": "python",
   "nbconvert_exporter": "python",
   "pygments_lexer": "ipython3",
   "version": "3.8.0"
  },
  "toc": {
   "base_numbering": 1,
   "nav_menu": {},
   "number_sections": true,
   "sideBar": true,
   "skip_h1_title": false,
   "title_cell": "Table of Contents",
   "title_sidebar": "Contents",
   "toc_cell": false,
   "toc_position": {},
   "toc_section_display": true,
   "toc_window_display": false
  },
  "varInspector": {
   "cols": {
    "lenName": 16,
    "lenType": 16,
    "lenVar": 40
   },
   "kernels_config": {
    "python": {
     "delete_cmd_postfix": "",
     "delete_cmd_prefix": "del ",
     "library": "var_list.py",
     "varRefreshCmd": "print(var_dic_list())"
    },
    "r": {
     "delete_cmd_postfix": ") ",
     "delete_cmd_prefix": "rm(",
     "library": "var_list.r",
     "varRefreshCmd": "cat(var_dic_list()) "
    }
   },
   "types_to_exclude": [
    "module",
    "function",
    "builtin_function_or_method",
    "instance",
    "_Feature"
   ],
   "window_display": false
  }
 },
 "nbformat": 4,
 "nbformat_minor": 5
}
