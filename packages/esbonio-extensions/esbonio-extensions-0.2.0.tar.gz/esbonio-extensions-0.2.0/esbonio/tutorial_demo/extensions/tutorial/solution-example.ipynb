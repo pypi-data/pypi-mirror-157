{
 "cells": [
  {
   "cell_type": "markdown",
   "id": "solution-example",
   "metadata": {},
   "source": [
    "\n",
    "# Solution Example\n",
    "\n",
    "This is an example of how to write a tutorial that includes solutions\n",
    "\n",
    "[`sorted()`](https://docs.python.org/3/library/functions.html#sorted) is a function that can be used to sort a list of items:\n"
   ]
  },
  {
   "cell_type": "code",
   "execution_count": null,
   "id": "6ad0dbd3",
   "metadata": {},
   "outputs": [],
   "source": [
    "nums = [5, 3, 8, -23, 11, 2, 1]\n",
    "sorted(nums)"
   ]
  },
  {
   "cell_type": "markdown",
   "id": "acc30b61",
   "metadata": {},
   "source": [
    "\n",
    "The `reverse` flag can be used to sort the items in descending order:\n"
   ]
  },
  {
   "cell_type": "code",
   "execution_count": null,
   "id": "1aae9edb",
   "metadata": {},
   "outputs": [],
   "source": [
    "sorted(nums, reverse=True)"
   ]
  },
  {
   "cell_type": "markdown",
   "id": "edd4246b",
   "metadata": {},
   "source": [
    "\n",
    "Of course this function can be used to sort more than just numbers:\n"
   ]
  },
  {
   "cell_type": "code",
   "execution_count": null,
   "id": "684944b8",
   "metadata": {},
   "outputs": [],
   "source": [
    "fruit = [\"cherry\", \"apple\", \"kiwi\", \"orange\", \"strawberry\", \"banana\"]\n",
    "sorted(fruit)"
   ]
  },
  {
   "cell_type": "markdown",
   "id": "904e6402",
   "metadata": {},
   "source": [
    "\n",
    "It’s even possible to provide a custom function to specify the criteria by which\n",
    "you want the items sorted. For example, instead of sorting fruit alphabetically,\n",
    "we can sort them by the number of characters in their name:\n"
   ]
  },
  {
   "cell_type": "code",
   "execution_count": null,
   "id": "ae64ff09",
   "metadata": {},
   "outputs": [],
   "source": [
    "sorted(fruit, key=len)"
   ]
  },
  {
   "cell_type": "markdown",
   "id": "debf4334",
   "metadata": {},
   "source": [
    "\n",
    "## Exercises\n",
    "\n",
    "Test your understanding with the following excercises\n",
    "\n",
    "### Exercise 1\n",
    "\n",
    "Sort the list of fruit, by the number of characters in their name in descending\n",
    "order\n"
   ]
  },
  {
   "cell_type": "code",
   "execution_count": null,
   "id": "b22ca1de",
   "metadata": {},
   "outputs": [],
   "source": [
    "# Write your solution here...\n"
   ]
  },
  {
   "cell_type": "code",
   "execution_count": null,
   "id": "af5878ba",
   "metadata": {},
   "outputs": [],
   "source": [
    "# Execute this cell to load the example solution\n",
    "%load ../../resources/extensions/tutorial/solution-example/solution-example-soln-01.py\n"
   ]
  },
  {
   "cell_type": "markdown",
   "id": "ba8c4933",
   "metadata": {},
   "source": [
    "\n",
    "### Exercise 2\n",
    "\n",
    "Sort the list of fruit, by the number of vowels in their name in ascending order\n"
   ]
  },
  {
   "cell_type": "code",
   "execution_count": null,
   "id": "b967361f",
   "metadata": {},
   "outputs": [],
   "source": [
    "# Write your solution here...\n"
   ]
  },
  {
   "cell_type": "code",
   "execution_count": null,
   "id": "a79e1e0e",
   "metadata": {},
   "outputs": [],
   "source": [
    "# Execute this cell to load the example solution\n",
    "%load ../../resources/extensions/tutorial/solution-example/solution-example-soln-02.py\n"
   ]
  },
  {
   "cell_type": "markdown",
   "id": "418e9df0",
   "metadata": {},
   "source": [
    "\n",
    "### Exercise 3\n",
    "\n",
    "Given the following list of tuples, representing fruit and their corresponding\n",
    "cost, sort them from most to least expensive:\n"
   ]
  },
  {
   "cell_type": "code",
   "execution_count": null,
   "id": "cf4ed3eb",
   "metadata": {},
   "outputs": [],
   "source": [
    "fruit = [(\"cherry\", 0.2), (\"apple\", 1.2), (\"kiwi\", 2.5), (\"orange\", 2), (\"strawberry\", 0.5), (\"banana\", 1.8)]"
   ]
  },
  {
   "cell_type": "code",
   "execution_count": null,
   "id": "e195db33",
   "metadata": {},
   "outputs": [],
   "source": [
    "# Write your solution here...\n"
   ]
  },
  {
   "cell_type": "code",
   "execution_count": null,
   "id": "67d2715c",
   "metadata": {},
   "outputs": [],
   "source": [
    "# Execute this cell to load the example solution\n",
    "%load ../../resources/extensions/tutorial/solution-example/solution-example-soln-03.py\n"
   ]
  }
 ],
 "metadata": {},
 "nbformat": 4,
 "nbformat_minor": 5
}