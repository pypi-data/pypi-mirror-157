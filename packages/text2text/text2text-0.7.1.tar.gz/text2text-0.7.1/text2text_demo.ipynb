{
  "nbformat": 4,
  "nbformat_minor": 0,
  "metadata": {
    "colab": {
      "name": "text2text demo.ipynb",
      "provenance": [],
      "collapsed_sections": [],
      "machine_shape": "hm"
    },
    "kernelspec": {
      "name": "python3",
      "display_name": "Python 3"
    },
    "widgets": {
      "application/vnd.jupyter.widget-state+json": {
        "208fa8972a2541da9b15d3e5c21fd2e3": {
          "model_module": "@jupyter-widgets/controls",
          "model_name": "HBoxModel",
          "model_module_version": "1.5.0",
          "state": {
            "_view_name": "HBoxView",
            "_dom_classes": [],
            "_model_name": "HBoxModel",
            "_view_module": "@jupyter-widgets/controls",
            "_model_module_version": "1.5.0",
            "_view_count": null,
            "_view_module_version": "1.5.0",
            "box_style": "",
            "layout": "IPY_MODEL_b7a33863d7014265852a04aa7b366297",
            "_model_module": "@jupyter-widgets/controls",
            "children": [
              "IPY_MODEL_e1ce0a1068da426d991be784ad78de63",
              "IPY_MODEL_d2acb5d2c83045589071b09af1610ff7"
            ]
          }
        },
        "b7a33863d7014265852a04aa7b366297": {
          "model_module": "@jupyter-widgets/base",
          "model_name": "LayoutModel",
          "model_module_version": "1.2.0",
          "state": {
            "_view_name": "LayoutView",
            "grid_template_rows": null,
            "right": null,
            "justify_content": null,
            "_view_module": "@jupyter-widgets/base",
            "overflow": null,
            "_model_module_version": "1.2.0",
            "_view_count": null,
            "flex_flow": null,
            "width": null,
            "min_width": null,
            "border": null,
            "align_items": null,
            "bottom": null,
            "_model_module": "@jupyter-widgets/base",
            "top": null,
            "grid_column": null,
            "overflow_y": null,
            "overflow_x": null,
            "grid_auto_flow": null,
            "grid_area": null,
            "grid_template_columns": null,
            "flex": null,
            "_model_name": "LayoutModel",
            "justify_items": null,
            "grid_row": null,
            "max_height": null,
            "align_content": null,
            "visibility": null,
            "align_self": null,
            "height": null,
            "min_height": null,
            "padding": null,
            "grid_auto_rows": null,
            "grid_gap": null,
            "max_width": null,
            "order": null,
            "_view_module_version": "1.2.0",
            "grid_template_areas": null,
            "object_position": null,
            "object_fit": null,
            "grid_auto_columns": null,
            "margin": null,
            "display": null,
            "left": null
          }
        },
        "e1ce0a1068da426d991be784ad78de63": {
          "model_module": "@jupyter-widgets/controls",
          "model_name": "FloatProgressModel",
          "model_module_version": "1.5.0",
          "state": {
            "_view_name": "ProgressView",
            "style": "IPY_MODEL_b46b130a1e4341eebd9dbb25c19f4451",
            "_dom_classes": [],
            "description": "Downloading: 100%",
            "_model_name": "FloatProgressModel",
            "bar_style": "success",
            "max": 908,
            "_view_module": "@jupyter-widgets/controls",
            "_model_module_version": "1.5.0",
            "value": 908,
            "_view_count": null,
            "_view_module_version": "1.5.0",
            "orientation": "horizontal",
            "min": 0,
            "description_tooltip": null,
            "_model_module": "@jupyter-widgets/controls",
            "layout": "IPY_MODEL_f9560493ac294d7c82f31f5ac8dc3898"
          }
        },
        "d2acb5d2c83045589071b09af1610ff7": {
          "model_module": "@jupyter-widgets/controls",
          "model_name": "HTMLModel",
          "model_module_version": "1.5.0",
          "state": {
            "_view_name": "HTMLView",
            "style": "IPY_MODEL_813e787f0fe240608dffc3bcbf571f4c",
            "_dom_classes": [],
            "description": "",
            "_model_name": "HTMLModel",
            "placeholder": "​",
            "_view_module": "@jupyter-widgets/controls",
            "_model_module_version": "1.5.0",
            "value": " 908/908 [02:09&lt;00:00, 6.99B/s]",
            "_view_count": null,
            "_view_module_version": "1.5.0",
            "description_tooltip": null,
            "_model_module": "@jupyter-widgets/controls",
            "layout": "IPY_MODEL_442cc9fddd97445fbb4c660b2c30c62a"
          }
        },
        "b46b130a1e4341eebd9dbb25c19f4451": {
          "model_module": "@jupyter-widgets/controls",
          "model_name": "ProgressStyleModel",
          "model_module_version": "1.5.0",
          "state": {
            "_view_name": "StyleView",
            "_model_name": "ProgressStyleModel",
            "description_width": "initial",
            "_view_module": "@jupyter-widgets/base",
            "_model_module_version": "1.5.0",
            "_view_count": null,
            "_view_module_version": "1.2.0",
            "bar_color": null,
            "_model_module": "@jupyter-widgets/controls"
          }
        },
        "f9560493ac294d7c82f31f5ac8dc3898": {
          "model_module": "@jupyter-widgets/base",
          "model_name": "LayoutModel",
          "model_module_version": "1.2.0",
          "state": {
            "_view_name": "LayoutView",
            "grid_template_rows": null,
            "right": null,
            "justify_content": null,
            "_view_module": "@jupyter-widgets/base",
            "overflow": null,
            "_model_module_version": "1.2.0",
            "_view_count": null,
            "flex_flow": null,
            "width": null,
            "min_width": null,
            "border": null,
            "align_items": null,
            "bottom": null,
            "_model_module": "@jupyter-widgets/base",
            "top": null,
            "grid_column": null,
            "overflow_y": null,
            "overflow_x": null,
            "grid_auto_flow": null,
            "grid_area": null,
            "grid_template_columns": null,
            "flex": null,
            "_model_name": "LayoutModel",
            "justify_items": null,
            "grid_row": null,
            "max_height": null,
            "align_content": null,
            "visibility": null,
            "align_self": null,
            "height": null,
            "min_height": null,
            "padding": null,
            "grid_auto_rows": null,
            "grid_gap": null,
            "max_width": null,
            "order": null,
            "_view_module_version": "1.2.0",
            "grid_template_areas": null,
            "object_position": null,
            "object_fit": null,
            "grid_auto_columns": null,
            "margin": null,
            "display": null,
            "left": null
          }
        },
        "813e787f0fe240608dffc3bcbf571f4c": {
          "model_module": "@jupyter-widgets/controls",
          "model_name": "DescriptionStyleModel",
          "model_module_version": "1.5.0",
          "state": {
            "_view_name": "StyleView",
            "_model_name": "DescriptionStyleModel",
            "description_width": "",
            "_view_module": "@jupyter-widgets/base",
            "_model_module_version": "1.5.0",
            "_view_count": null,
            "_view_module_version": "1.2.0",
            "_model_module": "@jupyter-widgets/controls"
          }
        },
        "442cc9fddd97445fbb4c660b2c30c62a": {
          "model_module": "@jupyter-widgets/base",
          "model_name": "LayoutModel",
          "model_module_version": "1.2.0",
          "state": {
            "_view_name": "LayoutView",
            "grid_template_rows": null,
            "right": null,
            "justify_content": null,
            "_view_module": "@jupyter-widgets/base",
            "overflow": null,
            "_model_module_version": "1.2.0",
            "_view_count": null,
            "flex_flow": null,
            "width": null,
            "min_width": null,
            "border": null,
            "align_items": null,
            "bottom": null,
            "_model_module": "@jupyter-widgets/base",
            "top": null,
            "grid_column": null,
            "overflow_y": null,
            "overflow_x": null,
            "grid_auto_flow": null,
            "grid_area": null,
            "grid_template_columns": null,
            "flex": null,
            "_model_name": "LayoutModel",
            "justify_items": null,
            "grid_row": null,
            "max_height": null,
            "align_content": null,
            "visibility": null,
            "align_self": null,
            "height": null,
            "min_height": null,
            "padding": null,
            "grid_auto_rows": null,
            "grid_gap": null,
            "max_width": null,
            "order": null,
            "_view_module_version": "1.2.0",
            "grid_template_areas": null,
            "object_position": null,
            "object_fit": null,
            "grid_auto_columns": null,
            "margin": null,
            "display": null,
            "left": null
          }
        },
        "a5c4ab5749b642b28242f577604d0348": {
          "model_module": "@jupyter-widgets/controls",
          "model_name": "HBoxModel",
          "model_module_version": "1.5.0",
          "state": {
            "_view_name": "HBoxView",
            "_dom_classes": [],
            "_model_name": "HBoxModel",
            "_view_module": "@jupyter-widgets/controls",
            "_model_module_version": "1.5.0",
            "_view_count": null,
            "_view_module_version": "1.5.0",
            "box_style": "",
            "layout": "IPY_MODEL_c0bc21ae747948b19654c1314d3a2e40",
            "_model_module": "@jupyter-widgets/controls",
            "children": [
              "IPY_MODEL_52c143265dfd4bb4ac20990823c6171e",
              "IPY_MODEL_5b20fd9bd88a47df8f6ef2925f4e4f48"
            ]
          }
        },
        "c0bc21ae747948b19654c1314d3a2e40": {
          "model_module": "@jupyter-widgets/base",
          "model_name": "LayoutModel",
          "model_module_version": "1.2.0",
          "state": {
            "_view_name": "LayoutView",
            "grid_template_rows": null,
            "right": null,
            "justify_content": null,
            "_view_module": "@jupyter-widgets/base",
            "overflow": null,
            "_model_module_version": "1.2.0",
            "_view_count": null,
            "flex_flow": null,
            "width": null,
            "min_width": null,
            "border": null,
            "align_items": null,
            "bottom": null,
            "_model_module": "@jupyter-widgets/base",
            "top": null,
            "grid_column": null,
            "overflow_y": null,
            "overflow_x": null,
            "grid_auto_flow": null,
            "grid_area": null,
            "grid_template_columns": null,
            "flex": null,
            "_model_name": "LayoutModel",
            "justify_items": null,
            "grid_row": null,
            "max_height": null,
            "align_content": null,
            "visibility": null,
            "align_self": null,
            "height": null,
            "min_height": null,
            "padding": null,
            "grid_auto_rows": null,
            "grid_gap": null,
            "max_width": null,
            "order": null,
            "_view_module_version": "1.2.0",
            "grid_template_areas": null,
            "object_position": null,
            "object_fit": null,
            "grid_auto_columns": null,
            "margin": null,
            "display": null,
            "left": null
          }
        },
        "52c143265dfd4bb4ac20990823c6171e": {
          "model_module": "@jupyter-widgets/controls",
          "model_name": "FloatProgressModel",
          "model_module_version": "1.5.0",
          "state": {
            "_view_name": "ProgressView",
            "style": "IPY_MODEL_73f273b61ef44579a405ca552e7427d2",
            "_dom_classes": [],
            "description": "Downloading: 100%",
            "_model_name": "FloatProgressModel",
            "bar_style": "success",
            "max": 3708092,
            "_view_module": "@jupyter-widgets/controls",
            "_model_module_version": "1.5.0",
            "value": 3708092,
            "_view_count": null,
            "_view_module_version": "1.5.0",
            "orientation": "horizontal",
            "min": 0,
            "description_tooltip": null,
            "_model_module": "@jupyter-widgets/controls",
            "layout": "IPY_MODEL_ec7e8a56d01c4138971dfa27693cbe3b"
          }
        },
        "5b20fd9bd88a47df8f6ef2925f4e4f48": {
          "model_module": "@jupyter-widgets/controls",
          "model_name": "HTMLModel",
          "model_module_version": "1.5.0",
          "state": {
            "_view_name": "HTMLView",
            "style": "IPY_MODEL_3f151bd6d8df464c993e0521335b2f6f",
            "_dom_classes": [],
            "description": "",
            "_model_name": "HTMLModel",
            "placeholder": "​",
            "_view_module": "@jupyter-widgets/controls",
            "_model_module_version": "1.5.0",
            "value": " 3.71M/3.71M [00:00&lt;00:00, 4.38MB/s]",
            "_view_count": null,
            "_view_module_version": "1.5.0",
            "description_tooltip": null,
            "_model_module": "@jupyter-widgets/controls",
            "layout": "IPY_MODEL_b6b95467697b4185b96aac4acb9c4438"
          }
        },
        "73f273b61ef44579a405ca552e7427d2": {
          "model_module": "@jupyter-widgets/controls",
          "model_name": "ProgressStyleModel",
          "model_module_version": "1.5.0",
          "state": {
            "_view_name": "StyleView",
            "_model_name": "ProgressStyleModel",
            "description_width": "initial",
            "_view_module": "@jupyter-widgets/base",
            "_model_module_version": "1.5.0",
            "_view_count": null,
            "_view_module_version": "1.2.0",
            "bar_color": null,
            "_model_module": "@jupyter-widgets/controls"
          }
        },
        "ec7e8a56d01c4138971dfa27693cbe3b": {
          "model_module": "@jupyter-widgets/base",
          "model_name": "LayoutModel",
          "model_module_version": "1.2.0",
          "state": {
            "_view_name": "LayoutView",
            "grid_template_rows": null,
            "right": null,
            "justify_content": null,
            "_view_module": "@jupyter-widgets/base",
            "overflow": null,
            "_model_module_version": "1.2.0",
            "_view_count": null,
            "flex_flow": null,
            "width": null,
            "min_width": null,
            "border": null,
            "align_items": null,
            "bottom": null,
            "_model_module": "@jupyter-widgets/base",
            "top": null,
            "grid_column": null,
            "overflow_y": null,
            "overflow_x": null,
            "grid_auto_flow": null,
            "grid_area": null,
            "grid_template_columns": null,
            "flex": null,
            "_model_name": "LayoutModel",
            "justify_items": null,
            "grid_row": null,
            "max_height": null,
            "align_content": null,
            "visibility": null,
            "align_self": null,
            "height": null,
            "min_height": null,
            "padding": null,
            "grid_auto_rows": null,
            "grid_gap": null,
            "max_width": null,
            "order": null,
            "_view_module_version": "1.2.0",
            "grid_template_areas": null,
            "object_position": null,
            "object_fit": null,
            "grid_auto_columns": null,
            "margin": null,
            "display": null,
            "left": null
          }
        },
        "3f151bd6d8df464c993e0521335b2f6f": {
          "model_module": "@jupyter-widgets/controls",
          "model_name": "DescriptionStyleModel",
          "model_module_version": "1.5.0",
          "state": {
            "_view_name": "StyleView",
            "_model_name": "DescriptionStyleModel",
            "description_width": "",
            "_view_module": "@jupyter-widgets/base",
            "_model_module_version": "1.5.0",
            "_view_count": null,
            "_view_module_version": "1.2.0",
            "_model_module": "@jupyter-widgets/controls"
          }
        },
        "b6b95467697b4185b96aac4acb9c4438": {
          "model_module": "@jupyter-widgets/base",
          "model_name": "LayoutModel",
          "model_module_version": "1.2.0",
          "state": {
            "_view_name": "LayoutView",
            "grid_template_rows": null,
            "right": null,
            "justify_content": null,
            "_view_module": "@jupyter-widgets/base",
            "overflow": null,
            "_model_module_version": "1.2.0",
            "_view_count": null,
            "flex_flow": null,
            "width": null,
            "min_width": null,
            "border": null,
            "align_items": null,
            "bottom": null,
            "_model_module": "@jupyter-widgets/base",
            "top": null,
            "grid_column": null,
            "overflow_y": null,
            "overflow_x": null,
            "grid_auto_flow": null,
            "grid_area": null,
            "grid_template_columns": null,
            "flex": null,
            "_model_name": "LayoutModel",
            "justify_items": null,
            "grid_row": null,
            "max_height": null,
            "align_content": null,
            "visibility": null,
            "align_self": null,
            "height": null,
            "min_height": null,
            "padding": null,
            "grid_auto_rows": null,
            "grid_gap": null,
            "max_width": null,
            "order": null,
            "_view_module_version": "1.2.0",
            "grid_template_areas": null,
            "object_position": null,
            "object_fit": null,
            "grid_auto_columns": null,
            "margin": null,
            "display": null,
            "left": null
          }
        },
        "fd73923fd9fb487196e6c74d056f3cfc": {
          "model_module": "@jupyter-widgets/controls",
          "model_name": "HBoxModel",
          "model_module_version": "1.5.0",
          "state": {
            "_view_name": "HBoxView",
            "_dom_classes": [],
            "_model_name": "HBoxModel",
            "_view_module": "@jupyter-widgets/controls",
            "_model_module_version": "1.5.0",
            "_view_count": null,
            "_view_module_version": "1.5.0",
            "box_style": "",
            "layout": "IPY_MODEL_a58aced5521e44c58dbc6288f300c22c",
            "_model_module": "@jupyter-widgets/controls",
            "children": [
              "IPY_MODEL_e90526c58fff4e438ae2768f7d95f6a5",
              "IPY_MODEL_63bf868cfbd54bf6bccd80c57a198361"
            ]
          }
        },
        "a58aced5521e44c58dbc6288f300c22c": {
          "model_module": "@jupyter-widgets/base",
          "model_name": "LayoutModel",
          "model_module_version": "1.2.0",
          "state": {
            "_view_name": "LayoutView",
            "grid_template_rows": null,
            "right": null,
            "justify_content": null,
            "_view_module": "@jupyter-widgets/base",
            "overflow": null,
            "_model_module_version": "1.2.0",
            "_view_count": null,
            "flex_flow": null,
            "width": null,
            "min_width": null,
            "border": null,
            "align_items": null,
            "bottom": null,
            "_model_module": "@jupyter-widgets/base",
            "top": null,
            "grid_column": null,
            "overflow_y": null,
            "overflow_x": null,
            "grid_auto_flow": null,
            "grid_area": null,
            "grid_template_columns": null,
            "flex": null,
            "_model_name": "LayoutModel",
            "justify_items": null,
            "grid_row": null,
            "max_height": null,
            "align_content": null,
            "visibility": null,
            "align_self": null,
            "height": null,
            "min_height": null,
            "padding": null,
            "grid_auto_rows": null,
            "grid_gap": null,
            "max_width": null,
            "order": null,
            "_view_module_version": "1.2.0",
            "grid_template_areas": null,
            "object_position": null,
            "object_fit": null,
            "grid_auto_columns": null,
            "margin": null,
            "display": null,
            "left": null
          }
        },
        "e90526c58fff4e438ae2768f7d95f6a5": {
          "model_module": "@jupyter-widgets/controls",
          "model_name": "FloatProgressModel",
          "model_module_version": "1.5.0",
          "state": {
            "_view_name": "ProgressView",
            "style": "IPY_MODEL_5b633a99e47d4ee5903e06bc58205b4e",
            "_dom_classes": [],
            "description": "Downloading: 100%",
            "_model_name": "FloatProgressModel",
            "bar_style": "success",
            "max": 2423393,
            "_view_module": "@jupyter-widgets/controls",
            "_model_module_version": "1.5.0",
            "value": 2423393,
            "_view_count": null,
            "_view_module_version": "1.5.0",
            "orientation": "horizontal",
            "min": 0,
            "description_tooltip": null,
            "_model_module": "@jupyter-widgets/controls",
            "layout": "IPY_MODEL_17e4af5c06c343f781efc4ca3c833b3a"
          }
        },
        "63bf868cfbd54bf6bccd80c57a198361": {
          "model_module": "@jupyter-widgets/controls",
          "model_name": "HTMLModel",
          "model_module_version": "1.5.0",
          "state": {
            "_view_name": "HTMLView",
            "style": "IPY_MODEL_343660d9f7f64fe498a9748f20aee02d",
            "_dom_classes": [],
            "description": "",
            "_model_name": "HTMLModel",
            "placeholder": "​",
            "_view_module": "@jupyter-widgets/controls",
            "_model_module_version": "1.5.0",
            "value": " 2.42M/2.42M [00:01&lt;00:00, 1.28MB/s]",
            "_view_count": null,
            "_view_module_version": "1.5.0",
            "description_tooltip": null,
            "_model_module": "@jupyter-widgets/controls",
            "layout": "IPY_MODEL_1e0e2d77010049d38f077482fc7dcc2d"
          }
        },
        "5b633a99e47d4ee5903e06bc58205b4e": {
          "model_module": "@jupyter-widgets/controls",
          "model_name": "ProgressStyleModel",
          "model_module_version": "1.5.0",
          "state": {
            "_view_name": "StyleView",
            "_model_name": "ProgressStyleModel",
            "description_width": "initial",
            "_view_module": "@jupyter-widgets/base",
            "_model_module_version": "1.5.0",
            "_view_count": null,
            "_view_module_version": "1.2.0",
            "bar_color": null,
            "_model_module": "@jupyter-widgets/controls"
          }
        },
        "17e4af5c06c343f781efc4ca3c833b3a": {
          "model_module": "@jupyter-widgets/base",
          "model_name": "LayoutModel",
          "model_module_version": "1.2.0",
          "state": {
            "_view_name": "LayoutView",
            "grid_template_rows": null,
            "right": null,
            "justify_content": null,
            "_view_module": "@jupyter-widgets/base",
            "overflow": null,
            "_model_module_version": "1.2.0",
            "_view_count": null,
            "flex_flow": null,
            "width": null,
            "min_width": null,
            "border": null,
            "align_items": null,
            "bottom": null,
            "_model_module": "@jupyter-widgets/base",
            "top": null,
            "grid_column": null,
            "overflow_y": null,
            "overflow_x": null,
            "grid_auto_flow": null,
            "grid_area": null,
            "grid_template_columns": null,
            "flex": null,
            "_model_name": "LayoutModel",
            "justify_items": null,
            "grid_row": null,
            "max_height": null,
            "align_content": null,
            "visibility": null,
            "align_self": null,
            "height": null,
            "min_height": null,
            "padding": null,
            "grid_auto_rows": null,
            "grid_gap": null,
            "max_width": null,
            "order": null,
            "_view_module_version": "1.2.0",
            "grid_template_areas": null,
            "object_position": null,
            "object_fit": null,
            "grid_auto_columns": null,
            "margin": null,
            "display": null,
            "left": null
          }
        },
        "343660d9f7f64fe498a9748f20aee02d": {
          "model_module": "@jupyter-widgets/controls",
          "model_name": "DescriptionStyleModel",
          "model_module_version": "1.5.0",
          "state": {
            "_view_name": "StyleView",
            "_model_name": "DescriptionStyleModel",
            "description_width": "",
            "_view_module": "@jupyter-widgets/base",
            "_model_module_version": "1.5.0",
            "_view_count": null,
            "_view_module_version": "1.2.0",
            "_model_module": "@jupyter-widgets/controls"
          }
        },
        "1e0e2d77010049d38f077482fc7dcc2d": {
          "model_module": "@jupyter-widgets/base",
          "model_name": "LayoutModel",
          "model_module_version": "1.2.0",
          "state": {
            "_view_name": "LayoutView",
            "grid_template_rows": null,
            "right": null,
            "justify_content": null,
            "_view_module": "@jupyter-widgets/base",
            "overflow": null,
            "_model_module_version": "1.2.0",
            "_view_count": null,
            "flex_flow": null,
            "width": null,
            "min_width": null,
            "border": null,
            "align_items": null,
            "bottom": null,
            "_model_module": "@jupyter-widgets/base",
            "top": null,
            "grid_column": null,
            "overflow_y": null,
            "overflow_x": null,
            "grid_auto_flow": null,
            "grid_area": null,
            "grid_template_columns": null,
            "flex": null,
            "_model_name": "LayoutModel",
            "justify_items": null,
            "grid_row": null,
            "max_height": null,
            "align_content": null,
            "visibility": null,
            "align_self": null,
            "height": null,
            "min_height": null,
            "padding": null,
            "grid_auto_rows": null,
            "grid_gap": null,
            "max_width": null,
            "order": null,
            "_view_module_version": "1.2.0",
            "grid_template_areas": null,
            "object_position": null,
            "object_fit": null,
            "grid_auto_columns": null,
            "margin": null,
            "display": null,
            "left": null
          }
        },
        "d0e3ff3c500443e4b57ef7cb84742ac2": {
          "model_module": "@jupyter-widgets/controls",
          "model_name": "HBoxModel",
          "model_module_version": "1.5.0",
          "state": {
            "_view_name": "HBoxView",
            "_dom_classes": [],
            "_model_name": "HBoxModel",
            "_view_module": "@jupyter-widgets/controls",
            "_model_module_version": "1.5.0",
            "_view_count": null,
            "_view_module_version": "1.5.0",
            "box_style": "",
            "layout": "IPY_MODEL_6724e15795c946508c32341bfc1ec7d7",
            "_model_module": "@jupyter-widgets/controls",
            "children": [
              "IPY_MODEL_5b0c1e64a7164243a8e59a7b7b6af894",
              "IPY_MODEL_fa2f404e6c7b4b7795b96f31a7f7aa23"
            ]
          }
        },
        "6724e15795c946508c32341bfc1ec7d7": {
          "model_module": "@jupyter-widgets/base",
          "model_name": "LayoutModel",
          "model_module_version": "1.2.0",
          "state": {
            "_view_name": "LayoutView",
            "grid_template_rows": null,
            "right": null,
            "justify_content": null,
            "_view_module": "@jupyter-widgets/base",
            "overflow": null,
            "_model_module_version": "1.2.0",
            "_view_count": null,
            "flex_flow": null,
            "width": null,
            "min_width": null,
            "border": null,
            "align_items": null,
            "bottom": null,
            "_model_module": "@jupyter-widgets/base",
            "top": null,
            "grid_column": null,
            "overflow_y": null,
            "overflow_x": null,
            "grid_auto_flow": null,
            "grid_area": null,
            "grid_template_columns": null,
            "flex": null,
            "_model_name": "LayoutModel",
            "justify_items": null,
            "grid_row": null,
            "max_height": null,
            "align_content": null,
            "visibility": null,
            "align_self": null,
            "height": null,
            "min_height": null,
            "padding": null,
            "grid_auto_rows": null,
            "grid_gap": null,
            "max_width": null,
            "order": null,
            "_view_module_version": "1.2.0",
            "grid_template_areas": null,
            "object_position": null,
            "object_fit": null,
            "grid_auto_columns": null,
            "margin": null,
            "display": null,
            "left": null
          }
        },
        "5b0c1e64a7164243a8e59a7b7b6af894": {
          "model_module": "@jupyter-widgets/controls",
          "model_name": "FloatProgressModel",
          "model_module_version": "1.5.0",
          "state": {
            "_view_name": "ProgressView",
            "style": "IPY_MODEL_c6563ef1a86b42b88c642be40f065ca2",
            "_dom_classes": [],
            "description": "Downloading: 100%",
            "_model_name": "FloatProgressModel",
            "bar_style": "success",
            "max": 272,
            "_view_module": "@jupyter-widgets/controls",
            "_model_module_version": "1.5.0",
            "value": 272,
            "_view_count": null,
            "_view_module_version": "1.5.0",
            "orientation": "horizontal",
            "min": 0,
            "description_tooltip": null,
            "_model_module": "@jupyter-widgets/controls",
            "layout": "IPY_MODEL_50d70c2b99a649c5b0e463e775dcb600"
          }
        },
        "fa2f404e6c7b4b7795b96f31a7f7aa23": {
          "model_module": "@jupyter-widgets/controls",
          "model_name": "HTMLModel",
          "model_module_version": "1.5.0",
          "state": {
            "_view_name": "HTMLView",
            "style": "IPY_MODEL_2981a6cf7adc4856bae751ad870acb0e",
            "_dom_classes": [],
            "description": "",
            "_model_name": "HTMLModel",
            "placeholder": "​",
            "_view_module": "@jupyter-widgets/controls",
            "_model_module_version": "1.5.0",
            "value": " 272/272 [00:01&lt;00:00, 248B/s]",
            "_view_count": null,
            "_view_module_version": "1.5.0",
            "description_tooltip": null,
            "_model_module": "@jupyter-widgets/controls",
            "layout": "IPY_MODEL_63b8b0888df64ac2bedcc50ad236b03e"
          }
        },
        "c6563ef1a86b42b88c642be40f065ca2": {
          "model_module": "@jupyter-widgets/controls",
          "model_name": "ProgressStyleModel",
          "model_module_version": "1.5.0",
          "state": {
            "_view_name": "StyleView",
            "_model_name": "ProgressStyleModel",
            "description_width": "initial",
            "_view_module": "@jupyter-widgets/base",
            "_model_module_version": "1.5.0",
            "_view_count": null,
            "_view_module_version": "1.2.0",
            "bar_color": null,
            "_model_module": "@jupyter-widgets/controls"
          }
        },
        "50d70c2b99a649c5b0e463e775dcb600": {
          "model_module": "@jupyter-widgets/base",
          "model_name": "LayoutModel",
          "model_module_version": "1.2.0",
          "state": {
            "_view_name": "LayoutView",
            "grid_template_rows": null,
            "right": null,
            "justify_content": null,
            "_view_module": "@jupyter-widgets/base",
            "overflow": null,
            "_model_module_version": "1.2.0",
            "_view_count": null,
            "flex_flow": null,
            "width": null,
            "min_width": null,
            "border": null,
            "align_items": null,
            "bottom": null,
            "_model_module": "@jupyter-widgets/base",
            "top": null,
            "grid_column": null,
            "overflow_y": null,
            "overflow_x": null,
            "grid_auto_flow": null,
            "grid_area": null,
            "grid_template_columns": null,
            "flex": null,
            "_model_name": "LayoutModel",
            "justify_items": null,
            "grid_row": null,
            "max_height": null,
            "align_content": null,
            "visibility": null,
            "align_self": null,
            "height": null,
            "min_height": null,
            "padding": null,
            "grid_auto_rows": null,
            "grid_gap": null,
            "max_width": null,
            "order": null,
            "_view_module_version": "1.2.0",
            "grid_template_areas": null,
            "object_position": null,
            "object_fit": null,
            "grid_auto_columns": null,
            "margin": null,
            "display": null,
            "left": null
          }
        },
        "2981a6cf7adc4856bae751ad870acb0e": {
          "model_module": "@jupyter-widgets/controls",
          "model_name": "DescriptionStyleModel",
          "model_module_version": "1.5.0",
          "state": {
            "_view_name": "StyleView",
            "_model_name": "DescriptionStyleModel",
            "description_width": "",
            "_view_module": "@jupyter-widgets/base",
            "_model_module_version": "1.5.0",
            "_view_count": null,
            "_view_module_version": "1.2.0",
            "_model_module": "@jupyter-widgets/controls"
          }
        },
        "63b8b0888df64ac2bedcc50ad236b03e": {
          "model_module": "@jupyter-widgets/base",
          "model_name": "LayoutModel",
          "model_module_version": "1.2.0",
          "state": {
            "_view_name": "LayoutView",
            "grid_template_rows": null,
            "right": null,
            "justify_content": null,
            "_view_module": "@jupyter-widgets/base",
            "overflow": null,
            "_model_module_version": "1.2.0",
            "_view_count": null,
            "flex_flow": null,
            "width": null,
            "min_width": null,
            "border": null,
            "align_items": null,
            "bottom": null,
            "_model_module": "@jupyter-widgets/base",
            "top": null,
            "grid_column": null,
            "overflow_y": null,
            "overflow_x": null,
            "grid_auto_flow": null,
            "grid_area": null,
            "grid_template_columns": null,
            "flex": null,
            "_model_name": "LayoutModel",
            "justify_items": null,
            "grid_row": null,
            "max_height": null,
            "align_content": null,
            "visibility": null,
            "align_self": null,
            "height": null,
            "min_height": null,
            "padding": null,
            "grid_auto_rows": null,
            "grid_gap": null,
            "max_width": null,
            "order": null,
            "_view_module_version": "1.2.0",
            "grid_template_areas": null,
            "object_position": null,
            "object_fit": null,
            "grid_auto_columns": null,
            "margin": null,
            "display": null,
            "left": null
          }
        },
        "2ae2030c5aab453c9895d1b45e8f90c2": {
          "model_module": "@jupyter-widgets/controls",
          "model_name": "HBoxModel",
          "model_module_version": "1.5.0",
          "state": {
            "_view_name": "HBoxView",
            "_dom_classes": [],
            "_model_name": "HBoxModel",
            "_view_module": "@jupyter-widgets/controls",
            "_model_module_version": "1.5.0",
            "_view_count": null,
            "_view_module_version": "1.5.0",
            "box_style": "",
            "layout": "IPY_MODEL_43cf2112ffd44aedb895cb400d6e099e",
            "_model_module": "@jupyter-widgets/controls",
            "children": [
              "IPY_MODEL_143a3166b63c4526ba6675695eb0951a",
              "IPY_MODEL_297111e91bb2452b86eaccf507b30cec"
            ]
          }
        },
        "43cf2112ffd44aedb895cb400d6e099e": {
          "model_module": "@jupyter-widgets/base",
          "model_name": "LayoutModel",
          "model_module_version": "1.2.0",
          "state": {
            "_view_name": "LayoutView",
            "grid_template_rows": null,
            "right": null,
            "justify_content": null,
            "_view_module": "@jupyter-widgets/base",
            "overflow": null,
            "_model_module_version": "1.2.0",
            "_view_count": null,
            "flex_flow": null,
            "width": null,
            "min_width": null,
            "border": null,
            "align_items": null,
            "bottom": null,
            "_model_module": "@jupyter-widgets/base",
            "top": null,
            "grid_column": null,
            "overflow_y": null,
            "overflow_x": null,
            "grid_auto_flow": null,
            "grid_area": null,
            "grid_template_columns": null,
            "flex": null,
            "_model_name": "LayoutModel",
            "justify_items": null,
            "grid_row": null,
            "max_height": null,
            "align_content": null,
            "visibility": null,
            "align_self": null,
            "height": null,
            "min_height": null,
            "padding": null,
            "grid_auto_rows": null,
            "grid_gap": null,
            "max_width": null,
            "order": null,
            "_view_module_version": "1.2.0",
            "grid_template_areas": null,
            "object_position": null,
            "object_fit": null,
            "grid_auto_columns": null,
            "margin": null,
            "display": null,
            "left": null
          }
        },
        "143a3166b63c4526ba6675695eb0951a": {
          "model_module": "@jupyter-widgets/controls",
          "model_name": "FloatProgressModel",
          "model_module_version": "1.5.0",
          "state": {
            "_view_name": "ProgressView",
            "style": "IPY_MODEL_145dd9b790794c5687d9a0f3de6399f3",
            "_dom_classes": [],
            "description": "Downloading: 100%",
            "_model_name": "FloatProgressModel",
            "bar_style": "success",
            "max": 1140,
            "_view_module": "@jupyter-widgets/controls",
            "_model_module_version": "1.5.0",
            "value": 1140,
            "_view_count": null,
            "_view_module_version": "1.5.0",
            "orientation": "horizontal",
            "min": 0,
            "description_tooltip": null,
            "_model_module": "@jupyter-widgets/controls",
            "layout": "IPY_MODEL_f31101b7506246fb93cb42bb3e7d69f1"
          }
        },
        "297111e91bb2452b86eaccf507b30cec": {
          "model_module": "@jupyter-widgets/controls",
          "model_name": "HTMLModel",
          "model_module_version": "1.5.0",
          "state": {
            "_view_name": "HTMLView",
            "style": "IPY_MODEL_d0935a42a6bb48409702bb3c43c2fa60",
            "_dom_classes": [],
            "description": "",
            "_model_name": "HTMLModel",
            "placeholder": "​",
            "_view_module": "@jupyter-widgets/controls",
            "_model_module_version": "1.5.0",
            "value": " 1.14k/1.14k [02:06&lt;00:00, 9.02B/s]",
            "_view_count": null,
            "_view_module_version": "1.5.0",
            "description_tooltip": null,
            "_model_module": "@jupyter-widgets/controls",
            "layout": "IPY_MODEL_52451056669e4c8cab79b361a15b5a91"
          }
        },
        "145dd9b790794c5687d9a0f3de6399f3": {
          "model_module": "@jupyter-widgets/controls",
          "model_name": "ProgressStyleModel",
          "model_module_version": "1.5.0",
          "state": {
            "_view_name": "StyleView",
            "_model_name": "ProgressStyleModel",
            "description_width": "initial",
            "_view_module": "@jupyter-widgets/base",
            "_model_module_version": "1.5.0",
            "_view_count": null,
            "_view_module_version": "1.2.0",
            "bar_color": null,
            "_model_module": "@jupyter-widgets/controls"
          }
        },
        "f31101b7506246fb93cb42bb3e7d69f1": {
          "model_module": "@jupyter-widgets/base",
          "model_name": "LayoutModel",
          "model_module_version": "1.2.0",
          "state": {
            "_view_name": "LayoutView",
            "grid_template_rows": null,
            "right": null,
            "justify_content": null,
            "_view_module": "@jupyter-widgets/base",
            "overflow": null,
            "_model_module_version": "1.2.0",
            "_view_count": null,
            "flex_flow": null,
            "width": null,
            "min_width": null,
            "border": null,
            "align_items": null,
            "bottom": null,
            "_model_module": "@jupyter-widgets/base",
            "top": null,
            "grid_column": null,
            "overflow_y": null,
            "overflow_x": null,
            "grid_auto_flow": null,
            "grid_area": null,
            "grid_template_columns": null,
            "flex": null,
            "_model_name": "LayoutModel",
            "justify_items": null,
            "grid_row": null,
            "max_height": null,
            "align_content": null,
            "visibility": null,
            "align_self": null,
            "height": null,
            "min_height": null,
            "padding": null,
            "grid_auto_rows": null,
            "grid_gap": null,
            "max_width": null,
            "order": null,
            "_view_module_version": "1.2.0",
            "grid_template_areas": null,
            "object_position": null,
            "object_fit": null,
            "grid_auto_columns": null,
            "margin": null,
            "display": null,
            "left": null
          }
        },
        "d0935a42a6bb48409702bb3c43c2fa60": {
          "model_module": "@jupyter-widgets/controls",
          "model_name": "DescriptionStyleModel",
          "model_module_version": "1.5.0",
          "state": {
            "_view_name": "StyleView",
            "_model_name": "DescriptionStyleModel",
            "description_width": "",
            "_view_module": "@jupyter-widgets/base",
            "_model_module_version": "1.5.0",
            "_view_count": null,
            "_view_module_version": "1.2.0",
            "_model_module": "@jupyter-widgets/controls"
          }
        },
        "52451056669e4c8cab79b361a15b5a91": {
          "model_module": "@jupyter-widgets/base",
          "model_name": "LayoutModel",
          "model_module_version": "1.2.0",
          "state": {
            "_view_name": "LayoutView",
            "grid_template_rows": null,
            "right": null,
            "justify_content": null,
            "_view_module": "@jupyter-widgets/base",
            "overflow": null,
            "_model_module_version": "1.2.0",
            "_view_count": null,
            "flex_flow": null,
            "width": null,
            "min_width": null,
            "border": null,
            "align_items": null,
            "bottom": null,
            "_model_module": "@jupyter-widgets/base",
            "top": null,
            "grid_column": null,
            "overflow_y": null,
            "overflow_x": null,
            "grid_auto_flow": null,
            "grid_area": null,
            "grid_template_columns": null,
            "flex": null,
            "_model_name": "LayoutModel",
            "justify_items": null,
            "grid_row": null,
            "max_height": null,
            "align_content": null,
            "visibility": null,
            "align_self": null,
            "height": null,
            "min_height": null,
            "padding": null,
            "grid_auto_rows": null,
            "grid_gap": null,
            "max_width": null,
            "order": null,
            "_view_module_version": "1.2.0",
            "grid_template_areas": null,
            "object_position": null,
            "object_fit": null,
            "grid_auto_columns": null,
            "margin": null,
            "display": null,
            "left": null
          }
        },
        "594fd2abb40c46e9bf359ec66e52a820": {
          "model_module": "@jupyter-widgets/controls",
          "model_name": "HBoxModel",
          "model_module_version": "1.5.0",
          "state": {
            "_view_name": "HBoxView",
            "_dom_classes": [],
            "_model_name": "HBoxModel",
            "_view_module": "@jupyter-widgets/controls",
            "_model_module_version": "1.5.0",
            "_view_count": null,
            "_view_module_version": "1.5.0",
            "box_style": "",
            "layout": "IPY_MODEL_0043b11767ab48a3b3132e0e3d7ccb03",
            "_model_module": "@jupyter-widgets/controls",
            "children": [
              "IPY_MODEL_0fbad6e58cb54b81b7adf3c977fbd67c",
              "IPY_MODEL_2d9e32049c5746449bfa18efaa6e272d"
            ]
          }
        },
        "0043b11767ab48a3b3132e0e3d7ccb03": {
          "model_module": "@jupyter-widgets/base",
          "model_name": "LayoutModel",
          "model_module_version": "1.2.0",
          "state": {
            "_view_name": "LayoutView",
            "grid_template_rows": null,
            "right": null,
            "justify_content": null,
            "_view_module": "@jupyter-widgets/base",
            "overflow": null,
            "_model_module_version": "1.2.0",
            "_view_count": null,
            "flex_flow": null,
            "width": null,
            "min_width": null,
            "border": null,
            "align_items": null,
            "bottom": null,
            "_model_module": "@jupyter-widgets/base",
            "top": null,
            "grid_column": null,
            "overflow_y": null,
            "overflow_x": null,
            "grid_auto_flow": null,
            "grid_area": null,
            "grid_template_columns": null,
            "flex": null,
            "_model_name": "LayoutModel",
            "justify_items": null,
            "grid_row": null,
            "max_height": null,
            "align_content": null,
            "visibility": null,
            "align_self": null,
            "height": null,
            "min_height": null,
            "padding": null,
            "grid_auto_rows": null,
            "grid_gap": null,
            "max_width": null,
            "order": null,
            "_view_module_version": "1.2.0",
            "grid_template_areas": null,
            "object_position": null,
            "object_fit": null,
            "grid_auto_columns": null,
            "margin": null,
            "display": null,
            "left": null
          }
        },
        "0fbad6e58cb54b81b7adf3c977fbd67c": {
          "model_module": "@jupyter-widgets/controls",
          "model_name": "FloatProgressModel",
          "model_module_version": "1.5.0",
          "state": {
            "_view_name": "ProgressView",
            "style": "IPY_MODEL_440d37e36c0644a78af7b8c2aedf72f3",
            "_dom_classes": [],
            "description": "Downloading: 100%",
            "_model_name": "FloatProgressModel",
            "bar_style": "success",
            "max": 757,
            "_view_module": "@jupyter-widgets/controls",
            "_model_module_version": "1.5.0",
            "value": 757,
            "_view_count": null,
            "_view_module_version": "1.5.0",
            "orientation": "horizontal",
            "min": 0,
            "description_tooltip": null,
            "_model_module": "@jupyter-widgets/controls",
            "layout": "IPY_MODEL_c2b786d6524a47128e5dda6e6f41cf22"
          }
        },
        "2d9e32049c5746449bfa18efaa6e272d": {
          "model_module": "@jupyter-widgets/controls",
          "model_name": "HTMLModel",
          "model_module_version": "1.5.0",
          "state": {
            "_view_name": "HTMLView",
            "style": "IPY_MODEL_b44c86fbf7c4438d9c0caf82c0b01fc7",
            "_dom_classes": [],
            "description": "",
            "_model_name": "HTMLModel",
            "placeholder": "​",
            "_view_module": "@jupyter-widgets/controls",
            "_model_module_version": "1.5.0",
            "value": " 757/757 [00:00&lt;00:00, 2.24kB/s]",
            "_view_count": null,
            "_view_module_version": "1.5.0",
            "description_tooltip": null,
            "_model_module": "@jupyter-widgets/controls",
            "layout": "IPY_MODEL_39fa5b3aded2455596cd3255c4134764"
          }
        },
        "440d37e36c0644a78af7b8c2aedf72f3": {
          "model_module": "@jupyter-widgets/controls",
          "model_name": "ProgressStyleModel",
          "model_module_version": "1.5.0",
          "state": {
            "_view_name": "StyleView",
            "_model_name": "ProgressStyleModel",
            "description_width": "initial",
            "_view_module": "@jupyter-widgets/base",
            "_model_module_version": "1.5.0",
            "_view_count": null,
            "_view_module_version": "1.2.0",
            "bar_color": null,
            "_model_module": "@jupyter-widgets/controls"
          }
        },
        "c2b786d6524a47128e5dda6e6f41cf22": {
          "model_module": "@jupyter-widgets/base",
          "model_name": "LayoutModel",
          "model_module_version": "1.2.0",
          "state": {
            "_view_name": "LayoutView",
            "grid_template_rows": null,
            "right": null,
            "justify_content": null,
            "_view_module": "@jupyter-widgets/base",
            "overflow": null,
            "_model_module_version": "1.2.0",
            "_view_count": null,
            "flex_flow": null,
            "width": null,
            "min_width": null,
            "border": null,
            "align_items": null,
            "bottom": null,
            "_model_module": "@jupyter-widgets/base",
            "top": null,
            "grid_column": null,
            "overflow_y": null,
            "overflow_x": null,
            "grid_auto_flow": null,
            "grid_area": null,
            "grid_template_columns": null,
            "flex": null,
            "_model_name": "LayoutModel",
            "justify_items": null,
            "grid_row": null,
            "max_height": null,
            "align_content": null,
            "visibility": null,
            "align_self": null,
            "height": null,
            "min_height": null,
            "padding": null,
            "grid_auto_rows": null,
            "grid_gap": null,
            "max_width": null,
            "order": null,
            "_view_module_version": "1.2.0",
            "grid_template_areas": null,
            "object_position": null,
            "object_fit": null,
            "grid_auto_columns": null,
            "margin": null,
            "display": null,
            "left": null
          }
        },
        "b44c86fbf7c4438d9c0caf82c0b01fc7": {
          "model_module": "@jupyter-widgets/controls",
          "model_name": "DescriptionStyleModel",
          "model_module_version": "1.5.0",
          "state": {
            "_view_name": "StyleView",
            "_model_name": "DescriptionStyleModel",
            "description_width": "",
            "_view_module": "@jupyter-widgets/base",
            "_model_module_version": "1.5.0",
            "_view_count": null,
            "_view_module_version": "1.2.0",
            "_model_module": "@jupyter-widgets/controls"
          }
        },
        "39fa5b3aded2455596cd3255c4134764": {
          "model_module": "@jupyter-widgets/base",
          "model_name": "LayoutModel",
          "model_module_version": "1.2.0",
          "state": {
            "_view_name": "LayoutView",
            "grid_template_rows": null,
            "right": null,
            "justify_content": null,
            "_view_module": "@jupyter-widgets/base",
            "overflow": null,
            "_model_module_version": "1.2.0",
            "_view_count": null,
            "flex_flow": null,
            "width": null,
            "min_width": null,
            "border": null,
            "align_items": null,
            "bottom": null,
            "_model_module": "@jupyter-widgets/base",
            "top": null,
            "grid_column": null,
            "overflow_y": null,
            "overflow_x": null,
            "grid_auto_flow": null,
            "grid_area": null,
            "grid_template_columns": null,
            "flex": null,
            "_model_name": "LayoutModel",
            "justify_items": null,
            "grid_row": null,
            "max_height": null,
            "align_content": null,
            "visibility": null,
            "align_self": null,
            "height": null,
            "min_height": null,
            "padding": null,
            "grid_auto_rows": null,
            "grid_gap": null,
            "max_width": null,
            "order": null,
            "_view_module_version": "1.2.0",
            "grid_template_areas": null,
            "object_position": null,
            "object_fit": null,
            "grid_auto_columns": null,
            "margin": null,
            "display": null,
            "left": null
          }
        },
        "b62857d31ae44d49afacd13d17707e80": {
          "model_module": "@jupyter-widgets/controls",
          "model_name": "HBoxModel",
          "model_module_version": "1.5.0",
          "state": {
            "_view_name": "HBoxView",
            "_dom_classes": [],
            "_model_name": "HBoxModel",
            "_view_module": "@jupyter-widgets/controls",
            "_model_module_version": "1.5.0",
            "_view_count": null,
            "_view_module_version": "1.5.0",
            "box_style": "",
            "layout": "IPY_MODEL_17bf746cd5ac401981c0185b8037da18",
            "_model_module": "@jupyter-widgets/controls",
            "children": [
              "IPY_MODEL_732fc1462e894c23bb13ef7fd4895a9a",
              "IPY_MODEL_8541b357afbe43b897b5be7043f58e7c"
            ]
          }
        },
        "17bf746cd5ac401981c0185b8037da18": {
          "model_module": "@jupyter-widgets/base",
          "model_name": "LayoutModel",
          "model_module_version": "1.2.0",
          "state": {
            "_view_name": "LayoutView",
            "grid_template_rows": null,
            "right": null,
            "justify_content": null,
            "_view_module": "@jupyter-widgets/base",
            "overflow": null,
            "_model_module_version": "1.2.0",
            "_view_count": null,
            "flex_flow": null,
            "width": null,
            "min_width": null,
            "border": null,
            "align_items": null,
            "bottom": null,
            "_model_module": "@jupyter-widgets/base",
            "top": null,
            "grid_column": null,
            "overflow_y": null,
            "overflow_x": null,
            "grid_auto_flow": null,
            "grid_area": null,
            "grid_template_columns": null,
            "flex": null,
            "_model_name": "LayoutModel",
            "justify_items": null,
            "grid_row": null,
            "max_height": null,
            "align_content": null,
            "visibility": null,
            "align_self": null,
            "height": null,
            "min_height": null,
            "padding": null,
            "grid_auto_rows": null,
            "grid_gap": null,
            "max_width": null,
            "order": null,
            "_view_module_version": "1.2.0",
            "grid_template_areas": null,
            "object_position": null,
            "object_fit": null,
            "grid_auto_columns": null,
            "margin": null,
            "display": null,
            "left": null
          }
        },
        "732fc1462e894c23bb13ef7fd4895a9a": {
          "model_module": "@jupyter-widgets/controls",
          "model_name": "FloatProgressModel",
          "model_module_version": "1.5.0",
          "state": {
            "_view_name": "ProgressView",
            "style": "IPY_MODEL_c2c89adca56943169c0c85229c19298b",
            "_dom_classes": [],
            "description": "Downloading: 100%",
            "_model_name": "FloatProgressModel",
            "bar_style": "success",
            "max": 798293,
            "_view_module": "@jupyter-widgets/controls",
            "_model_module_version": "1.5.0",
            "value": 798293,
            "_view_count": null,
            "_view_module_version": "1.5.0",
            "orientation": "horizontal",
            "min": 0,
            "description_tooltip": null,
            "_model_module": "@jupyter-widgets/controls",
            "layout": "IPY_MODEL_f194e6cfebc541e085ade9d1b88d02c3"
          }
        },
        "8541b357afbe43b897b5be7043f58e7c": {
          "model_module": "@jupyter-widgets/controls",
          "model_name": "HTMLModel",
          "model_module_version": "1.5.0",
          "state": {
            "_view_name": "HTMLView",
            "style": "IPY_MODEL_f7493219f8824ce1ba2bda0ff0d621ca",
            "_dom_classes": [],
            "description": "",
            "_model_name": "HTMLModel",
            "placeholder": "​",
            "_view_module": "@jupyter-widgets/controls",
            "_model_module_version": "1.5.0",
            "value": " 798k/798k [00:02&lt;00:00, 336kB/s]",
            "_view_count": null,
            "_view_module_version": "1.5.0",
            "description_tooltip": null,
            "_model_module": "@jupyter-widgets/controls",
            "layout": "IPY_MODEL_2d72e6b474314d469f9df095f9345a25"
          }
        },
        "c2c89adca56943169c0c85229c19298b": {
          "model_module": "@jupyter-widgets/controls",
          "model_name": "ProgressStyleModel",
          "model_module_version": "1.5.0",
          "state": {
            "_view_name": "StyleView",
            "_model_name": "ProgressStyleModel",
            "description_width": "initial",
            "_view_module": "@jupyter-widgets/base",
            "_model_module_version": "1.5.0",
            "_view_count": null,
            "_view_module_version": "1.2.0",
            "bar_color": null,
            "_model_module": "@jupyter-widgets/controls"
          }
        },
        "f194e6cfebc541e085ade9d1b88d02c3": {
          "model_module": "@jupyter-widgets/base",
          "model_name": "LayoutModel",
          "model_module_version": "1.2.0",
          "state": {
            "_view_name": "LayoutView",
            "grid_template_rows": null,
            "right": null,
            "justify_content": null,
            "_view_module": "@jupyter-widgets/base",
            "overflow": null,
            "_model_module_version": "1.2.0",
            "_view_count": null,
            "flex_flow": null,
            "width": null,
            "min_width": null,
            "border": null,
            "align_items": null,
            "bottom": null,
            "_model_module": "@jupyter-widgets/base",
            "top": null,
            "grid_column": null,
            "overflow_y": null,
            "overflow_x": null,
            "grid_auto_flow": null,
            "grid_area": null,
            "grid_template_columns": null,
            "flex": null,
            "_model_name": "LayoutModel",
            "justify_items": null,
            "grid_row": null,
            "max_height": null,
            "align_content": null,
            "visibility": null,
            "align_self": null,
            "height": null,
            "min_height": null,
            "padding": null,
            "grid_auto_rows": null,
            "grid_gap": null,
            "max_width": null,
            "order": null,
            "_view_module_version": "1.2.0",
            "grid_template_areas": null,
            "object_position": null,
            "object_fit": null,
            "grid_auto_columns": null,
            "margin": null,
            "display": null,
            "left": null
          }
        },
        "f7493219f8824ce1ba2bda0ff0d621ca": {
          "model_module": "@jupyter-widgets/controls",
          "model_name": "DescriptionStyleModel",
          "model_module_version": "1.5.0",
          "state": {
            "_view_name": "StyleView",
            "_model_name": "DescriptionStyleModel",
            "description_width": "",
            "_view_module": "@jupyter-widgets/base",
            "_model_module_version": "1.5.0",
            "_view_count": null,
            "_view_module_version": "1.2.0",
            "_model_module": "@jupyter-widgets/controls"
          }
        },
        "2d72e6b474314d469f9df095f9345a25": {
          "model_module": "@jupyter-widgets/base",
          "model_name": "LayoutModel",
          "model_module_version": "1.2.0",
          "state": {
            "_view_name": "LayoutView",
            "grid_template_rows": null,
            "right": null,
            "justify_content": null,
            "_view_module": "@jupyter-widgets/base",
            "overflow": null,
            "_model_module_version": "1.2.0",
            "_view_count": null,
            "flex_flow": null,
            "width": null,
            "min_width": null,
            "border": null,
            "align_items": null,
            "bottom": null,
            "_model_module": "@jupyter-widgets/base",
            "top": null,
            "grid_column": null,
            "overflow_y": null,
            "overflow_x": null,
            "grid_auto_flow": null,
            "grid_area": null,
            "grid_template_columns": null,
            "flex": null,
            "_model_name": "LayoutModel",
            "justify_items": null,
            "grid_row": null,
            "max_height": null,
            "align_content": null,
            "visibility": null,
            "align_self": null,
            "height": null,
            "min_height": null,
            "padding": null,
            "grid_auto_rows": null,
            "grid_gap": null,
            "max_width": null,
            "order": null,
            "_view_module_version": "1.2.0",
            "grid_template_areas": null,
            "object_position": null,
            "object_fit": null,
            "grid_auto_columns": null,
            "margin": null,
            "display": null,
            "left": null
          }
        },
        "2046a71dc18f4b00bc308fa9967f0151": {
          "model_module": "@jupyter-widgets/controls",
          "model_name": "HBoxModel",
          "model_module_version": "1.5.0",
          "state": {
            "_view_name": "HBoxView",
            "_dom_classes": [],
            "_model_name": "HBoxModel",
            "_view_module": "@jupyter-widgets/controls",
            "_model_module_version": "1.5.0",
            "_view_count": null,
            "_view_module_version": "1.5.0",
            "box_style": "",
            "layout": "IPY_MODEL_fa5b9d0250ae40e6b27c0c8b3769332d",
            "_model_module": "@jupyter-widgets/controls",
            "children": [
              "IPY_MODEL_48084a59a3e1477f92e3891095085249",
              "IPY_MODEL_adac0dfbcb864d7db9be98288e08b8e5"
            ]
          }
        },
        "fa5b9d0250ae40e6b27c0c8b3769332d": {
          "model_module": "@jupyter-widgets/base",
          "model_name": "LayoutModel",
          "model_module_version": "1.2.0",
          "state": {
            "_view_name": "LayoutView",
            "grid_template_rows": null,
            "right": null,
            "justify_content": null,
            "_view_module": "@jupyter-widgets/base",
            "overflow": null,
            "_model_module_version": "1.2.0",
            "_view_count": null,
            "flex_flow": null,
            "width": null,
            "min_width": null,
            "border": null,
            "align_items": null,
            "bottom": null,
            "_model_module": "@jupyter-widgets/base",
            "top": null,
            "grid_column": null,
            "overflow_y": null,
            "overflow_x": null,
            "grid_auto_flow": null,
            "grid_area": null,
            "grid_template_columns": null,
            "flex": null,
            "_model_name": "LayoutModel",
            "justify_items": null,
            "grid_row": null,
            "max_height": null,
            "align_content": null,
            "visibility": null,
            "align_self": null,
            "height": null,
            "min_height": null,
            "padding": null,
            "grid_auto_rows": null,
            "grid_gap": null,
            "max_width": null,
            "order": null,
            "_view_module_version": "1.2.0",
            "grid_template_areas": null,
            "object_position": null,
            "object_fit": null,
            "grid_auto_columns": null,
            "margin": null,
            "display": null,
            "left": null
          }
        },
        "48084a59a3e1477f92e3891095085249": {
          "model_module": "@jupyter-widgets/controls",
          "model_name": "FloatProgressModel",
          "model_module_version": "1.5.0",
          "state": {
            "_view_name": "ProgressView",
            "style": "IPY_MODEL_dd1e52790207467e89e5e4ee97f21826",
            "_dom_classes": [],
            "description": "Downloading: 100%",
            "_model_name": "FloatProgressModel",
            "bar_style": "success",
            "max": 456356,
            "_view_module": "@jupyter-widgets/controls",
            "_model_module_version": "1.5.0",
            "value": 456356,
            "_view_count": null,
            "_view_module_version": "1.5.0",
            "orientation": "horizontal",
            "min": 0,
            "description_tooltip": null,
            "_model_module": "@jupyter-widgets/controls",
            "layout": "IPY_MODEL_3b047bd768c042ff9e2b4e157021e887"
          }
        },
        "adac0dfbcb864d7db9be98288e08b8e5": {
          "model_module": "@jupyter-widgets/controls",
          "model_name": "HTMLModel",
          "model_module_version": "1.5.0",
          "state": {
            "_view_name": "HTMLView",
            "style": "IPY_MODEL_0330f8fde3004108aeae18eb4888e591",
            "_dom_classes": [],
            "description": "",
            "_model_name": "HTMLModel",
            "placeholder": "​",
            "_view_module": "@jupyter-widgets/controls",
            "_model_module_version": "1.5.0",
            "value": " 456k/456k [00:01&lt;00:00, 285kB/s]",
            "_view_count": null,
            "_view_module_version": "1.5.0",
            "description_tooltip": null,
            "_model_module": "@jupyter-widgets/controls",
            "layout": "IPY_MODEL_43497756c06345d3969e2711ded8c4cb"
          }
        },
        "dd1e52790207467e89e5e4ee97f21826": {
          "model_module": "@jupyter-widgets/controls",
          "model_name": "ProgressStyleModel",
          "model_module_version": "1.5.0",
          "state": {
            "_view_name": "StyleView",
            "_model_name": "ProgressStyleModel",
            "description_width": "initial",
            "_view_module": "@jupyter-widgets/base",
            "_model_module_version": "1.5.0",
            "_view_count": null,
            "_view_module_version": "1.2.0",
            "bar_color": null,
            "_model_module": "@jupyter-widgets/controls"
          }
        },
        "3b047bd768c042ff9e2b4e157021e887": {
          "model_module": "@jupyter-widgets/base",
          "model_name": "LayoutModel",
          "model_module_version": "1.2.0",
          "state": {
            "_view_name": "LayoutView",
            "grid_template_rows": null,
            "right": null,
            "justify_content": null,
            "_view_module": "@jupyter-widgets/base",
            "overflow": null,
            "_model_module_version": "1.2.0",
            "_view_count": null,
            "flex_flow": null,
            "width": null,
            "min_width": null,
            "border": null,
            "align_items": null,
            "bottom": null,
            "_model_module": "@jupyter-widgets/base",
            "top": null,
            "grid_column": null,
            "overflow_y": null,
            "overflow_x": null,
            "grid_auto_flow": null,
            "grid_area": null,
            "grid_template_columns": null,
            "flex": null,
            "_model_name": "LayoutModel",
            "justify_items": null,
            "grid_row": null,
            "max_height": null,
            "align_content": null,
            "visibility": null,
            "align_self": null,
            "height": null,
            "min_height": null,
            "padding": null,
            "grid_auto_rows": null,
            "grid_gap": null,
            "max_width": null,
            "order": null,
            "_view_module_version": "1.2.0",
            "grid_template_areas": null,
            "object_position": null,
            "object_fit": null,
            "grid_auto_columns": null,
            "margin": null,
            "display": null,
            "left": null
          }
        },
        "0330f8fde3004108aeae18eb4888e591": {
          "model_module": "@jupyter-widgets/controls",
          "model_name": "DescriptionStyleModel",
          "model_module_version": "1.5.0",
          "state": {
            "_view_name": "StyleView",
            "_model_name": "DescriptionStyleModel",
            "description_width": "",
            "_view_module": "@jupyter-widgets/base",
            "_model_module_version": "1.5.0",
            "_view_count": null,
            "_view_module_version": "1.2.0",
            "_model_module": "@jupyter-widgets/controls"
          }
        },
        "43497756c06345d3969e2711ded8c4cb": {
          "model_module": "@jupyter-widgets/base",
          "model_name": "LayoutModel",
          "model_module_version": "1.2.0",
          "state": {
            "_view_name": "LayoutView",
            "grid_template_rows": null,
            "right": null,
            "justify_content": null,
            "_view_module": "@jupyter-widgets/base",
            "overflow": null,
            "_model_module_version": "1.2.0",
            "_view_count": null,
            "flex_flow": null,
            "width": null,
            "min_width": null,
            "border": null,
            "align_items": null,
            "bottom": null,
            "_model_module": "@jupyter-widgets/base",
            "top": null,
            "grid_column": null,
            "overflow_y": null,
            "overflow_x": null,
            "grid_auto_flow": null,
            "grid_area": null,
            "grid_template_columns": null,
            "flex": null,
            "_model_name": "LayoutModel",
            "justify_items": null,
            "grid_row": null,
            "max_height": null,
            "align_content": null,
            "visibility": null,
            "align_self": null,
            "height": null,
            "min_height": null,
            "padding": null,
            "grid_auto_rows": null,
            "grid_gap": null,
            "max_width": null,
            "order": null,
            "_view_module_version": "1.2.0",
            "grid_template_areas": null,
            "object_position": null,
            "object_fit": null,
            "grid_auto_columns": null,
            "margin": null,
            "display": null,
            "left": null
          }
        },
        "9b75772d246d40dd9cb5a87287f18d01": {
          "model_module": "@jupyter-widgets/controls",
          "model_name": "HBoxModel",
          "model_module_version": "1.5.0",
          "state": {
            "_view_name": "HBoxView",
            "_dom_classes": [],
            "_model_name": "HBoxModel",
            "_view_module": "@jupyter-widgets/controls",
            "_model_module_version": "1.5.0",
            "_view_count": null,
            "_view_module_version": "1.5.0",
            "box_style": "",
            "layout": "IPY_MODEL_2633f1ba95b74e848d45b5890210751d",
            "_model_module": "@jupyter-widgets/controls",
            "children": [
              "IPY_MODEL_ec85243739d14d08ad847afb6db47672",
              "IPY_MODEL_5e2c65f97b34451c9f03b71fcdba0ab7"
            ]
          }
        },
        "2633f1ba95b74e848d45b5890210751d": {
          "model_module": "@jupyter-widgets/base",
          "model_name": "LayoutModel",
          "model_module_version": "1.2.0",
          "state": {
            "_view_name": "LayoutView",
            "grid_template_rows": null,
            "right": null,
            "justify_content": null,
            "_view_module": "@jupyter-widgets/base",
            "overflow": null,
            "_model_module_version": "1.2.0",
            "_view_count": null,
            "flex_flow": null,
            "width": null,
            "min_width": null,
            "border": null,
            "align_items": null,
            "bottom": null,
            "_model_module": "@jupyter-widgets/base",
            "top": null,
            "grid_column": null,
            "overflow_y": null,
            "overflow_x": null,
            "grid_auto_flow": null,
            "grid_area": null,
            "grid_template_columns": null,
            "flex": null,
            "_model_name": "LayoutModel",
            "justify_items": null,
            "grid_row": null,
            "max_height": null,
            "align_content": null,
            "visibility": null,
            "align_self": null,
            "height": null,
            "min_height": null,
            "padding": null,
            "grid_auto_rows": null,
            "grid_gap": null,
            "max_width": null,
            "order": null,
            "_view_module_version": "1.2.0",
            "grid_template_areas": null,
            "object_position": null,
            "object_fit": null,
            "grid_auto_columns": null,
            "margin": null,
            "display": null,
            "left": null
          }
        },
        "ec85243739d14d08ad847afb6db47672": {
          "model_module": "@jupyter-widgets/controls",
          "model_name": "FloatProgressModel",
          "model_module_version": "1.5.0",
          "state": {
            "_view_name": "ProgressView",
            "style": "IPY_MODEL_7c7008eeb27e4ad7bbb94c3701d0e31f",
            "_dom_classes": [],
            "description": "Downloading: 100%",
            "_model_name": "FloatProgressModel",
            "bar_style": "success",
            "max": 150,
            "_view_module": "@jupyter-widgets/controls",
            "_model_module_version": "1.5.0",
            "value": 150,
            "_view_count": null,
            "_view_module_version": "1.5.0",
            "orientation": "horizontal",
            "min": 0,
            "description_tooltip": null,
            "_model_module": "@jupyter-widgets/controls",
            "layout": "IPY_MODEL_0f40b8ab18004dc5acacedfb7828d72a"
          }
        },
        "5e2c65f97b34451c9f03b71fcdba0ab7": {
          "model_module": "@jupyter-widgets/controls",
          "model_name": "HTMLModel",
          "model_module_version": "1.5.0",
          "state": {
            "_view_name": "HTMLView",
            "style": "IPY_MODEL_5f689be7b701459fb14d2853ae5a972c",
            "_dom_classes": [],
            "description": "",
            "_model_name": "HTMLModel",
            "placeholder": "​",
            "_view_module": "@jupyter-widgets/controls",
            "_model_module_version": "1.5.0",
            "value": " 150/150 [00:00&lt;00:00, 451B/s]",
            "_view_count": null,
            "_view_module_version": "1.5.0",
            "description_tooltip": null,
            "_model_module": "@jupyter-widgets/controls",
            "layout": "IPY_MODEL_5a92cbbd2d8e40af9a0a468caf3ba021"
          }
        },
        "7c7008eeb27e4ad7bbb94c3701d0e31f": {
          "model_module": "@jupyter-widgets/controls",
          "model_name": "ProgressStyleModel",
          "model_module_version": "1.5.0",
          "state": {
            "_view_name": "StyleView",
            "_model_name": "ProgressStyleModel",
            "description_width": "initial",
            "_view_module": "@jupyter-widgets/base",
            "_model_module_version": "1.5.0",
            "_view_count": null,
            "_view_module_version": "1.2.0",
            "bar_color": null,
            "_model_module": "@jupyter-widgets/controls"
          }
        },
        "0f40b8ab18004dc5acacedfb7828d72a": {
          "model_module": "@jupyter-widgets/base",
          "model_name": "LayoutModel",
          "model_module_version": "1.2.0",
          "state": {
            "_view_name": "LayoutView",
            "grid_template_rows": null,
            "right": null,
            "justify_content": null,
            "_view_module": "@jupyter-widgets/base",
            "overflow": null,
            "_model_module_version": "1.2.0",
            "_view_count": null,
            "flex_flow": null,
            "width": null,
            "min_width": null,
            "border": null,
            "align_items": null,
            "bottom": null,
            "_model_module": "@jupyter-widgets/base",
            "top": null,
            "grid_column": null,
            "overflow_y": null,
            "overflow_x": null,
            "grid_auto_flow": null,
            "grid_area": null,
            "grid_template_columns": null,
            "flex": null,
            "_model_name": "LayoutModel",
            "justify_items": null,
            "grid_row": null,
            "max_height": null,
            "align_content": null,
            "visibility": null,
            "align_self": null,
            "height": null,
            "min_height": null,
            "padding": null,
            "grid_auto_rows": null,
            "grid_gap": null,
            "max_width": null,
            "order": null,
            "_view_module_version": "1.2.0",
            "grid_template_areas": null,
            "object_position": null,
            "object_fit": null,
            "grid_auto_columns": null,
            "margin": null,
            "display": null,
            "left": null
          }
        },
        "5f689be7b701459fb14d2853ae5a972c": {
          "model_module": "@jupyter-widgets/controls",
          "model_name": "DescriptionStyleModel",
          "model_module_version": "1.5.0",
          "state": {
            "_view_name": "StyleView",
            "_model_name": "DescriptionStyleModel",
            "description_width": "",
            "_view_module": "@jupyter-widgets/base",
            "_model_module_version": "1.5.0",
            "_view_count": null,
            "_view_module_version": "1.2.0",
            "_model_module": "@jupyter-widgets/controls"
          }
        },
        "5a92cbbd2d8e40af9a0a468caf3ba021": {
          "model_module": "@jupyter-widgets/base",
          "model_name": "LayoutModel",
          "model_module_version": "1.2.0",
          "state": {
            "_view_name": "LayoutView",
            "grid_template_rows": null,
            "right": null,
            "justify_content": null,
            "_view_module": "@jupyter-widgets/base",
            "overflow": null,
            "_model_module_version": "1.2.0",
            "_view_count": null,
            "flex_flow": null,
            "width": null,
            "min_width": null,
            "border": null,
            "align_items": null,
            "bottom": null,
            "_model_module": "@jupyter-widgets/base",
            "top": null,
            "grid_column": null,
            "overflow_y": null,
            "overflow_x": null,
            "grid_auto_flow": null,
            "grid_area": null,
            "grid_template_columns": null,
            "flex": null,
            "_model_name": "LayoutModel",
            "justify_items": null,
            "grid_row": null,
            "max_height": null,
            "align_content": null,
            "visibility": null,
            "align_self": null,
            "height": null,
            "min_height": null,
            "padding": null,
            "grid_auto_rows": null,
            "grid_gap": null,
            "max_width": null,
            "order": null,
            "_view_module_version": "1.2.0",
            "grid_template_areas": null,
            "object_position": null,
            "object_fit": null,
            "grid_auto_columns": null,
            "margin": null,
            "display": null,
            "left": null
          }
        },
        "38e7ba9d43ec46ff9784eaa540ec0d23": {
          "model_module": "@jupyter-widgets/controls",
          "model_name": "HBoxModel",
          "model_module_version": "1.5.0",
          "state": {
            "_view_name": "HBoxView",
            "_dom_classes": [],
            "_model_name": "HBoxModel",
            "_view_module": "@jupyter-widgets/controls",
            "_model_module_version": "1.5.0",
            "_view_count": null,
            "_view_module_version": "1.5.0",
            "box_style": "",
            "layout": "IPY_MODEL_734c2939943941859c1d4fe6f4da0ad2",
            "_model_module": "@jupyter-widgets/controls",
            "children": [
              "IPY_MODEL_902b6a66ead648c59b82e5554ca651c0",
              "IPY_MODEL_79da07bfde1141de884b50691b819fd0"
            ]
          }
        },
        "734c2939943941859c1d4fe6f4da0ad2": {
          "model_module": "@jupyter-widgets/base",
          "model_name": "LayoutModel",
          "model_module_version": "1.2.0",
          "state": {
            "_view_name": "LayoutView",
            "grid_template_rows": null,
            "right": null,
            "justify_content": null,
            "_view_module": "@jupyter-widgets/base",
            "overflow": null,
            "_model_module_version": "1.2.0",
            "_view_count": null,
            "flex_flow": null,
            "width": null,
            "min_width": null,
            "border": null,
            "align_items": null,
            "bottom": null,
            "_model_module": "@jupyter-widgets/base",
            "top": null,
            "grid_column": null,
            "overflow_y": null,
            "overflow_x": null,
            "grid_auto_flow": null,
            "grid_area": null,
            "grid_template_columns": null,
            "flex": null,
            "_model_name": "LayoutModel",
            "justify_items": null,
            "grid_row": null,
            "max_height": null,
            "align_content": null,
            "visibility": null,
            "align_self": null,
            "height": null,
            "min_height": null,
            "padding": null,
            "grid_auto_rows": null,
            "grid_gap": null,
            "max_width": null,
            "order": null,
            "_view_module_version": "1.2.0",
            "grid_template_areas": null,
            "object_position": null,
            "object_fit": null,
            "grid_auto_columns": null,
            "margin": null,
            "display": null,
            "left": null
          }
        },
        "902b6a66ead648c59b82e5554ca651c0": {
          "model_module": "@jupyter-widgets/controls",
          "model_name": "FloatProgressModel",
          "model_module_version": "1.5.0",
          "state": {
            "_view_name": "ProgressView",
            "style": "IPY_MODEL_80dcf7afbb65475fae2d2f56f3197612",
            "_dom_classes": [],
            "description": "Downloading: 100%",
            "_model_name": "FloatProgressModel",
            "bar_style": "success",
            "max": 26,
            "_view_module": "@jupyter-widgets/controls",
            "_model_module_version": "1.5.0",
            "value": 26,
            "_view_count": null,
            "_view_module_version": "1.5.0",
            "orientation": "horizontal",
            "min": 0,
            "description_tooltip": null,
            "_model_module": "@jupyter-widgets/controls",
            "layout": "IPY_MODEL_f5e1e4bed1ef427a8d910190f02979a1"
          }
        },
        "79da07bfde1141de884b50691b819fd0": {
          "model_module": "@jupyter-widgets/controls",
          "model_name": "HTMLModel",
          "model_module_version": "1.5.0",
          "state": {
            "_view_name": "HTMLView",
            "style": "IPY_MODEL_034a36034833484aa687ed60269f16e4",
            "_dom_classes": [],
            "description": "",
            "_model_name": "HTMLModel",
            "placeholder": "​",
            "_view_module": "@jupyter-widgets/controls",
            "_model_module_version": "1.5.0",
            "value": " 26.0/26.0 [00:00&lt;00:00, 234B/s]",
            "_view_count": null,
            "_view_module_version": "1.5.0",
            "description_tooltip": null,
            "_model_module": "@jupyter-widgets/controls",
            "layout": "IPY_MODEL_1ca0fb3ac4054f1f999c205a98be99fa"
          }
        },
        "80dcf7afbb65475fae2d2f56f3197612": {
          "model_module": "@jupyter-widgets/controls",
          "model_name": "ProgressStyleModel",
          "model_module_version": "1.5.0",
          "state": {
            "_view_name": "StyleView",
            "_model_name": "ProgressStyleModel",
            "description_width": "initial",
            "_view_module": "@jupyter-widgets/base",
            "_model_module_version": "1.5.0",
            "_view_count": null,
            "_view_module_version": "1.2.0",
            "bar_color": null,
            "_model_module": "@jupyter-widgets/controls"
          }
        },
        "f5e1e4bed1ef427a8d910190f02979a1": {
          "model_module": "@jupyter-widgets/base",
          "model_name": "LayoutModel",
          "model_module_version": "1.2.0",
          "state": {
            "_view_name": "LayoutView",
            "grid_template_rows": null,
            "right": null,
            "justify_content": null,
            "_view_module": "@jupyter-widgets/base",
            "overflow": null,
            "_model_module_version": "1.2.0",
            "_view_count": null,
            "flex_flow": null,
            "width": null,
            "min_width": null,
            "border": null,
            "align_items": null,
            "bottom": null,
            "_model_module": "@jupyter-widgets/base",
            "top": null,
            "grid_column": null,
            "overflow_y": null,
            "overflow_x": null,
            "grid_auto_flow": null,
            "grid_area": null,
            "grid_template_columns": null,
            "flex": null,
            "_model_name": "LayoutModel",
            "justify_items": null,
            "grid_row": null,
            "max_height": null,
            "align_content": null,
            "visibility": null,
            "align_self": null,
            "height": null,
            "min_height": null,
            "padding": null,
            "grid_auto_rows": null,
            "grid_gap": null,
            "max_width": null,
            "order": null,
            "_view_module_version": "1.2.0",
            "grid_template_areas": null,
            "object_position": null,
            "object_fit": null,
            "grid_auto_columns": null,
            "margin": null,
            "display": null,
            "left": null
          }
        },
        "034a36034833484aa687ed60269f16e4": {
          "model_module": "@jupyter-widgets/controls",
          "model_name": "DescriptionStyleModel",
          "model_module_version": "1.5.0",
          "state": {
            "_view_name": "StyleView",
            "_model_name": "DescriptionStyleModel",
            "description_width": "",
            "_view_module": "@jupyter-widgets/base",
            "_model_module_version": "1.5.0",
            "_view_count": null,
            "_view_module_version": "1.2.0",
            "_model_module": "@jupyter-widgets/controls"
          }
        },
        "1ca0fb3ac4054f1f999c205a98be99fa": {
          "model_module": "@jupyter-widgets/base",
          "model_name": "LayoutModel",
          "model_module_version": "1.2.0",
          "state": {
            "_view_name": "LayoutView",
            "grid_template_rows": null,
            "right": null,
            "justify_content": null,
            "_view_module": "@jupyter-widgets/base",
            "overflow": null,
            "_model_module_version": "1.2.0",
            "_view_count": null,
            "flex_flow": null,
            "width": null,
            "min_width": null,
            "border": null,
            "align_items": null,
            "bottom": null,
            "_model_module": "@jupyter-widgets/base",
            "top": null,
            "grid_column": null,
            "overflow_y": null,
            "overflow_x": null,
            "grid_auto_flow": null,
            "grid_area": null,
            "grid_template_columns": null,
            "flex": null,
            "_model_name": "LayoutModel",
            "justify_items": null,
            "grid_row": null,
            "max_height": null,
            "align_content": null,
            "visibility": null,
            "align_self": null,
            "height": null,
            "min_height": null,
            "padding": null,
            "grid_auto_rows": null,
            "grid_gap": null,
            "max_width": null,
            "order": null,
            "_view_module_version": "1.2.0",
            "grid_template_areas": null,
            "object_position": null,
            "object_fit": null,
            "grid_auto_columns": null,
            "margin": null,
            "display": null,
            "left": null
          }
        },
        "b4a47318661d4494a008904b84be1a24": {
          "model_module": "@jupyter-widgets/controls",
          "model_name": "HBoxModel",
          "model_module_version": "1.5.0",
          "state": {
            "_view_name": "HBoxView",
            "_dom_classes": [],
            "_model_name": "HBoxModel",
            "_view_module": "@jupyter-widgets/controls",
            "_model_module_version": "1.5.0",
            "_view_count": null,
            "_view_module_version": "1.5.0",
            "box_style": "",
            "layout": "IPY_MODEL_e39b3af7eeae4ac291dc500f28491ba3",
            "_model_module": "@jupyter-widgets/controls",
            "children": [
              "IPY_MODEL_afeb80608d394fcd896947fd9da5cad1",
              "IPY_MODEL_6c6d05a2ac154fde86a3946e6775d421"
            ]
          }
        },
        "e39b3af7eeae4ac291dc500f28491ba3": {
          "model_module": "@jupyter-widgets/base",
          "model_name": "LayoutModel",
          "model_module_version": "1.2.0",
          "state": {
            "_view_name": "LayoutView",
            "grid_template_rows": null,
            "right": null,
            "justify_content": null,
            "_view_module": "@jupyter-widgets/base",
            "overflow": null,
            "_model_module_version": "1.2.0",
            "_view_count": null,
            "flex_flow": null,
            "width": null,
            "min_width": null,
            "border": null,
            "align_items": null,
            "bottom": null,
            "_model_module": "@jupyter-widgets/base",
            "top": null,
            "grid_column": null,
            "overflow_y": null,
            "overflow_x": null,
            "grid_auto_flow": null,
            "grid_area": null,
            "grid_template_columns": null,
            "flex": null,
            "_model_name": "LayoutModel",
            "justify_items": null,
            "grid_row": null,
            "max_height": null,
            "align_content": null,
            "visibility": null,
            "align_self": null,
            "height": null,
            "min_height": null,
            "padding": null,
            "grid_auto_rows": null,
            "grid_gap": null,
            "max_width": null,
            "order": null,
            "_view_module_version": "1.2.0",
            "grid_template_areas": null,
            "object_position": null,
            "object_fit": null,
            "grid_auto_columns": null,
            "margin": null,
            "display": null,
            "left": null
          }
        },
        "afeb80608d394fcd896947fd9da5cad1": {
          "model_module": "@jupyter-widgets/controls",
          "model_name": "FloatProgressModel",
          "model_module_version": "1.5.0",
          "state": {
            "_view_name": "ProgressView",
            "style": "IPY_MODEL_3147728daf9a48b9b84d51ce6816be0e",
            "_dom_classes": [],
            "description": "Downloading: 100%",
            "_model_name": "FloatProgressModel",
            "bar_style": "success",
            "max": 594710526,
            "_view_module": "@jupyter-widgets/controls",
            "_model_module_version": "1.5.0",
            "value": 594710526,
            "_view_count": null,
            "_view_module_version": "1.5.0",
            "orientation": "horizontal",
            "min": 0,
            "description_tooltip": null,
            "_model_module": "@jupyter-widgets/controls",
            "layout": "IPY_MODEL_01ac1c1c5890462191632b023af11358"
          }
        },
        "6c6d05a2ac154fde86a3946e6775d421": {
          "model_module": "@jupyter-widgets/controls",
          "model_name": "HTMLModel",
          "model_module_version": "1.5.0",
          "state": {
            "_view_name": "HTMLView",
            "style": "IPY_MODEL_00e1682a3b0046e48007d185133579c5",
            "_dom_classes": [],
            "description": "",
            "_model_name": "HTMLModel",
            "placeholder": "​",
            "_view_module": "@jupyter-widgets/controls",
            "_model_module_version": "1.5.0",
            "value": " 595M/595M [00:13&lt;00:00, 43.3MB/s]",
            "_view_count": null,
            "_view_module_version": "1.5.0",
            "description_tooltip": null,
            "_model_module": "@jupyter-widgets/controls",
            "layout": "IPY_MODEL_30690aed8a27427485616fdedebfc3a0"
          }
        },
        "3147728daf9a48b9b84d51ce6816be0e": {
          "model_module": "@jupyter-widgets/controls",
          "model_name": "ProgressStyleModel",
          "model_module_version": "1.5.0",
          "state": {
            "_view_name": "StyleView",
            "_model_name": "ProgressStyleModel",
            "description_width": "initial",
            "_view_module": "@jupyter-widgets/base",
            "_model_module_version": "1.5.0",
            "_view_count": null,
            "_view_module_version": "1.2.0",
            "bar_color": null,
            "_model_module": "@jupyter-widgets/controls"
          }
        },
        "01ac1c1c5890462191632b023af11358": {
          "model_module": "@jupyter-widgets/base",
          "model_name": "LayoutModel",
          "model_module_version": "1.2.0",
          "state": {
            "_view_name": "LayoutView",
            "grid_template_rows": null,
            "right": null,
            "justify_content": null,
            "_view_module": "@jupyter-widgets/base",
            "overflow": null,
            "_model_module_version": "1.2.0",
            "_view_count": null,
            "flex_flow": null,
            "width": null,
            "min_width": null,
            "border": null,
            "align_items": null,
            "bottom": null,
            "_model_module": "@jupyter-widgets/base",
            "top": null,
            "grid_column": null,
            "overflow_y": null,
            "overflow_x": null,
            "grid_auto_flow": null,
            "grid_area": null,
            "grid_template_columns": null,
            "flex": null,
            "_model_name": "LayoutModel",
            "justify_items": null,
            "grid_row": null,
            "max_height": null,
            "align_content": null,
            "visibility": null,
            "align_self": null,
            "height": null,
            "min_height": null,
            "padding": null,
            "grid_auto_rows": null,
            "grid_gap": null,
            "max_width": null,
            "order": null,
            "_view_module_version": "1.2.0",
            "grid_template_areas": null,
            "object_position": null,
            "object_fit": null,
            "grid_auto_columns": null,
            "margin": null,
            "display": null,
            "left": null
          }
        },
        "00e1682a3b0046e48007d185133579c5": {
          "model_module": "@jupyter-widgets/controls",
          "model_name": "DescriptionStyleModel",
          "model_module_version": "1.5.0",
          "state": {
            "_view_name": "StyleView",
            "_model_name": "DescriptionStyleModel",
            "description_width": "",
            "_view_module": "@jupyter-widgets/base",
            "_model_module_version": "1.5.0",
            "_view_count": null,
            "_view_module_version": "1.2.0",
            "_model_module": "@jupyter-widgets/controls"
          }
        },
        "30690aed8a27427485616fdedebfc3a0": {
          "model_module": "@jupyter-widgets/base",
          "model_name": "LayoutModel",
          "model_module_version": "1.2.0",
          "state": {
            "_view_name": "LayoutView",
            "grid_template_rows": null,
            "right": null,
            "justify_content": null,
            "_view_module": "@jupyter-widgets/base",
            "overflow": null,
            "_model_module_version": "1.2.0",
            "_view_count": null,
            "flex_flow": null,
            "width": null,
            "min_width": null,
            "border": null,
            "align_items": null,
            "bottom": null,
            "_model_module": "@jupyter-widgets/base",
            "top": null,
            "grid_column": null,
            "overflow_y": null,
            "overflow_x": null,
            "grid_auto_flow": null,
            "grid_area": null,
            "grid_template_columns": null,
            "flex": null,
            "_model_name": "LayoutModel",
            "justify_items": null,
            "grid_row": null,
            "max_height": null,
            "align_content": null,
            "visibility": null,
            "align_self": null,
            "height": null,
            "min_height": null,
            "padding": null,
            "grid_auto_rows": null,
            "grid_gap": null,
            "max_width": null,
            "order": null,
            "_view_module_version": "1.2.0",
            "grid_template_areas": null,
            "object_position": null,
            "object_fit": null,
            "grid_auto_columns": null,
            "margin": null,
            "display": null,
            "left": null
          }
        }
      }
    },
    "accelerator": "GPU"
  },
  "cells": [
    {
      "cell_type": "markdown",
      "metadata": {
        "id": "zL8uiXTHIrHI"
      },
      "source": [
        "# [Text2Text](https://github.com/artitw/text2text): Cross-lingual natural language processing and generation toolkit\n",
        "\n",
        "## How Cross-Lingual NLP Models Work (click to watch)\n",
        "[![Cross-Lingual Models](http://img.youtube.com/vi/caZLVcJqsqo/0.jpg)](https://youtu.be/caZLVcJqsqo \"Cross-Lingual Models\")"
      ]
    },
    {
      "cell_type": "code",
      "metadata": {
        "id": "R5p-YiGOJRLV"
      },
      "source": [
        "pip install -q -U text2text"
      ],
      "execution_count": null,
      "outputs": []
    },
    {
      "cell_type": "code",
      "metadata": {
        "id": "jiUl1ls51cuW",
        "colab": {
          "base_uri": "https://localhost:8080/",
          "height": 296,
          "referenced_widgets": [
            "208fa8972a2541da9b15d3e5c21fd2e3",
            "b7a33863d7014265852a04aa7b366297",
            "e1ce0a1068da426d991be784ad78de63",
            "d2acb5d2c83045589071b09af1610ff7",
            "b46b130a1e4341eebd9dbb25c19f4451",
            "f9560493ac294d7c82f31f5ac8dc3898",
            "813e787f0fe240608dffc3bcbf571f4c",
            "442cc9fddd97445fbb4c660b2c30c62a",
            "a5c4ab5749b642b28242f577604d0348",
            "c0bc21ae747948b19654c1314d3a2e40",
            "52c143265dfd4bb4ac20990823c6171e",
            "5b20fd9bd88a47df8f6ef2925f4e4f48",
            "73f273b61ef44579a405ca552e7427d2",
            "ec7e8a56d01c4138971dfa27693cbe3b",
            "3f151bd6d8df464c993e0521335b2f6f",
            "b6b95467697b4185b96aac4acb9c4438",
            "fd73923fd9fb487196e6c74d056f3cfc",
            "a58aced5521e44c58dbc6288f300c22c",
            "e90526c58fff4e438ae2768f7d95f6a5",
            "63bf868cfbd54bf6bccd80c57a198361",
            "5b633a99e47d4ee5903e06bc58205b4e",
            "17e4af5c06c343f781efc4ca3c833b3a",
            "343660d9f7f64fe498a9748f20aee02d",
            "1e0e2d77010049d38f077482fc7dcc2d",
            "d0e3ff3c500443e4b57ef7cb84742ac2",
            "6724e15795c946508c32341bfc1ec7d7",
            "5b0c1e64a7164243a8e59a7b7b6af894",
            "fa2f404e6c7b4b7795b96f31a7f7aa23",
            "c6563ef1a86b42b88c642be40f065ca2",
            "50d70c2b99a649c5b0e463e775dcb600",
            "2981a6cf7adc4856bae751ad870acb0e",
            "63b8b0888df64ac2bedcc50ad236b03e",
            "2ae2030c5aab453c9895d1b45e8f90c2",
            "43cf2112ffd44aedb895cb400d6e099e",
            "143a3166b63c4526ba6675695eb0951a",
            "297111e91bb2452b86eaccf507b30cec",
            "145dd9b790794c5687d9a0f3de6399f3",
            "f31101b7506246fb93cb42bb3e7d69f1",
            "d0935a42a6bb48409702bb3c43c2fa60",
            "52451056669e4c8cab79b361a15b5a91"
          ]
        },
        "outputId": "f7a3e61f-2278-4639-8089-d215a7875ca9"
      },
      "source": [
        "### Text Handler API quick start\n",
        "import text2text as t2t\n",
        "t2t.Transformer.PRETRAINED_TRANSLATOR = \"facebook/m2m100_418M\" #Remove this line for the larger model\n",
        "h = t2t.Handler([\"Hello, World!\"], src_lang=\"en\") #Initialize with some text\n",
        "h.tokenize() #[['▁Hello', ',', '▁World', '!']]"
      ],
      "execution_count": null,
      "outputs": [
        {
          "output_type": "stream",
          "text": [
            "Better speed can be achieved with apex installed from https://www.github.com/artitw/apex.\n"
          ],
          "name": "stdout"
        },
        {
          "output_type": "display_data",
          "data": {
            "application/vnd.jupyter.widget-view+json": {
              "model_id": "208fa8972a2541da9b15d3e5c21fd2e3",
              "version_minor": 0,
              "version_major": 2
            },
            "text/plain": [
              "HBox(children=(FloatProgress(value=0.0, description='Downloading', max=908.0, style=ProgressStyle(description_…"
            ]
          },
          "metadata": {
            "tags": []
          }
        },
        {
          "output_type": "stream",
          "text": [
            "\n"
          ],
          "name": "stdout"
        },
        {
          "output_type": "display_data",
          "data": {
            "application/vnd.jupyter.widget-view+json": {
              "model_id": "a5c4ab5749b642b28242f577604d0348",
              "version_minor": 0,
              "version_major": 2
            },
            "text/plain": [
              "HBox(children=(FloatProgress(value=0.0, description='Downloading', max=3708092.0, style=ProgressStyle(descript…"
            ]
          },
          "metadata": {
            "tags": []
          }
        },
        {
          "output_type": "stream",
          "text": [
            "\n"
          ],
          "name": "stdout"
        },
        {
          "output_type": "display_data",
          "data": {
            "application/vnd.jupyter.widget-view+json": {
              "model_id": "fd73923fd9fb487196e6c74d056f3cfc",
              "version_minor": 0,
              "version_major": 2
            },
            "text/plain": [
              "HBox(children=(FloatProgress(value=0.0, description='Downloading', max=2423393.0, style=ProgressStyle(descript…"
            ]
          },
          "metadata": {
            "tags": []
          }
        },
        {
          "output_type": "stream",
          "text": [
            "\n"
          ],
          "name": "stdout"
        },
        {
          "output_type": "display_data",
          "data": {
            "application/vnd.jupyter.widget-view+json": {
              "model_id": "d0e3ff3c500443e4b57ef7cb84742ac2",
              "version_minor": 0,
              "version_major": 2
            },
            "text/plain": [
              "HBox(children=(FloatProgress(value=0.0, description='Downloading', max=272.0, style=ProgressStyle(description_…"
            ]
          },
          "metadata": {
            "tags": []
          }
        },
        {
          "output_type": "stream",
          "text": [
            "\n"
          ],
          "name": "stdout"
        },
        {
          "output_type": "display_data",
          "data": {
            "application/vnd.jupyter.widget-view+json": {
              "model_id": "2ae2030c5aab453c9895d1b45e8f90c2",
              "version_minor": 0,
              "version_major": 2
            },
            "text/plain": [
              "HBox(children=(FloatProgress(value=0.0, description='Downloading', max=1140.0, style=ProgressStyle(description…"
            ]
          },
          "metadata": {
            "tags": []
          }
        },
        {
          "output_type": "stream",
          "text": [
            "\n"
          ],
          "name": "stdout"
        },
        {
          "output_type": "execute_result",
          "data": {
            "text/plain": [
              "[['▁Hello', ',', '▁World', '!']]"
            ]
          },
          "metadata": {
            "tags": []
          },
          "execution_count": 2
        }
      ]
    },
    {
      "cell_type": "code",
      "metadata": {
        "id": "kcTKpC5wS7Xs"
      },
      "source": [
        "h.vectorize() #array([[0.18745188, 0.05658336, 0.15895301, ..., 0.46946704, 0.6332584 , 0.43805206]], dtype=float32)"
      ],
      "execution_count": null,
      "outputs": []
    },
    {
      "cell_type": "code",
      "metadata": {
        "id": "NtbMwkhTS9ID",
        "colab": {
          "base_uri": "https://localhost:8080/"
        },
        "outputId": "438b2cd1-1094-4c8e-9811-edbd441ccb6c"
      },
      "source": [
        "h.tfidf() #[{'!': 0.5, ',': 0.5, '▁Hello': 0.5, '▁World': 0.5}]"
      ],
      "execution_count": null,
      "outputs": [
        {
          "output_type": "execute_result",
          "data": {
            "text/plain": [
              "[{'!': 0.5, ',': 0.5, '▁Hello': 0.5, '▁World': 0.5}]"
            ]
          },
          "metadata": {
            "tags": []
          },
          "execution_count": 5
        }
      ]
    },
    {
      "cell_type": "code",
      "source": [
        "h.bm25() #[{'!': 0.5, ',': 0.5, '▁Hello': 0.5, '▁World': 0.5}]"
      ],
      "metadata": {
        "id": "PZd0nkVVnsYU"
      },
      "execution_count": null,
      "outputs": []
    },
    {
      "cell_type": "code",
      "metadata": {
        "id": "E54pZP2lS-Nz",
        "colab": {
          "base_uri": "https://localhost:8080/"
        },
        "outputId": "3bb2f0ef-8380-4f5f-900d-fef6c9313caf"
      },
      "source": [
        "h.search(queries=[\"Hello\"]).toarray() #array([[0.5]])"
      ],
      "execution_count": null,
      "outputs": [
        {
          "output_type": "execute_result",
          "data": {
            "text/plain": [
              "array([[0.5]])"
            ]
          },
          "metadata": {
            "tags": []
          },
          "execution_count": 4
        }
      ]
    },
    {
      "cell_type": "code",
      "metadata": {
        "id": "ceb_OD6-S_Lx",
        "colab": {
          "base_uri": "https://localhost:8080/"
        },
        "outputId": "04a01802-6c62-44af-8f02-e30d17e67203"
      },
      "source": [
        "h.translate(tgt_lang=\"zh\") #['你好,世界!']"
      ],
      "execution_count": null,
      "outputs": [
        {
          "output_type": "execute_result",
          "data": {
            "text/plain": [
              "['你好,世界!']"
            ]
          },
          "metadata": {
            "tags": []
          },
          "execution_count": 7
        }
      ]
    },
    {
      "cell_type": "code",
      "metadata": {
        "id": "jFWWM9jFTAat",
        "colab": {
          "base_uri": "https://localhost:8080/"
        },
        "outputId": "8456051a-b347-4975-d3a4-4d1e0b985235"
      },
      "source": [
        "h.summarize() #[\"World ' s largest world\"]"
      ],
      "execution_count": null,
      "outputs": [
        {
          "output_type": "stream",
          "text": [
            "100%|██████████| 213450/213450 [00:00<00:00, 784787.15B/s]\n"
          ],
          "name": "stderr"
        },
        {
          "output_type": "stream",
          "text": [
            "***** Recover model: cnndm_model.bin *****\n"
          ],
          "name": "stdout"
        },
        {
          "output_type": "stream",
          "text": [
            "100%|██████████| 1242874899/1242874899 [00:53<00:00, 23226255.43B/s]\n",
            "100%|██████████| 1/1 [00:02<00:00,  2.85s/it]\n"
          ],
          "name": "stderr"
        },
        {
          "output_type": "execute_result",
          "data": {
            "text/plain": [
              "['Hello , World!  Have you ever been a member of the World War II.']"
            ]
          },
          "metadata": {
            "tags": []
          },
          "execution_count": 8
        }
      ]
    },
    {
      "cell_type": "code",
      "metadata": {
        "id": "T6bEcoNCTBt7",
        "colab": {
          "base_uri": "https://localhost:8080/"
        },
        "outputId": "38d3156f-b1e7-4ad9-ee31-b70589b42563"
      },
      "source": [
        "h.question() #[('What is the name of the world you are in?', 'The world')]"
      ],
      "execution_count": null,
      "outputs": [
        {
          "output_type": "stream",
          "text": [
            "***** Recover model: qg_model.bin *****\n"
          ],
          "name": "stdout"
        },
        {
          "output_type": "stream",
          "text": [
            "100%|██████████| 1/1 [00:01<00:00,  1.03s/it]\n"
          ],
          "name": "stderr"
        },
        {
          "output_type": "execute_result",
          "data": {
            "text/plain": [
              "[('What is the name of the Hello , World!', 'world')]"
            ]
          },
          "metadata": {
            "tags": []
          },
          "execution_count": 9
        }
      ]
    },
    {
      "cell_type": "code",
      "metadata": {
        "id": "I9CDJUZ0TCVj",
        "colab": {
          "base_uri": "https://localhost:8080/"
        },
        "outputId": "afce236c-de37-40a4-fef4-45b8a8832b20"
      },
      "source": [
        "h.variate() #['Hello the world!', 'Welcome to the world.', 'Hello to the world!',..."
      ],
      "execution_count": null,
      "outputs": [
        {
          "output_type": "execute_result",
          "data": {
            "text/plain": [
              "['Hello the world!',\n",
              " 'My brother and sister!',\n",
              " 'Welcome to the world!',\n",
              " 'Hello, the world',\n",
              " '“No to the world”',\n",
              " 'It is clearly!',\n",
              " 'Welcome to the light!',\n",
              " 'Hello to the world!',\n",
              " 'Hello to the world!',\n",
              " 'Hello, it’s a good thing!',\n",
              " 'Congratulations to all!',\n",
              " 'Hello to the world!',\n",
              " 'Hello to the world!',\n",
              " 'Good Morning, the World',\n",
              " 'Welcome to the World!',\n",
              " 'Hello the world!',\n",
              " 'Hello the world!',\n",
              " 'Good morning to the world!',\n",
              " 'Hello, World!',\n",
              " 'Hello the world!',\n",
              " 'Fortunately the world!',\n",
              " 'Hello to the world!',\n",
              " 'We do it!',\n",
              " 'Welcome to the world!',\n",
              " 'Hello to the world!',\n",
              " 'Go to the world!',\n",
              " 'Member of the Board of Directors of the Board of Directors of the Board of Directors of the Board of Directors',\n",
              " 'The world.',\n",
              " 'Hello to the world!',\n",
              " 'and it is!',\n",
              " 'Hello, for the world!',\n",
              " 'Hello to the world!',\n",
              " 'Hello to the world!',\n",
              " 'Hello to the world!',\n",
              " 'Hello to the world!',\n",
              " 'Hello to the world!',\n",
              " 'Welcome to the world!',\n",
              " 'Congratulations to the world!',\n",
              " 'Hello to the World!',\n",
              " 'Around the world!',\n",
              " 'Well and well!',\n",
              " 'Hello to the world!',\n",
              " 'Hello to the world!',\n",
              " 'Congratulations to you!',\n",
              " 'Go to the world!',\n",
              " 'I am I am I am!',\n",
              " 'and the air!',\n",
              " 'and it is the one!',\n",
              " 'Hello the world!',\n",
              " 'Hello the world!',\n",
              " 'Hello, movie!',\n",
              " 'Moko!',\n",
              " 'Home » World!',\n",
              " 'Hello and the world!',\n",
              " 'Hello the world!',\n",
              " 'You are here in the world!',\n",
              " 'Hello to the world!',\n",
              " 'Hello the world!',\n",
              " 'The latest!',\n",
              " 'Hello to the world!',\n",
              " 'Welcome to the world!',\n",
              " 'The house!',\n",
              " 'Hello to the world!',\n",
              " 'Hello the world!',\n",
              " 'Hello the world!',\n",
              " 'Smooth!',\n",
              " 'Hello to the world!',\n",
              " 'It is the truth, it is the truth, it is the truth, it is the truth, it is the truth, it is the truth, it is the truth, it is the truth, it is the truth, it is the truth, it is the truth.',\n",
              " 'Hello, Europe!',\n",
              " 'Hello the world!',\n",
              " 'in the world!',\n",
              " 'Hello to the world!',\n",
              " 'Good day to the world!',\n",
              " 'Hello to the world!',\n",
              " 'Hello to the world!',\n",
              " 'Congratulations to the world!',\n",
              " 'Good Morning World!',\n",
              " 'Hello to the world!',\n",
              " 'Aaaaaaaaa',\n",
              " 'Hello to the world!',\n",
              " 'Welcome to the world!',\n",
              " 'Issues',\n",
              " 'In the words of the',\n",
              " 'Hello the world!',\n",
              " 'Hello to the world!',\n",
              " 'Hello to the world!',\n",
              " 'Hello world!',\n",
              " 'Hello to the world!',\n",
              " 'The name!',\n",
              " 'Hello the world!',\n",
              " 'I am in the world!',\n",
              " 'Hello to the world!',\n",
              " 'Hello O’Y’Y’Y!',\n",
              " 'Hello to the world!',\n",
              " 'Wish!',\n",
              " 'First of all!',\n",
              " 'Hello to the world!',\n",
              " 'It is there!',\n",
              " 'Hello the world!',\n",
              " 'First of all!']"
            ]
          },
          "metadata": {
            "tags": []
          },
          "execution_count": 10
        }
      ]
    },
    {
      "cell_type": "code",
      "metadata": {
        "id": "1IbuXQ0HTEbc",
        "colab": {
          "base_uri": "https://localhost:8080/",
          "height": 328,
          "referenced_widgets": [
            "594fd2abb40c46e9bf359ec66e52a820",
            "0043b11767ab48a3b3132e0e3d7ccb03",
            "0fbad6e58cb54b81b7adf3c977fbd67c",
            "2d9e32049c5746449bfa18efaa6e272d",
            "440d37e36c0644a78af7b8c2aedf72f3",
            "c2b786d6524a47128e5dda6e6f41cf22",
            "b44c86fbf7c4438d9c0caf82c0b01fc7",
            "39fa5b3aded2455596cd3255c4134764",
            "b62857d31ae44d49afacd13d17707e80",
            "17bf746cd5ac401981c0185b8037da18",
            "732fc1462e894c23bb13ef7fd4895a9a",
            "8541b357afbe43b897b5be7043f58e7c",
            "c2c89adca56943169c0c85229c19298b",
            "f194e6cfebc541e085ade9d1b88d02c3",
            "f7493219f8824ce1ba2bda0ff0d621ca",
            "2d72e6b474314d469f9df095f9345a25",
            "2046a71dc18f4b00bc308fa9967f0151",
            "fa5b9d0250ae40e6b27c0c8b3769332d",
            "48084a59a3e1477f92e3891095085249",
            "adac0dfbcb864d7db9be98288e08b8e5",
            "dd1e52790207467e89e5e4ee97f21826",
            "3b047bd768c042ff9e2b4e157021e887",
            "0330f8fde3004108aeae18eb4888e591",
            "43497756c06345d3969e2711ded8c4cb",
            "9b75772d246d40dd9cb5a87287f18d01",
            "2633f1ba95b74e848d45b5890210751d",
            "ec85243739d14d08ad847afb6db47672",
            "5e2c65f97b34451c9f03b71fcdba0ab7",
            "7c7008eeb27e4ad7bbb94c3701d0e31f",
            "0f40b8ab18004dc5acacedfb7828d72a",
            "5f689be7b701459fb14d2853ae5a972c",
            "5a92cbbd2d8e40af9a0a468caf3ba021",
            "38e7ba9d43ec46ff9784eaa540ec0d23",
            "734c2939943941859c1d4fe6f4da0ad2",
            "902b6a66ead648c59b82e5554ca651c0",
            "79da07bfde1141de884b50691b819fd0",
            "80dcf7afbb65475fae2d2f56f3197612",
            "f5e1e4bed1ef427a8d910190f02979a1",
            "034a36034833484aa687ed60269f16e4",
            "1ca0fb3ac4054f1f999c205a98be99fa",
            "b4a47318661d4494a008904b84be1a24",
            "e39b3af7eeae4ac291dc500f28491ba3",
            "afeb80608d394fcd896947fd9da5cad1",
            "6c6d05a2ac154fde86a3946e6775d421",
            "3147728daf9a48b9b84d51ce6816be0e",
            "01ac1c1c5890462191632b023af11358",
            "00e1682a3b0046e48007d185133579c5",
            "30690aed8a27427485616fdedebfc3a0"
          ]
        },
        "outputId": "f9979c6f-7314-4300-8d1d-b8e6e3a62c99"
      },
      "source": [
        "t2t.Handler([\"Hello, World! [SEP] Hello, what?\"]).answer() #['World']"
      ],
      "execution_count": null,
      "outputs": [
        {
          "output_type": "display_data",
          "data": {
            "application/vnd.jupyter.widget-view+json": {
              "model_id": "594fd2abb40c46e9bf359ec66e52a820",
              "version_minor": 0,
              "version_major": 2
            },
            "text/plain": [
              "HBox(children=(FloatProgress(value=0.0, description='Downloading', max=757.0, style=ProgressStyle(description_…"
            ]
          },
          "metadata": {
            "tags": []
          }
        },
        {
          "output_type": "stream",
          "text": [
            "\n"
          ],
          "name": "stdout"
        },
        {
          "output_type": "display_data",
          "data": {
            "application/vnd.jupyter.widget-view+json": {
              "model_id": "b62857d31ae44d49afacd13d17707e80",
              "version_minor": 0,
              "version_major": 2
            },
            "text/plain": [
              "HBox(children=(FloatProgress(value=0.0, description='Downloading', max=798293.0, style=ProgressStyle(descripti…"
            ]
          },
          "metadata": {
            "tags": []
          }
        },
        {
          "output_type": "stream",
          "text": [
            "\n"
          ],
          "name": "stdout"
        },
        {
          "output_type": "display_data",
          "data": {
            "application/vnd.jupyter.widget-view+json": {
              "model_id": "2046a71dc18f4b00bc308fa9967f0151",
              "version_minor": 0,
              "version_major": 2
            },
            "text/plain": [
              "HBox(children=(FloatProgress(value=0.0, description='Downloading', max=456356.0, style=ProgressStyle(descripti…"
            ]
          },
          "metadata": {
            "tags": []
          }
        },
        {
          "output_type": "stream",
          "text": [
            "\n"
          ],
          "name": "stdout"
        },
        {
          "output_type": "display_data",
          "data": {
            "application/vnd.jupyter.widget-view+json": {
              "model_id": "9b75772d246d40dd9cb5a87287f18d01",
              "version_minor": 0,
              "version_major": 2
            },
            "text/plain": [
              "HBox(children=(FloatProgress(value=0.0, description='Downloading', max=150.0, style=ProgressStyle(description_…"
            ]
          },
          "metadata": {
            "tags": []
          }
        },
        {
          "output_type": "stream",
          "text": [
            "\n"
          ],
          "name": "stdout"
        },
        {
          "output_type": "display_data",
          "data": {
            "application/vnd.jupyter.widget-view+json": {
              "model_id": "38e7ba9d43ec46ff9784eaa540ec0d23",
              "version_minor": 0,
              "version_major": 2
            },
            "text/plain": [
              "HBox(children=(FloatProgress(value=0.0, description='Downloading', max=26.0, style=ProgressStyle(description_w…"
            ]
          },
          "metadata": {
            "tags": []
          }
        },
        {
          "output_type": "stream",
          "text": [
            "\n"
          ],
          "name": "stdout"
        },
        {
          "output_type": "display_data",
          "data": {
            "application/vnd.jupyter.widget-view+json": {
              "model_id": "b4a47318661d4494a008904b84be1a24",
              "version_minor": 0,
              "version_major": 2
            },
            "text/plain": [
              "HBox(children=(FloatProgress(value=0.0, description='Downloading', max=594710526.0, style=ProgressStyle(descri…"
            ]
          },
          "metadata": {
            "tags": []
          }
        },
        {
          "output_type": "stream",
          "text": [
            "\n"
          ],
          "name": "stdout"
        },
        {
          "output_type": "execute_result",
          "data": {
            "text/plain": [
              "['World']"
            ]
          },
          "metadata": {
            "tags": []
          },
          "execution_count": 11
        }
      ]
    },
    {
      "cell_type": "code",
      "metadata": {
        "id": "8V3geqhhTFdc",
        "colab": {
          "base_uri": "https://localhost:8080/"
        },
        "outputId": "206e53c5-93bd-413d-e539-ff35b24bffa9"
      },
      "source": [
        "t2t.Handler([\"Hello, World! [SEP] Hello, what?\"]).measure() #[2]"
      ],
      "execution_count": null,
      "outputs": [
        {
          "output_type": "execute_result",
          "data": {
            "text/plain": [
              "[2]"
            ]
          },
          "metadata": {
            "tags": []
          },
          "execution_count": 4
        }
      ]
    },
    {
      "cell_type": "code",
      "metadata": {
        "id": "F0RWWWrM83ov",
        "colab": {
          "base_uri": "https://localhost:8080/"
        },
        "outputId": "468b89cf-2458-42e2-eccf-fed799cbb96a"
      },
      "source": [
        "### Languages Available\n",
        "t2t.Transformer.LANGUAGES"
      ],
      "execution_count": null,
      "outputs": [
        {
          "output_type": "execute_result",
          "data": {
            "text/plain": [
              "{'af': 'Afrikaans',\n",
              " 'am': 'Amharic',\n",
              " 'ar': 'Arabic',\n",
              " 'ast': 'Asturian',\n",
              " 'az': 'Azerbaijani',\n",
              " 'ba': 'Bashkir',\n",
              " 'be': 'Belarusian',\n",
              " 'bg': 'Bulgarian',\n",
              " 'bn': 'Bengali',\n",
              " 'br': 'Breton',\n",
              " 'bs': 'Bosnian',\n",
              " 'ca': 'Catalan_Valencian',\n",
              " 'ceb': 'Cebuano',\n",
              " 'cs': 'Czech',\n",
              " 'cy': 'Welsh',\n",
              " 'da': 'Danish',\n",
              " 'de': 'German',\n",
              " 'el': 'Greeek',\n",
              " 'en': 'English',\n",
              " 'es': 'Spanish',\n",
              " 'et': 'Estonian',\n",
              " 'fa': 'Persian',\n",
              " 'ff': 'Fulah',\n",
              " 'fi': 'Finnish',\n",
              " 'fr': 'French',\n",
              " 'fy': 'Western_Frisian',\n",
              " 'ga': 'Irish',\n",
              " 'gd': 'Gaelic_Scottish_Gaelic',\n",
              " 'gl': 'Galician',\n",
              " 'gu': 'Gujarati',\n",
              " 'ha': 'Hausa',\n",
              " 'he': 'Hebrew',\n",
              " 'hi': 'Hindi',\n",
              " 'hr': 'Croatian',\n",
              " 'ht': 'Haitian_Haitian_Creole',\n",
              " 'hu': 'Hungarian',\n",
              " 'hy': 'Armenian',\n",
              " 'id': 'Indonesian',\n",
              " 'ig': 'Igbo',\n",
              " 'ilo': 'Iloko',\n",
              " 'is': 'Icelandic',\n",
              " 'it': 'Italian',\n",
              " 'ja': 'Japanese',\n",
              " 'jv': 'Javanese',\n",
              " 'ka': 'Georgian',\n",
              " 'kk': 'Kazakh',\n",
              " 'km': 'Central_Khmer',\n",
              " 'kn': 'Kannada',\n",
              " 'ko': 'Korean',\n",
              " 'lb': 'Luxembourgish_Letzeburgesch',\n",
              " 'lg': 'Ganda',\n",
              " 'ln': 'Lingala',\n",
              " 'lo': 'Lao',\n",
              " 'lt': 'Lithuanian',\n",
              " 'lv': 'Latvian',\n",
              " 'mg': 'Malagasy',\n",
              " 'mk': 'Macedonian',\n",
              " 'ml': 'Malayalam',\n",
              " 'mn': 'Mongolian',\n",
              " 'mr': 'Marathi',\n",
              " 'ms': 'Malay',\n",
              " 'my': 'Burmese',\n",
              " 'ne': 'Nepali',\n",
              " 'nl': 'Dutch_Flemish',\n",
              " 'no': 'Norwegian',\n",
              " 'ns': 'Northern_Sotho',\n",
              " 'oc': 'Occitan',\n",
              " 'or': 'Oriya',\n",
              " 'pa': 'Panjabi_Punjabi',\n",
              " 'pl': 'Polish',\n",
              " 'ps': 'Pushto_Pashto',\n",
              " 'pt': 'Portuguese',\n",
              " 'ro': 'Romanian_Moldavian_Moldovan',\n",
              " 'ru': 'Russian',\n",
              " 'sd': 'Sindhi',\n",
              " 'si': 'Sinhala_Sinhalese',\n",
              " 'sk': 'Slovak',\n",
              " 'sl': 'Slovenian',\n",
              " 'so': 'Somali',\n",
              " 'sq': 'Albanian',\n",
              " 'sr': 'Serbian',\n",
              " 'ss': 'Swati',\n",
              " 'su': 'Sundanese',\n",
              " 'sv': 'Swedish',\n",
              " 'sw': 'Swahili',\n",
              " 'ta': 'Tamil',\n",
              " 'th': 'Thai',\n",
              " 'tl': 'Tagalog',\n",
              " 'tn': 'Tswana',\n",
              " 'tr': 'Turkish',\n",
              " 'uk': 'Ukrainian',\n",
              " 'ur': 'Urdu',\n",
              " 'uz': 'Uzbek',\n",
              " 'vi': 'Vietnamese',\n",
              " 'wo': 'Wolof',\n",
              " 'xh': 'Xhosa',\n",
              " 'yi': 'Yiddish',\n",
              " 'yo': 'Yoruba',\n",
              " 'zh': 'Chinese',\n",
              " 'zu': 'Zulu'}"
            ]
          },
          "metadata": {
            "tags": []
          },
          "execution_count": 3
        }
      ]
    },
    {
      "cell_type": "code",
      "metadata": {
        "id": "bG6oRnav9G__"
      },
      "source": [
        "# Sample texts\n",
        "article_en = 'The Secretary-General of the United Nations says there is no military solution in Syria.'\n",
        " \n",
        "notre_dame_str = \"As at most other universities, Notre Dame's students run a number of news media outlets. The nine student - run outlets include three newspapers, both a radio and television station, and several magazines and journals. Begun as a one - page journal in September 1876, the Scholastic magazine is issued twice monthly and claims to be the oldest continuous collegiate publication in the United States. The other magazine, The Juggler, is released twice a year and focuses on student literature and artwork. The Dome yearbook is published annually. The newspapers have varying publication interests, with The Observer published daily and mainly reporting university and other news, and staffed by students from both Notre Dame and Saint Mary's College. Unlike Scholastic and The Dome, The Observer is an independent publication and does not have a faculty advisor or any editorial oversight from the University. In 1987, when some students believed that The Observer began to show a conservative bias, a liberal newspaper, Common Sense was published. Likewise, in 2003, when other students believed that the paper showed a liberal bias, the conservative paper Irish Rover went into production. Neither paper is published as often as The Observer; however, all three are distributed to all students. Finally, in Spring 2008 an undergraduate journal for political science research, Beyond Politics, made its debut.\"\n",
        " \n",
        "bacteria_str = \"Bacteria are a type of biological cell. They constitute a large domain of prokaryotic microorganisms. Typically a few micrometres in length, bacteria have a number of shapes, ranging from spheres to rods and spirals. Bacteria were among the first life forms to appear on Earth, and are present in most of its habitats.\"\n",
        " \n",
        "bio_str = \"Biology is the science that studies life. What exactly is life? This may sound like a silly question with an obvious answer, but it is not easy to define life. For example, a branch of biology called virology studies viruses, which exhibit some of the characteristics of living entities but lack others. It turns out that although viruses can attack living organisms, cause diseases, and even reproduce, they do not meet the criteria that biologists use to define life.\"\n",
        " "
      ],
      "execution_count": null,
      "outputs": []
    },
    {
      "cell_type": "code",
      "metadata": {
        "id": "csZPSwelA5ya",
        "colab": {
          "base_uri": "https://localhost:8080/"
        },
        "outputId": "bc74259c-a3ed-4bd9-b967-855864868750"
      },
      "source": [
        "### Tokenization\n",
        "t2t.Handler([\n",
        "         \"Let's go hiking tomorrow\", \n",
        "         \"안녕하세요.\", \n",
        "         \"돼지꿈을 꾸세요~~\"\n",
        "         ]).tokenize()"
      ],
      "execution_count": null,
      "outputs": [
        {
          "output_type": "execute_result",
          "data": {
            "text/plain": [
              "[['▁Let', \"'\", 's', '▁go', '▁hik', 'ing', '▁tom', 'orrow'],\n",
              " ['▁안녕', '하세요', '.'],\n",
              " ['▁', '돼', '지', '꿈', '을', '▁꾸', '세요', '~~']]"
            ]
          },
          "metadata": {
            "tags": []
          },
          "execution_count": 5
        }
      ]
    },
    {
      "cell_type": "code",
      "metadata": {
        "id": "-wQq61LXWsQG"
      },
      "source": [
        "# Embeddings\n",
        "t2t.Handler([\n",
        "         \"Let's go hiking tomorrow\", \n",
        "         \"안녕하세요.\", \n",
        "         \"돼지꿈을 꾸세요~~\"\n",
        "         ]).vectorize()"
      ],
      "execution_count": null,
      "outputs": []
    },
    {
      "cell_type": "code",
      "metadata": {
        "id": "3x0ebuQ6SXh5",
        "colab": {
          "base_uri": "https://localhost:8080/"
        },
        "outputId": "0207fdb2-a781-4bf9-9027-6105041965a1"
      },
      "source": [
        "### TF-IDF\n",
        "t2t.Handler([\n",
        "         \"Let's go hiking tomorrow\", \n",
        "         \"안녕하세요.\", \n",
        "         \"돼지꿈을 꾸세요~~\"\n",
        "         ]).tfidf()"
      ],
      "execution_count": null,
      "outputs": [
        {
          "output_type": "execute_result",
          "data": {
            "text/plain": [
              "[{\"'\": 0.3535533905932738,\n",
              "  'ing': 0.3535533905932738,\n",
              "  'orrow': 0.3535533905932738,\n",
              "  's': 0.3535533905932738,\n",
              "  '▁Let': 0.3535533905932738,\n",
              "  '▁go': 0.3535533905932738,\n",
              "  '▁hik': 0.3535533905932738,\n",
              "  '▁tom': 0.3535533905932738},\n",
              " {'.': 0.5773502691896258,\n",
              "  '▁안녕': 0.5773502691896258,\n",
              "  '하세요': 0.5773502691896258},\n",
              " {'~~': 0.3535533905932738,\n",
              "  '▁': 0.3535533905932738,\n",
              "  '▁꾸': 0.3535533905932738,\n",
              "  '꿈': 0.3535533905932738,\n",
              "  '돼': 0.3535533905932738,\n",
              "  '세요': 0.3535533905932738,\n",
              "  '을': 0.3535533905932738,\n",
              "  '지': 0.3535533905932738}]"
            ]
          },
          "metadata": {
            "tags": []
          },
          "execution_count": 7
        }
      ]
    },
    {
      "cell_type": "code",
      "source": [
        "### BM25\n",
        "t2t.Handler([\n",
        "         \"Let's go hiking tomorrow\", \n",
        "         \"안녕하세요.\", \n",
        "         \"돼지꿈을 꾸세요~~\"\n",
        "         ]).bm25()"
      ],
      "metadata": {
        "id": "K7QXWSjpn7HN"
      },
      "execution_count": null,
      "outputs": []
    },
    {
      "cell_type": "code",
      "metadata": {
        "id": "5tum24sLSy6g",
        "colab": {
          "base_uri": "https://localhost:8080/"
        },
        "outputId": "171d7709-41c5-4d82-85e6-696a71706c4c"
      },
      "source": [
        "### Search\n",
        "t2t.Handler([\n",
        "         \"Let's go hiking tomorrow, let's go!\", \n",
        "         \"안녕하세요.\", \n",
        "         \"돼지꿈을 꾸세요~~\",\n",
        "         ]).search(queries=[\"go\", \"안녕\"]).toarray()"
      ],
      "execution_count": null,
      "outputs": [
        {
          "output_type": "execute_result",
          "data": {
            "text/plain": [
              "array([[0.4472136 , 0.        , 0.        ],\n",
              "       [0.        , 0.57735027, 0.        ]])"
            ]
          },
          "metadata": {
            "tags": []
          },
          "execution_count": 13
        }
      ]
    },
    {
      "cell_type": "code",
      "source": [
        "#### Multiple queries on a single index\n",
        "bm25_index = t2t.Handler([\n",
        "                       article_en, \n",
        "                       notre_dame_str, \n",
        "                       bacteria_str, \n",
        "                       bio_str\n",
        "                       ]).bm25(output=\"matrix\")\n",
        "\n",
        "search_results_bm25_1 = t2t.Handler().search(\n",
        "    queries=[\"wonderful life\", \"university students\"], \n",
        "    vector_class=t2t.Bm25er,\n",
        "    index=bm25_index)\n",
        "\n",
        "search_results_bm25_2 = t2t.Handler().search(\n",
        "    queries=[\"Earth creatures are cool\", \"United Nations\"], \n",
        "    vector_class=t2t.Bm25er,\n",
        "    index=bm25_index)"
      ],
      "metadata": {
        "id": "JW66Xh6ioRY9"
      },
      "execution_count": null,
      "outputs": []
    },
    {
      "cell_type": "code",
      "metadata": {
        "id": "mZI-8SwWyPKJ"
      },
      "source": [
        "#### Using TF-DF embeddings index\n",
        "tfidf_index = t2t.Handler([\n",
        "                       article_en, \n",
        "                       notre_dame_str, \n",
        "                       bacteria_str, \n",
        "                       bio_str\n",
        "                       ]).tfidf(output=\"matrix\")\n",
        "\n",
        "search_results_tf1 = t2t.Handler().search(\n",
        "    queries=[\"wonderful life\", \"university students\"], \n",
        "    vector_class=t2t.Tfidfer,\n",
        "    index=tfidf_index)\n",
        "\n",
        "search_results_tf2 = t2t.Handler().search(\n",
        "    queries=[\"Earth creatures are cool\", \"United Nations\"], \n",
        "    vector_class=t2t.Tfidfer,\n",
        "    index=tfidf_index)"
      ],
      "execution_count": null,
      "outputs": []
    },
    {
      "cell_type": "code",
      "metadata": {
        "id": "sTOS6drtoxgC"
      },
      "source": [
        "#### Using neural embeddings index\n",
        "embedding_index = t2t.Handler([\n",
        "                       article_en, \n",
        "                       notre_dame_str, \n",
        "                       bacteria_str, \n",
        "                       bio_str\n",
        "                       ]).vectorize()\n",
        "\n",
        "search_results_em1 = t2t.Handler().search(\n",
        "    queries=[\"wonderful life\", \"university students\"],\n",
        "    vector_class=t2t.Vectorizer,\n",
        "    index=embedding_index)\n",
        "\n",
        "search_results_em2 = t2t.Handler().search(\n",
        "    queries=[\"Earth creatures are cool\", \"United Nations\"],\n",
        "    vector_class=t2t.Vectorizer,\n",
        "    index=embedding_index)"
      ],
      "execution_count": null,
      "outputs": []
    },
    {
      "cell_type": "code",
      "metadata": {
        "colab": {
          "base_uri": "https://localhost:8080/"
        },
        "id": "IeGPKEL6tWon",
        "outputId": "5cf6bacc-eabd-40e5-f62c-5fb4e04f9bf2"
      },
      "source": [
        "#### Blending neural embeddings and tf-idf\n",
        "np.mean( \n",
        "    np.array([\n",
        "              search_results_bm25_1,\n",
        "              search_results_tf1,\n",
        "              search_results_em1,\n",
        "              ]), axis=0)\n",
        "\n",
        "# averaged scores matrix\n",
        "matrix([[ 0.00486117, -0.01890325,  0.53769584,  0.82506883],\n",
        "        [ 0.0435048 ,  1.68977281,  0.01238902,  0.01266839]])"
      ],
      "execution_count": null,
      "outputs": [
        {
          "output_type": "execute_result",
          "data": {
            "text/plain": [
              "array([[ 0.00729176, -0.02835486,  0.0024925 ,  0.08656652],\n",
              "       [ 0.06525719,  0.13328168,  0.0185835 ,  0.01900256]])"
            ]
          },
          "metadata": {
            "tags": []
          },
          "execution_count": 19
        }
      ]
    },
    {
      "cell_type": "code",
      "metadata": {
        "colab": {
          "base_uri": "https://localhost:8080/"
        },
        "id": "YbS4ZpU7GA3T",
        "outputId": "0ebb27bb-6cda-41b4-9e46-77b27750bdd9"
      },
      "source": [
        "### Levenshtein Sub-word Edit Distance\n",
        "t2t.Handler([\n",
        "         \"Hello, World! [SEP] Hello, what?\", \n",
        "         \"안녕하세요. [SEP] 돼지꿈을 꾸세요~~\"\n",
        "        ]).measure(metric=\"levenshtein_distance\")"
      ],
      "execution_count": null,
      "outputs": [
        {
          "output_type": "execute_result",
          "data": {
            "text/plain": [
              "[2, 8]"
            ]
          },
          "metadata": {
            "tags": []
          },
          "execution_count": 15
        }
      ]
    },
    {
      "cell_type": "code",
      "metadata": {
        "id": "Vk-F8sYK9EfJ"
      },
      "source": [
        "### Translation\n",
        "# Default translator model\n",
        "t2t.Handler([article_en, notre_dame_str, bacteria_str, bio_str], src_lang='en').translate(tgt_lang='zh')"
      ],
      "execution_count": null,
      "outputs": []
    },
    {
      "cell_type": "code",
      "metadata": {
        "id": "5OfyLZZg4wrT"
      },
      "source": [
        "# Smaller model to save time and memory for development\n",
        "t2t.Transformer.PRETRAINED_TRANSLATOR = \"facebook/m2m100_418M\"\n",
        "t2t.Handler([\"I would like to go hiking tomorrow.\"], \n",
        "        src_lang=\"en\"\n",
        "        ).translate(tgt_lang='zh')\n"
      ],
      "execution_count": null,
      "outputs": []
    },
    {
      "cell_type": "code",
      "metadata": {
        "id": "6mxiqy764xa1"
      },
      "source": [
        "# Smaller model to save time and memory for development\n",
        "# Note language code difference\n",
        "t2t.Transformer.PRETRAINED_TRANSLATOR = \"facebook/mbart-large-50-many-to-many-mmt\"\n",
        "t2t.Transformer.LANGUAGES = {\n",
        "  'af_ZA': 'Afrikaans',\n",
        "  'ar_AR': 'Arabic',\n",
        "  'az_AZ': 'Azerbaijani',\n",
        "  'bn_IN': 'Bengali',\n",
        "  'cs_CZ': 'Czech',\n",
        "  'de_DE': 'German',\n",
        "  'en_XX': 'English',\n",
        "  'es_XX': 'Spanish',\n",
        "  'et_EE': 'Estonian',\n",
        "  'fa_IR': 'Persian',\n",
        "  'fi_FI': 'Finnish',\n",
        "  'fr_XX': 'French',\n",
        "  'gl_ES': 'Galician',\n",
        "  'gu_IN': 'Gujarati',\n",
        "  'he_IL': 'Hebrew',\n",
        "  'hi_IN': 'Hindi',\n",
        "  'hr_HR': 'Croatian',\n",
        "  'id_ID': 'Indonesian',\n",
        "  'it_IT': 'Italian',\n",
        "  'ja_XX': 'Japanese',\n",
        "  'ka_GE': 'Georgian',\n",
        "  'kk_KZ': 'Kazakh',\n",
        "  'km_KH': 'Khmer',\n",
        "  'ko_KR': 'Korean',\n",
        "  'lt_LT': 'Lithuanian',\n",
        "  'lv_LV': 'Latvian',\n",
        "  'mk_MK': 'Macedonian',\n",
        "  'ml_IN': 'Malayalam',\n",
        "  'mn_MN': 'Mongolian',\n",
        "  'mr_IN': 'Marathi',\n",
        "  'my_MM': 'Burmese',\n",
        "  'ne_NP': 'Nepali',\n",
        "  'nl_XX': 'Dutch',\n",
        "  'pl_PL': 'Polish',\n",
        "  'ps_AF': 'Pashto',\n",
        "  'pt_XX': 'Portuguese',\n",
        "  'ro_RO': 'Romanian',\n",
        "  'ru_RU': 'Russian',\n",
        "  'si_LK': 'Sinhala',\n",
        "  'sl_SI': 'Slovene',\n",
        "  'sv_SE': 'Swedish',\n",
        "  'sw_KE': 'Swahili',\n",
        "  'ta_IN': 'Tamil',\n",
        "  'te_IN': 'Telugu',\n",
        "  'th_TH': 'Thai',\n",
        "  'tl_XX': 'Tagalog',\n",
        "  'tr_TR': 'Turkish',\n",
        "  'uk_UA': 'Ukrainian',\n",
        "  'ur_PK': 'Urdu',\n",
        "  'vi_VN': 'Vietnamese',\n",
        "  'xh_ZA': 'Xhosa',\n",
        "  'zh_CN': 'Chinese'\n",
        "}\n",
        "t2t.Handler([\"I would like to go hiking tomorrow.\"], \n",
        "        src_lang=\"en_XX\"\n",
        "        ).translate(tgt_lang='zh_CN')\n"
      ],
      "execution_count": null,
      "outputs": []
    },
    {
      "cell_type": "code",
      "metadata": {
        "id": "ITtEcKlPWPXR"
      },
      "source": [
        "### Question Answering. Question must follow context with ` [SEP] ` in between.\n",
        "t2t.Handler([\n",
        "         \"Hello, this is Text2Text! [SEP] What is this?\", \n",
        "         \"It works very well. It's awesome! [SEP] How is it?\"\n",
        "         ]).answer()"
      ],
      "execution_count": null,
      "outputs": []
    },
    {
      "cell_type": "code",
      "metadata": {
        "id": "GHAFY6aJOtQQ"
      },
      "source": [
        "t2t.Handler([\"很喜欢陈慧琳唱歌。[SEP] 喜欢做什么?\"], \n",
        "        src_lang=\"zh\",\n",
        "        ).answer()"
      ],
      "execution_count": null,
      "outputs": []
    },
    {
      "cell_type": "code",
      "metadata": {
        "id": "dF_NSzaKPjs2"
      },
      "source": [
        "### Question Generation\n",
        "t2t.Handler([\n",
        "            bio_str,\n",
        "            bio_str,\n",
        "            bio_str,\n",
        "            bio_str,\n",
        "            bio_str,\n",
        "            \"I will go to school today to take my math exam.\",\n",
        "            \"I will go to school today to take my math exam.\",\n",
        "            \"Tomorrow is my cousin's birthday. He will turn 24 years old.\",\n",
        "            notre_dame_str,\n",
        "            bacteria_str,\n",
        "            bacteria_str,\n",
        "            bacteria_str,\n",
        "            \"I will go to school today to take my math exam. [SEP] school\",\n",
        "            \"I will go to school today to take my math exam. [SEP] exam\",\n",
        "            \"I will go to school today to take my math exam. [SEP] math\",\n",
        "          ], src_lang='en').question()"
      ],
      "execution_count": null,
      "outputs": []
    },
    {
      "cell_type": "code",
      "metadata": {
        "id": "GgCh6Co1mDry"
      },
      "source": [
        "t2t.Handler([\"很喜欢陈慧琳唱歌。\"], src_lang='zh').question()"
      ],
      "execution_count": null,
      "outputs": []
    },
    {
      "cell_type": "code",
      "metadata": {
        "id": "JRBEPBFBvBqe"
      },
      "source": [
        "### Summarization\n",
        "t2t.Handler([notre_dame_str, bacteria_str, bio_str], src_lang='en').summarize()"
      ],
      "execution_count": null,
      "outputs": []
    },
    {
      "cell_type": "code",
      "metadata": {
        "id": "--62SmM89Ymd"
      },
      "source": [
        "### Variation\n",
        "# Useful for augmenting training data\n",
        "t2t.Handler([bacteria_str], src_lang='en').variate()"
      ],
      "execution_count": null,
      "outputs": []
    },
    {
      "cell_type": "code",
      "metadata": {
        "id": "v-YPGSntzLKk"
      },
      "source": [
        "### Training / Fine-tuning\n",
        "# Finetune cross-lingual model on your data\n",
        "result = t2t.Handler([\"Hello, World! [TGT] 你好,世界!\"], \n",
        "            src_lang=\"en\",\n",
        "            tgt_lang=\"zh\",\n",
        "            num_epochs=10, \n",
        "            save_directory=\"model_dir\"\n",
        "            ).fit()\n",
        "\n",
        "# load and use model from saved directory\n",
        "t2t.Transformer.PRETRAINED_TRANSLATOR = \"model_dir\"\n",
        "t2t.Handler(\"Hello, World!\").translate(tgt_lang=\"zh\")"
      ],
      "execution_count": null,
      "outputs": []
    }
  ]
}