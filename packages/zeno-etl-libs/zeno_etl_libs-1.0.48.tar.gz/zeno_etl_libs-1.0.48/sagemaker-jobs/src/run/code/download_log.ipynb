{
 "cells": [
  {
   "cell_type": "code",
   "execution_count": 2,
   "id": "e1b34fd3-9ea9-4031-a6fb-e25c2980372c",
   "metadata": {},
   "outputs": [],
   "source": [
    "\"\"\"main wrapper for IPC safety stock reset\"\"\"\n",
    "import sys\n",
    "import datetime\n",
    "import time\n",
    "import re\n",
    "import os"
   ]
  },
  {
   "cell_type": "code",
   "execution_count": 3,
   "id": "9263ecc3-e726-4f14-bad1-69c468dbbcfd",
   "metadata": {},
   "outputs": [],
   "source": [
    "# To add path so that we can improt zeno_etl_libs from local folder\n",
    "sys.path.append('../../../..')"
   ]
  },
  {
   "cell_type": "code",
   "execution_count": 4,
   "id": "f3777bed-f191-4d5d-9b6d-bfbfa9af162f",
   "metadata": {},
   "outputs": [],
   "source": [
    "from zeno_etl_libs.helper.run_notebook import run_notebook"
   ]
  },
  {
   "cell_type": "code",
   "execution_count": 5,
   "id": "967b79bd-db31-445d-bfdc-4cb664a9419e",
   "metadata": {},
   "outputs": [],
   "source": [
    "base = \"/\".join(os.getcwd().split(\"/\")[:-2])"
   ]
  },
  {
   "cell_type": "code",
   "execution_count": 6,
   "id": "5d16f837-0283-48a6-8730-9d84b5499276",
   "metadata": {},
   "outputs": [],
   "source": [
    "output_path = base + \"/run/logs\""
   ]
  },
  {
   "cell_type": "code",
   "execution_count": 7,
   "id": "f2155d94-1f7f-471e-9519-24a917c0891f",
   "metadata": {},
   "outputs": [
    {
     "data": {
      "text/plain": [
       "'./ipc2_ss_main-2022-06-30-13-29-49.ipynb'"
      ]
     },
     "execution_count": 7,
     "metadata": {},
     "output_type": "execute_result"
    }
   ],
   "source": [
    "run_notebook.download_notebook(job_name=\"prod-ipc2-ss-main-2022-06-30-13-29-49\", output=\".\")"
   ]
  },
  {
   "cell_type": "code",
   "execution_count": 17,
   "id": "18def783-8460-4a0c-ae29-c798b21f9f36",
   "metadata": {},
   "outputs": [],
   "source": [
    "a=[]\n",
    "b=tuple(a)"
   ]
  },
  {
   "cell_type": "code",
   "execution_count": 18,
   "id": "2d8b223a-e8ec-4152-888c-27abb5fd1f3a",
   "metadata": {},
   "outputs": [
    {
     "name": "stdout",
     "output_type": "stream",
     "text": [
      "()\n"
     ]
    }
   ],
   "source": [
    "print(b)"
   ]
  },
  {
   "cell_type": "code",
   "execution_count": 19,
   "id": "b382e760-4deb-4b8c-9baf-dac169391639",
   "metadata": {},
   "outputs": [
    {
     "name": "stdout",
     "output_type": "stream",
     "text": [
      "hi\n"
     ]
    }
   ],
   "source": [
    "if not b:\n",
    "    print('hi')"
   ]
  },
  {
   "cell_type": "code",
   "execution_count": null,
   "id": "85243e63-dbd0-48f3-9388-ec0597adf934",
   "metadata": {},
   "outputs": [],
   "source": []
  },
  {
   "cell_type": "code",
   "execution_count": null,
   "id": "ac70a876-987c-4d89-973d-764d298203f0",
   "metadata": {},
   "outputs": [],
   "source": []
  }
 ],
 "metadata": {
  "kernelspec": {
   "display_name": "Python 3 (ipykernel)",
   "language": "python",
   "name": "python3"
  },
  "language_info": {
   "codemirror_mode": {
    "name": "ipython",
    "version": 3
   },
   "file_extension": ".py",
   "mimetype": "text/x-python",
   "name": "python",
   "nbconvert_exporter": "python",
   "pygments_lexer": "ipython3",
   "version": "3.8.13"
  }
 },
 "nbformat": 4,
 "nbformat_minor": 5
}
