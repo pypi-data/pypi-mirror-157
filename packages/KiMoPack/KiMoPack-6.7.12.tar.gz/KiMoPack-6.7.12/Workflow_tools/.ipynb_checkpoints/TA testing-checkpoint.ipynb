{
 "cells": [
  {
   "cell_type": "markdown",
   "metadata": {},
   "source": [
    "### Set standard imports"
   ]
  },
  {
   "cell_type": "code",
   "execution_count": 57,
   "metadata": {},
   "outputs": [
    {
     "name": "stdout",
     "output_type": "stream",
     "text": [
      "Plot_func version 6.7.8\n",
      "was imported from path:\n",
      " H:\\Programs\\Anaconda\\Lib\\site-packages\\KiMoPack\n",
      "The current working folder is:\n",
      " H:\\Dropbox\\coding\\github\\KiMoPack\\Workflow_tools\n",
      "Plot_func version 6.7.8\n",
      "was imported from path:\n",
      " H:\\Programs\\Anaconda\\Lib\\site-packages\\KiMoPack\n",
      "The current working folder is:\n",
      " H:\\Dropbox\\coding\\github\\KiMoPack\\Workflow_tools\n"
     ]
    },
    {
     "data": {
      "text/plain": [
       "<module 'KiMoPack.plot_func' from 'H:\\\\Programs\\\\Anaconda\\\\lib\\\\site-packages\\\\KiMoPack\\\\plot_func.py'>"
      ]
     },
     "execution_count": 57,
     "metadata": {},
     "output_type": "execute_result"
    }
   ],
   "source": [
    "import matplotlib,lmfit\n",
    "import matplotlib.pyplot as plt\n",
    "import numpy as np\n",
    "import pandas as pd\n",
    "%matplotlib qt\n",
    "import KiMoPack.plot_func as pf\n",
    "from importlib import reload\n",
    "reload(pf)\n",
    "#from KiMoPack.plotfunc import pf"
   ]
  },
  {
   "cell_type": "markdown",
   "metadata": {},
   "source": [
    "### Load and inspect Data "
   ]
  },
  {
   "cell_type": "code",
   "execution_count": 58,
   "metadata": {},
   "outputs": [],
   "source": [
    "%matplotlib qt\n",
    "ta=pf.TA('sample_1.SIA',path='Data')   #type filename and path (leave path empty if in the same folder)\n",
    "#ta=pf.TA(\"sample_1.hdf5\",path=\"Data\")  #reload saved projects using the same syntax\n",
    "#ta=pf.TA('gui')                       #use a GUI to select data"
   ]
  },
  {
   "cell_type": "markdown",
   "metadata": {},
   "source": [
    "### perform standard corrections"
   ]
  },
  {
   "cell_type": "code",
   "execution_count": 59,
   "metadata": {},
   "outputs": [],
   "source": [
    "ta.Filter_data(value=20)               #remove bad data\n",
    "ta.Cor_Chirp()                         #correct for arrival time difference ta.Cor_Chirp('gui') allows to choose file \n",
    "ta.Background(uplimit=-0.5)           #substract Background before time_zero\n",
    "#ta.Plot_Interactive()"
   ]
  },
  {
   "cell_type": "markdown",
   "metadata": {},
   "source": [
    "### Shape data and plot Raw images"
   ]
  },
  {
   "cell_type": "code",
   "execution_count": 60,
   "metadata": {},
   "outputs": [],
   "source": [
    "plt.close('all')\n",
    "#ta.rel_wave=[390,420,440,530,580,700,800,950,930,1050]      # use to manually select interesting wavelength for the kinetics\n",
    "ta.wavelength_bin=20                                         # width of wavelength bin in kinetics\n",
    "ta.equal_energy_bin=None\n",
    "ta.wave_nm_bin=5;                                            # rebinning wavelength\n",
    "ta.rel_time=[0.3,0.4,1,3,5,10,20,30,100,300,2000,3000]          # use to manually set interesting times for the spectra\n",
    "ta.time_width_percent=0                                      # rebinning of time_points in percent\n",
    "ta.timelimits=[-1,5000]                                      # use to manually limit the range to plot (and fit)     \n",
    "ta.log_scale=False                                           # use to plot the 2d plots with logarithmic intensity scale\n",
    "ta.bordercut=[400,1100]                                      # use to set the outer wavelength limits\n",
    "ta.scattercut=[525,605]                                      # this region is blanked out to block scatter, this can be a list of regions\n",
    "ta.intensity_range=[0,3e-3]                                  # set a value 5e-3 or a range [-1e-3,5e-3] for 2d plotting\n",
    "ta.Plot_RAW(0,title=None)                                      # Plot Raw Spectra"
   ]
  },
  {
   "cell_type": "code",
   "execution_count": 61,
   "metadata": {},
   "outputs": [],
   "source": [
    "#ta.Plot_Interactive()"
   ]
  },
  {
   "cell_type": "markdown",
   "metadata": {},
   "source": [
    "### Perform fast fitting using independent exponential decay (first order)"
   ]
  },
  {
   "cell_type": "code",
   "execution_count": 62,
   "metadata": {},
   "outputs": [
    {
     "name": "stdout",
     "output_type": "stream",
     "text": [
      "{'A': wavelength in nm  400.703699   402.002929   403.310612   404.626831   \\\n",
      "Time in ps                                                             \n",
      "-1.0000              0.000079     0.000041    -0.000013     0.000042   \n",
      "-0.9000              0.000084     0.000055    -0.000018     0.000053   \n",
      "-0.8000              0.000088     0.000069    -0.000023     0.000064   \n",
      "-0.7000              0.000093     0.000082    -0.000028     0.000068   \n",
      "-0.6000              0.000103    -0.000065    -0.000026    -0.000022   \n",
      "...                       ...          ...          ...          ...   \n",
      " 3738.6990          -0.000115     0.000268     0.000287     0.000181   \n",
      " 3986.2243           0.000071     0.000167     0.000213     0.000378   \n",
      " 4250.1372           0.000218     0.000427     0.000121    -0.000044   \n",
      " 4531.5229           0.000259     0.000274     0.000284     0.000080   \n",
      " 4831.5380           0.000045     0.000221     0.000014     0.000158   \n",
      "\n",
      "wavelength in nm  405.951669   407.285210   408.627542   409.978752   \\\n",
      "Time in ps                                                             \n",
      "-1.0000             -0.000044    -0.000077    -0.000062    -0.000103   \n",
      "-0.9000             -0.000041    -0.000087    -0.000059    -0.000096   \n",
      "-0.8000             -0.000037    -0.000097    -0.000056    -0.000089   \n",
      "-0.7000             -0.000043    -0.000116     0.000039    -0.000016   \n",
      "-0.6000             -0.000105    -0.000102     0.000216     0.000058   \n",
      "...                       ...          ...          ...          ...   \n",
      " 3738.6990           0.000025     0.000227     0.000220     0.000055   \n",
      " 3986.2243           0.000381     0.000476     0.000008     0.000072   \n",
      " 4250.1372           0.000039     0.000234     0.000196    -0.000038   \n",
      " 4531.5229           0.000072     0.000134     0.000064     0.000269   \n",
      " 4831.5380           0.000124     0.000188     0.000214     0.000083   \n",
      "\n",
      "wavelength in nm  411.338927    412.708157   ...   1012.809107  1021.150741  \\\n",
      "Time in ps                                   ...                              \n",
      "-1.0000             -0.000028 -2.179619e-05  ... -2.443990e-07     0.000039   \n",
      "-0.9000             -0.000030 -2.778469e-05  ... -4.334807e-07     0.000008   \n",
      "-0.8000             -0.000032 -3.377319e-05  ...  2.575401e-05     0.000003   \n",
      "-0.7000             -0.000025 -1.086264e-08  ...  7.127684e-06    -0.000045   \n",
      "-0.6000             -0.000064 -4.721941e-05  ... -1.315275e-05    -0.000013   \n",
      "...                       ...           ...  ...           ...          ...   \n",
      " 3738.6990           0.000096  1.468198e-04  ...  1.244575e-05     0.000009   \n",
      " 3986.2243           0.000060  1.974262e-04  ...  1.253223e-04     0.000113   \n",
      " 4250.1372           0.000032  2.442843e-04  ...  3.965067e-05     0.000054   \n",
      " 4531.5229           0.000181  2.390428e-04  ...  8.974664e-05     0.000032   \n",
      " 4831.5380           0.000027  1.777500e-04  ...  1.247761e-04     0.000113   \n",
      "\n",
      "wavelength in nm  1029.630921  1038.253129   1047.020963  1055.938142  \\\n",
      "Time in ps                                                              \n",
      "-1.0000              0.000012     0.000024 -9.569237e-06     0.000017   \n",
      "-0.9000              0.000003    -0.000032 -2.138762e-05     0.000018   \n",
      "-0.8000             -0.000033    -0.000008  2.176324e-07     0.000013   \n",
      "-0.7000              0.000011     0.000039  4.069892e-05     0.000047   \n",
      "-0.6000              0.000016     0.000021  1.363762e-05     0.000053   \n",
      "...                       ...          ...           ...          ...   \n",
      " 3738.6990           0.000049    -0.000015 -2.847683e-05    -0.000008   \n",
      " 3986.2243           0.000114     0.000068  8.986302e-05     0.000119   \n",
      " 4250.1372           0.000034     0.000056  5.550628e-05     0.000103   \n",
      " 4531.5229           0.000044     0.000048  8.054893e-05     0.000019   \n",
      " 4831.5380           0.000181     0.000142  1.131331e-04     0.000135   \n",
      "\n",
      "wavelength in nm  1065.008517  1074.236068  1083.624918  1093.179332  \n",
      "Time in ps                                                            \n",
      "-1.0000             -0.000021    -0.000010    -0.000037    -0.000010  \n",
      "-0.9000              0.000025    -0.000030    -0.000042    -0.000030  \n",
      "-0.8000             -0.000021     0.000015     0.000045     0.000025  \n",
      "-0.7000             -0.000004     0.000059     0.000035     0.000044  \n",
      "-0.6000              0.000012    -0.000006    -0.000001     0.000009  \n",
      "...                       ...          ...          ...          ...  \n",
      " 3738.6990          -0.000027     0.000060     0.000002     0.000039  \n",
      " 3986.2243           0.000053     0.000102     0.000089     0.000077  \n",
      " 4250.1372           0.000052     0.000052     0.000095     0.000086  \n",
      " 4531.5229           0.000019     0.000104     0.000059     0.000037  \n",
      " 4831.5380           0.000119     0.000149     0.000086     0.000114  \n",
      "\n",
      "[174 rows x 166 columns], 'AC': wavelength in nm  400.703699   402.002929   403.310612   404.626831   \\\n",
      "Time in ps                                                             \n",
      "-1.0000              0.000000     0.000000     0.000000     0.000000   \n",
      "-0.9000              0.000000     0.000000     0.000000     0.000000   \n",
      "-0.8000              0.000000     0.000000     0.000000     0.000000   \n",
      "-0.7000              0.000000     0.000000     0.000000     0.000000   \n",
      "-0.6000              0.000000     0.000000     0.000000     0.000000   \n",
      "...                       ...          ...          ...          ...   \n",
      " 3738.6990           0.000126     0.000201     0.000252     0.000157   \n",
      " 3986.2243           0.000126     0.000201     0.000252     0.000157   \n",
      " 4250.1372           0.000126     0.000201     0.000252     0.000157   \n",
      " 4531.5229           0.000126     0.000201     0.000252     0.000157   \n",
      " 4831.5380           0.000126     0.000201     0.000252     0.000157   \n",
      "\n",
      "wavelength in nm  405.951669   407.285210   408.627542   409.978752   \\\n",
      "Time in ps                                                             \n",
      "-1.0000              0.000000     0.000000     0.000000     0.000000   \n",
      "-0.9000              0.000000     0.000000     0.000000     0.000000   \n",
      "-0.8000              0.000000     0.000000     0.000000     0.000000   \n",
      "-0.7000              0.000000     0.000000     0.000000     0.000000   \n",
      "-0.6000              0.000000     0.000000     0.000000     0.000000   \n",
      "...                       ...          ...          ...          ...   \n",
      " 3738.6990           0.000256     0.000217     0.000258     0.000186   \n",
      " 3986.2243           0.000256     0.000217     0.000258     0.000186   \n",
      " 4250.1372           0.000256     0.000217     0.000258     0.000186   \n",
      " 4531.5229           0.000256     0.000217     0.000258     0.000186   \n",
      " 4831.5380           0.000256     0.000217     0.000258     0.000186   \n",
      "\n",
      "wavelength in nm  411.338927   412.708157   ...  1012.809107  1021.150741  \\\n",
      "Time in ps                                  ...                             \n",
      "-1.0000              0.000000     0.000000  ...      0.00000     0.000000   \n",
      "-0.9000              0.000000     0.000000  ...      0.00000     0.000000   \n",
      "-0.8000              0.000000     0.000000  ...      0.00000     0.000000   \n",
      "-0.7000              0.000000     0.000000  ...      0.00000     0.000000   \n",
      "-0.6000              0.000000     0.000000  ...      0.00000     0.000000   \n",
      "...                       ...          ...  ...          ...          ...   \n",
      " 3738.6990           0.000194     0.000188  ...      0.00008     0.000079   \n",
      " 3986.2243           0.000194     0.000188  ...      0.00008     0.000079   \n",
      " 4250.1372           0.000194     0.000188  ...      0.00008     0.000079   \n",
      " 4531.5229           0.000194     0.000188  ...      0.00008     0.000079   \n",
      " 4831.5380           0.000194     0.000188  ...      0.00008     0.000079   \n",
      "\n",
      "wavelength in nm  1029.630921  1038.253129  1047.020963  1055.938142  \\\n",
      "Time in ps                                                             \n",
      "-1.0000              0.000000     0.000000      0.00000     0.000000   \n",
      "-0.9000              0.000000     0.000000      0.00000     0.000000   \n",
      "-0.8000              0.000000     0.000000      0.00000     0.000000   \n",
      "-0.7000              0.000000     0.000000      0.00000     0.000000   \n",
      "-0.6000              0.000000     0.000000      0.00000     0.000000   \n",
      "...                       ...          ...          ...          ...   \n",
      " 3738.6990           0.000079     0.000082      0.00008     0.000088   \n",
      " 3986.2243           0.000079     0.000082      0.00008     0.000088   \n",
      " 4250.1372           0.000079     0.000082      0.00008     0.000088   \n",
      " 4531.5229           0.000079     0.000082      0.00008     0.000088   \n",
      " 4831.5380           0.000079     0.000082      0.00008     0.000088   \n",
      "\n",
      "wavelength in nm  1065.008517  1074.236068  1083.624918  1093.179332  \n",
      "Time in ps                                                            \n",
      "-1.0000              0.000000     0.000000     0.000000      0.00000  \n",
      "-0.9000              0.000000     0.000000     0.000000      0.00000  \n",
      "-0.8000              0.000000     0.000000     0.000000      0.00000  \n",
      "-0.7000              0.000000     0.000000     0.000000      0.00000  \n",
      "-0.6000              0.000000     0.000000     0.000000      0.00000  \n",
      "...                       ...          ...          ...          ...  \n",
      " 3738.6990           0.000075     0.000076     0.000067      0.00008  \n",
      " 3986.2243           0.000075     0.000076     0.000067      0.00008  \n",
      " 4250.1372           0.000075     0.000076     0.000067      0.00008  \n",
      " 4531.5229           0.000075     0.000076     0.000067      0.00008  \n",
      " 4831.5380           0.000075     0.000076     0.000067      0.00008  \n",
      "\n",
      "[174 rows x 166 columns], 'AE': wavelength in nm  400.703699   402.002929   403.310612   404.626831   \\\n",
      "Time in ps                                                             \n",
      "-1.0000              0.000079     0.000041    -0.000013     0.000042   \n",
      "-0.9000              0.000084     0.000055    -0.000018     0.000053   \n",
      "-0.8000              0.000088     0.000069    -0.000023     0.000064   \n",
      "-0.7000              0.000093     0.000082    -0.000028     0.000068   \n",
      "-0.6000              0.000103    -0.000065    -0.000026    -0.000022   \n",
      "...                       ...          ...          ...          ...   \n",
      " 3738.6990          -0.000242     0.000067     0.000035     0.000024   \n",
      " 3986.2243          -0.000056    -0.000034    -0.000039     0.000221   \n",
      " 4250.1372           0.000092     0.000226    -0.000131    -0.000201   \n",
      " 4531.5229           0.000133     0.000073     0.000032    -0.000077   \n",
      " 4831.5380          -0.000082     0.000020    -0.000238     0.000001   \n",
      "\n",
      "wavelength in nm  405.951669   407.285210   408.627542   409.978752   \\\n",
      "Time in ps                                                             \n",
      "-1.0000             -0.000044    -0.000077    -0.000062    -0.000103   \n",
      "-0.9000             -0.000041    -0.000087    -0.000059    -0.000096   \n",
      "-0.8000             -0.000037    -0.000097    -0.000056    -0.000089   \n",
      "-0.7000             -0.000043    -0.000116     0.000039    -0.000016   \n",
      "-0.6000             -0.000105    -0.000102     0.000216     0.000058   \n",
      "...                       ...          ...          ...          ...   \n",
      " 3738.6990          -0.000231     0.000010    -0.000038    -0.000132   \n",
      " 3986.2243           0.000126     0.000259    -0.000250    -0.000115   \n",
      " 4250.1372          -0.000217     0.000017    -0.000063    -0.000224   \n",
      " 4531.5229          -0.000183    -0.000083    -0.000195     0.000083   \n",
      " 4831.5380          -0.000131    -0.000029    -0.000044    -0.000104   \n",
      "\n",
      "wavelength in nm  411.338927    412.708157   ...   1012.809107  1021.150741  \\\n",
      "Time in ps                                   ...                              \n",
      "-1.0000             -0.000028 -2.179619e-05  ... -2.443990e-07     0.000039   \n",
      "-0.9000             -0.000030 -2.778469e-05  ... -4.334807e-07     0.000008   \n",
      "-0.8000             -0.000032 -3.377319e-05  ...  2.575401e-05     0.000003   \n",
      "-0.7000             -0.000025 -1.086264e-08  ...  7.127684e-06    -0.000045   \n",
      "-0.6000             -0.000064 -4.721941e-05  ... -1.315275e-05    -0.000013   \n",
      "...                       ...           ...  ...           ...          ...   \n",
      " 3738.6990          -0.000099 -4.096526e-05  ... -6.750467e-05    -0.000070   \n",
      " 3986.2243          -0.000134  9.641176e-06  ...  4.537184e-05     0.000034   \n",
      " 4250.1372          -0.000162  5.649920e-05  ... -4.029975e-05    -0.000025   \n",
      " 4531.5229          -0.000013  5.125771e-05  ...  9.796221e-06    -0.000047   \n",
      " 4831.5380          -0.000167 -1.003506e-05  ...  4.482565e-05     0.000034   \n",
      "\n",
      "wavelength in nm  1029.630921  1038.253129   1047.020963  1055.938142  \\\n",
      "Time in ps                                                              \n",
      "-1.0000              0.000012     0.000024 -9.569237e-06     0.000017   \n",
      "-0.9000              0.000003    -0.000032 -2.138762e-05     0.000018   \n",
      "-0.8000             -0.000033    -0.000008  2.176324e-07     0.000013   \n",
      "-0.7000              0.000011     0.000039  4.069892e-05     0.000047   \n",
      "-0.6000              0.000016     0.000021  1.363762e-05     0.000053   \n",
      "...                       ...          ...           ...          ...   \n",
      " 3738.6990          -0.000030    -0.000097 -1.081885e-04    -0.000096   \n",
      " 3986.2243           0.000035    -0.000015  1.015131e-05     0.000031   \n",
      " 4250.1372          -0.000045    -0.000026 -2.420542e-05     0.000015   \n",
      " 4531.5229          -0.000035    -0.000035  8.372250e-07    -0.000069   \n",
      " 4831.5380           0.000102     0.000060  3.342136e-05     0.000047   \n",
      "\n",
      "wavelength in nm  1065.008517  1074.236068  1083.624918  1093.179332  \n",
      "Time in ps                                                            \n",
      "-1.0000             -0.000021    -0.000010    -0.000037    -0.000010  \n",
      "-0.9000              0.000025    -0.000030    -0.000042    -0.000030  \n",
      "-0.8000             -0.000021     0.000015     0.000045     0.000025  \n",
      "-0.7000             -0.000004     0.000059     0.000035     0.000044  \n",
      "-0.6000              0.000012    -0.000006    -0.000001     0.000009  \n",
      "...                       ...          ...          ...          ...  \n",
      " 3738.6990          -0.000101    -0.000016    -0.000065    -0.000041  \n",
      " 3986.2243          -0.000022     0.000026     0.000022    -0.000003  \n",
      " 4250.1372          -0.000022    -0.000024     0.000028     0.000006  \n",
      " 4531.5229          -0.000056     0.000028    -0.000008    -0.000043  \n",
      " 4831.5380           0.000045     0.000073     0.000019     0.000034  \n",
      "\n",
      "[174 rows x 166 columns], 'DAC':                          0         1         2\n",
      "wavelength in nm                              \n",
      "400.703699        0.000360  0.001963  0.000126\n",
      "402.002929        0.000332  0.001866  0.000201\n",
      "403.310612        0.000331  0.001849  0.000252\n",
      "404.626831        0.000285  0.001844  0.000157\n",
      "405.951669        0.000264  0.001896  0.000256\n",
      "...                    ...       ...       ...\n",
      "1055.938142       0.000105  0.000681  0.000088\n",
      "1065.008517       0.000093  0.000659  0.000075\n",
      "1074.236068       0.000110  0.000664  0.000076\n",
      "1083.624918       0.000084  0.000677  0.000067\n",
      "1093.179332       0.000109  0.000658  0.000080\n",
      "\n",
      "[166 rows x 3 columns], 'error': 5.554383347278396e-05, 'c':               0             1    2\n",
      "Time in ps                        \n",
      "-1.0000     0.0  0.000000e+00  0.0\n",
      "-0.9000     0.0  0.000000e+00  0.0\n",
      "-0.8000     0.0  0.000000e+00  0.0\n",
      "-0.7000     0.0  0.000000e+00  0.0\n",
      "-0.6000     0.0  0.000000e+00  0.0\n",
      "...         ...           ...  ...\n",
      " 3738.6990  0.0  3.924775e-26  1.0\n",
      " 3986.2243  0.0  8.161428e-28  1.0\n",
      " 4250.1372  0.0  1.313277e-29  1.0\n",
      " 4531.5229  0.0  1.607720e-31  1.0\n",
      " 4831.5380  0.0  1.470515e-33  1.0\n",
      "\n",
      "[174 rows x 3 columns], 'r2': 0.9952297210668329, 'fit_output': <lmfit.minimizer.MinimizerResult object at 0x000001CAC7285FD0>, 'fit_results_rates':                value is_rate   min  max   vary  expr init_value\n",
      "k0          0.324761    True     0  inf   True  None       10.0\n",
      "k1          0.015647    True     0  inf   True  None        0.4\n",
      "k2               0.0    True     0  inf   True  None      0.025\n",
      "t0                 0   False    -2    2  False  None          0\n",
      "resolution     0.086   False  0.04  0.5  False  None      0.086, 'fit_results_times':                           value is_rate   min  max   vary  expr init_value\n",
      "k0                     3.079189    True   0.0  inf   True  None        0.1\n",
      "k1                     63.90949    True   0.0  inf   True  None        2.5\n",
      "k2          509053874462.585754    True   0.0  inf   True  None       40.0\n",
      "t0                            0   False    -2    2  False  None          0\n",
      "resolution                0.086   False  0.04  0.5  False  None      0.086}\n",
      "\n",
      "Fit Results:\n",
      "Model Used: exponential\n",
      "\n",
      "the time between -0.100 ps and 0.500 ps was excluded from the optimization\n",
      "\n",
      "The minimum error is:5.55438335e-05\n",
      "The minimum R2-value is:9.95229721e-01\n",
      "\n",
      "In Rates\n",
      "\n",
      "               value init_value   vary   min  max  expr\n",
      "k0          0.324761       10.0   True     0  inf  None\n",
      "k1          0.015647        0.4   True     0  inf  None\n",
      "k2               0.0      0.025   True     0  inf  None\n",
      "t0                 0          0  False    -2    2  None\n",
      "resolution     0.086      0.086  False  0.04  0.5  None\n",
      "\n",
      "The rates converted to times with unit ps\n",
      "\n",
      "                          value init_value   vary   min  max  expr\n",
      "k0                     3.079189        0.1   True   0.0  inf  None\n",
      "k1                     63.90949        2.5   True   0.0  inf  None\n",
      "k2          509053874462.585754       40.0   True   0.0  inf  None\n",
      "t0                            0          0  False    -2    2  None\n",
      "resolution                0.086      0.086  False  0.04  0.5  None\n"
     ]
    }
   ],
   "source": [
    "plt.close('all')                                             # Close old spectra\n",
    "ta.mod='exponential'                                         # Choose the model 'exponential', 'consecutive' and 'fast_consecutive'are build in\n",
    "par=lmfit.Parameters()                                       # create empty parameter object\n",
    "\n",
    "par.add('k0',value=1/0.1,vary=True)                                # Add second rate component\n",
    "par.add('k1',value=1/2.5,vary=True)                                # Add one rate component\n",
    "par.add('k2',value=1/40,vary=True)                                 # Add second rate component\n",
    "par.add('t0',value=0,min=-2,max=2,vary=False)                       # Allow the arrival time to adjust (for all)\n",
    "par.add('resolution',value=0.086,min=0.04,max=0.5,vary=False)       # Allow the instrument response to adjust (for all)\n",
    "#par.add('infinite')                                                # Keyword for an non decaying component\n",
    "#par.add('background')                                             # Keyword to fit the Background Disable the background substraction in the loading cell for best effect\n",
    "#ta.timelimits=[0.2,5000]                                      # select time window in which to fit\n",
    "ta.ignore_time_region=[-0.1,0.5]                              # ignore the region over t0 for the fit\n",
    "ta.log_fit=False                                               # fit in linear or log scale\n",
    "if 0:\n",
    "    for key in par.keys():\n",
    "        par[key].vary=False\n",
    "ta.par=par                                                     # write parameter object into file for fitting\n",
    "ta.Fit_Global(fit_chirp=False)                                 # trigger fitting\n",
    "\n",
    "ta.error_matrix_amplification=10;                              # Choose how much stronger should error be plotted       \n",
    "ta.log_scale=False                                             # 2D plots in linear or log scale\n",
    "ta.Plot_fit_output()                                 # plot the fit output"
   ]
  },
  {
   "cell_type": "code",
   "execution_count": 56,
   "metadata": {},
   "outputs": [
    {
     "data": {
      "text/plain": [
       "dict_keys(['A', 'AC', 'AE', 'DAC', 'error', 'c', 'r2', 'fit_output', 'fit_results_rates', 'fit_results_times'])"
      ]
     },
     "execution_count": 56,
     "metadata": {},
     "output_type": "execute_result"
    }
   ],
   "source": [
    "ta.re.keys()"
   ]
  },
  {
   "cell_type": "code",
   "execution_count": null,
   "metadata": {},
   "outputs": [],
   "source": [
    "x=ta.ds.index.values\n",
    "len(np.unique(x[1:]-x[:-1]))"
   ]
  },
  {
   "cell_type": "code",
   "execution_count": null,
   "metadata": {},
   "outputs": [],
   "source": [
    "par=lmfit.Parameters() \n",
    "par.add('k0',value=1/0.1,vary=True)                                \n",
    "par.add('k1',value=1/2.5,vary=True)\n",
    "par.add('k2',value=1/100,vary=True)\n",
    "par.add('infinite')                               \n",
    "par.add('t0',value=0,min=-2,max=2,vary=False)                 \n",
    "par.add('resolution',value=0.086,min=0.04,max=0.5,vary=False)\n",
    "ta.par=par # write parameter object into file for fitting\n",
    "ta.Fit_Global(fit_chirp=False,confidence_level=0.95) "
   ]
  },
  {
   "cell_type": "code",
   "execution_count": null,
   "metadata": {},
   "outputs": [],
   "source": [
    "plt.close('all')\n",
    "ta.cmap=pf.cm.gist_ncar\n",
    "ta.intensity_range=3e-3\n",
    "ta.Plot_fit_output()"
   ]
  },
  {
   "cell_type": "markdown",
   "metadata": {},
   "source": [
    "### export the results as images and save the project"
   ]
  },
  {
   "cell_type": "code",
   "execution_count": null,
   "metadata": {},
   "outputs": [],
   "source": []
  },
  {
   "cell_type": "code",
   "execution_count": null,
   "metadata": {},
   "outputs": [],
   "source": [
    "#ta.filename='new'+ta.filename\n",
    "ta.Save_project()                     # This saves the whole project including raw data, fits and chirp correction into a single file"
   ]
  },
  {
   "cell_type": "code",
   "execution_count": null,
   "metadata": {},
   "outputs": [],
   "source": [
    "ta.Save_Plots(savetype='png')         # This saves all the figures and a overview powerpoint savetype=['png','svg']"
   ]
  },
  {
   "cell_type": "markdown",
   "metadata": {},
   "source": [
    "### Perform Error analysis and calculate confidence interval"
   ]
  },
  {
   "cell_type": "code",
   "execution_count": null,
   "metadata": {},
   "outputs": [],
   "source": [
    "ta.par=ta.par_fit #write the best results back as starting parameter\n",
    "ta.Fit_Global(confidence_level=0.65)"
   ]
  },
  {
   "cell_type": "markdown",
   "metadata": {},
   "source": [
    "### Perform fast iterative fitting using independent exponential decay and optimise the chirp"
   ]
  },
  {
   "cell_type": "code",
   "execution_count": null,
   "metadata": {},
   "outputs": [],
   "source": [
    "ta1=ta.Copy()                          # Make a copy of the fitting ptoject to test less stable things\n",
    "ta1.timelimits=None                    # To optimise the chirp the region around time-zero must be included\n",
    "ta1.ignore_time_region=None            # To optimise the chirp the region around time-zero must be included\n",
    "ta1.par=ta.par_fit                     # copy fitted parameter into a new fit (e.g. different model)\n",
    "ta1.Fit_Global(fit_chirp=True)         # trigger fitting with Chirp optimization best using 'exponential' for speed\n",
    "ta1.Plot_fit_output(title=None)        # plot the fit output"
   ]
  },
  {
   "cell_type": "code",
   "execution_count": null,
   "metadata": {},
   "outputs": [],
   "source": [
    "ta=ta1.Copy() # if successful they can always be written back"
   ]
  },
  {
   "cell_type": "markdown",
   "metadata": {},
   "source": [
    "### Perform fast fitting using consecutative exponential decay to obtain species associated spectrum assuming a simple model"
   ]
  },
  {
   "cell_type": "code",
   "execution_count": null,
   "metadata": {},
   "outputs": [],
   "source": [
    "ta.mod='consecutive'             # very quick fit using independent exponential followed by one round of sequential\n",
    "ta.par=ta.par_fit                # copy fitted parameter into a new fit (e.g. different model)\n",
    "ta.Fit_Global(fit_chirp=False)   # The iterative chrip is best optimised using 'exponential'\n",
    "ta.Plot_fit_output(title=None)   # plot the fit output"
   ]
  },
  {
   "cell_type": "code",
   "execution_count": null,
   "metadata": {},
   "outputs": [],
   "source": [
    "ta.par=ta.par_fit\n",
    "ta.mod='full_consecutive'        # Truely consecutative fitting, usually much slower\n",
    "ta.Fit_Global(fit_chirp=False)   \n",
    "ta.Plot_fit_output(title=None)"
   ]
  },
  {
   "cell_type": "markdown",
   "metadata": {},
   "source": [
    "### Sometimes required options applicable also to fit plotting"
   ]
  },
  {
   "cell_type": "code",
   "execution_count": null,
   "metadata": {},
   "outputs": [],
   "source": [
    "#ta.Man_Chirp()                   # used to redo the chirp-correction\n",
    "#ta.Save_data()                   # used to dump the Data and fits to disk\n",
    "\n",
    "#ta.cmap=pf.cm.viridis            # use different colour scheme (can also be a list of colours)\n",
    "#pf.changefonts(weight='bold',font='standard',SMALL_SIZE=18,MEDIUM_SIZE=18,LARGE_SIZE=18)  "
   ]
  },
  {
   "cell_type": "code",
   "execution_count": null,
   "metadata": {},
   "outputs": [],
   "source": [
    "ta.Save_Powerpoint()"
   ]
  }
 ],
 "metadata": {
  "ipub": {
   "titlepage": {
    "author": "Jens Uhlig",
    "email": "jens.uhlig@chemphys.lu.se",
    "logo": "http://www.jensuhlig.de//hot_warm_cold.png",
    "subtitle": "Main Worksheet",
    "title": "Transient Absorption Worksheet"
   }
  },
  "kernelspec": {
   "display_name": "Python 3 (ipykernel)",
   "language": "python",
   "name": "python3"
  },
  "language_info": {
   "codemirror_mode": {
    "name": "ipython",
    "version": 3
   },
   "file_extension": ".py",
   "mimetype": "text/x-python",
   "name": "python",
   "nbconvert_exporter": "python",
   "pygments_lexer": "ipython3",
   "version": "3.9.12"
  }
 },
 "nbformat": 4,
 "nbformat_minor": 2
}
