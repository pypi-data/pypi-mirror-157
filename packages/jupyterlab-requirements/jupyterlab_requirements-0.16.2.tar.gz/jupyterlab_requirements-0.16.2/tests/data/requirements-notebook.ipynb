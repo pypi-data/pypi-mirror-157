{
 "cells": [
  {
   "cell_type": "code",
   "execution_count": 2,
   "id": "9b5f8d11-e896-4400-b6c8-84affba6c237",
   "metadata": {},
   "outputs": [
    {
     "data": {
      "text/plain": [
       "'{\"packages\": {\"boto3\": \"*\"}, \"dev-packages\": {}, \"source\": [{\"url\": \"https://pypi.org/simple\", \"verify_ssl\": true, \"name\": \"pypi\"}], \"requires\": {\"python_version\": \"3.8\"}}'"
      ]
     },
     "execution_count": 2,
     "metadata": {},
     "output_type": "execute_result"
    }
   ],
   "source": [
    "%horus requirements --add boto3"
   ]
  },
  {
   "cell_type": "code",
   "execution_count": null,
   "id": "3cef4762-fcea-4305-8e5d-da34c7ee2b57",
   "metadata": {},
   "outputs": [],
   "source": []
  }
 ],
 "metadata": {
  "kernelspec": {
   "display_name": "Python 3 (ipykernel)",
   "language": "python",
   "name": "python3"
  },
  "language_info": {
   "codemirror_mode": {
    "name": "ipython",
    "version": 3
   },
   "file_extension": ".py",
   "mimetype": "text/x-python",
   "name": "python",
   "nbconvert_exporter": "python",
   "pygments_lexer": "ipython3",
   "version": "3.8.12"
  },
  "requirements": "{\"packages\":{\"boto3\":\"*\"},\"dev-packages\":{},\"source\":[{\"url\":\"https://pypi.org/simple\",\"verify_ssl\":true,\"name\":\"pypi\"}],\"requires\":{\"python_version\":\"3.8\"}}"
 },
 "nbformat": 4,
 "nbformat_minor": 5
}
