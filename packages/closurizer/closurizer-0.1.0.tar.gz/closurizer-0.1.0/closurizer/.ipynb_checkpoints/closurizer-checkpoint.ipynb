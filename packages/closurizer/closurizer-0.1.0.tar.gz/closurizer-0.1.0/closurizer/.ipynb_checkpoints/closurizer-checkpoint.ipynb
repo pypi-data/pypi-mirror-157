{
 "cells": [
  {
   "cell_type": "code",
   "execution_count": 1,
   "id": "8ff53d71",
   "metadata": {},
   "outputs": [
    {
     "name": "stdout",
     "output_type": "stream",
     "text": [
      "Collecting petl\n",
      "  Downloading petl-1.7.10.tar.gz (407 kB)\n",
      "\u001b[2K     \u001b[38;2;114;156;31m━━━━━━━━━━━━━━━━━━━━━━━━━━━━━━━━━━━━━━━\u001b[0m \u001b[32m407.3/407.3 KB\u001b[0m \u001b[31m1.8 MB/s\u001b[0m eta \u001b[36m0:00:00\u001b[0m MB/s\u001b[0m eta \u001b[36m0:00:01\u001b[0m:01\u001b[0m\n",
      "\u001b[?25h  Installing build dependencies ... \u001b[?25ldone\n",
      "\u001b[?25h  Getting requirements to build wheel ... \u001b[?25ldone\n",
      "\u001b[?25h  Preparing metadata (pyproject.toml) ... \u001b[?25ldone\n",
      "\u001b[?25hBuilding wheels for collected packages: petl\n",
      "  Building wheel for petl (pyproject.toml) ... \u001b[?25ldone\n",
      "\u001b[?25h  Created wheel for petl: filename=petl-1.7.10-py3-none-any.whl size=225508 sha256=8d5e0488dfe95c12832c30e66ad124ed1655d779b4845713c2780b4c661a2133\n",
      "  Stored in directory: /Users/kschaper/Library/Caches/pip/wheels/31/65/ea/a02ce75ec54c6f68ea44ea586f5fa1cb9ff1a38fdf269fd27d\n",
      "Successfully built petl\n",
      "Installing collected packages: petl\n",
      "Successfully installed petl-1.7.10\n",
      "\u001b[33mWARNING: You are using pip version 22.0.4; however, version 22.1.2 is available.\n",
      "You should consider upgrading via the '/Users/kschaper/Documents/Monarch/schema-automator/.venv/bin/python -m pip install --upgrade pip' command.\u001b[0m\u001b[33m\n",
      "\u001b[0m"
     ]
    }
   ],
   "source": [
    "!pip install petl\n"
   ]
  },
  {
   "cell_type": "code",
   "execution_count": 3,
   "id": "3485a3c8",
   "metadata": {},
   "outputs": [
    {
     "ename": "ModuleNotFoundError",
     "evalue": "No module named 'petl'",
     "output_type": "error",
     "traceback": [
      "\u001b[0;31m---------------------------------------------------------------------------\u001b[0m",
      "\u001b[0;31mModuleNotFoundError\u001b[0m                       Traceback (most recent call last)",
      "\u001b[0;32m<ipython-input-3-e8f7148ca427>\u001b[0m in \u001b[0;36m<module>\u001b[0;34m\u001b[0m\n\u001b[0;32m----> 1\u001b[0;31m \u001b[0;32mimport\u001b[0m \u001b[0mpetl\u001b[0m \u001b[0;32mas\u001b[0m \u001b[0metl\u001b[0m\u001b[0;34m\u001b[0m\u001b[0;34m\u001b[0m\u001b[0m\n\u001b[0m\u001b[1;32m      2\u001b[0m \u001b[0;32mimport\u001b[0m \u001b[0msqlite3\u001b[0m\u001b[0;34m\u001b[0m\u001b[0;34m\u001b[0m\u001b[0m\n\u001b[1;32m      3\u001b[0m \u001b[0;34m\u001b[0m\u001b[0m\n\u001b[1;32m      4\u001b[0m \u001b[0mclosure_file\u001b[0m \u001b[0;34m=\u001b[0m \u001b[0;34m\"monarch-ontology-relations-non-redundant.tsv\"\u001b[0m\u001b[0;34m\u001b[0m\u001b[0;34m\u001b[0m\u001b[0m\n\u001b[1;32m      5\u001b[0m \u001b[0;34m\u001b[0m\u001b[0m\n",
      "\u001b[0;31mModuleNotFoundError\u001b[0m: No module named 'petl'"
     ]
    }
   ],
   "source": [
    "import petl as etl\n",
    "import sqlite3\n",
    "\n",
    "closure_file = \"monarch-ontology-relations-non-redundant.tsv\"\n",
    "\n",
    "sqlite = sqlite3.connect(\"closurizer.db\")\n",
    "closure_table = etl.fromtsv(closure_file)\n",
    "etl.todb(closure_table, sqlite, \"closure\")"
   ]
  },
  {
   "cell_type": "code",
   "execution_count": 4,
   "id": "0cee773d",
   "metadata": {},
   "outputs": [
    {
     "name": "stdout",
     "output_type": "stream",
     "text": [
      "/Users/kschaper/Documents/Monarch/schema-automator/.venv/bin/python\r\n"
     ]
    }
   ],
   "source": [
    "!which python"
   ]
  },
  {
   "cell_type": "code",
   "execution_count": null,
   "id": "48bf1a90",
   "metadata": {},
   "outputs": [],
   "source": []
  }
 ],
 "metadata": {
  "kernelspec": {
   "display_name": "Python 3",
   "language": "python",
   "name": "python3"
  },
  "language_info": {
   "codemirror_mode": {
    "name": "ipython",
    "version": 3
   },
   "file_extension": ".py",
   "mimetype": "text/x-python",
   "name": "python",
   "nbconvert_exporter": "python",
   "pygments_lexer": "ipython3",
   "version": "3.9.6"
  }
 },
 "nbformat": 4,
 "nbformat_minor": 5
}
