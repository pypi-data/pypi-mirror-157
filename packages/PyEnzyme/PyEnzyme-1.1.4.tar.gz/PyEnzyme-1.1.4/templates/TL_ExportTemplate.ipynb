{
 "cells": [
  {
   "cell_type": "markdown",
   "source": [
    "# _PyEnzyme_ - Export template\n",
    "\n",
    "#### Usage\n",
    "\n",
    "- This template offers all functionalities to write information to a given EnzymeML document. \n",
    "- Simply reduce the template to your application-specific variables and map these to your own application."
   ],
   "metadata": {}
  },
  {
   "cell_type": "markdown",
   "source": [
    "------------------------------"
   ],
   "metadata": {}
  },
  {
   "cell_type": "code",
   "execution_count": null,
   "source": [
    "from pyenzyme.enzymeml.core import EnzymeMLDocument, Vessel, Protein, Reactant, EnzymeReaction, Creator, Replicate\n",
    "from pyenzyme.enzymeml.models import KineticModel\n",
    "from pyenzyme.enzymeml.tools import EnzymeMLWriter"
   ],
   "outputs": [],
   "metadata": {}
  },
  {
   "cell_type": "markdown",
   "source": [
    "## Initialize EnzymeML document\n",
    "\n",
    "- The blank EnzymeMLDocument object serves as a container for all those objects to be added\n",
    "- Simply pre-define your objects such as proteins, reactants or reactions and call the addX function\n",
    "- Units will be parsed automatically if they align with the follow convention\n",
    "\n",
    "    Unit / Unit => e.g. mole / l\n",
    "    \n",
    "    **!! Please make sure to separate each word or \"/\" via space !!**"
   ],
   "metadata": {}
  },
  {
   "cell_type": "code",
   "execution_count": null,
   "source": [
    "enzmldoc = EnzymeMLDocument(\"Your experiment name\")"
   ],
   "outputs": [],
   "metadata": {}
  },
  {
   "cell_type": "markdown",
   "source": [
    "## User information\n",
    "\n",
    "Information about the creators of a given EnzymeML document is stored within a list of _Creator_ objects. Via the _setCreator_ function the creator is added to the document. Note, that you can also enter a list of _Creator_ objects.\n",
    "\n",
    "Attributes:\n",
    "    - Given name\n",
    "    - last name\n",
    "    - E-mail"
   ],
   "metadata": {}
  },
  {
   "cell_type": "code",
   "execution_count": null,
   "source": [
    "creator_1 = Creator(family_name=\"ML\", given_name=\"Enzyme\", mail=\"EnzymeML@PyEnzyme\")\n",
    "creator_2 = Creator(family_name=\"Musterman\", given_name=\"Max\", mail=\"Max.Mustermann@PyEnzyme\")\n",
    "\n",
    "creators =  [ creator_1, creator_2 ] # for multiple creators use a list\n",
    "\n",
    "enzmldoc.setCreator( creators )"
   ],
   "outputs": [],
   "metadata": {}
  },
  {
   "cell_type": "markdown",
   "source": [
    "## Vessel\n",
    "\n",
    "- In order to add vessel information to you EnzymeML document, pre-define each by creating an instance of a _Vessel_ object.\n",
    "- When finished, simply set the _Vessel_ object to the _EnzymeMLDocument_ object via its _setVessel_ method.\n",
    "- Units are parsed and added to the _UnitDictionary_ by the backend.\n",
    "\n",
    "Attributes:\n",
    "    - Name: Systematic name of vessel\n",
    "    - Size: Value of size\n",
    "    - Unit: Size defining unit (e.g. volumetric such as 'ml')\n",
    "    "
   ],
   "metadata": {}
  },
  {
   "cell_type": "code",
   "execution_count": null,
   "source": [
    "vessel = Vessel( \n",
    "\n",
    "                name=\"Reaction Vessel\", \n",
    "                id_=\"v0\", \n",
    "                size=1.0, \n",
    "                unit='ml' \n",
    "    \n",
    "            )"
   ],
   "outputs": [],
   "metadata": {}
  },
  {
   "cell_type": "code",
   "execution_count": null,
   "source": [
    "vessel_id = enzmldoc.setVessel(vessel)"
   ],
   "outputs": [],
   "metadata": {}
  },
  {
   "cell_type": "markdown",
   "source": [
    "## Proteins\n",
    "\n",
    "- In order to add protein information to you EnzymeML document, pre-define each by creating an instance of a _Protein_ object. \n",
    "- When finished, simply add the _Protein_ object via the _addProtein_ function of the _EnzymeMLDocument_ object. \n",
    "- Units are parsed and added to the _UnitDictionary_ as well as internal IDs given by the backend.\n",
    "\n",
    "Attributes:\n",
    "    - ID: Internal identifier\n",
    "    - Name: Systematic name of protein\n",
    "    - Conc(entration): Value of initial concentration\n",
    "    - Unit: Name of the concentration unit \n",
    "    - Sequence: Protein aminoacid sequence\n",
    "    - Vessel: Name of vessel used in experiment"
   ],
   "metadata": {}
  },
  {
   "cell_type": "code",
   "execution_count": null,
   "source": [
    "protein_1 = Protein(\n",
    "    \n",
    "                    name=\"EnzymeMLase\", \n",
    "                    sequence=\"ENZYMEML\", \n",
    "                    vessel=vessel_id, \n",
    "                    init_conc=1.0, \n",
    "                    substanceunits=\"mmole / l\",\n",
    "                    organism=\"E.coli\",\n",
    "                    ecnumber=\"EC:1.2.2.4\"\n",
    "                    \n",
    "                    )"
   ],
   "outputs": [],
   "metadata": {}
  },
  {
   "cell_type": "code",
   "execution_count": null,
   "source": [
    "protein_1 = enzmldoc.addProtein(protein_1)"
   ],
   "outputs": [],
   "metadata": {}
  },
  {
   "cell_type": "markdown",
   "source": [
    "----------"
   ],
   "metadata": {}
  },
  {
   "cell_type": "markdown",
   "source": [
    "**Important**\n",
    "\n",
    "- When adding reactants the function will return the ID\n",
    "- Store the ID to use it later on in a reaction \n",
    "\n",
    "--------"
   ],
   "metadata": {}
  },
  {
   "cell_type": "markdown",
   "source": [
    "## Reactants\n",
    "\n",
    "- In order to add reactant information to you EnzymeML document, pre-define each by creating an instance of a _Reactant_ object. \n",
    "- When finished, simply add the _Reactant_ object via the _addReactant_ function of the _EnzymeMLDocument_ object. \n",
    "- Units are parsed and added to the _UnitDictionary_ as well as internal IDs given by the backend.\n",
    "\n",
    "Attributes:\n",
    "    - Name: Systematic name of protein\n",
    "    - Compartment ID: Internal ID of you pre-defined Vessel\n",
    "    - Initial concentration: Value of the initial concentration\n",
    "    - Substance Unit: Name of the concentration unit \n",
    "    - Constant: Whether or not the substance is at constant concentration\n",
    "    \n",
    "    - Inchi: String defining the INCHI-encoded molecular composition\n",
    "    - Smiles: String defining the SMILES-encoded molecular composition"
   ],
   "metadata": {}
  },
  {
   "cell_type": "code",
   "execution_count": null,
   "source": [
    "reactant_1 = Reactant(\n",
    "                        \n",
    "                        name=\"Reactant1\", \n",
    "                        vessel=vessel_id, \n",
    "                        init_conc=1.0, \n",
    "                        substanceunits=\"mmole / l\",\n",
    "                        constant=True,\n",
    "                        inchi=\"INCHI\",\n",
    "                        smiles=\"SMILES\"\n",
    "    \n",
    "                    )"
   ],
   "outputs": [],
   "metadata": {}
  },
  {
   "cell_type": "code",
   "execution_count": null,
   "source": [
    "reactant_1 = enzmldoc.addReactant(reactant_1)"
   ],
   "outputs": [],
   "metadata": {}
  },
  {
   "cell_type": "markdown",
   "source": [
    "-------"
   ],
   "metadata": {}
  },
  {
   "cell_type": "markdown",
   "source": [
    "**Important**\n",
    "\n",
    "- When adding reactants the function will return the ID\n",
    "- Store the ID to use it later on in a reaction"
   ],
   "metadata": {}
  },
  {
   "cell_type": "markdown",
   "source": [
    "---------"
   ],
   "metadata": {}
  },
  {
   "cell_type": "markdown",
   "source": [
    "## Reactions\n",
    "\n",
    "- In order to add reactant information to you EnzymeML document, pre-define each by creating an instance of a _EnzymeReaction_ object. \n",
    "- When finished, simply add the _EnzymeReaction_ object via the _addReaction_ function of the _EnzymeMLDocument_ object. \n",
    "- Units are parsed and added to the _UnitDictionary_ as well as internal IDs given by the backend.\n",
    "\n",
    "\n",
    "Attributes:\n",
    "    \n",
    "    - Name: Reaction name\n",
    "    - Temperature: Value of temperature\n",
    "    - Temp Unit: Unit defining the temperature\n",
    "    - pH: Value of pH\n",
    "    - Reversible: Whether or not the reaction is reversible\n",
    "    "
   ],
   "metadata": {}
  },
  {
   "cell_type": "code",
   "execution_count": null,
   "source": [
    "reaction_1 = EnzymeReaction(\n",
    "    \n",
    "                            name=\"Reaction1\",\n",
    "                            temperature=20.0, \n",
    "                            tempunit=\"C\", \n",
    "                            ph=7.0, \n",
    "                            reversible=True\n",
    "    \n",
    "                            )"
   ],
   "outputs": [],
   "metadata": {}
  },
  {
   "cell_type": "markdown",
   "source": [
    "### Building reaction\n",
    "\n",
    "- In _PyEnzyme_ reactions are built by using the pre-defined reactants and protein. \n",
    "- Educts, products as well as modifiers such as a protein or buffer are added to the reaction via the respective _addXX_ method inherited by the _EnzymeReaction_ object.\n",
    "- **If you previously stored reactant/protein IDs (returned by the _addXX_ function) make sure you use them when building reactions to guarantee consistency**\n",
    "\n",
    "Attributes\n",
    "\n",
    "    - ID: Internal ID of educt/product/modifier\n",
    "    - Stoichiometry: Floating point number defining stoichiometry\n",
    "    - Constant: Whether or not the participant is constant\n",
    "    - enzmldoc: EnzymeMLDocument class to which it is added. Checks consistency of IDs.\n",
    "    "
   ],
   "metadata": {}
  },
  {
   "cell_type": "code",
   "execution_count": null,
   "source": [
    "reaction_1.addEduct( \n",
    "    \n",
    "                    speciesID=reactant_1, \n",
    "                    stoichiometry=1.0, \n",
    "                    isConstant=False, \n",
    "                    enzmldoc=enzmldoc \n",
    "    \n",
    "                    )\n",
    "\n",
    "reaction_1.addModifier(\n",
    "    \n",
    "                    speciesID=protein_1,\n",
    "                    stoichiometry=1.0,\n",
    "                    isConstant=True,\n",
    "                    enzmldoc=enzmldoc\n",
    "    \n",
    "                    )"
   ],
   "outputs": [],
   "metadata": {}
  },
  {
   "cell_type": "markdown",
   "source": [
    "### Add replicate data\n",
    "\n",
    "- In order to add replicates and time course data, pre-define the _Replicate_ object and set its data via the objects method _setData_.\n",
    "- The replicate is then added to the respective educt/product/modifier by the given ID\n",
    "\n",
    "Attributes\n",
    "\n",
    "    - Replica: Unique ID for the replicate\n",
    "    - Reactant: Unique ID for the reactant/protein\n",
    "    - Type: Defines the type of data (e.g. concentration, photometric)\n",
    "    - Data unit: Unit of given data\n",
    "    - Time unit: Unit of given time\n",
    "    "
   ],
   "metadata": {}
  },
  {
   "cell_type": "code",
   "execution_count": null,
   "source": [
    "replicate_1 = Replicate(\n",
    "\n",
    "                        replica=\"Replica_1\", \n",
    "                        reactant=reactant_1, \n",
    "                        type_=\"conc\", \n",
    "                        data_unit=\"mmole / l\", \n",
    "                        time_unit=\"s\",\n",
    "                        init_conc=1.0,\n",
    "                        measurement=\"m0\"\n",
    "\n",
    "                    )"
   ],
   "outputs": [],
   "metadata": {}
  },
  {
   "cell_type": "code",
   "execution_count": null,
   "source": [
    "data = [1,2,3,4,5,6] # Here should be your own data\n",
    "time = [1,2,3,4,5,6] # Here should be your own data\n",
    "\n",
    "replicate_1.setData(data, time)"
   ],
   "outputs": [],
   "metadata": {}
  },
  {
   "cell_type": "code",
   "execution_count": null,
   "source": [
    "reaction_1.addReplicate(replicate_1, enzmldoc)"
   ],
   "outputs": [],
   "metadata": {}
  },
  {
   "cell_type": "markdown",
   "source": [
    "### Add reaction to _EnzymeMLDocument_\n",
    "\n",
    "- When the creation of the reaction is completed, simply add the _EnzymeReaction_ object to the _EnzymeMLDocument_ via its _addReaction_ method."
   ],
   "metadata": {}
  },
  {
   "cell_type": "code",
   "execution_count": null,
   "source": [
    "reaction1 = enzmldoc.addReaction(reaction_1)"
   ],
   "outputs": [],
   "metadata": {}
  },
  {
   "cell_type": "markdown",
   "source": [
    "# Modelling\n",
    "\n",
    "- Within _PyEnzyme_ it is also possible to store kinetic models\n",
    "- Create a _KineticModel_ object and add it to your reaction\n",
    "- This can either be done while creating an _EnzymeReaction_ object or afterwards\n",
    "\n",
    "Attributes:\n",
    "\n",
    "    - Equation: String that defines the kinetic model ( use Internal IDs as variables )\n",
    "    - Parameters: Dictionary with parameter name as key and respective numeric value\n",
    "    "
   ],
   "metadata": {}
  },
  {
   "cell_type": "code",
   "execution_count": null,
   "source": [
    "equation = \"s0 * vmax / ( s0 + Km )\"\n",
    "\n",
    "parameters = dict()\n",
    "parameters['Km_s0'] = (1.0, \"mmole / s\")\n",
    "parameters['vmax_s0'] = (10.0, \"mmole / l\")\n",
    "\n",
    "kinetic_model = KineticModel(\n",
    "    equation=equation,\n",
    "    parameters=parameters,\n",
    "    enzmldoc=enzmldoc \n",
    ")"
   ],
   "outputs": [],
   "metadata": {}
  },
  {
   "cell_type": "code",
   "execution_count": null,
   "source": [
    "enzmldoc.getReaction(reaction1).setModel(kinetic_model)"
   ],
   "outputs": [],
   "metadata": {}
  },
  {
   "cell_type": "markdown",
   "source": [
    "# Ready to write\n",
    "\n",
    "- Simply call the _EnzymeMLWriter_ class to write your _EnzymeMLDocument_ to an .omex container"
   ],
   "metadata": {}
  },
  {
   "cell_type": "code",
   "execution_count": null,
   "source": [
    "enzmldoc.printUnits()\n",
    "enzmldoc.printProteins()\n",
    "enzmldoc.printReactants()\n",
    "enzmldoc.printReactions()"
   ],
   "outputs": [],
   "metadata": {}
  },
  {
   "cell_type": "code",
   "execution_count": null,
   "source": [
    "out_dir = \"YourDirectory/YourFilename\"\n",
    "EnzymeMLWriter().toFile( enzmldoc=enzmldoc, path=out_dir )"
   ],
   "outputs": [],
   "metadata": {}
  }
 ],
 "metadata": {
  "kernelspec": {
   "name": "python3",
   "display_name": "Python 3.9.5 64-bit ('3.9')"
  },
  "language_info": {
   "codemirror_mode": {
    "name": "ipython",
    "version": 3
   },
   "file_extension": ".py",
   "mimetype": "text/x-python",
   "name": "python",
   "nbconvert_exporter": "python",
   "pygments_lexer": "ipython3",
   "version": "3.9.5"
  },
  "interpreter": {
   "hash": "7812ea015bdcee6f23a998adcdd2ef97c151c0c241b7b7070987d9313e41299d"
  }
 },
 "nbformat": 4,
 "nbformat_minor": 4
}