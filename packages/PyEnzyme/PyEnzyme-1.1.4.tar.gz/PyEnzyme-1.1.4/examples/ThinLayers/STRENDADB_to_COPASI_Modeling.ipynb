{
 "cells": [
  {
   "cell_type": "code",
   "execution_count": 1,
   "id": "36d9b89c-e7e1-4370-b5d3-6416a8e88589",
   "metadata": {},
   "outputs": [],
   "source": [
    "import pyenzyme as pe"
   ]
  },
  {
   "cell_type": "markdown",
   "id": "91368d39-3a9c-4209-87e6-ac987d88824a",
   "metadata": {},
   "source": [
    "# EnzymeML application: From STRENDA-DB to COPASI modeling\n",
    "\n",
    "This notebook demonstrates an examplatory usage of the PyEnzyme Thin Layers that were reported in [Range et al. 2021](https://doi.org/10.1111/febs.16318) including the conversion of a STRENDA-DB entry to EnzymeML and time-course simulation followed by a parameter estimation using COPASI. In addition, this notebook covers editing of an EnzymeML document, since the STRENDA-DB entry lacks several some information and to demonstrate how an existing EnzymeML document can be enriched with meta- and time-course data."
   ]
  },
  {
   "cell_type": "markdown",
   "id": "e85ba85c-f051-46de-8e44-50c2e0da2d25",
   "metadata": {},
   "source": [
    "## 1. Creating EnzymeML documents from STRENDA DB entries\n",
    "\n",
    "STRENDA DB is a database on enzyme-catalyzed reactions, which covers the most important information on reaction conditions and kinetic parameters. The API was used to create an EnzymeML document from a STRENDA DB entry via a STRENDA DB-specific thin API layer (TL_STRENDA) to the object layer using the PyEnzyme library. The Thin Layer \"TL_Strenda\" is hosted as a module of PyEnzyme and can be used as a method to process any given STRENDA-DB XML format. For this, an example dataset was previously downloaded from STRENDA-DB's [query page](https://www.beilstein-strenda-db.org/strenda/public/query.xhtml) and added to this directory. In order to execute the conversion, the ```path``` to the XML file as well as ```out_dir``` for the target directory the Thin Layer will write to are specified in a call to ```ThinLayerStrendaML.toEnzymeML```."
   ]
  },
  {
   "cell_type": "code",
   "execution_count": 2,
   "id": "23c8105d-13e1-4c93-b829-18c586af4cd6",
   "metadata": {},
   "outputs": [],
   "source": [
    "from pyenzyme.thinlayers import ThinLayerStrendaML"
   ]
  },
  {
   "cell_type": "code",
   "execution_count": 3,
   "id": "fc3566b6-c960-4798-bb12-649429bbf648",
   "metadata": {},
   "outputs": [
    {
     "name": "stdout",
     "output_type": "stream",
     "text": [
      "\n",
      "Archive was written to STRENDA/generated/3IZNOK_TEST.omex\n",
      "\n"
     ]
    }
   ],
   "source": [
    "# Convert the STRENDA-DB XML to EnzymeML\n",
    "ThinLayerStrendaML.toEnzymeML(\n",
    "    path=\"./STRENDA/3IZNOK_TEST.xml\",\n",
    "    out_dir=\"./STRENDA/generated/\"\n",
    ")"
   ]
  },
  {
   "cell_type": "markdown",
   "id": "6b64f926-91ee-4905-8d16-7660a22b6c44",
   "metadata": {},
   "source": [
    "## 2. Editing of EnzymeML: simulation of time course data from kinetic parameters\n",
    "\n",
    "STRENDA-DB entries provide for an enzyme-catalyzed reaction the kinetic parameters KM and kcat assuming a Michaelis–Menten model and the concentration range of the substrate. However, they are lacking information on the product and on the time course of substrate or product concentrations. These will be added to the appropriate fields found in the document and time-course data will be simulated using the measurement setups that were previously extracted from the STRENDA-DB entry."
   ]
  },
  {
   "cell_type": "code",
   "execution_count": 4,
   "id": "9aeb380d-714b-43c0-a1c6-cf98d4c4897c",
   "metadata": {},
   "outputs": [
    {
     "name": "stdout",
     "output_type": "stream",
     "text": [
      "3IZNOK_TEST\n",
      ">>> Reactants\n",
      "\tID: s0 \t Name: 1H-indole\n",
      "\tID: s1 \t Name: (2S)-2-amino-3-phosphonooxypropanoic acid\n",
      ">>> Proteins\n",
      "\tID: p0 \t Name: TrpB2o from Arabidopsis thaliana\n",
      ">>> Complexes\n",
      ">>> Reactions\n",
      "\tID: r0 \t Name: indole fixed, o-phospho-L-serine varied\n"
     ]
    }
   ],
   "source": [
    "# Load the EnzymeML document\n",
    "enzmldoc = pe.EnzymeMLDocument.fromFile(\"./STRENDA/generated/3IZNOK_TEST.omex\")\n",
    "enzmldoc.printDocument()"
   ]
  },
  {
   "cell_type": "markdown",
   "id": "de2d1d0c-1116-46bf-9594-15caa67834f7",
   "metadata": {},
   "source": [
    "#### Adding missing entities and reaction modification"
   ]
  },
  {
   "cell_type": "code",
   "execution_count": 5,
   "id": "6ffc1c4a-4cd5-4b75-b411-50300a692d25",
   "metadata": {},
   "outputs": [],
   "source": [
    "# Add the missing protein sequence\n",
    "protein = enzmldoc.getProtein(\"p0\")\n",
    "protein.sequence = \"\"\"\n",
    "    MAMRIRIDLPQDEIPAQWYNILPDLPEELPPPQDPTGKSLELLKEVLPSKVLELE\n",
    "    FAKERYVKIPDEVLERYLQVGRPTPIIRAKRLEEYLGNNIKIYLKMESYTYTGS\n",
    "    HKINSALAHVYYAKLDNAKFVTTETGAGQWGSSVALASALFRMKAHIFMVRTSY\n",
    "    YAKPYRKYMMQMYGAEVHPSPSDLTEFGRQLLAKDSNHPGSLGIAISDAVEYAH\n",
    "    KNGGKYVVGSVVNSDIMFKTIAGMEAKKQMELIGEDPDYIIGVVGGGSNYAALA\n",
    "    YPFLGDELRSGKVRRKYIASGSSEVPKMTKGVYKYDYPDTAKLLPMLKMYTIGS\n",
    "    DFVPPPVYAGGLRYHGVAPTLSLLISKGIVQARDYSQEESFKWAKLFSELEGYI\n",
    "    PAPETSHALPILAEIAEEAKKSGERKTVLVSFSGHGLLDLGNYASVLFKEKLAA\n",
    "    ALEHHHHHH\"\"\".strip()"
   ]
  },
  {
   "cell_type": "code",
   "execution_count": 6,
   "id": "c1cc2200-b287-41cd-83b4-6c55f74bb8d7",
   "metadata": {},
   "outputs": [
    {
     "data": {
      "text/html": [
       "<div>\n",
       "<style scoped>\n",
       "    .dataframe tbody tr th:only-of-type {\n",
       "        vertical-align: middle;\n",
       "    }\n",
       "\n",
       "    .dataframe tbody tr th {\n",
       "        vertical-align: top;\n",
       "    }\n",
       "\n",
       "    .dataframe thead th {\n",
       "        text-align: right;\n",
       "    }\n",
       "</style>\n",
       "<table border=\"1\" class=\"dataframe\">\n",
       "  <thead>\n",
       "    <tr style=\"text-align: right;\">\n",
       "      <th></th>\n",
       "      <th>Name</th>\n",
       "      <th>equation</th>\n",
       "      <th>kinetic law</th>\n",
       "    </tr>\n",
       "    <tr>\n",
       "      <th>ID</th>\n",
       "      <th></th>\n",
       "      <th></th>\n",
       "      <th></th>\n",
       "    </tr>\n",
       "  </thead>\n",
       "  <tbody>\n",
       "    <tr>\n",
       "      <th>r0</th>\n",
       "      <td>indole fixed, o-phospho-L-serine varied</td>\n",
       "      <td>1.0 1H-indole + 1.0 (2S)-2-amino-3-phosphonoox...</td>\n",
       "      <td>Modifiers: 1.0 TrpB2o from Arabidopsis thaliana</td>\n",
       "    </tr>\n",
       "  </tbody>\n",
       "</table>\n",
       "</div>"
      ],
      "text/plain": [
       "                                       Name  \\\n",
       "ID                                            \n",
       "r0  indole fixed, o-phospho-L-serine varied   \n",
       "\n",
       "                                             equation  \\\n",
       "ID                                                      \n",
       "r0  1.0 1H-indole + 1.0 (2S)-2-amino-3-phosphonoox...   \n",
       "\n",
       "                                        kinetic law  \n",
       "ID                                                   \n",
       "r0  Modifiers: 1.0 TrpB2o from Arabidopsis thaliana  "
      ]
     },
     "execution_count": 6,
     "metadata": {},
     "output_type": "execute_result"
    }
   ],
   "source": [
    "# Add the missing products using the Chebi ID to the document\n",
    "product = pe.Reactant.fromChebiID(\"CHEBI:16828\", vessel_id=\"v0\")\n",
    "coproduct = pe.Reactant.fromChebiID(\"CHEBI:43474\", vessel_id=\"v0\")\n",
    "\n",
    "product_id = enzmldoc.addReactant(product)\n",
    "coproduct_id = enzmldoc.addReactant(coproduct)\n",
    "\n",
    "# Finally, add it as product to the reaction\n",
    "reaction = enzmldoc.getReaction(\"r0\")\n",
    "\n",
    "reaction.addProduct(species_id=product_id, stoichiometry=1.0, enzmldoc=enzmldoc)\n",
    "reaction.addProduct(species_id=coproduct_id, stoichiometry=1.0, enzmldoc=enzmldoc)\n",
    "\n",
    "# Inspect the reaction scheme for confirmation\n",
    "enzmldoc.printReactionSchemes()"
   ]
  },
  {
   "cell_type": "code",
   "execution_count": 7,
   "id": "bb550433-b620-435a-baa1-3aaa4394f307",
   "metadata": {},
   "outputs": [
    {
     "data": {
      "text/plain": [
       "3IZNOK_TEST\n",
       ">>> Reactants\n",
       "\tID: s0 \t Name: 1H-indole\n",
       "\tID: s1 \t Name: (2S)-2-amino-3-phosphonooxypropanoic acid\n",
       "\tID: s2 \t Name: L-tryptophan\n",
       "\tID: s3 \t Name: hydrogenphosphate\n",
       ">>> Proteins\n",
       "\tID: p0 \t Name: TrpB2o from Arabidopsis thaliana\n",
       ">>> Complexes\n",
       ">>> Reactions\n",
       "\tID: r0 \t Name: indole fixed, o-phospho-L-serine varied"
      ]
     },
     "execution_count": 7,
     "metadata": {},
     "output_type": "execute_result"
    }
   ],
   "source": [
    "enzmldoc"
   ]
  },
  {
   "cell_type": "markdown",
   "id": "c9c1b409-22d6-40e1-8d39-f0916ce9175b",
   "metadata": {},
   "source": [
    "#### Time-course simulation\n",
    "\n",
    "This section will utilize the given model and measurement setup to simulate possible time-course data, which will later be used to re-estimate the parameters using COPASI. Since this is a rather trivial demonstration, the parameters have already been estimated, it shows how a potential situation, where parameters have not yet been estimated, can be executed towards modeling."
   ]
  },
  {
   "cell_type": "code",
   "execution_count": 8,
   "id": "b9f6837f-63d2-4854-ac85-43fb49ec9ad3",
   "metadata": {},
   "outputs": [],
   "source": [
    "# Get the model and for simulation\n",
    "model = enzmldoc.getReaction(\"r0\").model"
   ]
  },
  {
   "cell_type": "code",
   "execution_count": 9,
   "id": "a43176b0-7cc9-4170-8d85-52c7e7acfd9b",
   "metadata": {},
   "outputs": [],
   "source": [
    "def simulate(substrate_init, protein_init, model, time_steps=range(1, 60*60*2)):\n",
    "    \"\"\"Function used to simulate given measurement\"\"\"\n",
    "    \n",
    "    substrate_conc, time = [substrate_init], [0]\n",
    "    \n",
    "    for time_step in time_steps:\n",
    "        \n",
    "        # Evaluate the velocity\n",
    "        velocity = model.evaluate(\n",
    "                p0=protein_init,\n",
    "                s1=substrate_conc[-1]\n",
    "            )\n",
    "        \n",
    "        time.append(time_step)\n",
    "        substrate_conc.append(\n",
    "            substrate_conc[-1]  - velocity*substrate_conc[-1]\n",
    "        )\n",
    "        \n",
    "    return time, substrate_conc"
   ]
  },
  {
   "cell_type": "code",
   "execution_count": 10,
   "id": "7f774f31-b86d-4c1b-8b88-7fe649902368",
   "metadata": {},
   "outputs": [
    {
     "name": "stdout",
     "output_type": "stream",
     "text": [
      ">>> Measurement m0: measurement_1\n",
      "    s0 | initial conc: 0.1 mmole / l \t| #replicates: 0\n",
      "    s1 | initial conc: 0.0667 mmole / l \t| #replicates: 1\n",
      "    p0 | initial conc: 0.01 mmole / l \t| #replicates: 0\n",
      ">>> Measurement m1: measurement_2\n",
      "    s0 | initial conc: 0.1 mmole / l \t| #replicates: 0\n",
      "    s1 | initial conc: 0.1333 mmole / l \t| #replicates: 1\n",
      "    p0 | initial conc: 0.01 mmole / l \t| #replicates: 0\n",
      ">>> Measurement m2: measurement_3\n",
      "    s0 | initial conc: 0.1 mmole / l \t| #replicates: 0\n",
      "    s1 | initial conc: 0.2 mmole / l \t| #replicates: 1\n",
      "    p0 | initial conc: 0.01 mmole / l \t| #replicates: 0\n",
      ">>> Measurement m3: measurement_4\n",
      "    s0 | initial conc: 0.1 mmole / l \t| #replicates: 0\n",
      "    s1 | initial conc: 0.2667 mmole / l \t| #replicates: 1\n",
      "    p0 | initial conc: 0.01 mmole / l \t| #replicates: 0\n",
      ">>> Measurement m4: measurement_5\n",
      "    s0 | initial conc: 0.1 mmole / l \t| #replicates: 0\n",
      "    s1 | initial conc: 0.3333 mmole / l \t| #replicates: 1\n",
      "    p0 | initial conc: 0.01 mmole / l \t| #replicates: 0\n",
      ">>> Measurement m5: measurement_6\n",
      "    s0 | initial conc: 0.1 mmole / l \t| #replicates: 0\n",
      "    s1 | initial conc: 0.4 mmole / l \t| #replicates: 1\n",
      "    p0 | initial conc: 0.01 mmole / l \t| #replicates: 0\n",
      ">>> Measurement m6: measurement_7\n",
      "    s0 | initial conc: 0.1 mmole / l \t| #replicates: 0\n",
      "    s1 | initial conc: 0.4667 mmole / l \t| #replicates: 1\n",
      "    p0 | initial conc: 0.01 mmole / l \t| #replicates: 0\n",
      ">>> Measurement m7: measurement_8\n",
      "    s0 | initial conc: 0.1 mmole / l \t| #replicates: 0\n",
      "    s1 | initial conc: 0.5333 mmole / l \t| #replicates: 1\n",
      "    p0 | initial conc: 0.01 mmole / l \t| #replicates: 0\n",
      ">>> Measurement m8: measurement_9\n",
      "    s0 | initial conc: 0.1 mmole / l \t| #replicates: 0\n",
      "    s1 | initial conc: 0.6 mmole / l \t| #replicates: 1\n",
      "    p0 | initial conc: 0.01 mmole / l \t| #replicates: 0\n"
     ]
    }
   ],
   "source": [
    "# Unify all units for simulation\n",
    "enzmldoc.unifyMeasurementUnits(kind=\"mole\", scale=-3)\n",
    "\n",
    "# Iterate through all measurements and append the new replicate data\n",
    "for measurement in enzmldoc.measurement_dict.values():\n",
    "    \n",
    "    # Gather the important concentrations\n",
    "    protein_conc = measurement.getProtein(\"p0\").init_conc\n",
    "    substrate_conc = measurement.getReactant(\"s1\").init_conc\n",
    "    substrate_unit = measurement.getReactant(\"s1\").unit\n",
    "    \n",
    "    time, data = simulate(substrate_conc, protein_conc, model)\n",
    "    \n",
    "    replicate = pe.Replicate(\n",
    "        id=f\"replicate_meas{measurement.id}\",\n",
    "        species_id=\"s1\",\n",
    "        data_unit=substrate_unit,\n",
    "        time_unit=\"sec\",\n",
    "        data=data,\n",
    "        time=time\n",
    "    )\n",
    "    \n",
    "    measurement.addReplicates([replicate], enzmldoc)\n",
    "    \n",
    "    measurement.printMeasurementScheme()"
   ]
  },
  {
   "cell_type": "code",
   "execution_count": 11,
   "id": "87385fb2-08f2-4b86-a339-c15af938c362",
   "metadata": {},
   "outputs": [
    {
     "name": "stdout",
     "output_type": "stream",
     "text": [
      "\n",
      "Archive was written to COPASI/3IZNOK_Simulated.omex\n",
      "\n"
     ]
    }
   ],
   "source": [
    "# Finally, write the new EnzymeML document to a new file\n",
    "enzmldoc.toFile(\"./COPASI\", name=\"3IZNOK_Simulated\")"
   ]
  },
  {
   "cell_type": "markdown",
   "id": "7e4453bb-3a57-456e-9a9c-c771a1e5f41e",
   "metadata": {},
   "source": [
    "## 3. Kinetic modeling of EnzymeML data by COPASI\n",
    "\n",
    "COPASI is a modeling and simulation environment, which supports the OMEX format. Using the PyEnzyme library and a COPASI-specific thin API layer (TL_COPASI), the time course data (measured concentrations of substrate or product) are loaded into COPASI. Within COPASI, different kinetic laws are applied, kinetic parameters are estimated, and plots are generated to assess the result. The selected kinetic model and the estimated kinetic parameters are then added to the EnzymeML document."
   ]
  },
  {
   "cell_type": "code",
   "execution_count": 12,
   "id": "48b18fea-1fdb-460c-803d-395509676417",
   "metadata": {},
   "outputs": [],
   "source": [
    "from pyenzyme.thinlayers import ThinLayerCopasi"
   ]
  },
  {
   "cell_type": "code",
   "execution_count": 13,
   "id": "d9723991-474a-4bf3-80b1-498471da3074",
   "metadata": {},
   "outputs": [],
   "source": [
    "# Set up the Thin Layer\n",
    "tl_copasi = ThinLayerCopasi(\n",
    "    path=\"./COPASI/3IZNOK_Simulated.omex\", outdir=\"COPASI/Modeled_r0_s1\",\n",
    "    init_file=\"COPASI/3IZNOK_TEST_init_values.yaml\"\n",
    ")"
   ]
  },
  {
   "cell_type": "code",
   "execution_count": 14,
   "id": "940776e8-5bf8-4140-85c8-7465058af929",
   "metadata": {},
   "outputs": [
    {
     "data": {
      "text/html": [
       "<div>\n",
       "<style scoped>\n",
       "    .dataframe tbody tr th:only-of-type {\n",
       "        vertical-align: middle;\n",
       "    }\n",
       "\n",
       "    .dataframe tbody tr th {\n",
       "        vertical-align: top;\n",
       "    }\n",
       "\n",
       "    .dataframe thead th {\n",
       "        text-align: right;\n",
       "    }\n",
       "</style>\n",
       "<table border=\"1\" class=\"dataframe\">\n",
       "  <thead>\n",
       "    <tr style=\"text-align: right;\">\n",
       "      <th></th>\n",
       "      <th>start</th>\n",
       "      <th>lower</th>\n",
       "      <th>upper</th>\n",
       "      <th>reaction_id</th>\n",
       "      <th>value</th>\n",
       "      <th>std_deviation</th>\n",
       "    </tr>\n",
       "    <tr>\n",
       "      <th>name</th>\n",
       "      <th></th>\n",
       "      <th></th>\n",
       "      <th></th>\n",
       "      <th></th>\n",
       "      <th></th>\n",
       "      <th></th>\n",
       "    </tr>\n",
       "  </thead>\n",
       "  <tbody>\n",
       "    <tr>\n",
       "      <th>k_cat</th>\n",
       "      <td>0.015</td>\n",
       "      <td>0.00005</td>\n",
       "      <td>1.0</td>\n",
       "      <td>r0</td>\n",
       "      <td>0.010544</td>\n",
       "      <td>0.000028</td>\n",
       "    </tr>\n",
       "    <tr>\n",
       "      <th>k_m</th>\n",
       "      <td>0.010</td>\n",
       "      <td>0.00005</td>\n",
       "      <td>1.0</td>\n",
       "      <td>r0</td>\n",
       "      <td>0.401759</td>\n",
       "      <td>0.001894</td>\n",
       "    </tr>\n",
       "  </tbody>\n",
       "</table>\n",
       "</div>"
      ],
      "text/plain": [
       "       start    lower  upper reaction_id     value  std_deviation\n",
       "name                                                             \n",
       "k_cat  0.015  0.00005    1.0          r0  0.010544       0.000028\n",
       "k_m    0.010  0.00005    1.0          r0  0.401759       0.001894"
      ]
     },
     "execution_count": 14,
     "metadata": {},
     "output_type": "execute_result"
    }
   ],
   "source": [
    "# Run the optimization and write back to EnzymeML\n",
    "tl_copasi.optimize()"
   ]
  },
  {
   "cell_type": "code",
   "execution_count": null,
   "id": "1dc621a9-0792-4369-beab-81231fc66192",
   "metadata": {},
   "outputs": [],
   "source": []
  },
  {
   "cell_type": "code",
   "execution_count": null,
   "id": "070b08bb-bebd-4fcb-84b2-89484ea9cafb",
   "metadata": {},
   "outputs": [],
   "source": []
  }
 ],
 "metadata": {
  "kernelspec": {
   "display_name": "enzymeml",
   "language": "python",
   "name": "enzymeml"
  },
  "language_info": {
   "codemirror_mode": {
    "name": "ipython",
    "version": 3
   },
   "file_extension": ".py",
   "mimetype": "text/x-python",
   "name": "python",
   "nbconvert_exporter": "python",
   "pygments_lexer": "ipython3",
   "version": "3.9.10"
  }
 },
 "nbformat": 4,
 "nbformat_minor": 5
}
