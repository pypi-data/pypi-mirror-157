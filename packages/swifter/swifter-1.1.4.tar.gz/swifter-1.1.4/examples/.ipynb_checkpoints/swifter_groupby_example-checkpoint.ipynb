{
 "cells": [
  {
   "cell_type": "code",
   "execution_count": 1,
   "id": "a50a6d53",
   "metadata": {},
   "outputs": [],
   "source": [
    "import pandas as pd\n",
    "import numpy as np\n",
    "import dask.dataframe as dd\n",
    "import string\n",
    "from psutil import cpu_count"
   ]
  },
  {
   "cell_type": "code",
   "execution_count": 2,
   "id": "eddc296b",
   "metadata": {},
   "outputs": [
    {
     "data": {
      "text/html": [
       "<div>\n",
       "<style scoped>\n",
       "    .dataframe tbody tr th:only-of-type {\n",
       "        vertical-align: middle;\n",
       "    }\n",
       "\n",
       "    .dataframe tbody tr th {\n",
       "        vertical-align: top;\n",
       "    }\n",
       "\n",
       "    .dataframe thead th {\n",
       "        text-align: right;\n",
       "    }\n",
       "</style>\n",
       "<table border=\"1\" class=\"dataframe\">\n",
       "  <thead>\n",
       "    <tr style=\"text-align: right;\">\n",
       "      <th></th>\n",
       "      <th>groups</th>\n",
       "      <th>normal</th>\n",
       "      <th>exponential</th>\n",
       "      <th>letters</th>\n",
       "    </tr>\n",
       "  </thead>\n",
       "  <tbody>\n",
       "    <tr>\n",
       "      <th>0</th>\n",
       "      <td>13004</td>\n",
       "      <td>1.131760</td>\n",
       "      <td>0.196988</td>\n",
       "      <td>E</td>\n",
       "    </tr>\n",
       "    <tr>\n",
       "      <th>1</th>\n",
       "      <td>36960</td>\n",
       "      <td>-0.639012</td>\n",
       "      <td>0.244117</td>\n",
       "      <td>M</td>\n",
       "    </tr>\n",
       "    <tr>\n",
       "      <th>2</th>\n",
       "      <td>13693</td>\n",
       "      <td>-0.277713</td>\n",
       "      <td>1.673805</td>\n",
       "      <td>X</td>\n",
       "    </tr>\n",
       "    <tr>\n",
       "      <th>3</th>\n",
       "      <td>15011</td>\n",
       "      <td>0.702866</td>\n",
       "      <td>0.193859</td>\n",
       "      <td>R</td>\n",
       "    </tr>\n",
       "    <tr>\n",
       "      <th>4</th>\n",
       "      <td>14823</td>\n",
       "      <td>0.270878</td>\n",
       "      <td>3.037936</td>\n",
       "      <td>J</td>\n",
       "    </tr>\n",
       "  </tbody>\n",
       "</table>\n",
       "</div>"
      ],
      "text/plain": [
       "   groups    normal  exponential letters\n",
       "0   13004  1.131760     0.196988       E\n",
       "1   36960 -0.639012     0.244117       M\n",
       "2   13693 -0.277713     1.673805       X\n",
       "3   15011  0.702866     0.193859       R\n",
       "4   14823  0.270878     3.037936       J"
      ]
     },
     "execution_count": 2,
     "metadata": {},
     "output_type": "execute_result"
    }
   ],
   "source": [
    "SIZE = 10000000\n",
    "df = pd.DataFrame({\n",
    "    \"groups\": np.random.choice(np.random.choice(range(100000)), size=SIZE),\n",
    "    \"normal\": np.random.normal(size=SIZE),\n",
    "    \"exponential\": np.random.exponential(size=SIZE),\n",
    "    \"letters\": np.random.choice(list(string.ascii_uppercase), size=SIZE)\n",
    "})\n",
    "df.head()"
   ]
  },
  {
   "cell_type": "code",
   "execution_count": 3,
   "id": "5a66982b",
   "metadata": {},
   "outputs": [],
   "source": [
    "def numeric_func(x):\n",
    "    return x[\"normal\"].mean() / x[\"exponential\"].var()"
   ]
  },
  {
   "cell_type": "code",
   "execution_count": 4,
   "id": "1f976816",
   "metadata": {},
   "outputs": [],
   "source": [
    "def str_func(x):\n",
    "    return \"-\".join(x[\"letters\"]).lower()"
   ]
  },
  {
   "cell_type": "code",
   "execution_count": 5,
   "id": "5f7cb6fa",
   "metadata": {},
   "outputs": [
    {
     "name": "stdout",
     "output_type": "stream",
     "text": [
      "CPU times: user 13.5 s, sys: 164 ms, total: 13.6 s\n",
      "Wall time: 13.6 s\n"
     ]
    },
    {
     "data": {
      "text/plain": [
       "groups\n",
       "0       -0.208227\n",
       "1        0.016416\n",
       "2        0.049437\n",
       "3       -0.039399\n",
       "4        0.067989\n",
       "           ...   \n",
       "46661    0.052638\n",
       "46662    0.074521\n",
       "46663   -0.150120\n",
       "46664    0.039322\n",
       "46665   -0.022067\n",
       "Length: 46666, dtype: float64"
      ]
     },
     "execution_count": 5,
     "metadata": {},
     "output_type": "execute_result"
    }
   ],
   "source": [
    "%time df.groupby(\"groups\").apply(numeric_func)"
   ]
  },
  {
   "cell_type": "code",
   "execution_count": 6,
   "id": "996432dc",
   "metadata": {
    "scrolled": true
   },
   "outputs": [
    {
     "name": "stdout",
     "output_type": "stream",
     "text": [
      "CPU times: user 5.17 s, sys: 170 ms, total: 5.34 s\n",
      "Wall time: 5.33 s\n"
     ]
    },
    {
     "data": {
      "text/plain": [
       "groups\n",
       "0        t-e-k-n-y-l-n-h-q-w-p-m-n-j-a-c-u-y-p-d-p-p-u-...\n",
       "1        r-w-j-j-s-u-x-s-c-v-i-c-t-u-s-j-c-f-o-c-a-m-z-...\n",
       "2        x-u-h-a-k-k-c-w-s-k-j-a-h-o-r-p-b-y-v-s-y-p-x-...\n",
       "3        j-f-r-j-d-y-y-n-p-g-y-v-g-g-a-k-r-t-c-d-g-b-s-...\n",
       "4        q-y-r-f-l-s-l-l-e-q-h-b-k-g-g-z-r-d-h-i-n-g-l-...\n",
       "                               ...                        \n",
       "46661    m-a-b-g-z-h-r-e-v-u-l-c-l-l-i-o-v-s-c-t-q-k-o-...\n",
       "46662    m-m-k-t-c-j-o-t-w-q-x-u-c-i-l-b-k-m-l-a-x-s-i-...\n",
       "46663    z-i-l-a-e-u-u-a-r-p-i-p-q-r-m-v-w-q-f-i-p-e-i-...\n",
       "46664    b-g-z-u-v-c-o-f-v-y-e-g-y-z-k-g-i-p-r-q-h-t-v-...\n",
       "46665    g-e-q-w-z-c-m-t-r-c-d-r-k-e-c-n-u-n-i-g-y-o-i-...\n",
       "Length: 46666, dtype: object"
      ]
     },
     "execution_count": 6,
     "metadata": {},
     "output_type": "execute_result"
    }
   ],
   "source": [
    "%time df.groupby(\"groups\").apply(str_func)"
   ]
  },
  {
   "cell_type": "code",
   "execution_count": 15,
   "id": "f6b0400a",
   "metadata": {},
   "outputs": [
    {
     "name": "stdout",
     "output_type": "stream",
     "text": [
      "\u001b[31mERROR: Could not find a version that satisfies the requirement ray (from versions: none)\u001b[0m\u001b[31m\r\n",
      "\u001b[0m\u001b[31mERROR: No matching distribution found for ray\u001b[0m\u001b[31m\r\n",
      "\u001b[0m"
     ]
    }
   ],
   "source": [
    "!pip install -U ray"
   ]
  },
  {
   "cell_type": "code",
   "execution_count": 11,
   "id": "3d3dca27",
   "metadata": {},
   "outputs": [
    {
     "ename": "ModuleNotFoundError",
     "evalue": "No module named 'ray'",
     "output_type": "error",
     "traceback": [
      "\u001b[0;31m---------------------------------------------------------------------------\u001b[0m",
      "\u001b[0;31mModuleNotFoundError\u001b[0m                       Traceback (most recent call last)",
      "Input \u001b[0;32mIn [11]\u001b[0m, in \u001b[0;36m<cell line: 1>\u001b[0;34m()\u001b[0m\n\u001b[0;32m----> 1\u001b[0m \u001b[38;5;28;01mimport\u001b[39;00m \u001b[38;5;21;01mray\u001b[39;00m\n\u001b[1;32m      2\u001b[0m \u001b[38;5;28;01mfrom\u001b[39;00m \u001b[38;5;21;01mtyping\u001b[39;00m \u001b[38;5;28;01mimport\u001b[39;00m List\n\u001b[1;32m      3\u001b[0m \u001b[38;5;28;01mdef\u001b[39;00m \u001b[38;5;21mparallel_grpby_apply\u001b[39m(df: pd\u001b[38;5;241m.\u001b[39mDataFrame, gpby_cols: List[\u001b[38;5;28mstr\u001b[39m], threads: \u001b[38;5;28mint\u001b[39m \u001b[38;5;241m=\u001b[39m cpu_count() \u001b[38;5;241m*\u001b[39m \u001b[38;5;241m2\u001b[39m) \u001b[38;5;241m-\u001b[39m\u001b[38;5;241m>\u001b[39m pd\u001b[38;5;241m.\u001b[39mDataFrame:\n",
      "\u001b[0;31mModuleNotFoundError\u001b[0m: No module named 'ray'"
     ]
    }
   ],
   "source": [
    "import ray\n",
    "from typing import List\n",
    "def parallel_grpby_apply(df: pd.DataFrame, gpby_cols: List[str], threads: int = cpu_count() * 2) -> pd.DataFrame:\n",
    "    \"\"\"\n",
    "    A parallelized version of _create_sales_ewm_feats_day,\n",
    "    uses Ray on the dataframe splitted into N chunks, N = the number of physical cores.\n",
    "    The split is made considering item_id range splitted linearly over chunks - which guarantees the\n",
    "    equal amount of items in each chunk, but not the equal amount of rows(a room for improvement)\n",
    "    :param df: dataframe to work with\n",
    "    :param gpby_cols: columns names to group by before calculations\n",
    "    :param target_col: column name to work with\n",
    "    :param alpha: coefficient of smoothing of expon. weighted mean\n",
    "    :param shift: base shift backwards, equals the maximum not-rolling prediction depth\n",
    "    :param lags: lags on top of the shift\n",
    "    :param day: a specific day for which we calculate lags\n",
    "    :return: dataframe with added features\n",
    "    :param threads: num of processes to use\n",
    "    \"\"\"\n",
    "    splits = np.array_split(df[grpby_cols[0]].unique(), threads)\n",
    "    chunks = [df.loc[df[grpby_cols[0]].isin(splits[x])] for x in range(threads)]\n",
    "\n",
    "    chunk_id = [ray.put(ch) for ch in chunks]\n",
    "    dtf = pd.concat(ray.get([my_func.remote(chunk_id[i], gpby_cols)\n",
    "                   for i in range(threads)]))\n",
    "\n",
    "    # the split messes everything up, so we need to resort it unfortunately\n",
    "    dtf.sort_values(by=grpby_cols, axis=0, inplace=True)\n",
    "    return dtf\n",
    "\n",
    "\n",
    "@ray.remote\n",
    "def my_func(df: pd.DataFrame, gpby_cols: List[str]) -> pd.DataFrame:\n",
    "    \"\"\"\n",
    "    Creating sales exponentially weighted mean features for one day\n",
    "    :param df: dataframe to work with\n",
    "    :param gpby_cols: columns names to group by before calculations\n",
    "    :param target_col: column name to work with\n",
    "    :param alpha: coefficient of smoothing of expon. weighted mean\n",
    "    :param shift: base shift backwards, equals the maximum not-rolling prediction depth\n",
    "    :param lags: lags on top of the shift\n",
    "    :param day: a specific day for which we calculate lags\n",
    "    :return: dataframe with added features\n",
    "    \"\"\"\n",
    "    # Ray makes data immutable when stored in its memory.\n",
    "    # This approach prevents state sharing among processes, but we have a separate chunk for each process\n",
    "    # to get rid of copying data, we make it mutable in-place again by this hack\n",
    "    for d in range(len(df._data.blocks)):\n",
    "        try:\n",
    "            df._data.blocks[d].values.flags.writeable = True\n",
    "        except Exception:\n",
    "            pass\n",
    "\n",
    "    return numeric_func(df)"
   ]
  },
  {
   "cell_type": "code",
   "execution_count": null,
   "id": "4e57d0ea",
   "metadata": {},
   "outputs": [],
   "source": [
    "parallel_grpby_apply(df, [\"groups\"], )"
   ]
  },
  {
   "cell_type": "code",
   "execution_count": 5,
   "id": "6bb0fc02",
   "metadata": {},
   "outputs": [],
   "source": [
    "from multiprocessing import Pool, cpu_count\n",
    "\n",
    "def applyParallel(dfGrouped, func):\n",
    "    with Pool(cpu_count()) as p:\n",
    "        ret_list = p.map(func, [group for name, group in dfGrouped])\n",
    "    return pd.DataFrame(ret_list, index=dfGrouped.groups)"
   ]
  },
  {
   "cell_type": "code",
   "execution_count": 6,
   "id": "906d44f7",
   "metadata": {},
   "outputs": [
    {
     "name": "stdout",
     "output_type": "stream",
     "text": [
      "CPU times: user 8.86 s, sys: 589 ms, total: 9.45 s\n",
      "Wall time: 10.6 s\n"
     ]
    },
    {
     "data": {
      "text/html": [
       "<div>\n",
       "<style scoped>\n",
       "    .dataframe tbody tr th:only-of-type {\n",
       "        vertical-align: middle;\n",
       "    }\n",
       "\n",
       "    .dataframe tbody tr th {\n",
       "        vertical-align: top;\n",
       "    }\n",
       "\n",
       "    .dataframe thead th {\n",
       "        text-align: right;\n",
       "    }\n",
       "</style>\n",
       "<table border=\"1\" class=\"dataframe\">\n",
       "  <thead>\n",
       "    <tr style=\"text-align: right;\">\n",
       "      <th></th>\n",
       "      <th>0</th>\n",
       "    </tr>\n",
       "  </thead>\n",
       "  <tbody>\n",
       "    <tr>\n",
       "      <th>0</th>\n",
       "      <td>0.055296</td>\n",
       "    </tr>\n",
       "    <tr>\n",
       "      <th>1</th>\n",
       "      <td>0.000427</td>\n",
       "    </tr>\n",
       "    <tr>\n",
       "      <th>2</th>\n",
       "      <td>-0.055434</td>\n",
       "    </tr>\n",
       "    <tr>\n",
       "      <th>3</th>\n",
       "      <td>-0.026073</td>\n",
       "    </tr>\n",
       "    <tr>\n",
       "      <th>4</th>\n",
       "      <td>0.050453</td>\n",
       "    </tr>\n",
       "    <tr>\n",
       "      <th>...</th>\n",
       "      <td>...</td>\n",
       "    </tr>\n",
       "    <tr>\n",
       "      <th>69191</th>\n",
       "      <td>-0.015054</td>\n",
       "    </tr>\n",
       "    <tr>\n",
       "      <th>69192</th>\n",
       "      <td>-0.055151</td>\n",
       "    </tr>\n",
       "    <tr>\n",
       "      <th>69193</th>\n",
       "      <td>-0.012558</td>\n",
       "    </tr>\n",
       "    <tr>\n",
       "      <th>69194</th>\n",
       "      <td>-0.021996</td>\n",
       "    </tr>\n",
       "    <tr>\n",
       "      <th>69195</th>\n",
       "      <td>-0.157132</td>\n",
       "    </tr>\n",
       "  </tbody>\n",
       "</table>\n",
       "<p>69196 rows × 1 columns</p>\n",
       "</div>"
      ],
      "text/plain": [
       "              0\n",
       "0      0.055296\n",
       "1      0.000427\n",
       "2     -0.055434\n",
       "3     -0.026073\n",
       "4      0.050453\n",
       "...         ...\n",
       "69191 -0.015054\n",
       "69192 -0.055151\n",
       "69193 -0.012558\n",
       "69194 -0.021996\n",
       "69195 -0.157132\n",
       "\n",
       "[69196 rows x 1 columns]"
      ]
     },
     "execution_count": 6,
     "metadata": {},
     "output_type": "execute_result"
    }
   ],
   "source": [
    "%time applyParallel(df.groupby(\"groups\"), numeric_func)"
   ]
  },
  {
   "cell_type": "code",
   "execution_count": 7,
   "id": "205be98e",
   "metadata": {},
   "outputs": [
    {
     "name": "stdout",
     "output_type": "stream",
     "text": [
      "CPU times: user 8.94 s, sys: 734 ms, total: 9.67 s\n",
      "Wall time: 10.7 s\n"
     ]
    },
    {
     "data": {
      "text/html": [
       "<div>\n",
       "<style scoped>\n",
       "    .dataframe tbody tr th:only-of-type {\n",
       "        vertical-align: middle;\n",
       "    }\n",
       "\n",
       "    .dataframe tbody tr th {\n",
       "        vertical-align: top;\n",
       "    }\n",
       "\n",
       "    .dataframe thead th {\n",
       "        text-align: right;\n",
       "    }\n",
       "</style>\n",
       "<table border=\"1\" class=\"dataframe\">\n",
       "  <thead>\n",
       "    <tr style=\"text-align: right;\">\n",
       "      <th></th>\n",
       "      <th>0</th>\n",
       "    </tr>\n",
       "  </thead>\n",
       "  <tbody>\n",
       "    <tr>\n",
       "      <th>0</th>\n",
       "      <td>m-l-q-r-f-h-b-m-l-e-h-c-a-x-d-l-r-m-m-y-j-a-l-...</td>\n",
       "    </tr>\n",
       "    <tr>\n",
       "      <th>1</th>\n",
       "      <td>u-a-h-x-f-w-u-b-b-k-b-f-x-d-m-o-i-i-c-b-q-d-i-...</td>\n",
       "    </tr>\n",
       "    <tr>\n",
       "      <th>2</th>\n",
       "      <td>z-l-f-o-b-f-o-h-g-g-k-p-s-o-z-g-m-t-i-h-c-v-a-...</td>\n",
       "    </tr>\n",
       "    <tr>\n",
       "      <th>3</th>\n",
       "      <td>j-q-d-m-q-z-p-n-t-r-h-h-o-u-q-v-t-h-h-g-r-z-q-...</td>\n",
       "    </tr>\n",
       "    <tr>\n",
       "      <th>4</th>\n",
       "      <td>j-v-o-i-z-n-h-d-c-o-z-b-i-s-h-b-z-i-q-x-q-w-i-...</td>\n",
       "    </tr>\n",
       "    <tr>\n",
       "      <th>...</th>\n",
       "      <td>...</td>\n",
       "    </tr>\n",
       "    <tr>\n",
       "      <th>69191</th>\n",
       "      <td>r-l-i-h-b-a-g-x-s-c-n-c-o-y-x-h-i-d-i-l-w-l-a-...</td>\n",
       "    </tr>\n",
       "    <tr>\n",
       "      <th>69192</th>\n",
       "      <td>n-e-r-z-y-f-h-p-t-w-c-e-h-r-a-p-g-l-y-a-x-i-s-...</td>\n",
       "    </tr>\n",
       "    <tr>\n",
       "      <th>69193</th>\n",
       "      <td>m-u-n-u-h-s-y-g-y-h-q-o-y-y-u-b-x-j-y-d-l-g-c-...</td>\n",
       "    </tr>\n",
       "    <tr>\n",
       "      <th>69194</th>\n",
       "      <td>o-n-x-k-f-b-p-j-x-w-y-c-j-s-s-v-c-h-b-y-n-b-g-...</td>\n",
       "    </tr>\n",
       "    <tr>\n",
       "      <th>69195</th>\n",
       "      <td>j-j-n-a-w-a-c-x-y-v-f-k-u-o-y-q-k-b-c-g-n-z-j-...</td>\n",
       "    </tr>\n",
       "  </tbody>\n",
       "</table>\n",
       "<p>69196 rows × 1 columns</p>\n",
       "</div>"
      ],
      "text/plain": [
       "                                                       0\n",
       "0      m-l-q-r-f-h-b-m-l-e-h-c-a-x-d-l-r-m-m-y-j-a-l-...\n",
       "1      u-a-h-x-f-w-u-b-b-k-b-f-x-d-m-o-i-i-c-b-q-d-i-...\n",
       "2      z-l-f-o-b-f-o-h-g-g-k-p-s-o-z-g-m-t-i-h-c-v-a-...\n",
       "3      j-q-d-m-q-z-p-n-t-r-h-h-o-u-q-v-t-h-h-g-r-z-q-...\n",
       "4      j-v-o-i-z-n-h-d-c-o-z-b-i-s-h-b-z-i-q-x-q-w-i-...\n",
       "...                                                  ...\n",
       "69191  r-l-i-h-b-a-g-x-s-c-n-c-o-y-x-h-i-d-i-l-w-l-a-...\n",
       "69192  n-e-r-z-y-f-h-p-t-w-c-e-h-r-a-p-g-l-y-a-x-i-s-...\n",
       "69193  m-u-n-u-h-s-y-g-y-h-q-o-y-y-u-b-x-j-y-d-l-g-c-...\n",
       "69194  o-n-x-k-f-b-p-j-x-w-y-c-j-s-s-v-c-h-b-y-n-b-g-...\n",
       "69195  j-j-n-a-w-a-c-x-y-v-f-k-u-o-y-q-k-b-c-g-n-z-j-...\n",
       "\n",
       "[69196 rows x 1 columns]"
      ]
     },
     "execution_count": 7,
     "metadata": {},
     "output_type": "execute_result"
    }
   ],
   "source": [
    "%time applyParallel(df.groupby(\"groups\"), str_func)"
   ]
  },
  {
   "cell_type": "code",
   "execution_count": null,
   "id": "fd98ac4b",
   "metadata": {},
   "outputs": [],
   "source": []
  }
 ],
 "metadata": {
  "kernelspec": {
   "display_name": "Python 3 (ipykernel)",
   "language": "python",
   "name": "python3"
  },
  "language_info": {
   "codemirror_mode": {
    "name": "ipython",
    "version": 3
   },
   "file_extension": ".py",
   "mimetype": "text/x-python",
   "name": "python",
   "nbconvert_exporter": "python",
   "pygments_lexer": "ipython3",
   "version": "3.10.4"
  }
 },
 "nbformat": 4,
 "nbformat_minor": 5
}
