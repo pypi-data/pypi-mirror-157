{
 "cells": [
  {
   "cell_type": "code",
   "execution_count": 1,
   "id": "a50a6d53",
   "metadata": {},
   "outputs": [],
   "source": [
    "import pandas as pd\n",
    "import numpy as np\n",
    "import dask.dataframe as dd\n",
    "import string\n",
    "from psutil import cpu_count"
   ]
  },
  {
   "cell_type": "code",
   "execution_count": 2,
   "id": "eddc296b",
   "metadata": {},
   "outputs": [
    {
     "data": {
      "text/html": [
       "<div>\n",
       "<style scoped>\n",
       "    .dataframe tbody tr th:only-of-type {\n",
       "        vertical-align: middle;\n",
       "    }\n",
       "\n",
       "    .dataframe tbody tr th {\n",
       "        vertical-align: top;\n",
       "    }\n",
       "\n",
       "    .dataframe thead th {\n",
       "        text-align: right;\n",
       "    }\n",
       "</style>\n",
       "<table border=\"1\" class=\"dataframe\">\n",
       "  <thead>\n",
       "    <tr style=\"text-align: right;\">\n",
       "      <th></th>\n",
       "      <th>groups</th>\n",
       "      <th>normal</th>\n",
       "      <th>exponential</th>\n",
       "      <th>letters</th>\n",
       "    </tr>\n",
       "  </thead>\n",
       "  <tbody>\n",
       "    <tr>\n",
       "      <th>0</th>\n",
       "      <td>65801</td>\n",
       "      <td>-0.316303</td>\n",
       "      <td>2.019591</td>\n",
       "      <td>F</td>\n",
       "    </tr>\n",
       "    <tr>\n",
       "      <th>1</th>\n",
       "      <td>34036</td>\n",
       "      <td>-0.254399</td>\n",
       "      <td>0.165559</td>\n",
       "      <td>M</td>\n",
       "    </tr>\n",
       "    <tr>\n",
       "      <th>2</th>\n",
       "      <td>21164</td>\n",
       "      <td>-1.311322</td>\n",
       "      <td>2.019238</td>\n",
       "      <td>A</td>\n",
       "    </tr>\n",
       "    <tr>\n",
       "      <th>3</th>\n",
       "      <td>30952</td>\n",
       "      <td>0.211413</td>\n",
       "      <td>0.663089</td>\n",
       "      <td>Z</td>\n",
       "    </tr>\n",
       "    <tr>\n",
       "      <th>4</th>\n",
       "      <td>21440</td>\n",
       "      <td>-0.861639</td>\n",
       "      <td>1.288420</td>\n",
       "      <td>O</td>\n",
       "    </tr>\n",
       "  </tbody>\n",
       "</table>\n",
       "</div>"
      ],
      "text/plain": [
       "   groups    normal  exponential letters\n",
       "0   65801 -0.316303     2.019591       F\n",
       "1   34036 -0.254399     0.165559       M\n",
       "2   21164 -1.311322     2.019238       A\n",
       "3   30952  0.211413     0.663089       Z\n",
       "4   21440 -0.861639     1.288420       O"
      ]
     },
     "execution_count": 2,
     "metadata": {},
     "output_type": "execute_result"
    }
   ],
   "source": [
    "SIZE = 10000000\n",
    "df = pd.DataFrame({\n",
    "    \"groups\": np.random.choice(np.random.choice(range(100000)), size=SIZE),\n",
    "    \"normal\": np.random.normal(size=SIZE),\n",
    "    \"exponential\": np.random.exponential(size=SIZE),\n",
    "    \"letters\": np.random.choice(list(string.ascii_uppercase), size=SIZE)\n",
    "})\n",
    "df.head()"
   ]
  },
  {
   "cell_type": "code",
   "execution_count": 3,
   "id": "5a66982b",
   "metadata": {},
   "outputs": [],
   "source": [
    "def numeric_func(x):\n",
    "    return x[\"normal\"].mean() / x[\"exponential\"].var()"
   ]
  },
  {
   "cell_type": "code",
   "execution_count": 4,
   "id": "1f976816",
   "metadata": {},
   "outputs": [],
   "source": [
    "def str_func(x):\n",
    "    return \"-\".join(x[\"letters\"]).lower()"
   ]
  },
  {
   "cell_type": "code",
   "execution_count": 5,
   "id": "5f7cb6fa",
   "metadata": {},
   "outputs": [
    {
     "name": "stdout",
     "output_type": "stream",
     "text": [
      "CPU times: user 13.5 s, sys: 164 ms, total: 13.6 s\n",
      "Wall time: 13.6 s\n"
     ]
    },
    {
     "data": {
      "text/plain": [
       "groups\n",
       "0       -0.208227\n",
       "1        0.016416\n",
       "2        0.049437\n",
       "3       -0.039399\n",
       "4        0.067989\n",
       "           ...   \n",
       "46661    0.052638\n",
       "46662    0.074521\n",
       "46663   -0.150120\n",
       "46664    0.039322\n",
       "46665   -0.022067\n",
       "Length: 46666, dtype: float64"
      ]
     },
     "execution_count": 5,
     "metadata": {},
     "output_type": "execute_result"
    }
   ],
   "source": [
    "%time df.groupby(\"groups\").apply(numeric_func)"
   ]
  },
  {
   "cell_type": "code",
   "execution_count": 6,
   "id": "996432dc",
   "metadata": {
    "scrolled": true
   },
   "outputs": [
    {
     "name": "stdout",
     "output_type": "stream",
     "text": [
      "CPU times: user 5.17 s, sys: 170 ms, total: 5.34 s\n",
      "Wall time: 5.33 s\n"
     ]
    },
    {
     "data": {
      "text/plain": [
       "groups\n",
       "0        t-e-k-n-y-l-n-h-q-w-p-m-n-j-a-c-u-y-p-d-p-p-u-...\n",
       "1        r-w-j-j-s-u-x-s-c-v-i-c-t-u-s-j-c-f-o-c-a-m-z-...\n",
       "2        x-u-h-a-k-k-c-w-s-k-j-a-h-o-r-p-b-y-v-s-y-p-x-...\n",
       "3        j-f-r-j-d-y-y-n-p-g-y-v-g-g-a-k-r-t-c-d-g-b-s-...\n",
       "4        q-y-r-f-l-s-l-l-e-q-h-b-k-g-g-z-r-d-h-i-n-g-l-...\n",
       "                               ...                        \n",
       "46661    m-a-b-g-z-h-r-e-v-u-l-c-l-l-i-o-v-s-c-t-q-k-o-...\n",
       "46662    m-m-k-t-c-j-o-t-w-q-x-u-c-i-l-b-k-m-l-a-x-s-i-...\n",
       "46663    z-i-l-a-e-u-u-a-r-p-i-p-q-r-m-v-w-q-f-i-p-e-i-...\n",
       "46664    b-g-z-u-v-c-o-f-v-y-e-g-y-z-k-g-i-p-r-q-h-t-v-...\n",
       "46665    g-e-q-w-z-c-m-t-r-c-d-r-k-e-c-n-u-n-i-g-y-o-i-...\n",
       "Length: 46666, dtype: object"
      ]
     },
     "execution_count": 6,
     "metadata": {},
     "output_type": "execute_result"
    }
   ],
   "source": [
    "%time df.groupby(\"groups\").apply(str_func)"
   ]
  },
  {
   "cell_type": "code",
   "execution_count": 5,
   "id": "f6b0400a",
   "metadata": {},
   "outputs": [
    {
     "name": "stdout",
     "output_type": "stream",
     "text": [
      "Collecting ray\n",
      "  Downloading ray-1.11.0-cp39-cp39-manylinux2014_x86_64.whl (52.4 MB)\n",
      "\u001b[2K     \u001b[90m━━━━━━━━━━━━━━━━━━━━━━━━━━━━━━━━━━━━━━━━\u001b[0m \u001b[32m52.4/52.4 MB\u001b[0m \u001b[31m31.3 MB/s\u001b[0m eta \u001b[36m0:00:00\u001b[0m00:01\u001b[0m00:01\u001b[0m\n",
      "\u001b[?25hRequirement already satisfied: pyyaml in /usr/local/lib/python3.9/site-packages (from ray) (6.0)\n",
      "Requirement already satisfied: attrs in /usr/local/lib/python3.9/site-packages (from ray) (21.4.0)\n",
      "Collecting grpcio<=1.43.0,>=1.28.1\n",
      "  Downloading grpcio-1.43.0-cp39-cp39-manylinux_2_17_x86_64.manylinux2014_x86_64.whl (4.1 MB)\n",
      "\u001b[2K     \u001b[90m━━━━━━━━━━━━━━━━━━━━━━━━━━━━━━━━━━━━━━━━\u001b[0m \u001b[32m4.1/4.1 MB\u001b[0m \u001b[31m30.9 MB/s\u001b[0m eta \u001b[36m0:00:00\u001b[0m00:01\u001b[0m00:01\u001b[0m\n",
      "\u001b[?25hRequirement already satisfied: jsonschema in /usr/local/lib/python3.9/site-packages (from ray) (4.4.0)\n",
      "Collecting protobuf>=3.15.3\n",
      "  Downloading protobuf-3.20.0-cp39-cp39-manylinux_2_5_x86_64.manylinux1_x86_64.whl (1.0 MB)\n",
      "\u001b[2K     \u001b[90m━━━━━━━━━━━━━━━━━━━━━━━━━━━━━━━━━━━━━━━━\u001b[0m \u001b[32m1.0/1.0 MB\u001b[0m \u001b[31m34.3 MB/s\u001b[0m eta \u001b[36m0:00:00\u001b[0m\n",
      "\u001b[?25hRequirement already satisfied: numpy>=1.19.3 in /usr/local/lib/python3.9/site-packages (from ray) (1.22.3)\n",
      "Collecting redis>=3.5.0\n",
      "  Downloading redis-4.2.2-py3-none-any.whl (226 kB)\n",
      "\u001b[2K     \u001b[90m━━━━━━━━━━━━━━━━━━━━━━━━━━━━━━━━━━━━━━\u001b[0m \u001b[32m226.4/226.4 KB\u001b[0m \u001b[31m29.7 MB/s\u001b[0m eta \u001b[36m0:00:00\u001b[0m\n",
      "\u001b[?25hRequirement already satisfied: click>=7.0 in /usr/local/lib/python3.9/site-packages (from ray) (8.1.2)\n",
      "Collecting filelock\n",
      "  Downloading filelock-3.6.0-py3-none-any.whl (10.0 kB)\n",
      "Requirement already satisfied: msgpack<2.0.0,>=1.0.0 in /usr/local/lib/python3.9/site-packages (from ray) (1.0.3)\n",
      "Requirement already satisfied: six>=1.5.2 in /usr/local/lib/python3.9/site-packages (from grpcio<=1.43.0,>=1.28.1->ray) (1.16.0)\n",
      "Collecting deprecated>=1.2.3\n",
      "  Downloading Deprecated-1.2.13-py2.py3-none-any.whl (9.6 kB)\n",
      "Requirement already satisfied: packaging>=20.4 in /usr/local/lib/python3.9/site-packages (from redis>=3.5.0->ray) (21.3)\n",
      "Collecting async-timeout>=4.0.2\n",
      "  Downloading async_timeout-4.0.2-py3-none-any.whl (5.8 kB)\n",
      "Requirement already satisfied: pyrsistent!=0.17.0,!=0.17.1,!=0.17.2,>=0.14.0 in /usr/local/lib/python3.9/site-packages (from jsonschema->ray) (0.18.1)\n",
      "Collecting wrapt<2,>=1.10\n",
      "  Downloading wrapt-1.14.0-cp39-cp39-manylinux_2_5_x86_64.manylinux1_x86_64.manylinux_2_17_x86_64.manylinux2014_x86_64.whl (77 kB)\n",
      "\u001b[2K     \u001b[90m━━━━━━━━━━━━━━━━━━━━━━━━━━━━━━━━━━━━━━━━\u001b[0m \u001b[32m77.7/77.7 KB\u001b[0m \u001b[31m15.2 MB/s\u001b[0m eta \u001b[36m0:00:00\u001b[0m\n",
      "\u001b[?25hRequirement already satisfied: pyparsing!=3.0.5,>=2.0.2 in /usr/local/lib/python3.9/site-packages (from packaging>=20.4->redis>=3.5.0->ray) (3.0.7)\n",
      "Installing collected packages: wrapt, protobuf, grpcio, filelock, async-timeout, deprecated, redis, ray\n",
      "Successfully installed async-timeout-4.0.2 deprecated-1.2.13 filelock-3.6.0 grpcio-1.43.0 protobuf-3.20.0 ray-1.11.0 redis-4.2.2 wrapt-1.14.0\n",
      "\u001b[33mWARNING: Running pip as the 'root' user can result in broken permissions and conflicting behaviour with the system package manager. It is recommended to use a virtual environment instead: https://pip.pypa.io/warnings/venv\u001b[0m\u001b[33m\n",
      "\u001b[0m"
     ]
    }
   ],
   "source": [
    "!pip install -U ray"
   ]
  },
  {
   "cell_type": "code",
   "execution_count": 9,
   "id": "3d3dca27",
   "metadata": {},
   "outputs": [],
   "source": [
    "import ray\n",
    "from typing import List\n",
    "def parallel_grpby_apply(df: pd.DataFrame, grpby_cols: List[str], threads: int = cpu_count() * 2) -> pd.DataFrame:\n",
    "    \"\"\"\n",
    "    A parallelized version of _create_sales_ewm_feats_day,\n",
    "    uses Ray on the dataframe splitted into N chunks, N = the number of physical cores.\n",
    "    The split is made considering item_id range splitted linearly over chunks - which guarantees the\n",
    "    equal amount of items in each chunk, but not the equal amount of rows(a room for improvement)\n",
    "    :param df: dataframe to work with\n",
    "    :param gpby_cols: columns names to group by before calculations\n",
    "    :param target_col: column name to work with\n",
    "    :param alpha: coefficient of smoothing of expon. weighted mean\n",
    "    :param shift: base shift backwards, equals the maximum not-rolling prediction depth\n",
    "    :param lags: lags on top of the shift\n",
    "    :param day: a specific day for which we calculate lags\n",
    "    :return: dataframe with added features\n",
    "    :param threads: num of processes to use\n",
    "    \"\"\"\n",
    "    splits = np.array_split(df[grpby_cols[0]].unique(), threads)\n",
    "    chunks = [df.loc[df[grpby_cols[0]].isin(splits[x])] for x in range(threads)]\n",
    "\n",
    "    chunk_id = [ray.put(ch) for ch in chunks]\n",
    "    dtf = pd.concat(ray.get([my_func.remote(chunk_id[i], gpby_cols)\n",
    "                   for i in range(threads)]))\n",
    "\n",
    "    # the split messes everything up, so we need to resort it unfortunately\n",
    "    dtf.sort_values(by=grpby_cols, axis=0, inplace=True)\n",
    "    return dtf\n",
    "\n",
    "\n",
    "@ray.remote\n",
    "def my_func(df: pd.DataFrame, gpby_cols: List[str]) -> pd.DataFrame:\n",
    "    \"\"\"\n",
    "    Creating sales exponentially weighted mean features for one day\n",
    "    :param df: dataframe to work with\n",
    "    :param gpby_cols: columns names to group by before calculations\n",
    "    :param target_col: column name to work with\n",
    "    :param alpha: coefficient of smoothing of expon. weighted mean\n",
    "    :param shift: base shift backwards, equals the maximum not-rolling prediction depth\n",
    "    :param lags: lags on top of the shift\n",
    "    :param day: a specific day for which we calculate lags\n",
    "    :return: dataframe with added features\n",
    "    \"\"\"\n",
    "    # Ray makes data immutable when stored in its memory.\n",
    "    # This approach prevents state sharing among processes, but we have a separate chunk for each process\n",
    "    # to get rid of copying data, we make it mutable in-place again by this hack\n",
    "    for d in range(len(df._data.blocks)):\n",
    "        try:\n",
    "            df._data.blocks[d].values.flags.writeable = True\n",
    "        except Exception:\n",
    "            pass\n",
    "\n",
    "    return numeric_func(df)"
   ]
  },
  {
   "cell_type": "code",
   "execution_count": 10,
   "id": "4e57d0ea",
   "metadata": {},
   "outputs": [
    {
     "name": "stderr",
     "output_type": "stream",
     "text": [
      "2022-04-06 16:29:44,665\tWARNING services.py:1909 -- WARNING: The object store is using /tmp instead of /dev/shm because /dev/shm has only 67108864 bytes available. This will harm performance! You may be able to free up space by deleting files in /dev/shm. If you are inside a Docker container, you can increase /dev/shm size by passing '--shm-size=2.16gb' to 'docker run' (or add it to the run_options list in a Ray cluster config). Make sure to set this to more than 30% of available RAM.\n"
     ]
    },
    {
     "ename": "Exception",
     "evalue": "The current node has not been updated within 30 seconds, this could happen because of some of the Ray processes failed to startup.",
     "output_type": "error",
     "traceback": [
      "\u001b[0;31m---------------------------------------------------------------------------\u001b[0m",
      "\u001b[0;31mTimeoutError\u001b[0m                              Traceback (most recent call last)",
      "File \u001b[0;32m/usr/local/lib/python3.9/site-packages/ray/node.py:277\u001b[0m, in \u001b[0;36mNode.__init__\u001b[0;34m(self, ray_params, head, shutdown_at_exit, spawn_reaper, connect_only)\u001b[0m\n\u001b[1;32m    276\u001b[0m \u001b[38;5;28;01mtry\u001b[39;00m:\n\u001b[0;32m--> 277\u001b[0m     \u001b[43mray\u001b[49m\u001b[38;5;241;43m.\u001b[39;49m\u001b[43m_private\u001b[49m\u001b[38;5;241;43m.\u001b[39;49m\u001b[43mservices\u001b[49m\u001b[38;5;241;43m.\u001b[39;49m\u001b[43mwait_for_node\u001b[49m\u001b[43m(\u001b[49m\n\u001b[1;32m    278\u001b[0m \u001b[43m        \u001b[49m\u001b[38;5;28;43mself\u001b[39;49m\u001b[38;5;241;43m.\u001b[39;49m\u001b[43mredis_address\u001b[49m\u001b[43m,\u001b[49m\u001b[43m \u001b[49m\u001b[38;5;28;43mself\u001b[39;49m\u001b[38;5;241;43m.\u001b[39;49m\u001b[43mgcs_address\u001b[49m\u001b[43m,\u001b[49m\n\u001b[1;32m    279\u001b[0m \u001b[43m        \u001b[49m\u001b[38;5;28;43mself\u001b[39;49m\u001b[38;5;241;43m.\u001b[39;49m\u001b[43m_plasma_store_socket_name\u001b[49m\u001b[43m,\u001b[49m\u001b[43m \u001b[49m\u001b[38;5;28;43mself\u001b[39;49m\u001b[38;5;241;43m.\u001b[39;49m\u001b[43mredis_password\u001b[49m\u001b[43m)\u001b[49m\n\u001b[1;32m    280\u001b[0m \u001b[38;5;28;01mexcept\u001b[39;00m \u001b[38;5;167;01mTimeoutError\u001b[39;00m:\n",
      "File \u001b[0;32m/usr/local/lib/python3.9/site-packages/ray/_private/services.py:394\u001b[0m, in \u001b[0;36mwait_for_node\u001b[0;34m(redis_address, gcs_address, node_plasma_store_socket_name, redis_password, timeout)\u001b[0m\n\u001b[1;32m    393\u001b[0m         time\u001b[38;5;241m.\u001b[39msleep(\u001b[38;5;241m0.1\u001b[39m)\n\u001b[0;32m--> 394\u001b[0m \u001b[38;5;28;01mraise\u001b[39;00m \u001b[38;5;167;01mTimeoutError\u001b[39;00m(\u001b[38;5;124m\"\u001b[39m\u001b[38;5;124mTimed out while waiting for node to startup.\u001b[39m\u001b[38;5;124m\"\u001b[39m)\n",
      "\u001b[0;31mTimeoutError\u001b[0m: Timed out while waiting for node to startup.",
      "\nDuring handling of the above exception, another exception occurred:\n",
      "\u001b[0;31mException\u001b[0m                                 Traceback (most recent call last)",
      "Input \u001b[0;32mIn [10]\u001b[0m, in \u001b[0;36m<cell line: 1>\u001b[0;34m()\u001b[0m\n\u001b[0;32m----> 1\u001b[0m \u001b[43mparallel_grpby_apply\u001b[49m\u001b[43m(\u001b[49m\u001b[43mdf\u001b[49m\u001b[43m,\u001b[49m\u001b[43m  \u001b[49m\u001b[43mgrpby_cols\u001b[49m\u001b[38;5;241;43m=\u001b[39;49m\u001b[43m[\u001b[49m\u001b[38;5;124;43m\"\u001b[39;49m\u001b[38;5;124;43mgroups\u001b[39;49m\u001b[38;5;124;43m\"\u001b[39;49m\u001b[43m]\u001b[49m\u001b[43m)\u001b[49m\n",
      "Input \u001b[0;32mIn [9]\u001b[0m, in \u001b[0;36mparallel_grpby_apply\u001b[0;34m(df, grpby_cols, threads)\u001b[0m\n\u001b[1;32m     19\u001b[0m splits \u001b[38;5;241m=\u001b[39m np\u001b[38;5;241m.\u001b[39marray_split(df[grpby_cols[\u001b[38;5;241m0\u001b[39m]]\u001b[38;5;241m.\u001b[39munique(), threads)\n\u001b[1;32m     20\u001b[0m chunks \u001b[38;5;241m=\u001b[39m [df\u001b[38;5;241m.\u001b[39mloc[df[grpby_cols[\u001b[38;5;241m0\u001b[39m]]\u001b[38;5;241m.\u001b[39misin(splits[x])] \u001b[38;5;28;01mfor\u001b[39;00m x \u001b[38;5;129;01min\u001b[39;00m \u001b[38;5;28mrange\u001b[39m(threads)]\n\u001b[0;32m---> 22\u001b[0m chunk_id \u001b[38;5;241m=\u001b[39m [ray\u001b[38;5;241m.\u001b[39mput(ch) \u001b[38;5;28;01mfor\u001b[39;00m ch \u001b[38;5;129;01min\u001b[39;00m chunks]\n\u001b[1;32m     23\u001b[0m dtf \u001b[38;5;241m=\u001b[39m pd\u001b[38;5;241m.\u001b[39mconcat(ray\u001b[38;5;241m.\u001b[39mget([my_func\u001b[38;5;241m.\u001b[39mremote(chunk_id[i], gpby_cols)\n\u001b[1;32m     24\u001b[0m                \u001b[38;5;28;01mfor\u001b[39;00m i \u001b[38;5;129;01min\u001b[39;00m \u001b[38;5;28mrange\u001b[39m(threads)]))\n\u001b[1;32m     26\u001b[0m \u001b[38;5;66;03m# the split messes everything up, so we need to resort it unfortunately\u001b[39;00m\n",
      "Input \u001b[0;32mIn [9]\u001b[0m, in \u001b[0;36m<listcomp>\u001b[0;34m(.0)\u001b[0m\n\u001b[1;32m     19\u001b[0m splits \u001b[38;5;241m=\u001b[39m np\u001b[38;5;241m.\u001b[39marray_split(df[grpby_cols[\u001b[38;5;241m0\u001b[39m]]\u001b[38;5;241m.\u001b[39munique(), threads)\n\u001b[1;32m     20\u001b[0m chunks \u001b[38;5;241m=\u001b[39m [df\u001b[38;5;241m.\u001b[39mloc[df[grpby_cols[\u001b[38;5;241m0\u001b[39m]]\u001b[38;5;241m.\u001b[39misin(splits[x])] \u001b[38;5;28;01mfor\u001b[39;00m x \u001b[38;5;129;01min\u001b[39;00m \u001b[38;5;28mrange\u001b[39m(threads)]\n\u001b[0;32m---> 22\u001b[0m chunk_id \u001b[38;5;241m=\u001b[39m [\u001b[43mray\u001b[49m\u001b[38;5;241;43m.\u001b[39;49m\u001b[43mput\u001b[49m\u001b[43m(\u001b[49m\u001b[43mch\u001b[49m\u001b[43m)\u001b[49m \u001b[38;5;28;01mfor\u001b[39;00m ch \u001b[38;5;129;01min\u001b[39;00m chunks]\n\u001b[1;32m     23\u001b[0m dtf \u001b[38;5;241m=\u001b[39m pd\u001b[38;5;241m.\u001b[39mconcat(ray\u001b[38;5;241m.\u001b[39mget([my_func\u001b[38;5;241m.\u001b[39mremote(chunk_id[i], gpby_cols)\n\u001b[1;32m     24\u001b[0m                \u001b[38;5;28;01mfor\u001b[39;00m i \u001b[38;5;129;01min\u001b[39;00m \u001b[38;5;28mrange\u001b[39m(threads)]))\n\u001b[1;32m     26\u001b[0m \u001b[38;5;66;03m# the split messes everything up, so we need to resort it unfortunately\u001b[39;00m\n",
      "File \u001b[0;32m/usr/local/lib/python3.9/site-packages/ray/_private/client_mode_hook.py:100\u001b[0m, in \u001b[0;36mclient_mode_hook.<locals>.wrapper\u001b[0;34m(*args, **kwargs)\u001b[0m\n\u001b[1;32m     98\u001b[0m \u001b[38;5;129m@wraps\u001b[39m(func)\n\u001b[1;32m     99\u001b[0m \u001b[38;5;28;01mdef\u001b[39;00m \u001b[38;5;21mwrapper\u001b[39m(\u001b[38;5;241m*\u001b[39margs, \u001b[38;5;241m*\u001b[39m\u001b[38;5;241m*\u001b[39mkwargs):\n\u001b[0;32m--> 100\u001b[0m     \u001b[38;5;28;01mif\u001b[39;00m \u001b[43mclient_mode_should_convert\u001b[49m\u001b[43m(\u001b[49m\u001b[43mauto_init\u001b[49m\u001b[38;5;241;43m=\u001b[39;49m\u001b[43mauto_init\u001b[49m\u001b[43m)\u001b[49m:\n\u001b[1;32m    101\u001b[0m         \u001b[38;5;66;03m# Legacy code\u001b[39;00m\n\u001b[1;32m    102\u001b[0m         \u001b[38;5;66;03m# we only convert init function if RAY_CLIENT_MODE=1\u001b[39;00m\n\u001b[1;32m    103\u001b[0m         \u001b[38;5;28;01mif\u001b[39;00m func\u001b[38;5;241m.\u001b[39m\u001b[38;5;18m__name__\u001b[39m \u001b[38;5;241m!=\u001b[39m \u001b[38;5;124m\"\u001b[39m\u001b[38;5;124minit\u001b[39m\u001b[38;5;124m\"\u001b[39m \u001b[38;5;129;01mor\u001b[39;00m is_client_mode_enabled_by_default:\n\u001b[1;32m    104\u001b[0m             \u001b[38;5;28;01mreturn\u001b[39;00m \u001b[38;5;28mgetattr\u001b[39m(ray, func\u001b[38;5;241m.\u001b[39m\u001b[38;5;18m__name__\u001b[39m)(\u001b[38;5;241m*\u001b[39margs, \u001b[38;5;241m*\u001b[39m\u001b[38;5;241m*\u001b[39mkwargs)\n",
      "File \u001b[0;32m/usr/local/lib/python3.9/site-packages/ray/_private/client_mode_hook.py:121\u001b[0m, in \u001b[0;36mclient_mode_should_convert\u001b[0;34m(auto_init)\u001b[0m\n\u001b[1;32m    118\u001b[0m     \u001b[38;5;28;01mimport\u001b[39;00m \u001b[38;5;21;01mray\u001b[39;00m\n\u001b[1;32m    119\u001b[0m     \u001b[38;5;28;01mif\u001b[39;00m os\u001b[38;5;241m.\u001b[39menviron\u001b[38;5;241m.\u001b[39mget(\u001b[38;5;124m\"\u001b[39m\u001b[38;5;124mRAY_ENABLE_AUTO_CONNECT\u001b[39m\u001b[38;5;124m\"\u001b[39m,\n\u001b[1;32m    120\u001b[0m                       \u001b[38;5;124m\"\u001b[39m\u001b[38;5;124m\"\u001b[39m) \u001b[38;5;241m!=\u001b[39m \u001b[38;5;124m\"\u001b[39m\u001b[38;5;124m0\u001b[39m\u001b[38;5;124m\"\u001b[39m \u001b[38;5;129;01mand\u001b[39;00m \u001b[38;5;129;01mnot\u001b[39;00m ray\u001b[38;5;241m.\u001b[39mis_initialized():\n\u001b[0;32m--> 121\u001b[0m         \u001b[43mray\u001b[49m\u001b[38;5;241;43m.\u001b[39;49m\u001b[43minit\u001b[49m\u001b[43m(\u001b[49m\u001b[43m)\u001b[49m\n\u001b[1;32m    123\u001b[0m \u001b[38;5;66;03m# `is_client_mode_enabled_by_default` is used for testing with\u001b[39;00m\n\u001b[1;32m    124\u001b[0m \u001b[38;5;66;03m# `RAY_CLIENT_MODE=1`. This flag means all tests run with client mode.\u001b[39;00m\n\u001b[1;32m    125\u001b[0m \u001b[38;5;28;01mreturn\u001b[39;00m (is_client_mode_enabled \u001b[38;5;129;01mor\u001b[39;00m is_client_mode_enabled_by_default) \u001b[38;5;129;01mand\u001b[39;00m \\\n\u001b[1;32m    126\u001b[0m     _get_client_hook_status_on_thread()\n",
      "File \u001b[0;32m/usr/local/lib/python3.9/site-packages/ray/_private/client_mode_hook.py:105\u001b[0m, in \u001b[0;36mclient_mode_hook.<locals>.wrapper\u001b[0;34m(*args, **kwargs)\u001b[0m\n\u001b[1;32m    103\u001b[0m     \u001b[38;5;28;01mif\u001b[39;00m func\u001b[38;5;241m.\u001b[39m\u001b[38;5;18m__name__\u001b[39m \u001b[38;5;241m!=\u001b[39m \u001b[38;5;124m\"\u001b[39m\u001b[38;5;124minit\u001b[39m\u001b[38;5;124m\"\u001b[39m \u001b[38;5;129;01mor\u001b[39;00m is_client_mode_enabled_by_default:\n\u001b[1;32m    104\u001b[0m         \u001b[38;5;28;01mreturn\u001b[39;00m \u001b[38;5;28mgetattr\u001b[39m(ray, func\u001b[38;5;241m.\u001b[39m\u001b[38;5;18m__name__\u001b[39m)(\u001b[38;5;241m*\u001b[39margs, \u001b[38;5;241m*\u001b[39m\u001b[38;5;241m*\u001b[39mkwargs)\n\u001b[0;32m--> 105\u001b[0m \u001b[38;5;28;01mreturn\u001b[39;00m \u001b[43mfunc\u001b[49m\u001b[43m(\u001b[49m\u001b[38;5;241;43m*\u001b[39;49m\u001b[43margs\u001b[49m\u001b[43m,\u001b[49m\u001b[43m \u001b[49m\u001b[38;5;241;43m*\u001b[39;49m\u001b[38;5;241;43m*\u001b[39;49m\u001b[43mkwargs\u001b[49m\u001b[43m)\u001b[49m\n",
      "File \u001b[0;32m/usr/local/lib/python3.9/site-packages/ray/worker.py:933\u001b[0m, in \u001b[0;36minit\u001b[0;34m(address, num_cpus, num_gpus, resources, object_store_memory, local_mode, ignore_reinit_error, include_dashboard, dashboard_host, dashboard_port, job_config, configure_logging, logging_level, logging_format, log_to_driver, namespace, runtime_env, _enable_object_reconstruction, _redis_max_memory, _plasma_directory, _node_ip_address, _driver_object_store_memory, _memory, _redis_password, _temp_dir, _metrics_export_port, _system_config, _tracing_startup_hook, **kwargs)\u001b[0m\n\u001b[1;32m    895\u001b[0m     ray_params \u001b[38;5;241m=\u001b[39m ray\u001b[38;5;241m.\u001b[39m_private\u001b[38;5;241m.\u001b[39mparameter\u001b[38;5;241m.\u001b[39mRayParams(\n\u001b[1;32m    896\u001b[0m         node_ip_address\u001b[38;5;241m=\u001b[39mnode_ip_address,\n\u001b[1;32m    897\u001b[0m         raylet_ip_address\u001b[38;5;241m=\u001b[39mraylet_ip_address,\n\u001b[0;32m   (...)\u001b[0m\n\u001b[1;32m    927\u001b[0m         metrics_export_port\u001b[38;5;241m=\u001b[39m_metrics_export_port,\n\u001b[1;32m    928\u001b[0m         tracing_startup_hook\u001b[38;5;241m=\u001b[39m_tracing_startup_hook)\n\u001b[1;32m    929\u001b[0m     \u001b[38;5;66;03m# Start the Ray processes. We set shutdown_at_exit=False because we\u001b[39;00m\n\u001b[1;32m    930\u001b[0m     \u001b[38;5;66;03m# shutdown the node in the ray.shutdown call that happens in the atexit\u001b[39;00m\n\u001b[1;32m    931\u001b[0m     \u001b[38;5;66;03m# handler. We still spawn a reaper process in case the atexit handler\u001b[39;00m\n\u001b[1;32m    932\u001b[0m     \u001b[38;5;66;03m# isn't called.\u001b[39;00m\n\u001b[0;32m--> 933\u001b[0m     _global_node \u001b[38;5;241m=\u001b[39m \u001b[43mray\u001b[49m\u001b[38;5;241;43m.\u001b[39;49m\u001b[43mnode\u001b[49m\u001b[38;5;241;43m.\u001b[39;49m\u001b[43mNode\u001b[49m\u001b[43m(\u001b[49m\n\u001b[1;32m    934\u001b[0m \u001b[43m        \u001b[49m\u001b[43mhead\u001b[49m\u001b[38;5;241;43m=\u001b[39;49m\u001b[38;5;28;43;01mTrue\u001b[39;49;00m\u001b[43m,\u001b[49m\n\u001b[1;32m    935\u001b[0m \u001b[43m        \u001b[49m\u001b[43mshutdown_at_exit\u001b[49m\u001b[38;5;241;43m=\u001b[39;49m\u001b[38;5;28;43;01mFalse\u001b[39;49;00m\u001b[43m,\u001b[49m\n\u001b[1;32m    936\u001b[0m \u001b[43m        \u001b[49m\u001b[43mspawn_reaper\u001b[49m\u001b[38;5;241;43m=\u001b[39;49m\u001b[38;5;28;43;01mTrue\u001b[39;49;00m\u001b[43m,\u001b[49m\n\u001b[1;32m    937\u001b[0m \u001b[43m        \u001b[49m\u001b[43mray_params\u001b[49m\u001b[38;5;241;43m=\u001b[39;49m\u001b[43mray_params\u001b[49m\u001b[43m)\u001b[49m\n\u001b[1;32m    938\u001b[0m \u001b[38;5;28;01melse\u001b[39;00m:\n\u001b[1;32m    939\u001b[0m     \u001b[38;5;66;03m# In this case, we are connecting to an existing cluster.\u001b[39;00m\n\u001b[1;32m    940\u001b[0m     \u001b[38;5;28;01mif\u001b[39;00m num_cpus \u001b[38;5;129;01mis\u001b[39;00m \u001b[38;5;129;01mnot\u001b[39;00m \u001b[38;5;28;01mNone\u001b[39;00m \u001b[38;5;129;01mor\u001b[39;00m num_gpus \u001b[38;5;129;01mis\u001b[39;00m \u001b[38;5;129;01mnot\u001b[39;00m \u001b[38;5;28;01mNone\u001b[39;00m:\n",
      "File \u001b[0;32m/usr/local/lib/python3.9/site-packages/ray/node.py:281\u001b[0m, in \u001b[0;36mNode.__init__\u001b[0;34m(self, ray_params, head, shutdown_at_exit, spawn_reaper, connect_only)\u001b[0m\n\u001b[1;32m    277\u001b[0m     ray\u001b[38;5;241m.\u001b[39m_private\u001b[38;5;241m.\u001b[39mservices\u001b[38;5;241m.\u001b[39mwait_for_node(\n\u001b[1;32m    278\u001b[0m         \u001b[38;5;28mself\u001b[39m\u001b[38;5;241m.\u001b[39mredis_address, \u001b[38;5;28mself\u001b[39m\u001b[38;5;241m.\u001b[39mgcs_address,\n\u001b[1;32m    279\u001b[0m         \u001b[38;5;28mself\u001b[39m\u001b[38;5;241m.\u001b[39m_plasma_store_socket_name, \u001b[38;5;28mself\u001b[39m\u001b[38;5;241m.\u001b[39mredis_password)\n\u001b[1;32m    280\u001b[0m \u001b[38;5;28;01mexcept\u001b[39;00m \u001b[38;5;167;01mTimeoutError\u001b[39;00m:\n\u001b[0;32m--> 281\u001b[0m     \u001b[38;5;28;01mraise\u001b[39;00m \u001b[38;5;167;01mException\u001b[39;00m(\n\u001b[1;32m    282\u001b[0m         \u001b[38;5;124m\"\u001b[39m\u001b[38;5;124mThe current node has not been updated within 30 \u001b[39m\u001b[38;5;124m\"\u001b[39m\n\u001b[1;32m    283\u001b[0m         \u001b[38;5;124m\"\u001b[39m\u001b[38;5;124mseconds, this could happen because of some of \u001b[39m\u001b[38;5;124m\"\u001b[39m\n\u001b[1;32m    284\u001b[0m         \u001b[38;5;124m\"\u001b[39m\u001b[38;5;124mthe Ray processes failed to startup.\u001b[39m\u001b[38;5;124m\"\u001b[39m)\n\u001b[1;32m    285\u001b[0m node_info \u001b[38;5;241m=\u001b[39m (ray\u001b[38;5;241m.\u001b[39m_private\u001b[38;5;241m.\u001b[39mservices\u001b[38;5;241m.\u001b[39mget_node_to_connect_for_driver(\n\u001b[1;32m    286\u001b[0m     \u001b[38;5;28mself\u001b[39m\u001b[38;5;241m.\u001b[39mredis_address,\n\u001b[1;32m    287\u001b[0m     \u001b[38;5;28mself\u001b[39m\u001b[38;5;241m.\u001b[39mgcs_address,\n\u001b[1;32m    288\u001b[0m     \u001b[38;5;28mself\u001b[39m\u001b[38;5;241m.\u001b[39m_raylet_ip_address,\n\u001b[1;32m    289\u001b[0m     redis_password\u001b[38;5;241m=\u001b[39m\u001b[38;5;28mself\u001b[39m\u001b[38;5;241m.\u001b[39mredis_password))\n\u001b[1;32m    290\u001b[0m \u001b[38;5;28mself\u001b[39m\u001b[38;5;241m.\u001b[39m_ray_params\u001b[38;5;241m.\u001b[39mnode_manager_port \u001b[38;5;241m=\u001b[39m node_info\u001b[38;5;241m.\u001b[39mnode_manager_port\n",
      "\u001b[0;31mException\u001b[0m: The current node has not been updated within 30 seconds, this could happen because of some of the Ray processes failed to startup."
     ]
    }
   ],
   "source": [
    "parallel_grpby_apply(df,  grpby_cols=[\"groups\"])"
   ]
  },
  {
   "cell_type": "code",
   "execution_count": 5,
   "id": "6bb0fc02",
   "metadata": {},
   "outputs": [],
   "source": [
    "from multiprocessing import Pool, cpu_count\n",
    "\n",
    "def applyParallel(dfGrouped, func):\n",
    "    with Pool(cpu_count()) as p:\n",
    "        ret_list = p.map(func, [group for name, group in dfGrouped])\n",
    "    return pd.DataFrame(ret_list, index=dfGrouped.groups)"
   ]
  },
  {
   "cell_type": "code",
   "execution_count": 6,
   "id": "906d44f7",
   "metadata": {},
   "outputs": [
    {
     "name": "stdout",
     "output_type": "stream",
     "text": [
      "CPU times: user 8.86 s, sys: 589 ms, total: 9.45 s\n",
      "Wall time: 10.6 s\n"
     ]
    },
    {
     "data": {
      "text/html": [
       "<div>\n",
       "<style scoped>\n",
       "    .dataframe tbody tr th:only-of-type {\n",
       "        vertical-align: middle;\n",
       "    }\n",
       "\n",
       "    .dataframe tbody tr th {\n",
       "        vertical-align: top;\n",
       "    }\n",
       "\n",
       "    .dataframe thead th {\n",
       "        text-align: right;\n",
       "    }\n",
       "</style>\n",
       "<table border=\"1\" class=\"dataframe\">\n",
       "  <thead>\n",
       "    <tr style=\"text-align: right;\">\n",
       "      <th></th>\n",
       "      <th>0</th>\n",
       "    </tr>\n",
       "  </thead>\n",
       "  <tbody>\n",
       "    <tr>\n",
       "      <th>0</th>\n",
       "      <td>0.055296</td>\n",
       "    </tr>\n",
       "    <tr>\n",
       "      <th>1</th>\n",
       "      <td>0.000427</td>\n",
       "    </tr>\n",
       "    <tr>\n",
       "      <th>2</th>\n",
       "      <td>-0.055434</td>\n",
       "    </tr>\n",
       "    <tr>\n",
       "      <th>3</th>\n",
       "      <td>-0.026073</td>\n",
       "    </tr>\n",
       "    <tr>\n",
       "      <th>4</th>\n",
       "      <td>0.050453</td>\n",
       "    </tr>\n",
       "    <tr>\n",
       "      <th>...</th>\n",
       "      <td>...</td>\n",
       "    </tr>\n",
       "    <tr>\n",
       "      <th>69191</th>\n",
       "      <td>-0.015054</td>\n",
       "    </tr>\n",
       "    <tr>\n",
       "      <th>69192</th>\n",
       "      <td>-0.055151</td>\n",
       "    </tr>\n",
       "    <tr>\n",
       "      <th>69193</th>\n",
       "      <td>-0.012558</td>\n",
       "    </tr>\n",
       "    <tr>\n",
       "      <th>69194</th>\n",
       "      <td>-0.021996</td>\n",
       "    </tr>\n",
       "    <tr>\n",
       "      <th>69195</th>\n",
       "      <td>-0.157132</td>\n",
       "    </tr>\n",
       "  </tbody>\n",
       "</table>\n",
       "<p>69196 rows × 1 columns</p>\n",
       "</div>"
      ],
      "text/plain": [
       "              0\n",
       "0      0.055296\n",
       "1      0.000427\n",
       "2     -0.055434\n",
       "3     -0.026073\n",
       "4      0.050453\n",
       "...         ...\n",
       "69191 -0.015054\n",
       "69192 -0.055151\n",
       "69193 -0.012558\n",
       "69194 -0.021996\n",
       "69195 -0.157132\n",
       "\n",
       "[69196 rows x 1 columns]"
      ]
     },
     "execution_count": 6,
     "metadata": {},
     "output_type": "execute_result"
    }
   ],
   "source": [
    "%time applyParallel(df.groupby(\"groups\"), numeric_func)"
   ]
  },
  {
   "cell_type": "code",
   "execution_count": 7,
   "id": "205be98e",
   "metadata": {},
   "outputs": [
    {
     "name": "stdout",
     "output_type": "stream",
     "text": [
      "CPU times: user 8.94 s, sys: 734 ms, total: 9.67 s\n",
      "Wall time: 10.7 s\n"
     ]
    },
    {
     "data": {
      "text/html": [
       "<div>\n",
       "<style scoped>\n",
       "    .dataframe tbody tr th:only-of-type {\n",
       "        vertical-align: middle;\n",
       "    }\n",
       "\n",
       "    .dataframe tbody tr th {\n",
       "        vertical-align: top;\n",
       "    }\n",
       "\n",
       "    .dataframe thead th {\n",
       "        text-align: right;\n",
       "    }\n",
       "</style>\n",
       "<table border=\"1\" class=\"dataframe\">\n",
       "  <thead>\n",
       "    <tr style=\"text-align: right;\">\n",
       "      <th></th>\n",
       "      <th>0</th>\n",
       "    </tr>\n",
       "  </thead>\n",
       "  <tbody>\n",
       "    <tr>\n",
       "      <th>0</th>\n",
       "      <td>m-l-q-r-f-h-b-m-l-e-h-c-a-x-d-l-r-m-m-y-j-a-l-...</td>\n",
       "    </tr>\n",
       "    <tr>\n",
       "      <th>1</th>\n",
       "      <td>u-a-h-x-f-w-u-b-b-k-b-f-x-d-m-o-i-i-c-b-q-d-i-...</td>\n",
       "    </tr>\n",
       "    <tr>\n",
       "      <th>2</th>\n",
       "      <td>z-l-f-o-b-f-o-h-g-g-k-p-s-o-z-g-m-t-i-h-c-v-a-...</td>\n",
       "    </tr>\n",
       "    <tr>\n",
       "      <th>3</th>\n",
       "      <td>j-q-d-m-q-z-p-n-t-r-h-h-o-u-q-v-t-h-h-g-r-z-q-...</td>\n",
       "    </tr>\n",
       "    <tr>\n",
       "      <th>4</th>\n",
       "      <td>j-v-o-i-z-n-h-d-c-o-z-b-i-s-h-b-z-i-q-x-q-w-i-...</td>\n",
       "    </tr>\n",
       "    <tr>\n",
       "      <th>...</th>\n",
       "      <td>...</td>\n",
       "    </tr>\n",
       "    <tr>\n",
       "      <th>69191</th>\n",
       "      <td>r-l-i-h-b-a-g-x-s-c-n-c-o-y-x-h-i-d-i-l-w-l-a-...</td>\n",
       "    </tr>\n",
       "    <tr>\n",
       "      <th>69192</th>\n",
       "      <td>n-e-r-z-y-f-h-p-t-w-c-e-h-r-a-p-g-l-y-a-x-i-s-...</td>\n",
       "    </tr>\n",
       "    <tr>\n",
       "      <th>69193</th>\n",
       "      <td>m-u-n-u-h-s-y-g-y-h-q-o-y-y-u-b-x-j-y-d-l-g-c-...</td>\n",
       "    </tr>\n",
       "    <tr>\n",
       "      <th>69194</th>\n",
       "      <td>o-n-x-k-f-b-p-j-x-w-y-c-j-s-s-v-c-h-b-y-n-b-g-...</td>\n",
       "    </tr>\n",
       "    <tr>\n",
       "      <th>69195</th>\n",
       "      <td>j-j-n-a-w-a-c-x-y-v-f-k-u-o-y-q-k-b-c-g-n-z-j-...</td>\n",
       "    </tr>\n",
       "  </tbody>\n",
       "</table>\n",
       "<p>69196 rows × 1 columns</p>\n",
       "</div>"
      ],
      "text/plain": [
       "                                                       0\n",
       "0      m-l-q-r-f-h-b-m-l-e-h-c-a-x-d-l-r-m-m-y-j-a-l-...\n",
       "1      u-a-h-x-f-w-u-b-b-k-b-f-x-d-m-o-i-i-c-b-q-d-i-...\n",
       "2      z-l-f-o-b-f-o-h-g-g-k-p-s-o-z-g-m-t-i-h-c-v-a-...\n",
       "3      j-q-d-m-q-z-p-n-t-r-h-h-o-u-q-v-t-h-h-g-r-z-q-...\n",
       "4      j-v-o-i-z-n-h-d-c-o-z-b-i-s-h-b-z-i-q-x-q-w-i-...\n",
       "...                                                  ...\n",
       "69191  r-l-i-h-b-a-g-x-s-c-n-c-o-y-x-h-i-d-i-l-w-l-a-...\n",
       "69192  n-e-r-z-y-f-h-p-t-w-c-e-h-r-a-p-g-l-y-a-x-i-s-...\n",
       "69193  m-u-n-u-h-s-y-g-y-h-q-o-y-y-u-b-x-j-y-d-l-g-c-...\n",
       "69194  o-n-x-k-f-b-p-j-x-w-y-c-j-s-s-v-c-h-b-y-n-b-g-...\n",
       "69195  j-j-n-a-w-a-c-x-y-v-f-k-u-o-y-q-k-b-c-g-n-z-j-...\n",
       "\n",
       "[69196 rows x 1 columns]"
      ]
     },
     "execution_count": 7,
     "metadata": {},
     "output_type": "execute_result"
    }
   ],
   "source": [
    "%time applyParallel(df.groupby(\"groups\"), str_func)"
   ]
  },
  {
   "cell_type": "code",
   "execution_count": null,
   "id": "fd98ac4b",
   "metadata": {},
   "outputs": [],
   "source": []
  }
 ],
 "metadata": {
  "kernelspec": {
   "display_name": "Python 3 (ipykernel)",
   "language": "python",
   "name": "python3"
  },
  "language_info": {
   "codemirror_mode": {
    "name": "ipython",
    "version": 3
   },
   "file_extension": ".py",
   "mimetype": "text/x-python",
   "name": "python",
   "nbconvert_exporter": "python",
   "pygments_lexer": "ipython3",
   "version": "3.9.12"
  }
 },
 "nbformat": 4,
 "nbformat_minor": 5
}
