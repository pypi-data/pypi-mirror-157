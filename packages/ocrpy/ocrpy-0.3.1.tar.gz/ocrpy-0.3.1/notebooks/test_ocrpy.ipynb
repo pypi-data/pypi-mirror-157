{
 "cells": [
  {
   "cell_type": "code",
   "execution_count": 68,
   "metadata": {},
   "outputs": [],
   "source": [
    "import os \n",
    "from pathlib2 import Path\n",
    "\n",
    "from ocrpy.io import DocumentReader\n",
    "from ocrpy.parsers import TesseractTextOCR, AwsTextOCR"
   ]
  },
  {
   "cell_type": "code",
   "execution_count": 69,
   "metadata": {},
   "outputs": [],
   "source": [
    "s3_img_path = \"s3://rita-experiments/temp.png\"\n",
    "s3_pdf_path = \"s3://rita-experiments/applsci-11-10639-v2.pdf\"\n",
    "local_img_path = \"temp.png\"\n",
    "\n",
    "credentials = \"credentials.env\""
   ]
  },
  {
   "cell_type": "code",
   "execution_count": 70,
   "metadata": {},
   "outputs": [],
   "source": [
    "reader = DocumentReader(file=s3_pdf_path, credentials=credentials)\n",
    "\n",
    "local_parser = TesseractTextOCR(reader)\n",
    "aws_parser = AwsTextOCR(env_file=credentials, reader=reader)"
   ]
  },
  {
   "cell_type": "code",
   "execution_count": 12,
   "metadata": {},
   "outputs": [],
   "source": [
    "local_parsed_data = local_parser.parse\n",
    "aws_parsed_data = aws_parser.parse"
   ]
  },
  {
   "cell_type": "code",
   "execution_count": 41,
   "metadata": {},
   "outputs": [],
   "source": [
    "from attr import define, field \n",
    "from uuid import uuid4\n",
    "import json \n",
    "from dotenv import load_dotenv\n",
    "from cloudpathlib import S3Client, GSClient, AnyPath"
   ]
  },
  {
   "cell_type": "code",
   "execution_count": 77,
   "metadata": {},
   "outputs": [],
   "source": [
    "@define \n",
    "class DocumentWriter:\n",
    "    data = field()\n",
    "    file = field()\n",
    "    credentials = field(default=None)\n",
    "\n",
    "    @property\n",
    "    def write(self):\n",
    "        client = self._get_client(self.file)\n",
    "        file_data = AnyPath(self.file, client=client)\n",
    "        file_data.write_text(self.data)\n",
    "        return None \n",
    "\n",
    "    def _get_client(self, file):\n",
    "        if file.startswith(\"gs://\") and self.credentials:\n",
    "            client = GSClient(application_credentials=self.credentials)\n",
    "\n",
    "        elif file.startswith(\"s3://\") and self.credentials:\n",
    "            load_dotenv(self.credentials)\n",
    "            client = S3Client(aws_access_key_id=os.getenv(\n",
    "                'aws_access_key_id'), aws_secret_access_key=os.getenv('aws_secret_access_key'))\n",
    "        else:\n",
    "            client = None\n",
    "\n",
    "        return client"
   ]
  },
  {
   "cell_type": "code",
   "execution_count": 78,
   "metadata": {},
   "outputs": [],
   "source": [
    "s3_destintion = \"s3://rita-experiments/data_sample_1.json\"\n",
    "local_destination = \"data_sample.json\"\n",
    "writer = DocumentWriter(file=s3_destintion, credentials=credentials, data=json.dumps(aws_parsed_data))"
   ]
  },
  {
   "cell_type": "code",
   "execution_count": 76,
   "metadata": {},
   "outputs": [],
   "source": [
    "writer.write"
   ]
  },
  {
   "cell_type": "code",
   "execution_count": null,
   "metadata": {},
   "outputs": [],
   "source": []
  }
 ],
 "metadata": {
  "interpreter": {
   "hash": "4f13271a8eedf9748f2b15eecb4f6b6588fa78e9defad529da5fcd33ad9fd96c"
  },
  "kernelspec": {
   "display_name": "Python 3.8.12 ('base')",
   "language": "python",
   "name": "python3"
  },
  "language_info": {
   "codemirror_mode": {
    "name": "ipython",
    "version": 3
   },
   "file_extension": ".py",
   "mimetype": "text/x-python",
   "name": "python",
   "nbconvert_exporter": "python",
   "pygments_lexer": "ipython3",
   "version": "3.8.12"
  },
  "orig_nbformat": 4
 },
 "nbformat": 4,
 "nbformat_minor": 2
}
