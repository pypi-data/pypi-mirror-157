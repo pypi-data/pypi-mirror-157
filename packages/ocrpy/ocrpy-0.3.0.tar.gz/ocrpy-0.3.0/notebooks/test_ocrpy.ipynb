{
 "cells": [
  {
   "cell_type": "code",
   "execution_count": 1,
   "metadata": {},
   "outputs": [],
   "source": [
    "import os\n",
    "from ocrpy.backend import PyTesseract, AwsTextract"
   ]
  },
  {
   "cell_type": "code",
   "execution_count": 2,
   "metadata": {},
   "outputs": [],
   "source": [
    "data = PyTesseract(\"test.png\")"
   ]
  },
  {
   "cell_type": "code",
   "execution_count": 6,
   "metadata": {},
   "outputs": [
    {
     "name": "stderr",
     "output_type": "stream",
     "text": [
      "/Users/bgs/anaconda3/lib/python3.8/site-packages/ocrpy/backend/pytesseract/document.py:59: GuessedAtParserWarning: No parser was explicitly specified, so I'm using the best available HTML parser for this system (\"lxml\"). This usually isn't a problem, but if you run this code on another system, or in a different virtual environment, it may use a different parser and behave differently.\n",
      "\n",
      "The code that caused this warning is on line 59 of the file /Users/bgs/anaconda3/lib/python3.8/site-packages/ocrpy/backend/pytesseract/document.py. To get rid of this warning, pass the additional argument 'features=\"lxml\"' to the BeautifulSoup constructor.\n",
      "\n",
      "  self._xml_format = BeautifulSoup(self.ocr)\n",
      "/Users/bgs/anaconda3/lib/python3.8/site-packages/ocrpy/backend/pytesseract/document.py:18: GuessedAtParserWarning: No parser was explicitly specified, so I'm using the best available HTML parser for this system (\"lxml\"). This usually isn't a problem, but if you run this code on another system, or in a different virtual environment, it may use a different parser and behave differently.\n",
      "\n",
      "The code that caused this warning is on line 18 of the file /Users/bgs/anaconda3/lib/python3.8/site-packages/ocrpy/backend/pytesseract/document.py. To get rid of this warning, pass the additional argument 'features=\"lxml\"' to the BeautifulSoup constructor.\n",
      "\n",
      "  self.ocr = BeautifulSoup(self.ocr)\n",
      "/Users/bgs/anaconda3/lib/python3.8/site-packages/ocrpy/backend/pytesseract/document.py:126: GuessedAtParserWarning: No parser was explicitly specified, so I'm using the best available HTML parser for this system (\"lxml\"). This usually isn't a problem, but if you run this code on another system, or in a different virtual environment, it may use a different parser and behave differently.\n",
      "\n",
      "The code that caused this warning is on line 126 of the file /Users/bgs/anaconda3/lib/python3.8/site-packages/ocrpy/backend/pytesseract/document.py. To get rid of this warning, pass the additional argument 'features=\"lxml\"' to the BeautifulSoup constructor.\n",
      "\n",
      "  token = tesseract_token_extractor(BeautifulSoup(self.ocr))\n"
     ]
    }
   ],
   "source": [
    "blocks = data.blocks\n",
    "lines = data.lines\n",
    "words = data.tokens\n",
    "full_text = data.full_text"
   ]
  },
  {
   "cell_type": "code",
   "execution_count": 31,
   "metadata": {},
   "outputs": [
    {
     "name": "stdout",
     "output_type": "stream",
     "text": [
      "We can point to other such forces that emerged from this deep past\n",
      "and that similarly mold our everyday behavior—for instance, our need\n",
      "to continually rank ourselves and measure our self-worth through our\n",
      "status is a trait that is noticeable among all hunter-gatherer cultures,\n",
      "and even among chimpanzees, as are our tribal instincts, which cause us\n",
      "to divide people into insiders or outsiders. We can add to these\n",
      "primitive qualities our need to wear masks to disguise any behavior that\n",
      "is frowned upon by the tribe, leading to the formation of a shadow\n",
      "personality from all the dark desires we have repressed. Our ancestors\n",
      "understood this shadow and its dangerousness, imagining it originated\n",
      "from spirits and demons that needed to be exorcised. We rely on a\n",
      "different myth—“something came over me.”\n",
      "\n",
      "Once this primal current or force within us reaches the level of\n",
      "consciousness, we have to react to it, and we do so depending on our\n",
      "individual spirit and circumstances, usually explaining it away\n",
      "superficially without really understanding it. Because of the precise way\n",
      "in which we evolved, there are a limited number of these forces of\n",
      "human nature, and they lead to the behavior mentioned above—envy,\n",
      "grandiosity, irrationality, shortsightedness, conformity, aggression, and\n",
      "passive aggression, to name a few. They also lead to empathy and other\n",
      "positive forms of human behavior.\n",
      "\n",
      "For thousands of years, it has been our fate to largely grope in the\n",
      "shadows when it comes to understanding ourselves and our own nature.\n",
      "We have labored under so many illusions about the human animal—\n",
      "imagining we descended magically from a divine source, from angels\n",
      "instead of primates. We have found any signs of our primitive nature\n",
      "and our animal roots deeply distressing, something to deny and repress.\n",
      "We have covered up our darker impulses with all kinds of excuses and\n",
      "rationalizations, making it easier for some people to get away with the\n",
      "most unpleasant behavior. But finally we’re at a point where we can\n",
      "overcome our resistance to the truth about who we are through the\n",
      "sheer weight of knowledge we have now accumulated about human\n",
      "nature.\n",
      "\n",
      "We can exploit the vast literature in psychology amassed over the last\n",
      "one hundred years, including detailed studies of childhood and the\n",
      "impact of our early development (Melanie Klein, John Bowlby, Donald\n",
      "\n",
      "14\n",
      "\n"
     ]
    }
   ],
   "source": [
    "print(full_text)"
   ]
  },
  {
   "cell_type": "code",
   "execution_count": 23,
   "metadata": {},
   "outputs": [
    {
     "data": {
      "text/plain": [
       "37"
      ]
     },
     "execution_count": 23,
     "metadata": {},
     "output_type": "execute_result"
    }
   ],
   "source": [
    "len(real_lines)"
   ]
  },
  {
   "cell_type": "code",
   "execution_count": null,
   "metadata": {},
   "outputs": [],
   "source": [
    "# test.png : blocks : 5, lines : 37, words : 384.  \n"
   ]
  },
  {
   "cell_type": "code",
   "execution_count": null,
   "metadata": {},
   "outputs": [],
   "source": []
  },
  {
   "cell_type": "code",
   "execution_count": null,
   "metadata": {},
   "outputs": [],
   "source": []
  },
  {
   "cell_type": "code",
   "execution_count": null,
   "metadata": {},
   "outputs": [],
   "source": []
  },
  {
   "cell_type": "code",
   "execution_count": null,
   "metadata": {},
   "outputs": [],
   "source": []
  },
  {
   "cell_type": "code",
   "execution_count": null,
   "metadata": {},
   "outputs": [],
   "source": []
  },
  {
   "cell_type": "code",
   "execution_count": null,
   "metadata": {},
   "outputs": [],
   "source": []
  },
  {
   "cell_type": "code",
   "execution_count": null,
   "metadata": {},
   "outputs": [],
   "source": []
  },
  {
   "cell_type": "code",
   "execution_count": null,
   "metadata": {},
   "outputs": [],
   "source": []
  },
  {
   "cell_type": "code",
   "execution_count": null,
   "metadata": {},
   "outputs": [],
   "source": []
  },
  {
   "cell_type": "code",
   "execution_count": null,
   "metadata": {},
   "outputs": [],
   "source": []
  },
  {
   "cell_type": "code",
   "execution_count": null,
   "metadata": {},
   "outputs": [],
   "source": []
  },
  {
   "cell_type": "code",
   "execution_count": null,
   "metadata": {},
   "outputs": [],
   "source": []
  },
  {
   "cell_type": "code",
   "execution_count": null,
   "metadata": {},
   "outputs": [],
   "source": []
  },
  {
   "cell_type": "code",
   "execution_count": null,
   "metadata": {},
   "outputs": [],
   "source": []
  }
 ],
 "metadata": {
  "interpreter": {
   "hash": "4f13271a8eedf9748f2b15eecb4f6b6588fa78e9defad529da5fcd33ad9fd96c"
  },
  "kernelspec": {
   "display_name": "Python 3.8.12 ('base')",
   "language": "python",
   "name": "python3"
  },
  "language_info": {
   "codemirror_mode": {
    "name": "ipython",
    "version": 3
   },
   "file_extension": ".py",
   "mimetype": "text/x-python",
   "name": "python",
   "nbconvert_exporter": "python",
   "pygments_lexer": "ipython3",
   "version": "3.8.12"
  },
  "orig_nbformat": 4
 },
 "nbformat": 4,
 "nbformat_minor": 2
}
