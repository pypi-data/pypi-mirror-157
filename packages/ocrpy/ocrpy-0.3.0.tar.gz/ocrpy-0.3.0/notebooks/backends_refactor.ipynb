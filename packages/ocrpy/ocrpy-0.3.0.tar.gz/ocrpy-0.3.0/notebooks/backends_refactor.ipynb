{
 "cells": [
  {
   "cell_type": "code",
   "execution_count": 1,
   "metadata": {},
   "outputs": [],
   "source": [
    "#from ocrpy.parsers.text.tesseract_text import TesseractTextOCR\n",
    "from ocrpy.io import DocumentReader\n",
    "from ocrpy import TesseractTextOCR, AwsTextOCR, AWSTableOCR, GcpTextOCR"
   ]
  },
  {
   "cell_type": "code",
   "execution_count": 2,
   "metadata": {},
   "outputs": [],
   "source": [
    "reader = DocumentReader(\"test.png\")"
   ]
  },
  {
   "cell_type": "code",
   "execution_count": 3,
   "metadata": {},
   "outputs": [],
   "source": [
    "tesseract_text = TesseractTextOCR(reader)"
   ]
  },
  {
   "cell_type": "code",
   "execution_count": 4,
   "metadata": {},
   "outputs": [],
   "source": [
    "result = tesseract_text.parse"
   ]
  },
  {
   "cell_type": "code",
   "execution_count": 5,
   "metadata": {},
   "outputs": [
    {
     "data": {
      "text/plain": [
       "'We can point to other such forces that emerged from this deep past\\nand that similarly mold our everyday behavior—for instance, our need\\nto continually rank ourselves and measure our self-worth through our\\nstatus is a trait that is noticeable among all hunter-gatherer cultures,\\nand even among chimpanzees, as are our tribal instincts, which cause us\\nto divide people into insiders or outsiders. We can add to these\\nprimitive qualities our need to wear masks to disguise any behavior that\\nis frowned upon by the tribe, leading to the formation of a shadow\\npersonality from all the dark desires we have repressed. Our ancestors\\nunderstood this shadow and its dangerousness, imagining it originated\\nfrom spirits and demons that needed to be exorcised. We rely on a\\ndifferent myth—“something came over me.”\\n\\nOnce this primal current or force within us reaches the level of\\nconsciousness, we have to react to it, and we do so depending on our\\nindividual spirit and circumstances, usually explaining it away\\nsuperficially without really understanding it. Because of the precise way\\nin which we evolved, there are a limited number of these forces of\\nhuman nature, and they lead to the behavior mentioned above—envy,\\ngrandiosity, irrationality, shortsightedness, conformity, aggression, and\\npassive aggression, to name a few. They also lead to empathy and other\\npositive forms of human behavior.\\n\\nFor thousands of years, it has been our fate to largely grope in the\\nshadows when it comes to understanding ourselves and our own nature.\\nWe have labored under so many illusions about the human animal—\\nimagining we descended magically from a divine source, from angels\\ninstead of primates. We have found any signs of our primitive nature\\nand our animal roots deeply distressing, something to deny and repress.\\nWe have covered up our darker impulses with all kinds of excuses and\\nrationalizations, making it easier for some people to get away with the\\nmost unpleasant behavior. But finally we’re at a point where we can\\novercome our resistance to the truth about who we are through the\\nsheer weight of knowledge we have now accumulated about human\\nnature.\\n\\nWe can exploit the vast literature in psychology amassed over the last\\none hundred years, including detailed studies of childhood and the\\nimpact of our early development (Melanie Klein, John Bowlby, Donald\\n\\n14\\n\\x0c'"
      ]
     },
     "execution_count": 5,
     "metadata": {},
     "output_type": "execute_result"
    }
   ],
   "source": [
    "result['text']"
   ]
  },
  {
   "cell_type": "code",
   "execution_count": null,
   "metadata": {},
   "outputs": [],
   "source": []
  }
 ],
 "metadata": {
  "kernelspec": {
   "display_name": "Python 3.8.8 ('base')",
   "language": "python",
   "name": "python3"
  },
  "language_info": {
   "codemirror_mode": {
    "name": "ipython",
    "version": 3
   },
   "file_extension": ".py",
   "mimetype": "text/x-python",
   "name": "python",
   "nbconvert_exporter": "python",
   "pygments_lexer": "ipython3",
   "version": "3.8.8"
  },
  "orig_nbformat": 4,
  "vscode": {
   "interpreter": {
    "hash": "df77feada6351b27bbd6d76bad3ff5503c942d24557a7a15d7c3085b4f9c786b"
   }
  }
 },
 "nbformat": 4,
 "nbformat_minor": 2
}
