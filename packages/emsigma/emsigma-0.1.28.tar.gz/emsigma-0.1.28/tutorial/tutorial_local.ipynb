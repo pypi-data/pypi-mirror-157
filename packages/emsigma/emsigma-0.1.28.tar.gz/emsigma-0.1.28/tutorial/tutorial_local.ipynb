{
 "cells": [
  {
   "cell_type": "markdown",
   "metadata": {
    "id": "PTooJbLTkDWl"
   },
   "source": [
    "# Import libraries"
   ]
  },
  {
   "cell_type": "code",
   "execution_count": 1,
   "metadata": {
    "colab": {
     "base_uri": "https://localhost:8080/",
     "height": 71
    },
    "id": "4362PEEZfpQB",
    "outputId": "3225a4d8-7859-46d9-e634-2d86d52c23e0",
    "scrolled": true
   },
   "outputs": [
    {
     "data": {
      "text/html": [
       "        <script type=\"text/javascript\">\n",
       "        window.PlotlyConfig = {MathJaxConfig: 'local'};\n",
       "        if (window.MathJax) {MathJax.Hub.Config({SVG: {font: \"STIX-Web\"}});}\n",
       "        if (typeof require !== 'undefined') {\n",
       "        require.undef(\"plotly\");\n",
       "        requirejs.config({\n",
       "            paths: {\n",
       "                'plotly': ['https://cdn.plot.ly/plotly-2.4.2.min']\n",
       "            }\n",
       "        });\n",
       "        require(['plotly'], function(Plotly) {\n",
       "            window._Plotly = Plotly;\n",
       "        });\n",
       "        }\n",
       "        </script>\n",
       "        "
      ]
     },
     "metadata": {},
     "output_type": "display_data"
    },
    {
     "data": {
      "text/html": [
       "        <script type=\"text/javascript\">\n",
       "        window.PlotlyConfig = {MathJaxConfig: 'local'};\n",
       "        if (window.MathJax) {MathJax.Hub.Config({SVG: {font: \"STIX-Web\"}});}\n",
       "        if (typeof require !== 'undefined') {\n",
       "        require.undef(\"plotly\");\n",
       "        requirejs.config({\n",
       "            paths: {\n",
       "                'plotly': ['https://cdn.plot.ly/plotly-2.4.2.min']\n",
       "            }\n",
       "        });\n",
       "        require(['plotly'], function(Plotly) {\n",
       "            window._Plotly = Plotly;\n",
       "        });\n",
       "        }\n",
       "        </script>\n",
       "        "
      ]
     },
     "metadata": {},
     "output_type": "display_data"
    }
   ],
   "source": [
    "import sigma\n",
    "from sigma.utils import normalisation as norm \n",
    "from sigma.utils import visualisation as visual\n",
    "from sigma.utils.load import SEMDataset\n",
    "from sigma.src.utils import same_seeds\n",
    "from sigma.src.dim_reduction import Experiment\n",
    "from sigma.models.autoencoder import AutoEncoder\n",
    "from sigma.src.segmentation import PixelSegmenter\n",
    "from sigma.gui import gui"
   ]
  },
  {
   "cell_type": "markdown",
   "metadata": {
    "id": "olPzlO4gsAuG"
   },
   "source": [
    "# Load files\n",
    "\n",
    "Load the *.bcf* file and create an object of `SEMDataset` (which uses hyperspy as backend.)"
   ]
  },
  {
   "cell_type": "code",
   "execution_count": 2,
   "metadata": {
    "id": "2Wd0omy47rJb"
   },
   "outputs": [],
   "source": [
    "file_path = 'CAI19_ROI1.bcf'\n",
    "sem = SEMDataset(file_path)"
   ]
  },
  {
   "cell_type": "markdown",
   "metadata": {
    "id": "vpqYK5B6m-3k"
   },
   "source": [
    "# Dataset preprocessing"
   ]
  },
  {
   "cell_type": "markdown",
   "metadata": {},
   "source": [
    "## View the dataset\n",
    "\n",
    "Use `gui.view_bcf_dataset(sem)` to check the BSE image, the sum spectrum, and the elemental maps. Here we can use the small widgets to search the energy peaks and determine the elements for further amalyses. \n",
    "\n",
    "After setting the `Feature list`, we obtain the elemental maps hyperspectral imaging dataset (HSI) with the dimension of 279 x 514 x 9 (for the test file)."
   ]
  },
  {
   "cell_type": "code",
   "execution_count": 3,
   "metadata": {
    "id": "JRccG0O2plY_"
   },
   "outputs": [
    {
     "data": {
      "application/vnd.jupyter.widget-view+json": {
       "model_id": "ea4976d1004a4c5ba486e8cc2168a3ec",
       "version_major": 2,
       "version_minor": 0
      },
      "text/plain": [
       "HBox(children=(BoundedFloatText(value=1.4898, continuous_update=True, description='Energy (keV):', step=0.1), …"
      ]
     },
     "metadata": {},
     "output_type": "display_data"
    },
    {
     "data": {
      "application/vnd.jupyter.widget-view+json": {
       "model_id": "1f8d2189cc784fdc85baff6026cd9c26",
       "version_major": 2,
       "version_minor": 0
      },
      "text/plain": [
       "Output()"
      ]
     },
     "metadata": {},
     "output_type": "display_data"
    },
    {
     "data": {
      "application/vnd.jupyter.widget-view+json": {
       "model_id": "84ce67058e5a45a09168584917678bac",
       "version_major": 2,
       "version_minor": 0
      },
      "text/plain": [
       "HBox(children=(Text(value='Al_Ka, C_Ka, Ca_Ka, Fe_Ka, Mg_Ka, O_Ka, Si_Ka, Ti_Ka', description='Feature list:',…"
      ]
     },
     "metadata": {},
     "output_type": "display_data"
    },
    {
     "data": {
      "application/vnd.jupyter.widget-view+json": {
       "model_id": "ea88026b2bd24ae0a838285376fc68d2",
       "version_major": 2,
       "version_minor": 0
      },
      "text/plain": [
       "Output()"
      ]
     },
     "metadata": {},
     "output_type": "display_data"
    },
    {
     "data": {
      "application/vnd.jupyter.widget-view+json": {
       "model_id": "1ac6852eb00848bbbfacebbe3a396459",
       "version_major": 2,
       "version_minor": 0
      },
      "text/plain": [
       "Tab(children=(Output(), Output(), Output()), _titles={'0': 'BSE image', '1': 'EDX sum spectrum', '2': 'Element…"
      ]
     },
     "metadata": {},
     "output_type": "display_data"
    }
   ],
   "source": [
    "gui.view_bcf_dataset(sem)"
   ]
  },
  {
   "cell_type": "markdown",
   "metadata": {},
   "source": [
    "In addition to the GUI, we can view the dataset with the `sem` object:\n",
    "\n",
    "1. `sem.bse`: access the back-scattered electron (as a hyperspy format).\n",
    "\n",
    "2. `sem.edx`: access the edx dataset (as a hyperspy format).\n",
    "\n",
    "3. `visual.plot_sum_spectrum(sem.edx)`: view the sum spectrum (or use hyperspy built-in function `sem.edx.sum().plot(xray_lines=True)`).\n",
    "\n",
    "4. `sem.feature_list`: view the default chosen elemental peaks in the edx dataset.\n",
    "\n",
    "5. `sem.set_feature_list`: set new elemental peaks. "
   ]
  },
  {
   "cell_type": "markdown",
   "metadata": {
    "id": "zjNVT8T9ttZx"
   },
   "source": [
    "## Process the dataset"
   ]
  },
  {
   "cell_type": "markdown",
   "metadata": {},
   "source": [
    "### Several (optional) functions to process the dataset:\n",
    "1. `sem.rebin_signal(size=(2,2))`: rebin the edx signal with the size of 2x2. After rebinning the dataset, we can access the binned edx or bse data using `sem.edx_bin` or `sem.bse_bin`.\n",
    "\n",
    "2. `sem.peak_intensity_normalisation()`: normalise the x-ray intensity along energy axis.\n",
    "\n",
    "3. `sem.remove_fist_peak(end=0.1)`: remove the first x-ray peak (most likely noise) by calling the function with the argument `end`.\n",
    "\n",
    "4. `sem.peak_denoising_PCA`: denoise the spectrum using *Principle Component Analysis (PCA)*.\n",
    "\n",
    "    > `n_components_to_reconstruct`: specify how many components to reconstruct the the EDX intensity profile.  \n",
    "    > `plot_results`: True to plot all results.\n",
    "\n",
    "5. `visual.plot_intensity_maps`: Plot the elemental intensity maps."
   ]
  },
  {
   "cell_type": "code",
   "execution_count": 3,
   "metadata": {
    "id": "_kwTAEa5rz7r"
   },
   "outputs": [
    {
     "name": "stdout",
     "output_type": "stream",
     "text": [
      "Rebinning the intensity with the size of (2, 2)\n",
      "Normalising the chemical intensity along axis=2, so that the sum is wqual to 1 along axis=2.\n",
      "Removing the fisrt peak by setting the intensity to zero until the energy of 0.1 keV.\n",
      "Peak denoising using PCA.\n",
      "Decomposition info:\n",
      "  normalize_poissonian_noise=True\n",
      "  algorithm=SVD\n",
      "  output_dimension=10\n",
      "  centre=None\n"
     ]
    },
    {
     "data": {
      "text/plain": [
       "<EDSSEMSpectrum, title: EDX, dimensions: (393, 303|1024)>"
      ]
     },
     "execution_count": 3,
     "metadata": {},
     "output_type": "execute_result"
    }
   ],
   "source": [
    "# Rebin both edx and bse dataset\n",
    "sem.rebin_signal(size=(2,2))\n",
    "\n",
    "# normalisation to make the spectrum of each pixel summing to 1.\n",
    "sem.peak_intensity_normalisation()\n",
    "\n",
    "# Remove the first peak until the energy of 0.1 keV\n",
    "sem.remove_fist_peak(end=0.1) \n",
    "\n",
    "# Denoise the X-ray profile using PCA.\n",
    "sem.peak_denoising_PCA(n_components_to_reconstruct=10, plot_results=False)"
   ]
  },
  {
   "cell_type": "code",
   "execution_count": null,
   "metadata": {
    "id": "NARhLv5ASNry"
   },
   "outputs": [],
   "source": [
    "# View the dataset (bse, edx etc.) again to check differences.\n",
    "gui.view_bcf_dataset(sem)"
   ]
  },
  {
   "cell_type": "markdown",
   "metadata": {},
   "source": [
    "The pre-processing steps yield a HSI datacube with the dimension of 139 x 257 x 9 (due to the 2x2 binning)."
   ]
  },
  {
   "cell_type": "markdown",
   "metadata": {
    "id": "59GFs_0SBSkW"
   },
   "source": [
    "## Normalisation\n",
    "\n",
    "Before dimensionality reduction, we normalise the elemental maps use `sem.normalisation()`, where we can pass a list containing (optional) sequential normalisation steps."
   ]
  },
  {
   "cell_type": "code",
   "execution_count": 4,
   "metadata": {
    "id": "vgCJ-sfVsNbb"
   },
   "outputs": [
    {
     "name": "stdout",
     "output_type": "stream",
     "text": [
      "Set feature_list to ['Al_Ka', 'C_Ka', 'Ca_Ka', 'Fe_Ka', 'Mg_Ka', 'O_Ka', 'Si_Ka', 'Ti_Ka']\n",
      "Normalise dataset using:\n",
      "    1. neighbour_averaging\n",
      "    2. zscore\n",
      "    3. softmax\n"
     ]
    }
   ],
   "source": [
    "# Normalise the dataset using the (optional) sequential three methods.\n",
    "sem.normalisation([norm.neighbour_averaging, \n",
    "                   norm.zscore, \n",
    "                   norm.softmax])"
   ]
  },
  {
   "cell_type": "markdown",
   "metadata": {},
   "source": [
    "Use `gui.view_pixel_distributions` to view the intensity distributions after each sequential normalisation process."
   ]
  },
  {
   "cell_type": "code",
   "execution_count": null,
   "metadata": {
    "id": "oXRo2LvTqxbK"
   },
   "outputs": [],
   "source": [
    "gui.view_pixel_distributions(sem, \n",
    "                             norm_list=[norm.neighbour_averaging,\n",
    "                                        norm.zscore,\n",
    "                                        norm.softmax], \n",
    "                             peak='Fe_Ka', \n",
    "                             cmap='inferno')"
   ]
  },
  {
   "cell_type": "markdown",
   "metadata": {
    "id": "6PaFMEOprt3B"
   },
   "source": [
    "## (Optional) Assign RGB to elemental peaks"
   ]
  },
  {
   "cell_type": "code",
   "execution_count": null,
   "metadata": {
    "id": "MZSQgdJsZTgV"
   },
   "outputs": [],
   "source": [
    "gui.view_rgb(sem)"
   ]
  },
  {
   "cell_type": "markdown",
   "metadata": {},
   "source": [
    "## Check elemental distribution after normalisation"
   ]
  },
  {
   "cell_type": "code",
   "execution_count": null,
   "metadata": {
    "id": "Uns525mlsjfm"
   },
   "outputs": [],
   "source": [
    "print('After normalisation:')\n",
    "gui.view_intensity_maps(edx=sem.normalised_elemental_data, element_list=sem.feature_list)"
   ]
  },
  {
   "cell_type": "markdown",
   "metadata": {
    "id": "f2GcAoSlnGuN"
   },
   "source": [
    "# Dimensionality reduction: Autoencoder"
   ]
  },
  {
   "cell_type": "markdown",
   "metadata": {
    "id": "k_7bn6yJBjNo"
   },
   "source": [
    "## Initialise experiment / model"
   ]
  },
  {
   "cell_type": "code",
   "execution_count": 5,
   "metadata": {
    "colab": {
     "base_uri": "https://localhost:8080/"
    },
    "id": "fUcL2sddrLHC",
    "outputId": "2bc7fd73-d250-40f8-c5b1-755e13058bcb"
   },
   "outputs": [
    {
     "name": "stdout",
     "output_type": "stream",
     "text": [
      "model_name: Model-softmax\n",
      "size_dataset: (303, 393, 8)\n",
      "device: cpu\n",
      "num_parameters: 341770\n"
     ]
    }
   ],
   "source": [
    "# The integer in this function can determine different initialised parameters of model (tuning sudo randomness)\n",
    "# This can influence the result of dimensionality reduction and change the latent space.\n",
    "same_seeds(1)\n",
    "\n",
    "# Set up the experiment, e.g. determining the model structure, dataset for training etc.\n",
    "general_results_dir='./' \n",
    "ex = Experiment(descriptor='softmax',\n",
    "                general_results_dir=general_results_dir,\n",
    "                model=AutoEncoder,\n",
    "                model_args={'hidden_layer_sizes':(512,256,128)}, # number of hidden layers and corresponding neurons\n",
    "                chosen_dataset=sem.normalised_elemental_data,\n",
    "                save_model_every_epoch=True)"
   ]
  },
  {
   "cell_type": "markdown",
   "metadata": {
    "id": "lEgWJf45Bp4F"
   },
   "source": [
    "## Training"
   ]
  },
  {
   "cell_type": "code",
   "execution_count": 6,
   "metadata": {
    "id": "sgajwhO3rNv1",
    "scrolled": true
   },
   "outputs": [
    {
     "name": "stdout",
     "output_type": "stream",
     "text": [
      "num_epochs: 5\n",
      "batch_size: 64\n",
      "task: train_all\n",
      "optimizer: lr=0.0001 and weight_decay=0.0\n",
      "\n",
      "Start training ...\n",
      "\n"
     ]
    },
    {
     "data": {
      "application/vnd.jupyter.widget-view+json": {
       "model_id": "",
       "version_major": 2,
       "version_minor": 0
      },
      "text/plain": [
       "  0%|          | 0/1861 [00:00<?, ?batch/s]"
      ]
     },
     "metadata": {},
     "output_type": "display_data"
    },
    {
     "name": "stdout",
     "output_type": "stream",
     "text": [
      "Epoch 1 ----> model saved, train_loss=0.001849 | test_loss = 0.001849\n"
     ]
    },
    {
     "data": {
      "application/vnd.jupyter.widget-view+json": {
       "model_id": "",
       "version_major": 2,
       "version_minor": 0
      },
      "text/plain": [
       "  0%|          | 0/1861 [00:00<?, ?batch/s]"
      ]
     },
     "metadata": {},
     "output_type": "display_data"
    },
    {
     "name": "stdout",
     "output_type": "stream",
     "text": [
      "Epoch 2 ----> model saved, train_loss=0.000994 | test_loss = 0.000994\n"
     ]
    },
    {
     "data": {
      "application/vnd.jupyter.widget-view+json": {
       "model_id": "",
       "version_major": 2,
       "version_minor": 0
      },
      "text/plain": [
       "  0%|          | 0/1861 [00:00<?, ?batch/s]"
      ]
     },
     "metadata": {},
     "output_type": "display_data"
    },
    {
     "name": "stdout",
     "output_type": "stream",
     "text": [
      "Epoch 3 ----> model saved, train_loss=0.000910 | test_loss = 0.000910\n"
     ]
    },
    {
     "data": {
      "application/vnd.jupyter.widget-view+json": {
       "model_id": "",
       "version_major": 2,
       "version_minor": 0
      },
      "text/plain": [
       "  0%|          | 0/1861 [00:00<?, ?batch/s]"
      ]
     },
     "metadata": {},
     "output_type": "display_data"
    },
    {
     "name": "stdout",
     "output_type": "stream",
     "text": [
      "Epoch 4 ----> model saved, train_loss=0.000857 | test_loss = 0.000857\n"
     ]
    },
    {
     "data": {
      "application/vnd.jupyter.widget-view+json": {
       "model_id": "",
       "version_major": 2,
       "version_minor": 0
      },
      "text/plain": [
       "  0%|          | 0/1861 [00:00<?, ?batch/s]"
      ]
     },
     "metadata": {},
     "output_type": "display_data"
    },
    {
     "name": "stdout",
     "output_type": "stream",
     "text": [
      "Epoch 5 ----> model saved, train_loss=0.000826 | test_loss = 0.000826\n"
     ]
    }
   ],
   "source": [
    "# Train the model\n",
    "ex.run_model(num_epochs=5,\n",
    "             patience=50, \n",
    "             batch_size=64,\n",
    "             learning_rate=1e-4, \n",
    "             weight_decay=0.0, \n",
    "             task='train_all', # Change to 'train_eval' to train on the training set (85% dataset) and test on a testing set (15%) for evaluation\n",
    "             noise_added=0.0,\n",
    "             KLD_lambda=0.0,\n",
    "             criterion='MSE',\n",
    "             lr_scheduler_args={'factor':0.5,\n",
    "                                'patience':5, \n",
    "                                'threshold':1e-2, \n",
    "                                'min_lr':1e-6,\n",
    "                                'verbose':True}) "
   ]
  },
  {
   "cell_type": "markdown",
   "metadata": {
    "id": "Pd5l795DnL8r"
   },
   "source": [
    "# Pixel segmentation: Gaussian mixture modelling (GMM) clustering"
   ]
  },
  {
   "cell_type": "markdown",
   "metadata": {
    "id": "BXi8fj7mBsxt"
   },
   "source": [
    "## (Optional) Load pre-trained Autoencoder"
   ]
  },
  {
   "cell_type": "code",
   "execution_count": null,
   "metadata": {
    "id": "3l8O-UwrjcxP",
    "scrolled": true
   },
   "outputs": [],
   "source": [
    "model_path = '2022-04-18_Model-softmax/params/Model-softmax_epoch100' # model path\n",
    "ex.load_trained_model(model_path)"
   ]
  },
  {
   "cell_type": "markdown",
   "metadata": {
    "id": "w_qEVkRAV7BL"
   },
   "source": [
    "## Measure Baysian information criterion (BIC)"
   ]
  },
  {
   "cell_type": "markdown",
   "metadata": {},
   "source": [
    "The `gui.view_bic` iteratively calculates the BIC for Gaussian mixture models using the number of Gaussian components `n_components`, e.g. if `n_components=20`, it shows the BIC values for GMM using n_components from 1 to 20."
   ]
  },
  {
   "cell_type": "code",
   "execution_count": null,
   "metadata": {
    "id": "FP2TyaUrL-D0",
    "tags": []
   },
   "outputs": [],
   "source": [
    "latent = ex.get_latent()\n",
    "gui.view_bic(latent,\n",
    "             n_components=20,\n",
    "             model_args={'random_state':6, 'init_params':'kmeans'})"
   ]
  },
  {
   "cell_type": "markdown",
   "metadata": {
    "id": "63qxth1gYc8v"
   },
   "source": [
    "## Run GMM"
   ]
  },
  {
   "cell_type": "code",
   "execution_count": 7,
   "metadata": {
    "id": "UyU0I3--rTgM"
   },
   "outputs": [],
   "source": [
    "latent = ex.get_latent()\n",
    "ps = PixelSegmenter(latent, \n",
    "                    sem.normalised_elemental_data, \n",
    "                    sem,\n",
    "                    method_args={'n_components':12, 'random_state':6, 'init_params':'kmeans'} )\n",
    "                    # can change random_state to different integer i.e. 10 or 0 to adjust the clustering result."
   ]
  },
  {
   "cell_type": "markdown",
   "metadata": {
    "id": "TyVkwD-kwFIF"
   },
   "source": [
    "## Checking latent space"
   ]
  },
  {
   "cell_type": "code",
   "execution_count": 21,
   "metadata": {
    "id": "QjrxxOLFrVfu"
   },
   "outputs": [
    {
     "data": {
      "application/vnd.jupyter.widget-view+json": {
       "model_id": "cfc1b97617874f2cbbf3ef9a402326aa",
       "version_major": 2,
       "version_minor": 0
      },
      "text/plain": [
       "VBox(children=(VBox(children=(VBox(children=(HBox(children=(ColorPicker(value='#000000', description='cluster_…"
      ]
     },
     "metadata": {},
     "output_type": "display_data"
    }
   ],
   "source": [
    "# Plot latent sapce (2-dimensional) with corresponding Gaussian models\n",
    "gui.view_latent_space(ps, color=True)"
   ]
  },
  {
   "cell_type": "code",
   "execution_count": null,
   "metadata": {
    "id": "mKJ_bEDorXpp"
   },
   "outputs": [],
   "source": [
    "# visualise the latent space\n",
    "gui.check_latent_space(ps,ratio_to_be_shown=0.5, show_map=True)"
   ]
  },
  {
   "cell_type": "code",
   "execution_count": null,
   "metadata": {
    "id": "47TKUHLorZyV"
   },
   "outputs": [],
   "source": [
    "# check the density of latent space\n",
    "gui.plot_latent_density(ps, bins=50)"
   ]
  },
  {
   "cell_type": "markdown",
   "metadata": {
    "id": "_uFv-qDOLFye"
   },
   "source": [
    "## Checking each clusters"
   ]
  },
  {
   "cell_type": "code",
   "execution_count": 8,
   "metadata": {
    "id": "r0fAz4OErbxj"
   },
   "outputs": [
    {
     "name": "stdout",
     "output_type": "stream",
     "text": [
      "Set feature_list to ['Al_Ka', 'C_Ka', 'Ca_Ka', 'Fe_Ka', 'Mg_Ka', 'O_Ka', 'Si_Ka', 'Ti_Ka']\n"
     ]
    },
    {
     "data": {
      "application/vnd.jupyter.widget-view+json": {
       "model_id": "fb66643e3c414ea4ae357d640b84e3d2",
       "version_major": 2,
       "version_minor": 0
      },
      "text/plain": [
       "SelectMultiple(options=('All', 'cluster_0', 'cluster_1', 'cluster_2', 'cluster_3', 'cluster_4', 'cluster_5', '…"
      ]
     },
     "metadata": {},
     "output_type": "display_data"
    },
    {
     "data": {
      "application/vnd.jupyter.widget-view+json": {
       "model_id": "1be92fa714c54a15a98d6bb0fc5269b1",
       "version_major": 2,
       "version_minor": 0
      },
      "text/plain": [
       "HBox(children=(Text(value='results', description='Folder name:', layout=Layout(width='auto'), placeholder='Typ…"
      ]
     },
     "metadata": {},
     "output_type": "display_data"
    },
    {
     "data": {
      "application/vnd.jupyter.widget-view+json": {
       "model_id": "b0a76bf88c934f8f92c7f6f5bd0c8283",
       "version_major": 2,
       "version_minor": 0
      },
      "text/plain": [
       "Output()"
      ]
     },
     "metadata": {},
     "output_type": "display_data"
    },
    {
     "data": {
      "application/vnd.jupyter.widget-view+json": {
       "model_id": "35a840be53a04992864b3ce74bf20709",
       "version_major": 2,
       "version_minor": 0
      },
      "text/plain": [
       "Output()"
      ]
     },
     "metadata": {},
     "output_type": "display_data"
    }
   ],
   "source": [
    "# ps.set_feature_list(['Al_Ka', 'C_Ka', 'Ca_Ka', 'Fe_Ka', 'K_Ka', 'O_Ka', 'Si_Ka', 'Ti_Ka', 'Zn_La'])\n",
    "ps.set_feature_list(['Al_Ka', 'C_Ka', 'Ca_Ka', 'Fe_Ka', 'Mg_Ka', 'O_Ka', 'Si_Ka', 'Ti_Ka'])\n",
    "gui.show_cluster_distribution(ps)"
   ]
  },
  {
   "cell_type": "markdown",
   "metadata": {
    "id": "s7hCyeiKLLii"
   },
   "source": [
    "## Checking cluster map"
   ]
  },
  {
   "cell_type": "code",
   "execution_count": null,
   "metadata": {
    "id": "iH9196CXre1j"
   },
   "outputs": [],
   "source": [
    "# Plot phase map using the corresponding GM model\n",
    "gui.view_phase_map(ps)"
   ]
  },
  {
   "cell_type": "code",
   "execution_count": null,
   "metadata": {
    "id": "5yizWZ7rrgvx"
   },
   "outputs": [],
   "source": [
    "gui.view_clusters_sum_spectra(ps, normalisation=True, spectra_range=(0,8))"
   ]
  },
  {
   "cell_type": "markdown",
   "metadata": {
    "id": "vDqkqAHpLaN0"
   },
   "source": [
    "# Unmixing cluster spectrums using Non-negative Matrix Fatorization (NMF)"
   ]
  },
  {
   "cell_type": "code",
   "execution_count": 9,
   "metadata": {
    "id": "DWeg9UomrmzX"
   },
   "outputs": [],
   "source": [
    "weights, components = ps.get_unmixed_edx_profile(clusters_to_be_calculated='All', \n",
    "                                                 n_components='All',\n",
    "                                                 normalised=False, \n",
    "                                                 method='NMF', \n",
    "                                                 method_args={'init':'nndsvd'})"
   ]
  },
  {
   "cell_type": "code",
   "execution_count": 10,
   "metadata": {
    "id": "me57SkqNrpSg"
   },
   "outputs": [
    {
     "data": {
      "application/vnd.jupyter.widget-view+json": {
       "model_id": "12893fc240104d4aa327ec7070fb8e4b",
       "version_major": 2,
       "version_minor": 0
      },
      "text/plain": [
       "HBox(children=(SelectMultiple(options=('cluster_0', 'cluster_1', 'cluster_2', 'cluster_3', 'cluster_4', 'clust…"
      ]
     },
     "metadata": {},
     "output_type": "display_data"
    },
    {
     "data": {
      "application/vnd.jupyter.widget-view+json": {
       "model_id": "ff05b1f5142c401f99dcd42b63d0dbde",
       "version_major": 2,
       "version_minor": 0
      },
      "text/plain": [
       "Tab(children=(Output(), Output(), Output(), Output()), _titles={'0': 'All weights', '1': 'Single weight', '2':…"
      ]
     },
     "metadata": {},
     "output_type": "display_data"
    }
   ],
   "source": [
    "gui.show_unmixed_weights_and_compoments(ps, weights, components)"
   ]
  },
  {
   "cell_type": "markdown",
   "metadata": {},
   "source": [
    "# Check abundance map for components (using RGB maps)"
   ]
  },
  {
   "cell_type": "code",
   "execution_count": 11,
   "metadata": {},
   "outputs": [
    {
     "data": {
      "application/vnd.jupyter.widget-view+json": {
       "model_id": "20c38df3062c4f33ae448cb6894feeec",
       "version_major": 2,
       "version_minor": 0
      },
      "text/plain": [
       "VBox(children=(Dropdown(description='Red:', index=12, options=(('cpnt_0', 'w_0'), ('cpnt_1', 'w_1'), ('cpnt_2'…"
      ]
     },
     "metadata": {},
     "output_type": "display_data"
    },
    {
     "data": {
      "application/vnd.jupyter.widget-view+json": {
       "model_id": "c07d938550c94a1bb89470764a9a0835",
       "version_major": 2,
       "version_minor": 0
      },
      "text/plain": [
       "Output()"
      ]
     },
     "metadata": {},
     "output_type": "display_data"
    }
   ],
   "source": [
    "gui.show_abundance_map(ps, weights, components)"
   ]
  },
  {
   "cell_type": "markdown",
   "metadata": {
    "id": "hSIhNd4oLTHr",
    "tags": []
   },
   "source": [
    "# Statistics infro from clusters"
   ]
  },
  {
   "cell_type": "code",
   "execution_count": null,
   "metadata": {
    "id": "cermaBpurkg7"
   },
   "outputs": [],
   "source": [
    "gui.show_cluster_stats(ps)"
   ]
  },
  {
   "cell_type": "code",
   "execution_count": 39,
   "metadata": {},
   "outputs": [],
   "source": [
    "import numpy as np\n",
    "import matplotlib.pyplot as plt"
   ]
  },
  {
   "cell_type": "code",
   "execution_count": 43,
   "metadata": {},
   "outputs": [
    {
     "data": {
      "image/png": "[encoded data removed]",
      "text/plain": [
       "<Figure size 432x288 with 1 Axes>"
      ]
     },
     "metadata": {
      "needs_background": "light"
     },
     "output_type": "display_data"
    }
   ],
   "source": [
    "def get_binary_map_edx_profile(\n",
    "        ps,\n",
    "        cluster_num=1,\n",
    "        use_label=False,\n",
    "        threshold=0.8,\n",
    "        denoise=False,\n",
    "        keep_fraction=0.13,\n",
    "        binary_filter_threshold=0.2,\n",
    "    ):\n",
    "        if use_label == False:\n",
    "            if ps.method in [\"GaussianMixture\", \"BayesianGaussianMixture\"]:\n",
    "                phase = ps.model.predict_proba(ps.latent)[:, cluster_num]\n",
    "\n",
    "                if denoise == False:\n",
    "                    binary_map = np.where(phase > threshold, 1, 0).reshape(\n",
    "                        ps.height, ps.width\n",
    "                    )\n",
    "                    binary_map_indices = np.where(\n",
    "                        phase.reshape(ps.height, ps.width) > threshold\n",
    "                    )\n",
    "\n",
    "            else:\n",
    "                binary_map = (\n",
    "                    ps.model.labels_\n",
    "                    * np.where(ps.model.labels_ == cluster_num, 1, 0)\n",
    "                ).reshape(ps.height, ps.width)\n",
    "                binary_map_indices = np.where(\n",
    "                    ps.model.labels_.reshape(ps.height, ps.width) == cluster_num\n",
    "                )\n",
    "        else:\n",
    "            binary_map = (\n",
    "                ps.labels * np.where(ps.labels == cluster_num, 1, 0)\n",
    "            ).reshape(ps.height, ps.width)\n",
    "            binary_map_indices = np.where(\n",
    "                ps.labels.reshape(ps.height, ps.width) == cluster_num\n",
    "            )\n",
    "        \n",
    "        # Get edx profile in the filtered phase region\n",
    "        x_id = binary_map_indices[0].reshape(-1, 1)\n",
    "        y_id = binary_map_indices[1].reshape(-1, 1)\n",
    "        x_y = np.concatenate([x_id, y_id], axis=1)\n",
    "        x_y_indices = tuple(map(tuple, x_y))\n",
    "\n",
    "        total_edx_profiles = list()\n",
    "        for x_y_index in x_y_indices:\n",
    "            total_edx_profiles.append(ps.edx.data[x_y_index].reshape(1, -1))\n",
    "        total_edx_profiles = np.concatenate(total_edx_profiles, axis=0)\n",
    "\n",
    "        size = ps.edx.axes_manager[2].size\n",
    "        scale = ps.edx.axes_manager[2].scale\n",
    "        offset = ps.edx.axes_manager[2].offset\n",
    "        energy_axis = [((a * scale) + offset) for a in range(0, size)]\n",
    "\n",
    "        element_intensity_sum = total_edx_profiles.sum(axis=0)\n",
    "        edx_profile = pd.DataFrame(\n",
    "            data=np.column_stack([energy_axis, element_intensity_sum]),\n",
    "            columns=[\"energy\", \"intensity\"],\n",
    "        )\n",
    "\n",
    "        return binary_map, binary_map_indices, edx_profile\n",
    "\n",
    "try:\n",
    "    get_binary_map_edx_profile(ps, 9)\n",
    "except ValueError:\n",
    "    pass"
   ]
  },
  {
   "cell_type": "code",
   "execution_count": 45,
   "metadata": {},
   "outputs": [
    {
     "data": {
      "application/vnd.jupyter.widget-view+json": {
       "model_id": "e5b07812d7094689aa8e59a63945d22c",
       "version_major": 2,
       "version_minor": 0
      },
      "text/plain": [
       "VBox(children=(Dropdown(description='Red:', index=12, options=(('cpnt_0', 'w_0'), ('cpnt_1', 'w_1'), ('cpnt_2'…"
      ]
     },
     "metadata": {},
     "output_type": "display_data"
    },
    {
     "data": {
      "application/vnd.jupyter.widget-view+json": {
       "model_id": "6591937f41ef434fbd6e47494d587d0d",
       "version_major": 2,
       "version_minor": 0
      },
      "text/plain": [
       "Output()"
      ]
     },
     "metadata": {},
     "output_type": "display_data"
    }
   ],
   "source": [
    "from sigma.utils import visualisation as visual\n",
    "from sigma.src.segmentation import PixelSegmenter\n",
    "\n",
    "import os\n",
    "import random\n",
    "import numpy as np\n",
    "import pandas as pd\n",
    "from typing import List\n",
    "from matplotlib import pyplot as plt\n",
    "import matplotlib as mpl\n",
    "from matplotlib import cm\n",
    "import seaborn as sns\n",
    "import altair as alt\n",
    "import plotly.graph_objects as go\n",
    "import ipywidgets as widgets\n",
    "from ipywidgets import Layout\n",
    "from IPython.display import display\n",
    "\n",
    "def show_abundance_map(ps:PixelSegmenter, weights:pd.DataFrame, components: pd.DataFrame):\n",
    "    def plot_rgb(ps, phases:List):\n",
    "        shape = ps.get_binary_map_edx_profile(0)[0].shape\n",
    "        img = np.zeros((shape[0], shape[1], 3))\n",
    "        \n",
    "        # make abundance map\n",
    "        for i, phase in enumerate(phases):\n",
    "            if phase!='None':\n",
    "                cpnt_weights = weights[phase]/weights[phase].max()\n",
    "                tmp = np.zeros(shape)\n",
    "                for j in range(ps.n_components):\n",
    "                    try:\n",
    "                        idx = ps.get_binary_map_edx_profile(j)[1]\n",
    "                        tmp[idx] = cpnt_weights[j]\n",
    "                    except ValueError:\n",
    "                        pass\n",
    "                        # print(f'warning: no pixel is assigned to cpnt_{j}.')\n",
    "                img[:, :, i] = tmp\n",
    "            else:\n",
    "                img[:, :, i] = np.zeros(shape)\n",
    "\n",
    "        fig, axs = plt.subplots(1, 1, dpi=96)\n",
    "        axs.imshow(img, alpha=0.95)\n",
    "        axs.axis(\"off\")\n",
    "        plt.show()\n",
    "        return fig\n",
    "    \n",
    "    cpnt_names = [f'cpnt_{i}' for i in range(len(weights.columns))] \n",
    "    cpnt_options = [x for x in zip(cpnt_names, weights.columns)] + [('None', 'None')]\n",
    "    dropdown_r = widgets.Dropdown(options=cpnt_options, value='None', description=\"Red:\")\n",
    "    dropdown_g = widgets.Dropdown(options=cpnt_options, value='None', description=\"Green:\")\n",
    "    dropdown_b = widgets.Dropdown(options=cpnt_options, value='None', description=\"Blue:\")\n",
    "\n",
    "    plots_output = widgets.Output()\n",
    "    with plots_output:\n",
    "        fig = plot_rgb(\n",
    "            ps,\n",
    "            phases=['None', 'None', 'None'],\n",
    "        )\n",
    "        # save_fig(fig)\n",
    "\n",
    "    def dropdown_r_eventhandler(change):\n",
    "        plots_output.clear_output()\n",
    "        with plots_output:\n",
    "            fig = plot_rgb(\n",
    "                ps,\n",
    "                phases=[change.new, dropdown_g.value, dropdown_b.value],\n",
    "            )\n",
    "            # save_fig(fig)\n",
    "\n",
    "    def dropdown_g_eventhandler(change):\n",
    "        plots_output.clear_output()\n",
    "        with plots_output:\n",
    "            fig = plot_rgb(\n",
    "                ps,\n",
    "                phases=[dropdown_r.value, change.new, dropdown_b.value],\n",
    "            )\n",
    "            # save_fig(fig)\n",
    "\n",
    "    def dropdown_b_eventhandler(change):\n",
    "        plots_output.clear_output()\n",
    "        with plots_output:\n",
    "            fig = plot_rgb(\n",
    "                ps,\n",
    "                phases=[dropdown_r.value, dropdown_g.value, change.new],\n",
    "            )\n",
    "            # save_fig(fig)\n",
    "\n",
    "    dropdown_r.observe(dropdown_r_eventhandler, names=\"value\")\n",
    "    dropdown_g.observe(dropdown_g_eventhandler, names=\"value\")\n",
    "    dropdown_b.observe(dropdown_b_eventhandler, names=\"value\")\n",
    "    color_box = widgets.VBox([dropdown_r, dropdown_g, dropdown_b])\n",
    "\n",
    "    display(color_box)\n",
    "    display(plots_output)\n",
    "\n",
    "show_abundance_map(ps,weights, components)"
   ]
  },
  {
   "cell_type": "code",
   "execution_count": null,
   "metadata": {},
   "outputs": [],
   "source": []
  }
 ],
 "metadata": {
  "accelerator": "GPU",
  "colab": {
   "collapsed_sections": [],
   "machine_shape": "hm",
   "name": "Tutorial_local",
   "provenance": []
  },
  "kernelspec": {
   "display_name": "Python 3",
   "language": "python",
   "name": "python3"
  },
  "language_info": {
   "codemirror_mode": {
    "name": "ipython",
    "version": 3
   },
   "file_extension": ".py",
   "mimetype": "text/x-python",
   "name": "python",
   "nbconvert_exporter": "python",
   "pygments_lexer": "ipython3",
   "version": "3.7.10"
  }
 },
 "nbformat": 4,
 "nbformat_minor": 4
}
