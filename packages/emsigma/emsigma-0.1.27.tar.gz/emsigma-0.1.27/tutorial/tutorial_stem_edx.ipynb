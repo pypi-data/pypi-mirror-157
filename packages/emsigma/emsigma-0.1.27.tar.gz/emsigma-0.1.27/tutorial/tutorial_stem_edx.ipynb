{
 "cells": [
  {
   "cell_type": "markdown",
   "id": "eee9ad91-0f66-4557-8ada-a979b944698b",
   "metadata": {},
   "source": [
    "# Import libraries"
   ]
  },
  {
   "cell_type": "code",
   "execution_count": null,
   "id": "e8b14643-fb4f-415e-a8ae-867d79f82a88",
   "metadata": {},
   "outputs": [],
   "source": [
    "import sigma\n",
    "from sigma.utils.loadtem import TEMDataset\n",
    "from sigma.gui import gui"
   ]
  },
  {
   "cell_type": "markdown",
   "id": "c09f4459-0549-432a-8955-67cfe1bec966",
   "metadata": {},
   "source": [
    "# Load emi/ser files\n",
    "Note that the `.emi` and the corresponding `.ser` files should be place in the same folder, e.g., `test.emi` and `test.ser` should be in the same folder."
   ]
  },
  {
   "cell_type": "code",
   "execution_count": null,
   "id": "3db5dfa2-d7fc-4713-831c-cc3e44bbe6e1",
   "metadata": {},
   "outputs": [],
   "source": [
    "file_path = '.emi' # file path\n",
    "tem = TEMDataset(file_path)"
   ]
  },
  {
   "cell_type": "markdown",
   "id": "5e049794-25c0-4ac4-bee9-00dac041843b",
   "metadata": {},
   "source": [
    "# Assign x-ray lines (if known)"
   ]
  },
  {
   "cell_type": "code",
   "execution_count": null,
   "id": "dca3d0ea-0a87-4c3e-a1a0-231b46912ed9",
   "metadata": {},
   "outputs": [],
   "source": [
    "tem.set_xray_lines(['C_Ka', 'O_Ka', 'Fe_La','Mg_Ka', 'Al_Ka', 'Si_Ka', \n",
    "                    'S_Ka', 'Ca_Ka', 'Ca_Kb', 'Fe_Ka', 'Fe_Kb', 'Co_Ka', \n",
    "                    'Ni_Ka','Cu_Ka', 'Cu_Kb'])"
   ]
  },
  {
   "cell_type": "markdown",
   "id": "33ac041f-b82a-4ef2-ae02-2d10a48e8091",
   "metadata": {},
   "source": [
    "# View EDX dataset and assign x-ray lines"
   ]
  },
  {
   "cell_type": "code",
   "execution_count": null,
   "id": "86866202-81f7-42b2-b420-4bf7b395428d",
   "metadata": {},
   "outputs": [],
   "source": [
    "gui.view_emi_dataset(tem)"
   ]
  }
 ],
 "metadata": {
  "kernelspec": {
   "display_name": "Python 3 (ipykernel)",
   "language": "python",
   "name": "python3"
  },
  "language_info": {
   "codemirror_mode": {
    "name": "ipython",
    "version": 3
   },
   "file_extension": ".py",
   "mimetype": "text/x-python",
   "name": "python",
   "nbconvert_exporter": "python",
   "pygments_lexer": "ipython3",
   "version": "3.7.11"
  }
 },
 "nbformat": 4,
 "nbformat_minor": 5
}
