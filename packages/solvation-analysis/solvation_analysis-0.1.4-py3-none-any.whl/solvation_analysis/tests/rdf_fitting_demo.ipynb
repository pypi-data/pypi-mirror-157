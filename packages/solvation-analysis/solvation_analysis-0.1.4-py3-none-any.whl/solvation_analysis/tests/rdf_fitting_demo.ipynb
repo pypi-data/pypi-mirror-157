{
 "cells": [
  {
   "cell_type": "code",
   "execution_count": 9,
   "metadata": {},
   "outputs": [
    {
     "ename": "ModuleNotFoundError",
     "evalue": "No module named 'solvation_analysis'",
     "output_type": "error",
     "traceback": [
      "\u001b[0;31m------------------------------------------------------------\u001b[0m",
      "\u001b[0;31mModuleNotFoundError\u001b[0m        Traceback (most recent call last)",
      "\u001b[0;32m<ipython-input-9-0814e7b06581>\u001b[0m in \u001b[0;36m<module>\u001b[0;34m\u001b[0m\n\u001b[0;32m----> 1\u001b[0;31m \u001b[0;32mfrom\u001b[0m \u001b[0msolvation_analysis\u001b[0m\u001b[0;34m.\u001b[0m\u001b[0mrdf_parser\u001b[0m \u001b[0;32mimport\u001b[0m \u001b[0mplot_interpolation_fit\u001b[0m\u001b[0;34m\u001b[0m\u001b[0;34m\u001b[0m\u001b[0m\n\u001b[0m\u001b[1;32m      2\u001b[0m \u001b[0;34m\u001b[0m\u001b[0m\n\u001b[1;32m      3\u001b[0m \u001b[0;32mfrom\u001b[0m \u001b[0mconftest\u001b[0m \u001b[0;32mimport\u001b[0m \u001b[0mrdf_bins_and_data_easy\u001b[0m\u001b[0;34m\u001b[0m\u001b[0;34m\u001b[0m\u001b[0m\n\u001b[1;32m      4\u001b[0m \u001b[0;34m\u001b[0m\u001b[0m\n\u001b[1;32m      5\u001b[0m \u001b[0;32mfor\u001b[0m \u001b[0mrdf_tag\u001b[0m\u001b[0;34m,\u001b[0m \u001b[0mbins_data\u001b[0m \u001b[0;32min\u001b[0m \u001b[0mrdf_bins_and_data_easy\u001b[0m\u001b[0;34m(\u001b[0m\u001b[0;34m)\u001b[0m\u001b[0;34m:\u001b[0m\u001b[0;34m\u001b[0m\u001b[0;34m\u001b[0m\u001b[0m\n",
      "\u001b[0;31mModuleNotFoundError\u001b[0m: No module named 'solvation_analysis'"
     ]
    }
   ],
   "source": [
    "from solvation_analysis.rdf_parser import plot_interpolation_fit\n",
    "\n",
    "from conftest import rdf_bins_and_data_easy\n",
    "\n",
    "for rdf_tag, bins_data in rdf_bins_and_data_easy():\n",
    "    bins, data = bins_data"
   ]
  }
 ],
 "metadata": {
  "kernelspec": {
   "display_name": "Python 3",
   "language": "python",
   "name": "python3"
  },
  "language_info": {
   "codemirror_mode": {
    "name": "ipython",
    "version": 3
   },
   "file_extension": ".py",
   "mimetype": "text/x-python",
   "name": "python",
   "nbconvert_exporter": "python",
   "pygments_lexer": "ipython3",
   "version": "3.8.8"
  }
 },
 "nbformat": 4,
 "nbformat_minor": 1
}
