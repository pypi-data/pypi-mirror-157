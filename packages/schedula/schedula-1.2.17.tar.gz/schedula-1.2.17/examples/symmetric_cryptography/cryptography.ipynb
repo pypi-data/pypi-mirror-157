{
 "cells": [
  {
   "cell_type": "markdown",
   "metadata": {},
   "source": [
    "# Symmetric cryptography"
   ]
  },
  {
   "cell_type": "markdown",
   "metadata": {},
   "source": [
    "## Importing modules"
   ]
  },
  {
   "cell_type": "code",
   "execution_count": 1,
   "metadata": {},
   "outputs": [],
   "source": [
    "import requests\n",
    "import schedula as sh\n",
    "from model import dsp as model\n",
    "from server import dsp as server"
   ]
  },
  {
   "cell_type": "markdown",
   "metadata": {},
   "source": [
    "## Variables definition"
   ]
  },
  {
   "cell_type": "code",
   "execution_count": 2,
   "metadata": {},
   "outputs": [],
   "source": [
    "message = 'secret message'\n",
    "encrypted_fpath = 'data.secret'\n",
    "key_fpath = 'key.key'"
   ]
  },
  {
   "cell_type": "markdown",
   "metadata": {},
   "source": [
    "## Cryptography model"
   ]
  },
  {
   "cell_type": "code",
   "execution_count": 3,
   "metadata": {},
   "outputs": [
    {
     "data": {
      "text/html": [
       "\n",
       "<style> .sh-box { width: 100%; height: 500px } </style>\n",
       "<iframe id=\"140648100176976\" class=\"sh-box\" src=\"http://localhost:63539/\" allowfullscreen>\n",
       "</iframe>\n"
      ],
      "text/plain": [
       "Site(SiteMap([(symmetric_cryptography, SiteMap())]), host='localhost', port=0, depth=-1, index=True, root_path=None)"
      ]
     },
     "execution_count": 3,
     "metadata": {},
     "output_type": "execute_result"
    }
   ],
   "source": [
    "dsp = model.register()\n",
    "# Click on the graph to see the model.\n",
    "dsp.plot(view=False).site()"
   ]
  },
  {
   "cell_type": "markdown",
   "metadata": {},
   "source": [
    "## Data Encryption"
   ]
  },
  {
   "cell_type": "code",
   "execution_count": 4,
   "metadata": {},
   "outputs": [
    {
     "data": {
      "text/plain": [
       "Solution([('decrypted', 'secret message'),\n",
       "          ('encrypted_fpath', 'data.secret'),\n",
       "          ('key_fpath', 'key.key'),\n",
       "          ('encrypted',\n",
       "           'gAAAAABeBUVhgPeDL8LBuvIHzZNViXAnKXU2VAdibVO1k1_UafvJidlkLTsZSyNO6ZD0L2EGJd4H3i_KCfANaG8APFfBK5Uq0A=='),\n",
       "          ('key', 'c8ILgkSo64o8Bga2chLvCMktxOcKUbstFvFCo_2xGLQ=')])"
      ]
     },
     "execution_count": 4,
     "metadata": {},
     "output_type": "execute_result"
    }
   ],
   "source": [
    "sol = dsp(inputs=dict(\n",
    "    decrypted=message, \n",
    "    encrypted_fpath=encrypted_fpath,\n",
    "    key_fpath=key_fpath\n",
    "))\n",
    "sol"
   ]
  },
  {
   "cell_type": "code",
   "execution_count": 5,
   "metadata": {},
   "outputs": [
    {
     "data": {
      "text/html": [
       "\n",
       "<style> .sh-box { width: 100%; height: 500px } </style>\n",
       "<iframe id=\"140648100304976\" class=\"sh-box\" src=\"http://localhost:63541/\" allowfullscreen>\n",
       "</iframe>\n"
      ],
      "text/plain": [
       "Site(SiteMap([(symmetric_cryptography, SiteMap())]), host='localhost', port=0, depth=-1, index=True, root_path=None)"
      ]
     },
     "execution_count": 5,
     "metadata": {},
     "output_type": "execute_result"
    }
   ],
   "source": [
    "# Click on the graph to see the model results.\n",
    "sol.plot(view=False).site()"
   ]
  },
  {
   "cell_type": "markdown",
   "metadata": {},
   "source": [
    "## Data decryption"
   ]
  },
  {
   "cell_type": "code",
   "execution_count": 6,
   "metadata": {},
   "outputs": [
    {
     "data": {
      "text/plain": [
       "'secret message'"
      ]
     },
     "execution_count": 6,
     "metadata": {},
     "output_type": "execute_result"
    }
   ],
   "source": [
    "dsp(\n",
    "    inputs=sh.selector(('encrypted_fpath', 'key_fpath'), sol),\n",
    "    outputs=['decrypted']\n",
    ")['decrypted']"
   ]
  },
  {
   "cell_type": "markdown",
   "metadata": {},
   "source": [
    "## API server"
   ]
  },
  {
   "cell_type": "code",
   "execution_count": 7,
   "metadata": {},
   "outputs": [
    {
     "name": "stderr",
     "output_type": "stream",
     "text": [
      " * Running on http://127.0.0.1:8080/ (Press CTRL+C to quit)\n"
     ]
    }
   ],
   "source": [
    "api = server.web().site(host='127.0.0.1', port=8080).run() # Deploy the server."
   ]
  },
  {
   "cell_type": "code",
   "execution_count": 8,
   "metadata": {},
   "outputs": [
    {
     "name": "stderr",
     "output_type": "stream",
     "text": [
      "127.0.0.1 - - [27/Dec/2019 00:43:35] \"POST / HTTP/1.1\" 200 -\n"
     ]
    },
    {
     "data": {
      "text/plain": [
       "{'decrypted': 'secret message',\n",
       " 'encrypted': 'gAAAAABeBUWnRZjHNWEJ4O_YQAAo94KUDmqOGtiw1R3hYRHQ9Bnt_PP3eoDNO_3joZgYEuR0V52kODlkmI_Ee9i5ho5AEOCgEg==',\n",
       " 'key': 'OZu0q6bcu3fTaYo1lk0jJVEza8T3jpHRPOEma4stVxE='}"
      ]
     },
     "execution_count": 8,
     "metadata": {},
     "output_type": "execute_result"
    }
   ],
   "source": [
    "# Encrypt some data calling the dispatcher.\n",
    "res = requests.post(\n",
    "    api.url, json={'args': [{'decrypted': message}]}\n",
    ").json()['return']  \n",
    "res"
   ]
  },
  {
   "cell_type": "code",
   "execution_count": 9,
   "metadata": {},
   "outputs": [
    {
     "name": "stderr",
     "output_type": "stream",
     "text": [
      "127.0.0.1 - - [27/Dec/2019 00:43:35] \"POST /symmetric_cryptography/decrypt_message?data=input,return HTTP/1.1\" 200 -\n"
     ]
    },
    {
     "data": {
      "text/plain": [
       "{'input': {'kwargs': {'encrypted': 'gAAAAABeBUWnRZjHNWEJ4O_YQAAo94KUDmqOGtiw1R3hYRHQ9Bnt_PP3eoDNO_3joZgYEuR0V52kODlkmI_Ee9i5ho5AEOCgEg==',\n",
       "   'key': 'OZu0q6bcu3fTaYo1lk0jJVEza8T3jpHRPOEma4stVxE='}},\n",
       " 'return': 'secret message'}"
      ]
     },
     "execution_count": 9,
     "metadata": {},
     "output_type": "execute_result"
    }
   ],
   "source": [
    "# Decrypt some data calling directly the function `decrypt_message`.\n",
    "requests.post(\n",
    "    '%s/symmetric_cryptography/decrypt_message?data=input,return'% api.url, \n",
    "    json={'kwargs': sh.selector(('key', 'encrypted'), res)}\n",
    ").json()"
   ]
  },
  {
   "cell_type": "code",
   "execution_count": 10,
   "metadata": {},
   "outputs": [
    {
     "name": "stderr",
     "output_type": "stream",
     "text": [
      "127.0.0.1 - - [27/Dec/2019 00:43:35] \"DELETE /cleanup HTTP/1.1\" 200 -\n",
      "127.0.0.1 - - [27/Dec/2019 00:43:35] \"DELETE /shutdown HTTP/1.1\" 200 -\n"
     ]
    },
    {
     "data": {
      "text/plain": [
       "True"
      ]
     },
     "execution_count": 10,
     "metadata": {},
     "output_type": "execute_result"
    }
   ],
   "source": [
    "api.shutdown()  # To force the server shutdown."
   ]
  }
 ],
 "metadata": {
  "kernelspec": {
   "display_name": "Python 3",
   "language": "python",
   "name": "python3"
  },
  "language_info": {
   "codemirror_mode": {
    "name": "ipython",
    "version": 3
   },
   "file_extension": ".py",
   "mimetype": "text/x-python",
   "name": "python",
   "nbconvert_exporter": "python",
   "pygments_lexer": "ipython3",
   "version": "3.7.4"
  }
 },
 "nbformat": 4,
 "nbformat_minor": 2
}
