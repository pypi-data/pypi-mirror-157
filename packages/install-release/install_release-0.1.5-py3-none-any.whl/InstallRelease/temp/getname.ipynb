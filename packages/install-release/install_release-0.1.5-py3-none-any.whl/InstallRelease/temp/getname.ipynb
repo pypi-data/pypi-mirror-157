{
 'cells': [
  {
   'cell_type': 'code',
   'execution_count': 2,
   'id': 'c57450fa',
   'metadata': {},
   'outputs': [
    {
     'name': 'stdout',
     'output_type': 'stream',
     'text': [
      'Linux-5.16.18-1-MANJARO-x86_64-with-glibc2.35 \n',
      ' x86_64 \n',
      ' ('64bit', 'ELF') \n',
      ' home \n',
      ' {'NAME': 'Manjaro Linux', 'ID': 'manjaro', 'PRETTY_NAME': 'Manjaro Linux', 'ID_LIKE': 'arch', 'BUILD_ID': 'rolling', 'ANSI_COLOR': '32;1;24;144;200', 'HOME_URL': 'https://manjaro.org/', 'DOCUMENTATION_URL': 'https://wiki.manjaro.org/', 'SUPPORT_URL': 'https://manjaro.org/', 'BUG_REPORT_URL': 'https://bugs.manjaro.org/', 'LOGO': 'manjarolinux'} \n',
      ' 5.16.18-1-MANJARO \n',
      ' Linux\n'
     ]
    }
   ],
   'source': [
    'import platform\n',
    'import re\n',
    'print(\n',
    '    platform.platform(),\n',
    '    \'\\n\',\n',
    '    platform.machine(),\n',
    '    \'\\n\',\n',
    '    platform.architecture(),\n',
    '    \'\\n\',\n',
    '    platform.node(),\n',
    '    \'\\n\',\n',
    '    platform.freedesktop_os_release(),  # not in 3.7\n',
    '    \'\\n\',\n',
    '    platform.release(),\n',
    '    \'\\n\',\n',
    '    platform.system(),\n',
    ')\n',
    '\n',
    'file_names = []\n',
    'with open(\'./names.txt\', \'r\') as names:\n',
    '    line = names.readline()\n',
    '    while line:\n',
    '        if line.isascii():\n',
    '            file_names.append(line.strip())\n',
    '        line = names.readline()\n',
    '\n'
   ]
  },
  {
   'cell_type': 'code',
   'execution_count': 3,
   'id': '182dd2b3',
   'metadata': {},
   'outputs': [],
   'source': [
    'def listItemsMatcher(patterns: list[str], word: str):\n',
    '    count = 0\n',
    '\n',
    '    for pattern in patterns:\n',
    '        if re.search(pattern, word):\n',
    '            count += 1\n',
    '    if count == 0:\n',
    '        return 0\n',
    '    \n',
    '    return count/len(patterns)'
   ]
  },
  {
   'cell_type': 'code',
   'execution_count': 33,
   'id': '11964d57',
   'metadata': {},
   'outputs': [],
   'source': [
    'def platform_words():\n',
    '    aliases = {\n',
    '        \'x86_64\': [\'x86\', \'amd64\', \'amd\'],\n',
    '        \'aarch64\': [\'arm64\']\n',
    '    }\n',
    '\n',
    '    platform_words = []\n',
    '\n',
    '    platform_words += [\n',
    '        platform.system().lower(),\n',
    '        platform.architecture()[0]\n',
    '    ]\n',
    '\n',
    '    for alias in aliases:\n',
    '        if platform.machine().lower() == alias.lower():\n',
    '            platform_words += aliases[alias] + [alias]\n',
    '    \n',
    '    return platform_words\n'
   ]
  },
  {
   'cell_type': 'code',
   'execution_count': 34,
   'id': '5cb5b521',
   'metadata': {},
   'outputs': [],
   'source': [
    'platform_words = platform_words()'
   ]
  },
  {
   'cell_type': 'code',
   'execution_count': 35,
   'id': 'fda89643',
   'metadata': {},
   'outputs': [
    {
     'data': {
      'text/plain': [
       '['linux', '64bit', 'x86', 'amd64', 'amd', 'x86_64']'
      ]
     },
     'execution_count': 35,
     'metadata': {},
     'output_type': 'execute_result'
    }
   ],
   'source': [
    'platform_words'
   ]
  },
  {
   'cell_type': 'code',
   'execution_count': 36,
   'id': '91948eb4',
   'metadata': {},
   'outputs': [],
   'source': [
    '\n',
    'tmp = 0.0\n',
    'name = ''\n',
    '# output = []\n',
    'for i in file_names[47:60]:\n',
    '    match = listItemsMatcher(patterns=platform_words, word=i)\n',
    '#     output.append((i, match))\n',
    '    if match > 0:\n',
    '        if tmp == 0:\n',
    '            tmp = match\n',
    '            name = i\n',
    '        elif match > tmp:\n',
    '            tmp = match\n',
    '            name = i\n'
   ]
  },
  {
   'cell_type': 'code',
   'execution_count': 37,
   'id': '44654f17',
   'metadata': {},
   'outputs': [
    {
     'name': 'stdout',
     'output_type': 'stream',
     'text': [
      'wuzz_linux_amd64 0.5\n'
     ]
    }
   ],
   'source': [
    'print(name, tmp)'
   ]
  },
  {
   'cell_type': 'code',
   'execution_count': 38,
   'id': '771eb9fc',
   'metadata': {},
   'outputs': [
    {
     'data': {
      'text/plain': [
       '[('wuzz_freebsd_386', 0),\n',
       ' ('wuzz_freebsd_amd64', 0.3333333333333333),\n',
       ' ('wuzz_freebsd_arm', 0),\n',
       ' ('wuzz_linux_386', 0.16666666666666666),\n',
       ' ('wuzz_linux_amd64', 0.5),\n',
       ' ('wuzz_linux_arm', 0.16666666666666666),\n',
       ' ('wuzz_netbsd_386', 0),\n',
       ' ('wuzz_netbsd_amd64', 0.3333333333333333),\n',
       ' ('wuzz_netbsd_arm', 0),\n',
       ' ('wuzz_openbsd_386', 0),\n',
       ' ('wuzz_openbsd_amd64', 0.3333333333333333),\n',
       ' ('wuzz_windows_386.exe', 0),\n',
       ' ('wuzz_windows_amd64.exe', 0.3333333333333333)]'
      ]
     },
     'execution_count': 38,
     'metadata': {},
     'output_type': 'execute_result'
    }
   ],
   'source': [
    '\n',
    'output'
   ]
  },
  {
   'cell_type': 'code',
   'execution_count': null,
   'id': '18a009c9',
   'metadata': {},
   'outputs': [],
   'source': []
  },
  {
   'cell_type': 'code',
   'execution_count': 1,
   'id': 'fed79e12',
   'metadata': {},
   'outputs': [
    {
     'data': {
      'text/plain': [
       ''-amd-gau''
      ]
     },
     'execution_count': 1,
     'metadata': {},
     'output_type': 'execute_result'
    }
   ],
   'source': [
    ''linux-amd-gau'.replace()'
   ]
  },
  {
   'cell_type': 'code',
   'execution_count': null,
   'id': 'f85d8886',
   'metadata': {},
   'outputs': [],
   'source': []
  }
 ],
 'metadata': {
  'interpreter': {
   'hash': 'e7370f93d1d0cde622a1f8e1c04877d8463912d04d973331ad4851f04de6915a'
  },
  'kernelspec': {
   'display_name': 'Python 3.10.4 64-bit',
   'language': 'python',
   'name': 'python3'
  },
  'language_info': {
   'codemirror_mode': {
    'name': 'ipython',
    'version': 3
   },
   'file_extension': '.py',
   'mimetype': 'text/x-python',
   'name': 'python',
   'nbconvert_exporter': 'python',
   'pygments_lexer': 'ipython3',
   'version': '3.10.4'
  }
 },
 'nbformat': 4,
 'nbformat_minor': 5
}
