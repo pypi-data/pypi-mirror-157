{
 'cells': [
  {
   'cell_type': 'code',
   'execution_count': 2,
   'id': '74079ed2',
   'metadata': {},
   'outputs': [],
   'source': [
    'import glob\n',
    'import magic\n',
    'from rich import print as pprint'
   ]
  },
  {
   'cell_type': 'code',
   'execution_count': 3,
   'id': 'd0b6d45b',
   'metadata': {},
   'outputs': [
    {
     'data': {
      'text/html': [
       '<pre style=\'white-space:pre;overflow-x:auto;line-height:normal;font-family:Menlo,'DejaVu Sans Mono',consolas,'Courier New',monospace\'>downloads/wuzz_linux_amd64\n',
       '</pre>\n'
      ],
      'text/plain': [
       'downloads/wuzz_linux_amd64\n'
      ]
     },
     'metadata': {},
     'output_type': 'display_data'
    },
    {
     'data': {
      'text/html': [
       '<pre style=\'white-space:pre;overflow-x:auto;line-height:normal;font-family:Menlo,'DejaVu Sans Mono',consolas,'Courier New',monospace\'>downloads/fargate\n',
       '</pre>\n'
      ],
      'text/plain': [
       'downloads/fargate\n'
      ]
     },
     'metadata': {},
     'output_type': 'display_data'
    },
    {
     'data': {
      'text/html': [
       '<pre style=\'white-space:pre;overflow-x:auto;line-height:normal;font-family:Menlo,'DejaVu Sans Mono',consolas,'Courier New',monospace\'>downloads/nuclei\n',
       '</pre>\n'
      ],
      'text/plain': [
       'downloads/nuclei\n'
      ]
     },
     'metadata': {},
     'output_type': 'display_data'
    },
    {
     'data': {
      'text/html': [
       '<pre style=\'white-space:pre;overflow-x:auto;line-height:normal;font-family:Menlo,'DejaVu Sans Mono',consolas,'Courier New',monospace\'>downloads/iamlive\n',
       '</pre>\n'
      ],
      'text/plain': [
       'downloads/iamlive\n'
      ]
     },
     'metadata': {},
     'output_type': 'display_data'
    },
    {
     'data': {
      'text/html': [
       '<pre style=\'white-space:pre;overflow-x:auto;line-height:normal;font-family:Menlo,'DejaVu Sans Mono',consolas,'Courier New',monospace\'>downloads/gron\n',
       '</pre>\n'
      ],
      'text/plain': [
       'downloads/gron\n'
      ]
     },
     'metadata': {},
     'output_type': 'display_data'
    },
    {
     'data': {
      'text/html': [
       '<pre style=\'white-space:pre;overflow-x:auto;line-height:normal;font-family:Menlo,'DejaVu Sans Mono',consolas,'Courier New',monospace\'>downloads/terraform-docs\n',
       '</pre>\n'
      ],
      'text/plain': [
       'downloads/terraform-docs\n'
      ]
     },
     'metadata': {},
     'output_type': 'display_data'
    }
   ],
   'source': [
    'for i in glob.iglob('downloads/**', recursive=True):\n',
    '    m=magic.detect_from_filename(i)\n',
    '    if m.name == 'directory':\n',
    '        continue\n',
    '    elif m.mime_type != 'application/x-executable':\n',
    '        continue\n',
    '    pprint(i)\n',
    '    # pprint(m)'
   ]
  },
  {
   'cell_type': 'code',
   'execution_count': null,
   'id': '390615da',
   'metadata': {},
   'outputs': [],
   'source': []
  },
  {
   'cell_type': 'code',
   'execution_count': null,
   'id': '7f243cc2',
   'metadata': {},
   'outputs': [],
   'source': []
  }
 ],
 'metadata': {
  'interpreter': {
   'hash': 'e7370f93d1d0cde622a1f8e1c04877d8463912d04d973331ad4851f04de6915a'
  },
  'kernelspec': {
   'display_name': 'Python 3.10.4 64-bit',
   'language': 'python',
   'name': 'python3'
  },
  'language_info': {
   'codemirror_mode': {
    'name': 'ipython',
    'version': 3
   },
   'file_extension': '.py',
   'mimetype': 'text/x-python',
   'name': 'python',
   'nbconvert_exporter': 'python',
   'pygments_lexer': 'ipython3',
   'version': '3.10.4'
  }
 },
 'nbformat': 4,
 'nbformat_minor': 5
}
